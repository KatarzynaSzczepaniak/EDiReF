{
 "cells": [
  {
   "cell_type": "code",
   "execution_count": null,
   "metadata": {
    "colab": {
     "base_uri": "https://localhost:8080/"
    },
    "executionInfo": {
     "elapsed": 32344,
     "status": "ok",
     "timestamp": 1733322886182,
     "user": {
      "displayName": "Katarzyna Szczepaniak",
      "userId": "13778154280878787855"
     },
     "user_tz": -60
    },
    "id": "4YS-HHlMxdzr",
    "outputId": "adb3857b-734a-4740-a123-56418dde0fe0"
   },
   "outputs": [],
   "source": [
    "from google.colab import drive\n",
    "drive.mount('/content/drive')"
   ]
  },
  {
   "cell_type": "code",
   "execution_count": null,
   "metadata": {
    "colab": {
     "base_uri": "https://localhost:8080/"
    },
    "executionInfo": {
     "elapsed": 394,
     "status": "ok",
     "timestamp": 1733322897211,
     "user": {
      "displayName": "Katarzyna Szczepaniak",
      "userId": "13778154280878787855"
     },
     "user_tz": -60
    },
    "id": "hMHoUEE8xvX0",
    "outputId": "63d160cc-a005-465e-acc3-c800be067b4c"
   },
   "outputs": [],
   "source": [
    "%cd drive/MyDrive/Colab \\Notebooks"
   ]
  },
  {
   "cell_type": "code",
   "execution_count": null,
   "metadata": {
    "executionInfo": {
     "elapsed": 13764,
     "status": "ok",
     "timestamp": 1733322912775,
     "user": {
      "displayName": "Katarzyna Szczepaniak",
      "userId": "13778154280878787855"
     },
     "user_tz": -60
    },
    "id": "M6Woq9BFW18k"
   },
   "outputs": [],
   "source": [
    "import torch\n",
    "import torch.nn as nn\n",
    "from torch.utils.data import Dataset, DataLoader\n",
    "from transformers import BertTokenizer, BertModel\n",
    "import pandas as pd\n",
    "import numpy as np"
   ]
  },
  {
   "cell_type": "code",
   "execution_count": null,
   "metadata": {
    "colab": {
     "base_uri": "https://localhost:8080/"
    },
    "executionInfo": {
     "elapsed": 971,
     "status": "ok",
     "timestamp": 1733322917557,
     "user": {
      "displayName": "Katarzyna Szczepaniak",
      "userId": "13778154280878787855"
     },
     "user_tz": -60
    },
    "id": "4QJ_vvYdW2YT",
    "outputId": "61eb1065-5da2-478c-c0e6-91c5f2dcb908"
   },
   "outputs": [],
   "source": [
    "from torch import cuda\n",
    "device = 'cuda' if cuda.is_available() else 'cpu'\n",
    "\n",
    "print(device)"
   ]
  },
  {
   "cell_type": "markdown",
   "metadata": {
    "id": "DWH--rE_zW7H"
   },
   "source": [
    "# Data preparation"
   ]
  },
  {
   "cell_type": "code",
   "execution_count": null,
   "metadata": {
    "executionInfo": {
     "elapsed": 2,
     "status": "ok",
     "timestamp": 1733322919479,
     "user": {
      "displayName": "Katarzyna Szczepaniak",
      "userId": "13778154280878787855"
     },
     "user_tz": -60
    },
    "id": "L86nTmkQXOp-"
   },
   "outputs": [],
   "source": [
    "DATASET = 'MELD'    # @param ['MELD', 'MaSaC']\n",
    "MAX_LENGTH = 128    # @param [96, 128, 256] {type: 'raw'}\n",
    "BATCH_SIZE = 16    # @param [8, 16, 32] {type: 'raw'}"
   ]
  },
  {
   "cell_type": "code",
   "execution_count": null,
   "metadata": {
    "executionInfo": {
     "elapsed": 410,
     "status": "ok",
     "timestamp": 1733322926011,
     "user": {
      "displayName": "Katarzyna Szczepaniak",
      "userId": "13778154280878787855"
     },
     "user_tz": -60
    },
    "id": "wGHW3dIODZaA"
   },
   "outputs": [],
   "source": [
    "if DATASET == 'MELD':\n",
    "    designated_model = 'bert-base-cased'\n",
    "elif DATASET == 'MaSaC':\n",
    "    designated_model = 'bert-base-multilingual-cased'"
   ]
  },
  {
   "cell_type": "code",
   "execution_count": null,
   "metadata": {
    "executionInfo": {
     "elapsed": 950,
     "status": "ok",
     "timestamp": 1733322928603,
     "user": {
      "displayName": "Katarzyna Szczepaniak",
      "userId": "13778154280878787855"
     },
     "user_tz": -60
    },
    "id": "Jeo5-OB-0ui1"
   },
   "outputs": [],
   "source": [
    "def get_data(dataset_name, stage):\n",
    "    def to_float(x):\n",
    "        try:\n",
    "            return float(x)\n",
    "        except ValueError:\n",
    "            return 1\n",
    "\n",
    "    df = pd.read_json(f'data/EDiReF_{stage}_data/{dataset_name}_{stage}_efr.json')\n",
    "    df[\"triggers\"] = df[\"triggers\"].apply(lambda lst: [np.nan if x is None else x for x in lst])\n",
    "    df = df[df[\"triggers\"].apply(lambda lst: not any(pd.isna(x) for x in lst))]\n",
    "    df[\"triggers\"] = df[\"triggers\"].apply(lambda lst: [to_float(x) for x in lst])\n",
    "\n",
    "    conversations = list(df['utterances'])\n",
    "    emotions = list(df['emotions'])\n",
    "    triggers = list(df['triggers'])\n",
    "\n",
    "    return conversations, emotions, triggers"
   ]
  },
  {
   "cell_type": "code",
   "execution_count": null,
   "metadata": {
    "executionInfo": {
     "elapsed": 3767,
     "status": "ok",
     "timestamp": 1733322933992,
     "user": {
      "displayName": "Katarzyna Szczepaniak",
      "userId": "13778154280878787855"
     },
     "user_tz": -60
    },
    "id": "ydKZCcuX0ui1"
   },
   "outputs": [],
   "source": [
    "train_conversations, train_emotions, train_triggers = get_data(DATASET, 'train')\n",
    "val_conversations, val_emotions, val_triggers = get_data(DATASET, 'val')"
   ]
  },
  {
   "cell_type": "code",
   "execution_count": null,
   "metadata": {
    "executionInfo": {
     "elapsed": 953,
     "status": "ok",
     "timestamp": 1733322936867,
     "user": {
      "displayName": "Katarzyna Szczepaniak",
      "userId": "13778154280878787855"
     },
     "user_tz": -60
    },
    "id": "wN64aPnJ0ui1"
   },
   "outputs": [],
   "source": [
    "conversations = train_conversations + val_conversations\n",
    "emotions = train_emotions + val_emotions\n",
    "triggers = train_triggers + val_triggers"
   ]
  },
  {
   "cell_type": "code",
   "execution_count": null,
   "metadata": {
    "executionInfo": {
     "elapsed": 3,
     "status": "ok",
     "timestamp": 1733322939450,
     "user": {
      "displayName": "Katarzyna Szczepaniak",
      "userId": "13778154280878787855"
     },
     "user_tz": -60
    },
    "id": "9ivzCvXX0ui1"
   },
   "outputs": [],
   "source": [
    "flattened_emotions = [sent for conv in emotions for sent in conv]\n",
    "unique_emotions = set(flattened_emotions)\n",
    "\n",
    "labels_to_ids = {k: v for v, k in enumerate(unique_emotions)}\n",
    "ids_to_labels = {v: k for v, k in enumerate(unique_emotions)}\n",
    "emotions = [[labels_to_ids[emotion] for emotion in conv] for conv in emotions]"
   ]
  },
  {
   "cell_type": "code",
   "execution_count": null,
   "metadata": {
    "executionInfo": {
     "elapsed": 431,
     "status": "ok",
     "timestamp": 1733322942046,
     "user": {
      "displayName": "Katarzyna Szczepaniak",
      "userId": "13778154280878787855"
     },
     "user_tz": -60
    },
    "id": "mi-y0zznb-hG"
   },
   "outputs": [],
   "source": [
    "from sklearn.model_selection import train_test_split\n",
    "\n",
    "def train_val_test_split(X, y1, y2, val_size = 0.2, test_size = 0.2, random_state = None):\n",
    "    X_train_val, X_test, y1_train_val, y1_test, y2_train_val, y2_test = train_test_split(\n",
    "        X, y1, y2, test_size=test_size, random_state=random_state\n",
    "    )\n",
    "\n",
    "    val_relative_size = val_size / (1 - test_size)\n",
    "\n",
    "    X_train, X_val, y1_train, y1_val, y2_train, y2_val = train_test_split(\n",
    "        X_train_val, y1_train_val, y2_train_val, test_size=val_relative_size, random_state=random_state\n",
    "    )\n",
    "\n",
    "    return (X_train, X_val, X_test, y1_train, y1_val, y1_test, y2_train, y2_val, y2_test)"
   ]
  },
  {
   "cell_type": "code",
   "execution_count": null,
   "metadata": {
    "executionInfo": {
     "elapsed": 745,
     "status": "ok",
     "timestamp": 1733322944904,
     "user": {
      "displayName": "Katarzyna Szczepaniak",
      "userId": "13778154280878787855"
     },
     "user_tz": -60
    },
    "id": "arnKxaiEeoLD"
   },
   "outputs": [],
   "source": [
    "X_train, X_val, X_test, y1_train, y1_val, y1_test, y2_train, y2_val, y2_test = train_val_test_split(\n",
    "    conversations, emotions, triggers, test_size=0.15, val_size=0.15, random_state=2024\n",
    "    )"
   ]
  },
  {
   "cell_type": "code",
   "execution_count": null,
   "metadata": {
    "colab": {
     "base_uri": "https://localhost:8080/",
     "height": 165,
     "referenced_widgets": [
      "ac56a90da126497db4f106dbaa4b459f",
      "f347e130e0d64e16980739f67c6985f7",
      "99790f87a9014b66b3c76a11327d672a",
      "69ebfd9fcda649adaa9035d818cb5b84",
      "535e453c2f544e7ca17125b4c8ca320a",
      "1dc1b3d724604a03bfdba266d1bd1bc9",
      "f98aa9f49f174a19a1e40373191a3e3f",
      "afe53aceec774befa471153f09679ec4",
      "f9dfb964b67247b7bc74c4c6e4711e80",
      "78a97cf7c3174ee0a90cdff74f5a8b4a",
      "c739a6b63a4a455997e35a99f76ccc32",
      "526972d5e843418eb366a3b422c28ff9",
      "1eb31adfa8ea402387429a524accb418",
      "6a5ada99069545178807cce85b2338e9",
      "7c97fb0d7f094431a8dbd69c0c791d38",
      "c75cd083b2814dd0958c82eea85f6e5b",
      "501d40ea212a4b84906f625d04701d15",
      "7fd82917f7f748eb8ca0b551dd2eb401",
      "f8698e53d8b84a0685a6898f4595ffec",
      "c2dc2e5b28c04a068962e3e25bb2d34e",
      "966e8c1b152447d9b57c0b06fb429875",
      "875722ddd3ec417e86b7783bae5f753f",
      "4638223cf5f44c1bb3ad655e5aba2c9f",
      "813fc5844f354d60832b10827960c73b",
      "2615284a6f5d458989a8b38d92f9808b",
      "fac305beb57647aa9ab0590bef0bd0de",
      "5f12407dc0a9400286a7ab9dd9f7df76",
      "0c15906f9b2a41e5a338c990234bf79a",
      "33f07f2c556447c6a9a332f1c96c3164",
      "44e7980acb614e319ce3ff3b27482606",
      "cc82f3e0763b41cc8a41ef9ef17010b6",
      "50cb3b5620e74518b2265a666639874b",
      "ca6ff1b1ca8147f2985363a73e91cc63",
      "5a3c8232609347d58703af10e9a6c6cf",
      "bbbc3cad21954d8ebd481720bff18c49",
      "0ea1d6ed3afb4ba1bfd58e1214f3478c",
      "6b51ea889eaf4bcaaa65e32091366ae3",
      "ab521eb3c37a453c8704c4d703dfa830",
      "05290f5058fe4e36a68be9fee236a124",
      "9ca7e8adf36f478ba8e808330cffd5a1",
      "e617978c7b8545948663fd1a739344b1",
      "2acb07377c924b61be8d0cd8c711d471",
      "943fb1dda1574815ae7ebb029e434c2e",
      "cbaec6db199b41f3a2a2cb3192b3532a"
     ]
    },
    "executionInfo": {
     "elapsed": 6277,
     "status": "ok",
     "timestamp": 1733322977162,
     "user": {
      "displayName": "Katarzyna Szczepaniak",
      "userId": "13778154280878787855"
     },
     "user_tz": -60
    },
    "id": "8Tru4JRaGT8X",
    "outputId": "b8a897c4-edb7-482b-8ab6-9b76ec8d05e5"
   },
   "outputs": [],
   "source": [
    "tokenizer = BertTokenizer.from_pretrained(designated_model)"
   ]
  },
  {
   "cell_type": "code",
   "execution_count": null,
   "metadata": {
    "executionInfo": {
     "elapsed": 416,
     "status": "ok",
     "timestamp": 1733322979903,
     "user": {
      "displayName": "Katarzyna Szczepaniak",
      "userId": "13778154280878787855"
     },
     "user_tz": -60
    },
    "id": "ng_4Q4k1XJvc"
   },
   "outputs": [],
   "source": [
    "def tokenize_conversation(conversations, max_length = 128):\n",
    "    input_ids = []\n",
    "    attention_masks = []\n",
    "\n",
    "    for conversation in conversations:\n",
    "        dialogue = \" [SEP] \".join(conversation)\n",
    "        encoded = tokenizer(\n",
    "            dialogue,\n",
    "            truncation = True,\n",
    "            padding = 'max_length',\n",
    "            max_length = max_length,\n",
    "            return_tensors = \"pt\"\n",
    "        )\n",
    "        input_ids.append(encoded[\"input_ids\"].squeeze(0))\n",
    "        attention_masks.append(encoded[\"attention_mask\"].squeeze(0))\n",
    "\n",
    "    return input_ids, attention_masks"
   ]
  },
  {
   "cell_type": "code",
   "execution_count": null,
   "metadata": {
    "executionInfo": {
     "elapsed": 415,
     "status": "ok",
     "timestamp": 1733322982279,
     "user": {
      "displayName": "Katarzyna Szczepaniak",
      "userId": "13778154280878787855"
     },
     "user_tz": -60
    },
    "id": "kUdbsdw_XMrD"
   },
   "outputs": [],
   "source": [
    "def pad_labels(labels, max_length = 128):\n",
    "    padded_labels = []\n",
    "    for label_set in labels:\n",
    "        label_tensor = torch.tensor(label_set, dtype = torch.float)\n",
    "        # Pad with -1 to ignore padding tokens in the loss function\n",
    "        padded_tensor = torch.cat(\n",
    "            [label_tensor, torch.full((max_length - len(label_set),), -1)]\n",
    "        )\n",
    "        padded_labels.append(padded_tensor)\n",
    "    return padded_labels"
   ]
  },
  {
   "cell_type": "code",
   "execution_count": null,
   "metadata": {
    "executionInfo": {
     "elapsed": 4,
     "status": "ok",
     "timestamp": 1733322984971,
     "user": {
      "displayName": "Katarzyna Szczepaniak",
      "userId": "13778154280878787855"
     },
     "user_tz": -60
    },
    "id": "8pcFsfoZXNBD"
   },
   "outputs": [],
   "source": [
    "class ConversationDataset(Dataset):\n",
    "    def __init__(self, input_ids, attention_masks, emotion_labels, trigger_labels):\n",
    "        self.input_ids = input_ids\n",
    "        self.attention_masks = attention_masks\n",
    "        self.emotion_labels = emotion_labels\n",
    "        self.trigger_labels = trigger_labels\n",
    "\n",
    "    def __len__(self):\n",
    "        return len(self.input_ids)\n",
    "\n",
    "    def __getitem__(self, idx):\n",
    "        return {\n",
    "            \"input_ids\": self.input_ids[idx],\n",
    "            \"attention_mask\": self.attention_masks[idx],\n",
    "            \"emotion_labels\": self.emotion_labels[idx],\n",
    "            \"trigger_labels\": self.trigger_labels[idx],\n",
    "        }"
   ]
  },
  {
   "cell_type": "code",
   "execution_count": null,
   "metadata": {
    "executionInfo": {
     "elapsed": 377,
     "status": "ok",
     "timestamp": 1733322987106,
     "user": {
      "displayName": "Katarzyna Szczepaniak",
      "userId": "13778154280878787855"
     },
     "user_tz": -60
    },
    "id": "2XCr0QOc0ui4"
   },
   "outputs": [],
   "source": [
    "def create_dataloader(conversations, emotions, triggers, max_length = 128):\n",
    "    input_ids, attention_masks = tokenize_conversation(conversations, max_length = max_length)\n",
    "    emotion_labels = pad_labels(emotions, max_length = max_length)\n",
    "    trigger_labels = pad_labels(triggers, max_length = max_length)\n",
    "\n",
    "    dataset = ConversationDataset(input_ids, attention_masks, emotion_labels, trigger_labels)\n",
    "    loader = DataLoader(dataset, batch_size = BATCH_SIZE, shuffle = False)\n",
    "\n",
    "    return loader"
   ]
  },
  {
   "cell_type": "code",
   "execution_count": null,
   "metadata": {
    "executionInfo": {
     "elapsed": 7739,
     "status": "ok",
     "timestamp": 1733322997242,
     "user": {
      "displayName": "Katarzyna Szczepaniak",
      "userId": "13778154280878787855"
     },
     "user_tz": -60
    },
    "id": "8a3-AwoX0ui4"
   },
   "outputs": [],
   "source": [
    "train_loader = create_dataloader(X_train, y1_train, y2_train, max_length = MAX_LENGTH)\n",
    "val_loader = create_dataloader(X_val, y1_val, y2_val, max_length = MAX_LENGTH)\n",
    "test_loader = create_dataloader(X_test, y1_test, y2_test, max_length = MAX_LENGTH)"
   ]
  },
  {
   "cell_type": "markdown",
   "metadata": {
    "id": "X5MO3g0VztW_"
   },
   "source": [
    "# Model configuration"
   ]
  },
  {
   "cell_type": "code",
   "execution_count": null,
   "metadata": {
    "executionInfo": {
     "elapsed": 412,
     "status": "ok",
     "timestamp": 1733323000157,
     "user": {
      "displayName": "Katarzyna Szczepaniak",
      "userId": "13778154280878787855"
     },
     "user_tz": -60
    },
    "id": "kueFTpHSXViM"
   },
   "outputs": [],
   "source": [
    "GATE_TYPE = 'linear'  # @param ['linear', 'mlp']\n",
    "EXPERT_TYPE = 'linear' # @param ['linear', 'mlp', 'rnn']\n",
    "NUM_EXPERTS = 2 # @param {type: 'slider', min: 1, max: 8, step: 1}\n",
    "TOP_K = 2 # @param {type: 'slider', min: 1, max: 8, step: 1}"
   ]
  },
  {
   "cell_type": "code",
   "execution_count": null,
   "metadata": {
    "executionInfo": {
     "elapsed": 397,
     "status": "ok",
     "timestamp": 1733323003604,
     "user": {
      "displayName": "Katarzyna Szczepaniak",
      "userId": "13778154280878787855"
     },
     "user_tz": -60
    },
    "id": "12upnrxiXXbM"
   },
   "outputs": [],
   "source": [
    "assert TOP_K <= NUM_EXPERTS, \"Select different values for TOP_K and NUM_EXPERTS!\""
   ]
  },
  {
   "cell_type": "code",
   "execution_count": null,
   "metadata": {
    "executionInfo": {
     "elapsed": 1020,
     "status": "ok",
     "timestamp": 1733323059736,
     "user": {
      "displayName": "Katarzyna Szczepaniak",
      "userId": "13778154280878787855"
     },
     "user_tz": -60
    },
    "id": "umr0EC9_XuzD"
   },
   "outputs": [],
   "source": [
    "class MoEForEmotionAndTriggerClassification(nn.Module):\n",
    "    def __init__(self, num_experts, k, num_classes, gate_type = 'linear', expert_type = 'linear'):\n",
    "        super(MoEForEmotionAndTriggerClassification, self).__init__()\n",
    "\n",
    "        self.model = BertModel.from_pretrained(designated_model)\n",
    "        for param in self.model.parameters():\n",
    "            param.requires_grad = True  # Set to True if you want to fine-tune model\n",
    "        hidden_size = self.model.config.hidden_size\n",
    "\n",
    "        gate_setup = {\n",
    "            'linear': nn.Linear(hidden_size, num_experts),\n",
    "            'mlp': nn.Sequential(nn.Linear(hidden_size, 512), nn.ReLU(), nn.Linear(512, num_experts)),\n",
    "        }\n",
    "\n",
    "        expert_setup = {\n",
    "            'linear': nn.Linear(hidden_size, hidden_size),\n",
    "            'mlp': nn.Sequential(nn.Linear(hidden_size, 512), nn.ReLU(), nn.Linear(512, hidden_size)),\n",
    "            'rnn': nn.LSTM(hidden_size, hidden_size),\n",
    "        }\n",
    "\n",
    "        self.gating_network = gate_setup[gate_type]\n",
    "        self.experts = nn.ModuleList([expert_setup[expert_type] for _ in range(num_experts)])\n",
    "\n",
    "        self.emotion_classifier = nn.Linear(hidden_size, num_classes)\n",
    "        self.trigger_classifier = nn.Linear(hidden_size, 1)\n",
    "\n",
    "        self.k = k\n",
    "        self.dropout = nn.Dropout(p = 0.1)\n",
    "\n",
    "    def forward(self, input_ids, attention_mask):\n",
    "        model_outputs = self.model(input_ids = input_ids, attention_mask = attention_mask)\n",
    "        embeddings = model_outputs.last_hidden_state  # (batch_size, seq_len, hidden_size)\n",
    "        pooled_embeddings = embeddings.mean(dim = 1)    # (batch_size, hidden_size)\n",
    "        pooled_embeddings = self.dropout(pooled_embeddings)\n",
    "\n",
    "        # expert weights\n",
    "        expert_weights = self.gating_network(pooled_embeddings) # (batch_size, num_experts)\n",
    "        expert_weights = torch.softmax(expert_weights, dim = -1)\n",
    "\n",
    "        # aggregate expert outputs\n",
    "        combined_output = self._compute_expert_output(embeddings, expert_weights)\n",
    "        combined_output = self.dropout(combined_output)\n",
    "\n",
    "        emotion_logits = self.emotion_classifier(combined_output)   # (batch_size, seq_len, num_classes)\n",
    "        trigger_logits = self.trigger_classifier(combined_output).squeeze(-1)   # (batch_size, seq_len)\n",
    "\n",
    "        return emotion_logits, trigger_logits\n",
    "\n",
    "    def _compute_expert_output(self, embeddings, expert_weights):\n",
    "        combined_output = torch.zeros_like(embeddings)\n",
    "\n",
    "        # top-k experts only are activated\n",
    "        topk_weights, topk_indices = torch.topk(expert_weights, self.k, dim = -1)\n",
    "\n",
    "        for i in range(self.k):\n",
    "            expert_idx = topk_indices[:, i]\n",
    "            weight = topk_weights[:, i].unsqueeze(-1).unsqueeze(-1)\n",
    "\n",
    "            expert_outputs = []\n",
    "            for j in range(expert_idx.size(0)):\n",
    "                expert = self.experts[expert_idx[j]]\n",
    "\n",
    "                if isinstance(expert, nn.LSTM):\n",
    "                    embedding_input = embeddings[j].unsqueeze(0)\n",
    "                    output, _ = expert(embedding_input)\n",
    "                    expert_outputs.append(output.squeeze(0))\n",
    "\n",
    "                elif isinstance(expert, nn.Linear) or isinstance(expert, nn.Sequential):\n",
    "                    output = expert(embeddings[j])\n",
    "                    expert_outputs.append(output)\n",
    "\n",
    "            expert_outputs = torch.stack(expert_outputs)\n",
    "            combined_output += weight * expert_outputs\n",
    "\n",
    "        return combined_output"
   ]
  },
  {
   "cell_type": "markdown",
   "metadata": {
    "id": "Fpyq3mUpz6D2"
   },
   "source": [
    "# Training parameters"
   ]
  },
  {
   "cell_type": "code",
   "execution_count": null,
   "metadata": {
    "executionInfo": {
     "elapsed": 386,
     "status": "ok",
     "timestamp": 1733323064852,
     "user": {
      "displayName": "Katarzyna Szczepaniak",
      "userId": "13778154280878787855"
     },
     "user_tz": -60
    },
    "id": "eO2uRZl2zxvO"
   },
   "outputs": [],
   "source": [
    "LEARNING_RATE = 0.00002  # @param {type: 'slider', min: 1E-5, max: 5E-5, step: 1E-5}\n",
    "NUM_EPOCHS = 5  # @param {type: 'slider', min: 5, max: 25, step: 5}"
   ]
  },
  {
   "cell_type": "code",
   "execution_count": null,
   "metadata": {
    "colab": {
     "base_uri": "https://localhost:8080/",
     "height": 69,
     "referenced_widgets": [
      "df20ca4c2b4d4680846b20f30b857836",
      "6ce167eac2684ee3b1fc7a0da438716d",
      "ecec1280b814420c820d98ac30bdcdd4",
      "bd0a7610e40344d0a1105fc41fc58ecb",
      "857105e1719744f7bc8087f768711911",
      "234df7c05ccc4197b596754ff28c4a07",
      "d6da86d9f75c43feba7fc4b55121ba3c",
      "142c0b773d524836a684508d5ce62971",
      "cbd0b088c60a4eae81f9301de15e57cd",
      "7a296a2d201142308e5332544ca0e998",
      "b4ce0e52ae5b48eeaf832c7dbd5c3def"
     ]
    },
    "executionInfo": {
     "elapsed": 7106,
     "status": "ok",
     "timestamp": 1733323073575,
     "user": {
      "displayName": "Katarzyna Szczepaniak",
      "userId": "13778154280878787855"
     },
     "user_tz": -60
    },
    "id": "oJPBM0OaYWBf",
    "outputId": "988ca30e-dbb2-4576-958d-0fbaf65b0e18"
   },
   "outputs": [],
   "source": [
    "from torch.optim import AdamW\n",
    "from torch.nn import CrossEntropyLoss, BCEWithLogitsLoss\n",
    "\n",
    "moe = MoEForEmotionAndTriggerClassification(num_experts = NUM_EXPERTS, k = TOP_K, num_classes = len(labels_to_ids), gate_type = GATE_TYPE, expert_type = EXPERT_TYPE)\n",
    "optimizer = AdamW(moe.parameters(), lr = LEARNING_RATE)\n",
    "\n",
    "emotion_loss_fn = CrossEntropyLoss()\n",
    "trigger_loss_fn = BCEWithLogitsLoss()"
   ]
  },
  {
   "cell_type": "code",
   "execution_count": null,
   "metadata": {
    "colab": {
     "base_uri": "https://localhost:8080/"
    },
    "executionInfo": {
     "elapsed": 906,
     "status": "ok",
     "timestamp": 1733323079092,
     "user": {
      "displayName": "Katarzyna Szczepaniak",
      "userId": "13778154280878787855"
     },
     "user_tz": -60
    },
    "id": "EiLsS9Y9YWjk",
    "outputId": "4e8979e6-335a-4298-bfd0-012aa918ba89"
   },
   "outputs": [],
   "source": [
    "moe.to(device)"
   ]
  },
  {
   "cell_type": "code",
   "execution_count": null,
   "metadata": {
    "executionInfo": {
     "elapsed": 384,
     "status": "ok",
     "timestamp": 1733323084363,
     "user": {
      "displayName": "Katarzyna Szczepaniak",
      "userId": "13778154280878787855"
     },
     "user_tz": -60
    },
    "id": "44x3zphNQWrq"
   },
   "outputs": [],
   "source": [
    "def remove_padding(logits, labels, task):\n",
    "    mask = labels != -1\n",
    "\n",
    "    logits_flat = logits.view(-1, logits.size(-1)) if task == 'emotion' else logits.view(-1)\n",
    "    labels_flat = labels.view(-1)\n",
    "\n",
    "    logits = logits_flat[mask.view(-1)]\n",
    "    labels = labels_flat[mask.view(-1)]\n",
    "\n",
    "    return logits, labels"
   ]
  },
  {
   "cell_type": "code",
   "execution_count": null,
   "metadata": {
    "executionInfo": {
     "elapsed": 988,
     "status": "ok",
     "timestamp": 1733323086782,
     "user": {
      "displayName": "Katarzyna Szczepaniak",
      "userId": "13778154280878787855"
     },
     "user_tz": -60
    },
    "id": "7QS5wNkiYZt7"
   },
   "outputs": [],
   "source": [
    "def evaluate(model, val_loader):\n",
    "    model.eval()\n",
    "    val_loss, nb_steps = 0.0, 0\n",
    "    total_emotion_preds, correct_emotion_preds = 0, 0\n",
    "    total_trigger_preds, correct_trigger_preds = 0, 0\n",
    "    val_logs = []\n",
    "\n",
    "    with torch.no_grad():\n",
    "        for idx, batch in enumerate(val_loader):\n",
    "            input_ids = batch['input_ids'].to(device)\n",
    "            attention_mask = batch['attention_mask'].to(device)\n",
    "            emotion_labels = batch['emotion_labels'].to(device)\n",
    "            trigger_labels = batch['trigger_labels'].to(device)\n",
    "\n",
    "            emotion_logits, trigger_logits = model(input_ids, attention_mask)\n",
    "\n",
    "            # removing padding\n",
    "            emotion_logits, emotion_labels = remove_padding(emotion_logits, emotion_labels, 'emotion')\n",
    "            trigger_logits, trigger_labels = remove_padding(trigger_logits, trigger_labels, 'trigger')\n",
    "\n",
    "            # calculating loss\n",
    "            emotion_loss = emotion_loss_fn(emotion_logits, emotion_labels.long())\n",
    "            trigger_loss = trigger_loss_fn(trigger_logits, trigger_labels)\n",
    "\n",
    "            loss = emotion_loss + trigger_loss\n",
    "            val_loss += loss.item()\n",
    "\n",
    "            # calculating accuracy\n",
    "            emotion_preds = torch.argmax(emotion_logits, dim=-1)\n",
    "            trigger_preds = (torch.sigmoid(trigger_logits).squeeze(-1) > 0.5).long()\n",
    "\n",
    "            correct_emotion_preds += torch.sum(emotion_preds == emotion_labels).item()\n",
    "            correct_trigger_preds += torch.sum(trigger_preds == trigger_labels).item()\n",
    "\n",
    "            total_emotion_preds += emotion_labels.numel()\n",
    "            total_trigger_preds += trigger_labels.numel()\n",
    "\n",
    "            nb_steps += 1\n",
    "\n",
    "            if idx % 100 == 0:\n",
    "                loss_step = val_loss / nb_steps\n",
    "                print(f'      Validation loss per 100 training steps: {loss_step}')\n",
    "                val_logs.append(f'      Validation loss per 100 training steps: {loss_step}\\n')\n",
    "\n",
    "        avg_val_loss = val_loss / len(val_loader)\n",
    "        emotion_accuracy = correct_emotion_preds / total_emotion_preds\n",
    "        trigger_accuracy = correct_trigger_preds / total_trigger_preds\n",
    "        avg_val_accuracy = (emotion_accuracy + trigger_accuracy)/2\n",
    "\n",
    "    return avg_val_loss, avg_val_accuracy, val_logs"
   ]
  },
  {
   "cell_type": "code",
   "execution_count": null,
   "metadata": {
    "executionInfo": {
     "elapsed": 2,
     "status": "ok",
     "timestamp": 1733323090014,
     "user": {
      "displayName": "Katarzyna Szczepaniak",
      "userId": "13778154280878787855"
     },
     "user_tz": -60
    },
    "id": "6Cq8fwysYaY_"
   },
   "outputs": [],
   "source": [
    "def train_and_validate(model, train_loader, val_loader, num_epochs = 3):\n",
    "    train_logs = []\n",
    "\n",
    "    for epoch in range(num_epochs):\n",
    "        print(f\"Epoch [{epoch + 1}/{num_epochs}]\")\n",
    "        train_logs.append(f\"Epoch [{epoch + 1}/{num_epochs}]\\n\")\n",
    "        model.train()\n",
    "        train_loss, nb_steps = 0.0, 0\n",
    "        total_emotion_preds, correct_emotion_preds = 0, 0\n",
    "        total_trigger_preds, correct_trigger_preds = 0, 0\n",
    "\n",
    "        for idx, batch in enumerate(train_loader):\n",
    "            optimizer.zero_grad()\n",
    "\n",
    "            input_ids = batch['input_ids'].to(device)\n",
    "            attention_mask = batch['attention_mask'].to(device)\n",
    "            emotion_labels = batch['emotion_labels'].to(device)\n",
    "            trigger_labels = batch['trigger_labels'].to(device)\n",
    "\n",
    "            emotion_logits, trigger_logits = model(input_ids, attention_mask)\n",
    "\n",
    "            # removing padding\n",
    "            emotion_logits, emotion_labels = remove_padding(emotion_logits, emotion_labels, 'emotion')\n",
    "            trigger_logits, trigger_labels = remove_padding(trigger_logits, trigger_labels, 'trigger')\n",
    "\n",
    "            # calculating loss\n",
    "            emotion_loss = emotion_loss_fn(emotion_logits, emotion_labels.long())\n",
    "            trigger_loss = trigger_loss_fn(trigger_logits, trigger_labels)\n",
    "\n",
    "            loss = emotion_loss + trigger_loss\n",
    "            train_loss += loss.item()\n",
    "\n",
    "            loss.backward()\n",
    "            optimizer.step()\n",
    "\n",
    "            # calculating accuracy\n",
    "            emotion_preds = torch.argmax(emotion_logits, dim=-1)\n",
    "            trigger_preds = (torch.sigmoid(trigger_logits).squeeze(-1) > 0.5).long()\n",
    "\n",
    "            correct_emotion_preds += torch.sum(emotion_preds == emotion_labels).item()\n",
    "            correct_trigger_preds += torch.sum(trigger_preds == trigger_labels).item()\n",
    "\n",
    "            total_emotion_preds += emotion_labels.numel()\n",
    "            total_trigger_preds += trigger_labels.numel()\n",
    "            nb_steps += 1\n",
    "\n",
    "            if idx % 100 == 0:\n",
    "                loss_step = train_loss / nb_steps\n",
    "                print(f'      Training loss per 100 training steps: {loss_step}')\n",
    "                train_logs.append(f'      Training loss per 100 training steps: {loss_step}\\n')\n",
    "\n",
    "        avg_train_loss = train_loss / len(train_loader)\n",
    "        emotion_accuracy = correct_emotion_preds / total_emotion_preds\n",
    "        trigger_accuracy = correct_trigger_preds / total_trigger_preds\n",
    "        avg_train_accuracy = (emotion_accuracy + trigger_accuracy)/2\n",
    "\n",
    "        val_loss, val_accuracy, val_logs = evaluate(model, val_loader)\n",
    "        train_logs.extend(val_logs)\n",
    "\n",
    "        print(f\"   Training Loss: {avg_train_loss:.3f}, Training Accuracy: {avg_train_accuracy:.3f}\")\n",
    "        train_logs.append(f\"   Training Loss: {avg_train_loss:.3f}, Training Accuracy: {avg_train_accuracy:.3f}\\n\")\n",
    "\n",
    "        print(f\"   Validation Loss: {val_loss:.3f}, Validation Accuracy: {val_accuracy:.3f}\\n\")\n",
    "        train_logs.append(f\"   Validation Loss: {val_loss:.3f}, Validation Accuracy: {val_accuracy:.3f}\\n\\n\")\n",
    "\n",
    "    return train_logs"
   ]
  },
  {
   "cell_type": "code",
   "execution_count": null,
   "metadata": {
    "colab": {
     "base_uri": "https://localhost:8080/"
    },
    "executionInfo": {
     "elapsed": 58727,
     "status": "ok",
     "timestamp": 1733323469742,
     "user": {
      "displayName": "Katarzyna Szczepaniak",
      "userId": "13778154280878787855"
     },
     "user_tz": -60
    },
    "id": "N_U28Fs-YcFL",
    "outputId": "3f602c51-5478-47f6-b654-d79c15f61726"
   },
   "outputs": [],
   "source": [
    "logs = train_and_validate(moe, train_loader, val_loader, num_epochs = NUM_EPOCHS)"
   ]
  },
  {
   "cell_type": "code",
   "execution_count": null,
   "metadata": {
    "executionInfo": {
     "elapsed": 1011,
     "status": "ok",
     "timestamp": 1733323487295,
     "user": {
      "displayName": "Katarzyna Szczepaniak",
      "userId": "13778154280878787855"
     },
     "user_tz": -60
    },
    "id": "2To3TjUdUEsR"
   },
   "outputs": [],
   "source": [
    "from sklearn.metrics import precision_score, recall_score, f1_score, accuracy_score, confusion_matrix\n",
    "from collections import defaultdict\n",
    "\n",
    "def get_metrics(model, data_loader, dev):\n",
    "    model.eval()\n",
    "\n",
    "    emotion_accuracy = 0.0\n",
    "    emotion_precision = 0.0\n",
    "    emotion_recall = 0.0\n",
    "    emotion_f1 = 0.0\n",
    "    emotion_cm = None\n",
    "\n",
    "    unique_emotions_f1 = dict.fromkeys(labels_to_ids.keys(), 0.0)\n",
    "\n",
    "    trigger_accuracy = 0.0\n",
    "    trigger_precision = 0.0\n",
    "    trigger_recall = 0.0\n",
    "    trigger_f1 = 0.0\n",
    "    trigger_cm = None\n",
    "\n",
    "    nb_steps = 0\n",
    "\n",
    "    for batch in data_loader:\n",
    "        input_ids = batch['input_ids'].to(dev)\n",
    "        attention_mask = batch['attention_mask'].to(dev)\n",
    "        emotion_labels = batch['emotion_labels'].to(dev)\n",
    "        trigger_labels = batch['trigger_labels'].to(dev)\n",
    "\n",
    "        with torch.no_grad():\n",
    "            # Forward pass\n",
    "            emotion_logits, trigger_logits = model(input_ids, attention_mask)\n",
    "\n",
    "            # Compute predictions for emotions\n",
    "            emotion_logits, emotion_labels = remove_padding(emotion_logits, emotion_labels, 'emotion')\n",
    "\n",
    "            emotion_preds = torch.argmax(emotion_logits, dim = -1)\n",
    "\n",
    "            emotion_preds_flat = emotion_preds.cpu().numpy()\n",
    "            emotion_labels_flat = emotion_labels.cpu().numpy()\n",
    "\n",
    "            # Compute predictions for triggers\n",
    "            trigger_logits, trigger_labels = remove_padding(trigger_logits, trigger_labels, 'trigger')\n",
    "\n",
    "            trigger_preds = (torch.sigmoid(trigger_logits).squeeze(-1) > 0.5).long()\n",
    "\n",
    "            trigger_preds_flat = trigger_preds.cpu().numpy()\n",
    "            trigger_labels_flat = trigger_labels.cpu().numpy()\n",
    "\n",
    "            # Calculate metrics for emotion classification\n",
    "            emotion_accuracy += accuracy_score(emotion_labels_flat, emotion_preds_flat)\n",
    "            emotion_precision += precision_score(emotion_labels_flat, emotion_preds_flat, average='weighted', zero_division = 0)\n",
    "            emotion_recall += recall_score(emotion_labels_flat, emotion_preds_flat, average='weighted', zero_division = 0)\n",
    "            emotion_f1 += f1_score(emotion_labels_flat, emotion_preds_flat, average='weighted', zero_division = 0)\n",
    "\n",
    "            for idx, score in enumerate(f1_score(emotion_labels_flat, emotion_preds_flat, average = None, zero_division = 0)):\n",
    "                unique_emotions_f1[ids_to_labels[idx]] += score\n",
    "\n",
    "            if emotion_cm is None:\n",
    "                emotion_cm = confusion_matrix(emotion_labels_flat, emotion_preds_flat, labels = range(len(labels_to_ids)))\n",
    "            else:\n",
    "                emotion_cm += confusion_matrix(emotion_labels_flat, emotion_preds_flat, labels = range(len(labels_to_ids)))\n",
    "\n",
    "            # Calculate metrics for trigger classification\n",
    "            trigger_accuracy += accuracy_score(trigger_labels_flat, trigger_preds_flat)\n",
    "            trigger_precision += precision_score(trigger_labels_flat, trigger_preds_flat, average='weighted', zero_division = 0)\n",
    "            trigger_recall += recall_score(trigger_labels_flat, trigger_preds_flat, average='weighted', zero_division = 0)\n",
    "            trigger_f1 += f1_score(trigger_labels_flat, trigger_preds_flat, average='weighted', zero_division = 0)\n",
    "\n",
    "            if trigger_cm is None:\n",
    "                trigger_cm = confusion_matrix(trigger_labels_flat, trigger_preds_flat, labels = [0, 1])\n",
    "            else:\n",
    "                trigger_cm += confusion_matrix(trigger_labels_flat, trigger_preds_flat, labels = [0, 1])\n",
    "\n",
    "            nb_steps += 1\n",
    "\n",
    "    metrics = defaultdict(lambda: {})\n",
    "\n",
    "    # Calculate average metrics\n",
    "    avg_emotion_accuracy = emotion_accuracy / nb_steps\n",
    "    avg_emotion_precision = emotion_precision / nb_steps\n",
    "    avg_emotion_recall = emotion_recall / nb_steps\n",
    "    avg_emotion_f1 = emotion_f1 / nb_steps\n",
    "\n",
    "    for key, value in unique_emotions_f1.items():\n",
    "        unique_emotions_f1[key] = value / nb_steps\n",
    "\n",
    "    metrics['emotion_classification'] = {'accuracy': avg_emotion_accuracy,\n",
    "                                         'precision': avg_emotion_precision,\n",
    "                                         'recall': avg_emotion_recall,\n",
    "                                         'f1': {'avg': avg_emotion_f1}}\n",
    "    metrics['emotion_classification']['f1'].update(unique_emotions_f1)\n",
    "\n",
    "    avg_trigger_accuracy = trigger_accuracy / nb_steps\n",
    "    avg_trigger_precision = trigger_precision / nb_steps\n",
    "    avg_trigger_recall = trigger_recall / nb_steps\n",
    "    avg_trigger_f1 = trigger_f1 / nb_steps\n",
    "\n",
    "    metrics['trigger_classification'] = {'accuracy': avg_trigger_accuracy,\n",
    "                                         'precision': avg_trigger_precision,\n",
    "                                         'recall': avg_trigger_recall,\n",
    "                                         'f1': avg_trigger_f1}\n",
    "\n",
    "    return metrics, emotion_cm, trigger_cm"
   ]
  },
  {
   "cell_type": "code",
   "execution_count": null,
   "metadata": {
    "executionInfo": {
     "elapsed": 1390,
     "status": "ok",
     "timestamp": 1733323493050,
     "user": {
      "displayName": "Katarzyna Szczepaniak",
      "userId": "13778154280878787855"
     },
     "user_tz": -60
    },
    "id": "m2819G500ui7"
   },
   "outputs": [],
   "source": [
    "import seaborn as sns\n",
    "import matplotlib.pyplot as plt\n",
    "\n",
    "def plot_confusion_matrix(cm, labels, title = \"Confusion Matrix\"):\n",
    "    plt.figure(figsize = (10, 8))\n",
    "    sns.heatmap(cm, annot = True, fmt = 'd', cmap = \"Blues\", xticklabels = labels, yticklabels = labels)\n",
    "    plt.xlabel('Predicted Labels', fontsize = 14)\n",
    "    plt.ylabel('True Labels', fontsize = 14)\n",
    "    plt.title(title, fontsize = 16)\n",
    "    plt.xticks(rotation = 90)\n",
    "    plt.yticks(rotation = 0)\n",
    "    plt.tight_layout()\n",
    "    plt.show()"
   ]
  },
  {
   "cell_type": "code",
   "execution_count": null,
   "metadata": {
    "colab": {
     "base_uri": "https://localhost:8080/"
    },
    "executionInfo": {
     "elapsed": 5811,
     "status": "ok",
     "timestamp": 1733323501761,
     "user": {
      "displayName": "Katarzyna Szczepaniak",
      "userId": "13778154280878787855"
     },
     "user_tz": -60
    },
    "id": "8UNspSJxUgLJ",
    "outputId": "5ef81e53-2a2c-476f-eb38-1d4bac85039f"
   },
   "outputs": [],
   "source": [
    "metrics, emotion_cm, trigger_cm = get_metrics(moe, test_loader, device)\n",
    "\n",
    "# Output results\n",
    "for task, results in metrics.items():\n",
    "    print(f'Task: {task}')\n",
    "    for metric, score in results.items():\n",
    "        if metric != 'f1' or (metric == 'f1' and isinstance(score, np.float64)):\n",
    "            print(f'      {metric}: {score:.3f}')\n",
    "        else:\n",
    "            print(f'      f1: ')\n",
    "            for x, y in score.items():\n",
    "                print(f'          {x}: {y:.3f}')"
   ]
  },
  {
   "cell_type": "code",
   "execution_count": null,
   "metadata": {
    "colab": {
     "base_uri": "https://localhost:8080/",
     "height": 827
    },
    "executionInfo": {
     "elapsed": 1012,
     "status": "ok",
     "timestamp": 1733323569189,
     "user": {
      "displayName": "Katarzyna Szczepaniak",
      "userId": "13778154280878787855"
     },
     "user_tz": -60
    },
    "id": "vu-QJEmJ0ui7",
    "outputId": "e2fa0977-e132-4bca-c8f7-8eac2e2c351a"
   },
   "outputs": [],
   "source": [
    "+plot_confusion_matrix(emotion_cm, [i for i in labels_to_ids.keys()], \"Emotion Classification\")"
   ]
  },
  {
   "cell_type": "code",
   "execution_count": null,
   "metadata": {
    "colab": {
     "base_uri": "https://localhost:8080/",
     "height": 827
    },
    "executionInfo": {
     "elapsed": 1794,
     "status": "ok",
     "timestamp": 1733323579719,
     "user": {
      "displayName": "Katarzyna Szczepaniak",
      "userId": "13778154280878787855"
     },
     "user_tz": -60
    },
    "id": "85ShzciV0ui7",
    "outputId": "f0a9327f-3381-493b-b656-b15bd9563361"
   },
   "outputs": [],
   "source": [
    "plot_confusion_matrix(trigger_cm, ['No trigger', 'Trigger'], \"Trigger Classification\")"
   ]
  },
  {
   "cell_type": "markdown",
   "metadata": {
    "id": "qiwgK0H60ui8"
   },
   "source": [
    "# Save experiment"
   ]
  },
  {
   "cell_type": "code",
   "execution_count": null,
   "metadata": {
    "executionInfo": {
     "elapsed": 2913,
     "status": "ok",
     "timestamp": 1733323607249,
     "user": {
      "displayName": "Katarzyna Szczepaniak",
      "userId": "13778154280878787855"
     },
     "user_tz": -60
    },
    "id": "s7hH0xNVYdqL"
   },
   "outputs": [],
   "source": [
    "torch.save(moe.state_dict(), f'trained_models/{DATASET}/moe_model_{GATE_TYPE}_single_gate_{NUM_EXPERTS}_{EXPERT_TYPE}_experts_{TOP_K}_active_{LEARNING_RATE}_lr_{NUM_EPOCHS}_epochs.pth')"
   ]
  },
  {
   "cell_type": "code",
   "execution_count": null,
   "metadata": {
    "executionInfo": {
     "elapsed": 1415,
     "status": "ok",
     "timestamp": 1733323621935,
     "user": {
      "displayName": "Katarzyna Szczepaniak",
      "userId": "13778154280878787855"
     },
     "user_tz": -60
    },
    "id": "cR5h2JI40ui8"
   },
   "outputs": [],
   "source": [
    "file_path = f'results/{DATASET}/moe_model_{GATE_TYPE}_single_gate_{NUM_EXPERTS}_{EXPERT_TYPE}_experts_{TOP_K}_active_{LEARNING_RATE}_lr_{NUM_EPOCHS}_epochs.txt'\n",
    "\n",
    "with open(file_path, 'w') as f:\n",
    "    experiment_setup = [f'MAX_LENGTH = {MAX_LENGTH}\\n',\n",
    "                        f'BATCH_SIZE = {BATCH_SIZE}\\n', '\\n',\n",
    "                        f'GATE_TYPE = {GATE_TYPE}\\n',\n",
    "                        f'EXPERT_TYPE = {EXPERT_TYPE}\\n',\n",
    "                        f'NUM_EXPERTS = {NUM_EXPERTS}\\n',\n",
    "                        f'TOP_K = {TOP_K}\\n',\n",
    "                        f'LEARNING_RATE = {LEARNING_RATE}\\n',\n",
    "                        f'NUM_EPOCHS = {NUM_EPOCHS}\\n', '\\n', '\\n']\n",
    "\n",
    "    experiment_results = []\n",
    "    for task, results in metrics.items():\n",
    "        experiment_results.append(f'\\nTask: {task}\\n')\n",
    "        for metric, score in results.items():\n",
    "            if metric != 'f1' or (metric == 'f1' and isinstance(score, np.float64)):\n",
    "                experiment_results.append(f'      {metric}: {score:.3f}\\n')\n",
    "            else:\n",
    "                experiment_results.append(f'      f1:\\n')\n",
    "                for x, y in score.items():\n",
    "                    experiment_results.append(f'          {x}: {y:.3f}\\n')\n",
    "\n",
    "    f.writelines(experiment_setup)\n",
    "    f.writelines(logs)\n",
    "    f.writelines(experiment_results)\n",
    "    f.writelines('\\nEmotion confusion matrix\\n')\n",
    "    f.write(\"\\t\".join([i for i in labels_to_ids.keys()]))  # write labels\n",
    "    f.write('\\n')\n",
    "    f.writelines([f\"\\t\".join(map(str, emotion_cm[i])) + \"\\n\" for i in range(len(labels_to_ids))]) # write matrix\n",
    "    f.write(\"\\n\")\n",
    "\n",
    "    f.writelines('Trigger confusion matrix\\n')\n",
    "    f.write(\"\\t\".join([i for i in ['No trigger', 'Trigger']]))  # write labels\n",
    "    f.write('\\n')\n",
    "    f.writelines([f\"\\t\".join(map(str, trigger_cm[i])) + \"\\n\" for i in range(len(['No trigger', 'Trigger']))]) # write matrix\n"
   ]
  },
  {
   "cell_type": "markdown",
   "metadata": {
    "id": "goQBmT0AUx-x"
   },
   "source": [
    "# Load and test trained model"
   ]
  },
  {
   "cell_type": "code",
   "execution_count": null,
   "metadata": {
    "colab": {
     "base_uri": "https://localhost:8080/"
    },
    "executionInfo": {
     "elapsed": 1583,
     "status": "ok",
     "timestamp": 1733000402512,
     "user": {
      "displayName": "Katarzyna Szczepaniak",
      "userId": "13778154280878787855"
     },
     "user_tz": -60
    },
    "id": "Y8SZCnMSYfQU",
    "outputId": "de206add-44c2-4c37-e1d6-23b0981aae2b"
   },
   "outputs": [],
   "source": [
    "moe_loaded = MoEForEmotionAndTriggerClassification(num_experts = NUM_EXPERTS, k = TOP_K, num_classes = len(labels_to_ids), gate_type = GATE_TYPE, expert_type = EXPERT_TYPE)\n",
    "moe_loaded.load_state_dict(torch.load(f'trained_models/{DATASET}/moe_model_{GATE_TYPE}_single_gate_{NUM_EXPERTS}_{EXPERT_TYPE}_experts_{TOP_K}_active_{LEARNING_RATE}_lr_{NUM_EPOCHS}_epochs.pth', map_location=torch.device('cpu')))"
   ]
  },
  {
   "cell_type": "code",
   "execution_count": null,
   "metadata": {
    "colab": {
     "base_uri": "https://localhost:8080/"
    },
    "executionInfo": {
     "elapsed": 234155,
     "status": "ok",
     "timestamp": 1733000639338,
     "user": {
      "displayName": "Katarzyna Szczepaniak",
      "userId": "13778154280878787855"
     },
     "user_tz": -60
    },
    "id": "lrsLrQjgUxeB",
    "outputId": "730a095e-f311-42d6-be19-e609563e061c"
   },
   "outputs": [],
   "source": [
    "metrics, emotion_cm, trigger_cm = get_metrics(moe_loaded, test_loader, 'cpu')\n",
    "\n",
    "# Output results\n",
    "for task, results in metrics.items():\n",
    "    print(f'Task: {task}')\n",
    "    for metric, score in results.items():\n",
    "        if metric != 'f1' or (metric == 'f1' and isinstance(score, np.float64)):\n",
    "            print(f'      {metric}: {score:.3f}')\n",
    "        else:\n",
    "            print(f'      f1: ')\n",
    "            for x, y in score.items():\n",
    "                print(f'          {x}: {y:.3f}')"
   ]
  },
  {
   "cell_type": "code",
   "execution_count": null,
   "metadata": {
    "colab": {
     "base_uri": "https://localhost:8080/",
     "height": 807
    },
    "executionInfo": {
     "elapsed": 863,
     "status": "ok",
     "timestamp": 1733000668655,
     "user": {
      "displayName": "Katarzyna Szczepaniak",
      "userId": "13778154280878787855"
     },
     "user_tz": -60
    },
    "id": "O3_2OzBi0ui9",
    "outputId": "951cb80e-aaee-4540-9321-d8da878ca5b5"
   },
   "outputs": [],
   "source": [
    "plot_confusion_matrix(emotion_cm, [i for i in labels_to_ids.keys()], \"Emotion Classification\")"
   ]
  },
  {
   "cell_type": "code",
   "execution_count": null,
   "metadata": {
    "colab": {
     "base_uri": "https://localhost:8080/",
     "height": 807
    },
    "executionInfo": {
     "elapsed": 573,
     "status": "ok",
     "timestamp": 1733000675806,
     "user": {
      "displayName": "Katarzyna Szczepaniak",
      "userId": "13778154280878787855"
     },
     "user_tz": -60
    },
    "id": "mQU_IDQ90ui9",
    "outputId": "cbf7af60-78f2-4b78-a046-c5977c934c8d"
   },
   "outputs": [],
   "source": [
    "plot_confusion_matrix(trigger_cm, ['No trigger', 'Trigger'], \"Trigger Classification\")"
   ]
  }
 ],
 "metadata": {
  "accelerator": "GPU",
  "colab": {
   "gpuType": "T4",
   "provenance": []
  },
  "kernelspec": {
   "display_name": "base",
   "language": "python",
   "name": "python3"
  },
  "language_info": {
   "codemirror_mode": {
    "name": "ipython",
    "version": 3
   },
   "file_extension": ".py",
   "mimetype": "text/x-python",
   "name": "python",
   "nbconvert_exporter": "python",
   "pygments_lexer": "ipython3",
   "version": "3.11.5"
  },
  "widgets": {
   "application/vnd.jupyter.widget-state+json": {
    "05290f5058fe4e36a68be9fee236a124": {
     "model_module": "@jupyter-widgets/base",
     "model_module_version": "1.2.0",
     "model_name": "LayoutModel",
     "state": {
      "_model_module": "@jupyter-widgets/base",
      "_model_module_version": "1.2.0",
      "_model_name": "LayoutModel",
      "_view_count": null,
      "_view_module": "@jupyter-widgets/base",
      "_view_module_version": "1.2.0",
      "_view_name": "LayoutView",
      "align_content": null,
      "align_items": null,
      "align_self": null,
      "border": null,
      "bottom": null,
      "display": null,
      "flex": null,
      "flex_flow": null,
      "grid_area": null,
      "grid_auto_columns": null,
      "grid_auto_flow": null,
      "grid_auto_rows": null,
      "grid_column": null,
      "grid_gap": null,
      "grid_row": null,
      "grid_template_areas": null,
      "grid_template_columns": null,
      "grid_template_rows": null,
      "height": null,
      "justify_content": null,
      "justify_items": null,
      "left": null,
      "margin": null,
      "max_height": null,
      "max_width": null,
      "min_height": null,
      "min_width": null,
      "object_fit": null,
      "object_position": null,
      "order": null,
      "overflow": null,
      "overflow_x": null,
      "overflow_y": null,
      "padding": null,
      "right": null,
      "top": null,
      "visibility": null,
      "width": null
     }
    },
    "0c15906f9b2a41e5a338c990234bf79a": {
     "model_module": "@jupyter-widgets/base",
     "model_module_version": "1.2.0",
     "model_name": "LayoutModel",
     "state": {
      "_model_module": "@jupyter-widgets/base",
      "_model_module_version": "1.2.0",
      "_model_name": "LayoutModel",
      "_view_count": null,
      "_view_module": "@jupyter-widgets/base",
      "_view_module_version": "1.2.0",
      "_view_name": "LayoutView",
      "align_content": null,
      "align_items": null,
      "align_self": null,
      "border": null,
      "bottom": null,
      "display": null,
      "flex": null,
      "flex_flow": null,
      "grid_area": null,
      "grid_auto_columns": null,
      "grid_auto_flow": null,
      "grid_auto_rows": null,
      "grid_column": null,
      "grid_gap": null,
      "grid_row": null,
      "grid_template_areas": null,
      "grid_template_columns": null,
      "grid_template_rows": null,
      "height": null,
      "justify_content": null,
      "justify_items": null,
      "left": null,
      "margin": null,
      "max_height": null,
      "max_width": null,
      "min_height": null,
      "min_width": null,
      "object_fit": null,
      "object_position": null,
      "order": null,
      "overflow": null,
      "overflow_x": null,
      "overflow_y": null,
      "padding": null,
      "right": null,
      "top": null,
      "visibility": null,
      "width": null
     }
    },
    "0ea1d6ed3afb4ba1bfd58e1214f3478c": {
     "model_module": "@jupyter-widgets/controls",
     "model_module_version": "1.5.0",
     "model_name": "FloatProgressModel",
     "state": {
      "_dom_classes": [],
      "_model_module": "@jupyter-widgets/controls",
      "_model_module_version": "1.5.0",
      "_model_name": "FloatProgressModel",
      "_view_count": null,
      "_view_module": "@jupyter-widgets/controls",
      "_view_module_version": "1.5.0",
      "_view_name": "ProgressView",
      "bar_style": "success",
      "description": "",
      "description_tooltip": null,
      "layout": "IPY_MODEL_e617978c7b8545948663fd1a739344b1",
      "max": 570,
      "min": 0,
      "orientation": "horizontal",
      "style": "IPY_MODEL_2acb07377c924b61be8d0cd8c711d471",
      "value": 570
     }
    },
    "142c0b773d524836a684508d5ce62971": {
     "model_module": "@jupyter-widgets/base",
     "model_module_version": "1.2.0",
     "model_name": "LayoutModel",
     "state": {
      "_model_module": "@jupyter-widgets/base",
      "_model_module_version": "1.2.0",
      "_model_name": "LayoutModel",
      "_view_count": null,
      "_view_module": "@jupyter-widgets/base",
      "_view_module_version": "1.2.0",
      "_view_name": "LayoutView",
      "align_content": null,
      "align_items": null,
      "align_self": null,
      "border": null,
      "bottom": null,
      "display": null,
      "flex": null,
      "flex_flow": null,
      "grid_area": null,
      "grid_auto_columns": null,
      "grid_auto_flow": null,
      "grid_auto_rows": null,
      "grid_column": null,
      "grid_gap": null,
      "grid_row": null,
      "grid_template_areas": null,
      "grid_template_columns": null,
      "grid_template_rows": null,
      "height": null,
      "justify_content": null,
      "justify_items": null,
      "left": null,
      "margin": null,
      "max_height": null,
      "max_width": null,
      "min_height": null,
      "min_width": null,
      "object_fit": null,
      "object_position": null,
      "order": null,
      "overflow": null,
      "overflow_x": null,
      "overflow_y": null,
      "padding": null,
      "right": null,
      "top": null,
      "visibility": null,
      "width": null
     }
    },
    "1dc1b3d724604a03bfdba266d1bd1bc9": {
     "model_module": "@jupyter-widgets/base",
     "model_module_version": "1.2.0",
     "model_name": "LayoutModel",
     "state": {
      "_model_module": "@jupyter-widgets/base",
      "_model_module_version": "1.2.0",
      "_model_name": "LayoutModel",
      "_view_count": null,
      "_view_module": "@jupyter-widgets/base",
      "_view_module_version": "1.2.0",
      "_view_name": "LayoutView",
      "align_content": null,
      "align_items": null,
      "align_self": null,
      "border": null,
      "bottom": null,
      "display": null,
      "flex": null,
      "flex_flow": null,
      "grid_area": null,
      "grid_auto_columns": null,
      "grid_auto_flow": null,
      "grid_auto_rows": null,
      "grid_column": null,
      "grid_gap": null,
      "grid_row": null,
      "grid_template_areas": null,
      "grid_template_columns": null,
      "grid_template_rows": null,
      "height": null,
      "justify_content": null,
      "justify_items": null,
      "left": null,
      "margin": null,
      "max_height": null,
      "max_width": null,
      "min_height": null,
      "min_width": null,
      "object_fit": null,
      "object_position": null,
      "order": null,
      "overflow": null,
      "overflow_x": null,
      "overflow_y": null,
      "padding": null,
      "right": null,
      "top": null,
      "visibility": null,
      "width": null
     }
    },
    "1eb31adfa8ea402387429a524accb418": {
     "model_module": "@jupyter-widgets/controls",
     "model_module_version": "1.5.0",
     "model_name": "HTMLModel",
     "state": {
      "_dom_classes": [],
      "_model_module": "@jupyter-widgets/controls",
      "_model_module_version": "1.5.0",
      "_model_name": "HTMLModel",
      "_view_count": null,
      "_view_module": "@jupyter-widgets/controls",
      "_view_module_version": "1.5.0",
      "_view_name": "HTMLView",
      "description": "",
      "description_tooltip": null,
      "layout": "IPY_MODEL_501d40ea212a4b84906f625d04701d15",
      "placeholder": "​",
      "style": "IPY_MODEL_7fd82917f7f748eb8ca0b551dd2eb401",
      "value": "vocab.txt: 100%"
     }
    },
    "234df7c05ccc4197b596754ff28c4a07": {
     "model_module": "@jupyter-widgets/base",
     "model_module_version": "1.2.0",
     "model_name": "LayoutModel",
     "state": {
      "_model_module": "@jupyter-widgets/base",
      "_model_module_version": "1.2.0",
      "_model_name": "LayoutModel",
      "_view_count": null,
      "_view_module": "@jupyter-widgets/base",
      "_view_module_version": "1.2.0",
      "_view_name": "LayoutView",
      "align_content": null,
      "align_items": null,
      "align_self": null,
      "border": null,
      "bottom": null,
      "display": null,
      "flex": null,
      "flex_flow": null,
      "grid_area": null,
      "grid_auto_columns": null,
      "grid_auto_flow": null,
      "grid_auto_rows": null,
      "grid_column": null,
      "grid_gap": null,
      "grid_row": null,
      "grid_template_areas": null,
      "grid_template_columns": null,
      "grid_template_rows": null,
      "height": null,
      "justify_content": null,
      "justify_items": null,
      "left": null,
      "margin": null,
      "max_height": null,
      "max_width": null,
      "min_height": null,
      "min_width": null,
      "object_fit": null,
      "object_position": null,
      "order": null,
      "overflow": null,
      "overflow_x": null,
      "overflow_y": null,
      "padding": null,
      "right": null,
      "top": null,
      "visibility": null,
      "width": null
     }
    },
    "2615284a6f5d458989a8b38d92f9808b": {
     "model_module": "@jupyter-widgets/controls",
     "model_module_version": "1.5.0",
     "model_name": "FloatProgressModel",
     "state": {
      "_dom_classes": [],
      "_model_module": "@jupyter-widgets/controls",
      "_model_module_version": "1.5.0",
      "_model_name": "FloatProgressModel",
      "_view_count": null,
      "_view_module": "@jupyter-widgets/controls",
      "_view_module_version": "1.5.0",
      "_view_name": "ProgressView",
      "bar_style": "success",
      "description": "",
      "description_tooltip": null,
      "layout": "IPY_MODEL_44e7980acb614e319ce3ff3b27482606",
      "max": 435797,
      "min": 0,
      "orientation": "horizontal",
      "style": "IPY_MODEL_cc82f3e0763b41cc8a41ef9ef17010b6",
      "value": 435797
     }
    },
    "2acb07377c924b61be8d0cd8c711d471": {
     "model_module": "@jupyter-widgets/controls",
     "model_module_version": "1.5.0",
     "model_name": "ProgressStyleModel",
     "state": {
      "_model_module": "@jupyter-widgets/controls",
      "_model_module_version": "1.5.0",
      "_model_name": "ProgressStyleModel",
      "_view_count": null,
      "_view_module": "@jupyter-widgets/base",
      "_view_module_version": "1.2.0",
      "_view_name": "StyleView",
      "bar_color": null,
      "description_width": ""
     }
    },
    "33f07f2c556447c6a9a332f1c96c3164": {
     "model_module": "@jupyter-widgets/controls",
     "model_module_version": "1.5.0",
     "model_name": "DescriptionStyleModel",
     "state": {
      "_model_module": "@jupyter-widgets/controls",
      "_model_module_version": "1.5.0",
      "_model_name": "DescriptionStyleModel",
      "_view_count": null,
      "_view_module": "@jupyter-widgets/base",
      "_view_module_version": "1.2.0",
      "_view_name": "StyleView",
      "description_width": ""
     }
    },
    "44e7980acb614e319ce3ff3b27482606": {
     "model_module": "@jupyter-widgets/base",
     "model_module_version": "1.2.0",
     "model_name": "LayoutModel",
     "state": {
      "_model_module": "@jupyter-widgets/base",
      "_model_module_version": "1.2.0",
      "_model_name": "LayoutModel",
      "_view_count": null,
      "_view_module": "@jupyter-widgets/base",
      "_view_module_version": "1.2.0",
      "_view_name": "LayoutView",
      "align_content": null,
      "align_items": null,
      "align_self": null,
      "border": null,
      "bottom": null,
      "display": null,
      "flex": null,
      "flex_flow": null,
      "grid_area": null,
      "grid_auto_columns": null,
      "grid_auto_flow": null,
      "grid_auto_rows": null,
      "grid_column": null,
      "grid_gap": null,
      "grid_row": null,
      "grid_template_areas": null,
      "grid_template_columns": null,
      "grid_template_rows": null,
      "height": null,
      "justify_content": null,
      "justify_items": null,
      "left": null,
      "margin": null,
      "max_height": null,
      "max_width": null,
      "min_height": null,
      "min_width": null,
      "object_fit": null,
      "object_position": null,
      "order": null,
      "overflow": null,
      "overflow_x": null,
      "overflow_y": null,
      "padding": null,
      "right": null,
      "top": null,
      "visibility": null,
      "width": null
     }
    },
    "4638223cf5f44c1bb3ad655e5aba2c9f": {
     "model_module": "@jupyter-widgets/controls",
     "model_module_version": "1.5.0",
     "model_name": "HBoxModel",
     "state": {
      "_dom_classes": [],
      "_model_module": "@jupyter-widgets/controls",
      "_model_module_version": "1.5.0",
      "_model_name": "HBoxModel",
      "_view_count": null,
      "_view_module": "@jupyter-widgets/controls",
      "_view_module_version": "1.5.0",
      "_view_name": "HBoxView",
      "box_style": "",
      "children": [
       "IPY_MODEL_813fc5844f354d60832b10827960c73b",
       "IPY_MODEL_2615284a6f5d458989a8b38d92f9808b",
       "IPY_MODEL_fac305beb57647aa9ab0590bef0bd0de"
      ],
      "layout": "IPY_MODEL_5f12407dc0a9400286a7ab9dd9f7df76"
     }
    },
    "501d40ea212a4b84906f625d04701d15": {
     "model_module": "@jupyter-widgets/base",
     "model_module_version": "1.2.0",
     "model_name": "LayoutModel",
     "state": {
      "_model_module": "@jupyter-widgets/base",
      "_model_module_version": "1.2.0",
      "_model_name": "LayoutModel",
      "_view_count": null,
      "_view_module": "@jupyter-widgets/base",
      "_view_module_version": "1.2.0",
      "_view_name": "LayoutView",
      "align_content": null,
      "align_items": null,
      "align_self": null,
      "border": null,
      "bottom": null,
      "display": null,
      "flex": null,
      "flex_flow": null,
      "grid_area": null,
      "grid_auto_columns": null,
      "grid_auto_flow": null,
      "grid_auto_rows": null,
      "grid_column": null,
      "grid_gap": null,
      "grid_row": null,
      "grid_template_areas": null,
      "grid_template_columns": null,
      "grid_template_rows": null,
      "height": null,
      "justify_content": null,
      "justify_items": null,
      "left": null,
      "margin": null,
      "max_height": null,
      "max_width": null,
      "min_height": null,
      "min_width": null,
      "object_fit": null,
      "object_position": null,
      "order": null,
      "overflow": null,
      "overflow_x": null,
      "overflow_y": null,
      "padding": null,
      "right": null,
      "top": null,
      "visibility": null,
      "width": null
     }
    },
    "50cb3b5620e74518b2265a666639874b": {
     "model_module": "@jupyter-widgets/base",
     "model_module_version": "1.2.0",
     "model_name": "LayoutModel",
     "state": {
      "_model_module": "@jupyter-widgets/base",
      "_model_module_version": "1.2.0",
      "_model_name": "LayoutModel",
      "_view_count": null,
      "_view_module": "@jupyter-widgets/base",
      "_view_module_version": "1.2.0",
      "_view_name": "LayoutView",
      "align_content": null,
      "align_items": null,
      "align_self": null,
      "border": null,
      "bottom": null,
      "display": null,
      "flex": null,
      "flex_flow": null,
      "grid_area": null,
      "grid_auto_columns": null,
      "grid_auto_flow": null,
      "grid_auto_rows": null,
      "grid_column": null,
      "grid_gap": null,
      "grid_row": null,
      "grid_template_areas": null,
      "grid_template_columns": null,
      "grid_template_rows": null,
      "height": null,
      "justify_content": null,
      "justify_items": null,
      "left": null,
      "margin": null,
      "max_height": null,
      "max_width": null,
      "min_height": null,
      "min_width": null,
      "object_fit": null,
      "object_position": null,
      "order": null,
      "overflow": null,
      "overflow_x": null,
      "overflow_y": null,
      "padding": null,
      "right": null,
      "top": null,
      "visibility": null,
      "width": null
     }
    },
    "526972d5e843418eb366a3b422c28ff9": {
     "model_module": "@jupyter-widgets/controls",
     "model_module_version": "1.5.0",
     "model_name": "HBoxModel",
     "state": {
      "_dom_classes": [],
      "_model_module": "@jupyter-widgets/controls",
      "_model_module_version": "1.5.0",
      "_model_name": "HBoxModel",
      "_view_count": null,
      "_view_module": "@jupyter-widgets/controls",
      "_view_module_version": "1.5.0",
      "_view_name": "HBoxView",
      "box_style": "",
      "children": [
       "IPY_MODEL_1eb31adfa8ea402387429a524accb418",
       "IPY_MODEL_6a5ada99069545178807cce85b2338e9",
       "IPY_MODEL_7c97fb0d7f094431a8dbd69c0c791d38"
      ],
      "layout": "IPY_MODEL_c75cd083b2814dd0958c82eea85f6e5b"
     }
    },
    "535e453c2f544e7ca17125b4c8ca320a": {
     "model_module": "@jupyter-widgets/base",
     "model_module_version": "1.2.0",
     "model_name": "LayoutModel",
     "state": {
      "_model_module": "@jupyter-widgets/base",
      "_model_module_version": "1.2.0",
      "_model_name": "LayoutModel",
      "_view_count": null,
      "_view_module": "@jupyter-widgets/base",
      "_view_module_version": "1.2.0",
      "_view_name": "LayoutView",
      "align_content": null,
      "align_items": null,
      "align_self": null,
      "border": null,
      "bottom": null,
      "display": null,
      "flex": null,
      "flex_flow": null,
      "grid_area": null,
      "grid_auto_columns": null,
      "grid_auto_flow": null,
      "grid_auto_rows": null,
      "grid_column": null,
      "grid_gap": null,
      "grid_row": null,
      "grid_template_areas": null,
      "grid_template_columns": null,
      "grid_template_rows": null,
      "height": null,
      "justify_content": null,
      "justify_items": null,
      "left": null,
      "margin": null,
      "max_height": null,
      "max_width": null,
      "min_height": null,
      "min_width": null,
      "object_fit": null,
      "object_position": null,
      "order": null,
      "overflow": null,
      "overflow_x": null,
      "overflow_y": null,
      "padding": null,
      "right": null,
      "top": null,
      "visibility": null,
      "width": null
     }
    },
    "5a3c8232609347d58703af10e9a6c6cf": {
     "model_module": "@jupyter-widgets/controls",
     "model_module_version": "1.5.0",
     "model_name": "HBoxModel",
     "state": {
      "_dom_classes": [],
      "_model_module": "@jupyter-widgets/controls",
      "_model_module_version": "1.5.0",
      "_model_name": "HBoxModel",
      "_view_count": null,
      "_view_module": "@jupyter-widgets/controls",
      "_view_module_version": "1.5.0",
      "_view_name": "HBoxView",
      "box_style": "",
      "children": [
       "IPY_MODEL_bbbc3cad21954d8ebd481720bff18c49",
       "IPY_MODEL_0ea1d6ed3afb4ba1bfd58e1214f3478c",
       "IPY_MODEL_6b51ea889eaf4bcaaa65e32091366ae3"
      ],
      "layout": "IPY_MODEL_ab521eb3c37a453c8704c4d703dfa830"
     }
    },
    "5f12407dc0a9400286a7ab9dd9f7df76": {
     "model_module": "@jupyter-widgets/base",
     "model_module_version": "1.2.0",
     "model_name": "LayoutModel",
     "state": {
      "_model_module": "@jupyter-widgets/base",
      "_model_module_version": "1.2.0",
      "_model_name": "LayoutModel",
      "_view_count": null,
      "_view_module": "@jupyter-widgets/base",
      "_view_module_version": "1.2.0",
      "_view_name": "LayoutView",
      "align_content": null,
      "align_items": null,
      "align_self": null,
      "border": null,
      "bottom": null,
      "display": null,
      "flex": null,
      "flex_flow": null,
      "grid_area": null,
      "grid_auto_columns": null,
      "grid_auto_flow": null,
      "grid_auto_rows": null,
      "grid_column": null,
      "grid_gap": null,
      "grid_row": null,
      "grid_template_areas": null,
      "grid_template_columns": null,
      "grid_template_rows": null,
      "height": null,
      "justify_content": null,
      "justify_items": null,
      "left": null,
      "margin": null,
      "max_height": null,
      "max_width": null,
      "min_height": null,
      "min_width": null,
      "object_fit": null,
      "object_position": null,
      "order": null,
      "overflow": null,
      "overflow_x": null,
      "overflow_y": null,
      "padding": null,
      "right": null,
      "top": null,
      "visibility": null,
      "width": null
     }
    },
    "69ebfd9fcda649adaa9035d818cb5b84": {
     "model_module": "@jupyter-widgets/controls",
     "model_module_version": "1.5.0",
     "model_name": "HTMLModel",
     "state": {
      "_dom_classes": [],
      "_model_module": "@jupyter-widgets/controls",
      "_model_module_version": "1.5.0",
      "_model_name": "HTMLModel",
      "_view_count": null,
      "_view_module": "@jupyter-widgets/controls",
      "_view_module_version": "1.5.0",
      "_view_name": "HTMLView",
      "description": "",
      "description_tooltip": null,
      "layout": "IPY_MODEL_78a97cf7c3174ee0a90cdff74f5a8b4a",
      "placeholder": "​",
      "style": "IPY_MODEL_c739a6b63a4a455997e35a99f76ccc32",
      "value": " 49.0/49.0 [00:00&lt;00:00, 951B/s]"
     }
    },
    "6a5ada99069545178807cce85b2338e9": {
     "model_module": "@jupyter-widgets/controls",
     "model_module_version": "1.5.0",
     "model_name": "FloatProgressModel",
     "state": {
      "_dom_classes": [],
      "_model_module": "@jupyter-widgets/controls",
      "_model_module_version": "1.5.0",
      "_model_name": "FloatProgressModel",
      "_view_count": null,
      "_view_module": "@jupyter-widgets/controls",
      "_view_module_version": "1.5.0",
      "_view_name": "ProgressView",
      "bar_style": "success",
      "description": "",
      "description_tooltip": null,
      "layout": "IPY_MODEL_f8698e53d8b84a0685a6898f4595ffec",
      "max": 213450,
      "min": 0,
      "orientation": "horizontal",
      "style": "IPY_MODEL_c2dc2e5b28c04a068962e3e25bb2d34e",
      "value": 213450
     }
    },
    "6b51ea889eaf4bcaaa65e32091366ae3": {
     "model_module": "@jupyter-widgets/controls",
     "model_module_version": "1.5.0",
     "model_name": "HTMLModel",
     "state": {
      "_dom_classes": [],
      "_model_module": "@jupyter-widgets/controls",
      "_model_module_version": "1.5.0",
      "_model_name": "HTMLModel",
      "_view_count": null,
      "_view_module": "@jupyter-widgets/controls",
      "_view_module_version": "1.5.0",
      "_view_name": "HTMLView",
      "description": "",
      "description_tooltip": null,
      "layout": "IPY_MODEL_943fb1dda1574815ae7ebb029e434c2e",
      "placeholder": "​",
      "style": "IPY_MODEL_cbaec6db199b41f3a2a2cb3192b3532a",
      "value": " 570/570 [00:00&lt;00:00, 15.9kB/s]"
     }
    },
    "6ce167eac2684ee3b1fc7a0da438716d": {
     "model_module": "@jupyter-widgets/controls",
     "model_module_version": "1.5.0",
     "model_name": "HTMLModel",
     "state": {
      "_dom_classes": [],
      "_model_module": "@jupyter-widgets/controls",
      "_model_module_version": "1.5.0",
      "_model_name": "HTMLModel",
      "_view_count": null,
      "_view_module": "@jupyter-widgets/controls",
      "_view_module_version": "1.5.0",
      "_view_name": "HTMLView",
      "description": "",
      "description_tooltip": null,
      "layout": "IPY_MODEL_234df7c05ccc4197b596754ff28c4a07",
      "placeholder": "​",
      "style": "IPY_MODEL_d6da86d9f75c43feba7fc4b55121ba3c",
      "value": "model.safetensors: 100%"
     }
    },
    "78a97cf7c3174ee0a90cdff74f5a8b4a": {
     "model_module": "@jupyter-widgets/base",
     "model_module_version": "1.2.0",
     "model_name": "LayoutModel",
     "state": {
      "_model_module": "@jupyter-widgets/base",
      "_model_module_version": "1.2.0",
      "_model_name": "LayoutModel",
      "_view_count": null,
      "_view_module": "@jupyter-widgets/base",
      "_view_module_version": "1.2.0",
      "_view_name": "LayoutView",
      "align_content": null,
      "align_items": null,
      "align_self": null,
      "border": null,
      "bottom": null,
      "display": null,
      "flex": null,
      "flex_flow": null,
      "grid_area": null,
      "grid_auto_columns": null,
      "grid_auto_flow": null,
      "grid_auto_rows": null,
      "grid_column": null,
      "grid_gap": null,
      "grid_row": null,
      "grid_template_areas": null,
      "grid_template_columns": null,
      "grid_template_rows": null,
      "height": null,
      "justify_content": null,
      "justify_items": null,
      "left": null,
      "margin": null,
      "max_height": null,
      "max_width": null,
      "min_height": null,
      "min_width": null,
      "object_fit": null,
      "object_position": null,
      "order": null,
      "overflow": null,
      "overflow_x": null,
      "overflow_y": null,
      "padding": null,
      "right": null,
      "top": null,
      "visibility": null,
      "width": null
     }
    },
    "7a296a2d201142308e5332544ca0e998": {
     "model_module": "@jupyter-widgets/base",
     "model_module_version": "1.2.0",
     "model_name": "LayoutModel",
     "state": {
      "_model_module": "@jupyter-widgets/base",
      "_model_module_version": "1.2.0",
      "_model_name": "LayoutModel",
      "_view_count": null,
      "_view_module": "@jupyter-widgets/base",
      "_view_module_version": "1.2.0",
      "_view_name": "LayoutView",
      "align_content": null,
      "align_items": null,
      "align_self": null,
      "border": null,
      "bottom": null,
      "display": null,
      "flex": null,
      "flex_flow": null,
      "grid_area": null,
      "grid_auto_columns": null,
      "grid_auto_flow": null,
      "grid_auto_rows": null,
      "grid_column": null,
      "grid_gap": null,
      "grid_row": null,
      "grid_template_areas": null,
      "grid_template_columns": null,
      "grid_template_rows": null,
      "height": null,
      "justify_content": null,
      "justify_items": null,
      "left": null,
      "margin": null,
      "max_height": null,
      "max_width": null,
      "min_height": null,
      "min_width": null,
      "object_fit": null,
      "object_position": null,
      "order": null,
      "overflow": null,
      "overflow_x": null,
      "overflow_y": null,
      "padding": null,
      "right": null,
      "top": null,
      "visibility": null,
      "width": null
     }
    },
    "7c97fb0d7f094431a8dbd69c0c791d38": {
     "model_module": "@jupyter-widgets/controls",
     "model_module_version": "1.5.0",
     "model_name": "HTMLModel",
     "state": {
      "_dom_classes": [],
      "_model_module": "@jupyter-widgets/controls",
      "_model_module_version": "1.5.0",
      "_model_name": "HTMLModel",
      "_view_count": null,
      "_view_module": "@jupyter-widgets/controls",
      "_view_module_version": "1.5.0",
      "_view_name": "HTMLView",
      "description": "",
      "description_tooltip": null,
      "layout": "IPY_MODEL_966e8c1b152447d9b57c0b06fb429875",
      "placeholder": "​",
      "style": "IPY_MODEL_875722ddd3ec417e86b7783bae5f753f",
      "value": " 213k/213k [00:00&lt;00:00, 473kB/s]"
     }
    },
    "7fd82917f7f748eb8ca0b551dd2eb401": {
     "model_module": "@jupyter-widgets/controls",
     "model_module_version": "1.5.0",
     "model_name": "DescriptionStyleModel",
     "state": {
      "_model_module": "@jupyter-widgets/controls",
      "_model_module_version": "1.5.0",
      "_model_name": "DescriptionStyleModel",
      "_view_count": null,
      "_view_module": "@jupyter-widgets/base",
      "_view_module_version": "1.2.0",
      "_view_name": "StyleView",
      "description_width": ""
     }
    },
    "813fc5844f354d60832b10827960c73b": {
     "model_module": "@jupyter-widgets/controls",
     "model_module_version": "1.5.0",
     "model_name": "HTMLModel",
     "state": {
      "_dom_classes": [],
      "_model_module": "@jupyter-widgets/controls",
      "_model_module_version": "1.5.0",
      "_model_name": "HTMLModel",
      "_view_count": null,
      "_view_module": "@jupyter-widgets/controls",
      "_view_module_version": "1.5.0",
      "_view_name": "HTMLView",
      "description": "",
      "description_tooltip": null,
      "layout": "IPY_MODEL_0c15906f9b2a41e5a338c990234bf79a",
      "placeholder": "​",
      "style": "IPY_MODEL_33f07f2c556447c6a9a332f1c96c3164",
      "value": "tokenizer.json: 100%"
     }
    },
    "857105e1719744f7bc8087f768711911": {
     "model_module": "@jupyter-widgets/base",
     "model_module_version": "1.2.0",
     "model_name": "LayoutModel",
     "state": {
      "_model_module": "@jupyter-widgets/base",
      "_model_module_version": "1.2.0",
      "_model_name": "LayoutModel",
      "_view_count": null,
      "_view_module": "@jupyter-widgets/base",
      "_view_module_version": "1.2.0",
      "_view_name": "LayoutView",
      "align_content": null,
      "align_items": null,
      "align_self": null,
      "border": null,
      "bottom": null,
      "display": null,
      "flex": null,
      "flex_flow": null,
      "grid_area": null,
      "grid_auto_columns": null,
      "grid_auto_flow": null,
      "grid_auto_rows": null,
      "grid_column": null,
      "grid_gap": null,
      "grid_row": null,
      "grid_template_areas": null,
      "grid_template_columns": null,
      "grid_template_rows": null,
      "height": null,
      "justify_content": null,
      "justify_items": null,
      "left": null,
      "margin": null,
      "max_height": null,
      "max_width": null,
      "min_height": null,
      "min_width": null,
      "object_fit": null,
      "object_position": null,
      "order": null,
      "overflow": null,
      "overflow_x": null,
      "overflow_y": null,
      "padding": null,
      "right": null,
      "top": null,
      "visibility": null,
      "width": null
     }
    },
    "875722ddd3ec417e86b7783bae5f753f": {
     "model_module": "@jupyter-widgets/controls",
     "model_module_version": "1.5.0",
     "model_name": "DescriptionStyleModel",
     "state": {
      "_model_module": "@jupyter-widgets/controls",
      "_model_module_version": "1.5.0",
      "_model_name": "DescriptionStyleModel",
      "_view_count": null,
      "_view_module": "@jupyter-widgets/base",
      "_view_module_version": "1.2.0",
      "_view_name": "StyleView",
      "description_width": ""
     }
    },
    "943fb1dda1574815ae7ebb029e434c2e": {
     "model_module": "@jupyter-widgets/base",
     "model_module_version": "1.2.0",
     "model_name": "LayoutModel",
     "state": {
      "_model_module": "@jupyter-widgets/base",
      "_model_module_version": "1.2.0",
      "_model_name": "LayoutModel",
      "_view_count": null,
      "_view_module": "@jupyter-widgets/base",
      "_view_module_version": "1.2.0",
      "_view_name": "LayoutView",
      "align_content": null,
      "align_items": null,
      "align_self": null,
      "border": null,
      "bottom": null,
      "display": null,
      "flex": null,
      "flex_flow": null,
      "grid_area": null,
      "grid_auto_columns": null,
      "grid_auto_flow": null,
      "grid_auto_rows": null,
      "grid_column": null,
      "grid_gap": null,
      "grid_row": null,
      "grid_template_areas": null,
      "grid_template_columns": null,
      "grid_template_rows": null,
      "height": null,
      "justify_content": null,
      "justify_items": null,
      "left": null,
      "margin": null,
      "max_height": null,
      "max_width": null,
      "min_height": null,
      "min_width": null,
      "object_fit": null,
      "object_position": null,
      "order": null,
      "overflow": null,
      "overflow_x": null,
      "overflow_y": null,
      "padding": null,
      "right": null,
      "top": null,
      "visibility": null,
      "width": null
     }
    },
    "966e8c1b152447d9b57c0b06fb429875": {
     "model_module": "@jupyter-widgets/base",
     "model_module_version": "1.2.0",
     "model_name": "LayoutModel",
     "state": {
      "_model_module": "@jupyter-widgets/base",
      "_model_module_version": "1.2.0",
      "_model_name": "LayoutModel",
      "_view_count": null,
      "_view_module": "@jupyter-widgets/base",
      "_view_module_version": "1.2.0",
      "_view_name": "LayoutView",
      "align_content": null,
      "align_items": null,
      "align_self": null,
      "border": null,
      "bottom": null,
      "display": null,
      "flex": null,
      "flex_flow": null,
      "grid_area": null,
      "grid_auto_columns": null,
      "grid_auto_flow": null,
      "grid_auto_rows": null,
      "grid_column": null,
      "grid_gap": null,
      "grid_row": null,
      "grid_template_areas": null,
      "grid_template_columns": null,
      "grid_template_rows": null,
      "height": null,
      "justify_content": null,
      "justify_items": null,
      "left": null,
      "margin": null,
      "max_height": null,
      "max_width": null,
      "min_height": null,
      "min_width": null,
      "object_fit": null,
      "object_position": null,
      "order": null,
      "overflow": null,
      "overflow_x": null,
      "overflow_y": null,
      "padding": null,
      "right": null,
      "top": null,
      "visibility": null,
      "width": null
     }
    },
    "99790f87a9014b66b3c76a11327d672a": {
     "model_module": "@jupyter-widgets/controls",
     "model_module_version": "1.5.0",
     "model_name": "FloatProgressModel",
     "state": {
      "_dom_classes": [],
      "_model_module": "@jupyter-widgets/controls",
      "_model_module_version": "1.5.0",
      "_model_name": "FloatProgressModel",
      "_view_count": null,
      "_view_module": "@jupyter-widgets/controls",
      "_view_module_version": "1.5.0",
      "_view_name": "ProgressView",
      "bar_style": "success",
      "description": "",
      "description_tooltip": null,
      "layout": "IPY_MODEL_afe53aceec774befa471153f09679ec4",
      "max": 49,
      "min": 0,
      "orientation": "horizontal",
      "style": "IPY_MODEL_f9dfb964b67247b7bc74c4c6e4711e80",
      "value": 49
     }
    },
    "9ca7e8adf36f478ba8e808330cffd5a1": {
     "model_module": "@jupyter-widgets/controls",
     "model_module_version": "1.5.0",
     "model_name": "DescriptionStyleModel",
     "state": {
      "_model_module": "@jupyter-widgets/controls",
      "_model_module_version": "1.5.0",
      "_model_name": "DescriptionStyleModel",
      "_view_count": null,
      "_view_module": "@jupyter-widgets/base",
      "_view_module_version": "1.2.0",
      "_view_name": "StyleView",
      "description_width": ""
     }
    },
    "ab521eb3c37a453c8704c4d703dfa830": {
     "model_module": "@jupyter-widgets/base",
     "model_module_version": "1.2.0",
     "model_name": "LayoutModel",
     "state": {
      "_model_module": "@jupyter-widgets/base",
      "_model_module_version": "1.2.0",
      "_model_name": "LayoutModel",
      "_view_count": null,
      "_view_module": "@jupyter-widgets/base",
      "_view_module_version": "1.2.0",
      "_view_name": "LayoutView",
      "align_content": null,
      "align_items": null,
      "align_self": null,
      "border": null,
      "bottom": null,
      "display": null,
      "flex": null,
      "flex_flow": null,
      "grid_area": null,
      "grid_auto_columns": null,
      "grid_auto_flow": null,
      "grid_auto_rows": null,
      "grid_column": null,
      "grid_gap": null,
      "grid_row": null,
      "grid_template_areas": null,
      "grid_template_columns": null,
      "grid_template_rows": null,
      "height": null,
      "justify_content": null,
      "justify_items": null,
      "left": null,
      "margin": null,
      "max_height": null,
      "max_width": null,
      "min_height": null,
      "min_width": null,
      "object_fit": null,
      "object_position": null,
      "order": null,
      "overflow": null,
      "overflow_x": null,
      "overflow_y": null,
      "padding": null,
      "right": null,
      "top": null,
      "visibility": null,
      "width": null
     }
    },
    "ac56a90da126497db4f106dbaa4b459f": {
     "model_module": "@jupyter-widgets/controls",
     "model_module_version": "1.5.0",
     "model_name": "HBoxModel",
     "state": {
      "_dom_classes": [],
      "_model_module": "@jupyter-widgets/controls",
      "_model_module_version": "1.5.0",
      "_model_name": "HBoxModel",
      "_view_count": null,
      "_view_module": "@jupyter-widgets/controls",
      "_view_module_version": "1.5.0",
      "_view_name": "HBoxView",
      "box_style": "",
      "children": [
       "IPY_MODEL_f347e130e0d64e16980739f67c6985f7",
       "IPY_MODEL_99790f87a9014b66b3c76a11327d672a",
       "IPY_MODEL_69ebfd9fcda649adaa9035d818cb5b84"
      ],
      "layout": "IPY_MODEL_535e453c2f544e7ca17125b4c8ca320a"
     }
    },
    "afe53aceec774befa471153f09679ec4": {
     "model_module": "@jupyter-widgets/base",
     "model_module_version": "1.2.0",
     "model_name": "LayoutModel",
     "state": {
      "_model_module": "@jupyter-widgets/base",
      "_model_module_version": "1.2.0",
      "_model_name": "LayoutModel",
      "_view_count": null,
      "_view_module": "@jupyter-widgets/base",
      "_view_module_version": "1.2.0",
      "_view_name": "LayoutView",
      "align_content": null,
      "align_items": null,
      "align_self": null,
      "border": null,
      "bottom": null,
      "display": null,
      "flex": null,
      "flex_flow": null,
      "grid_area": null,
      "grid_auto_columns": null,
      "grid_auto_flow": null,
      "grid_auto_rows": null,
      "grid_column": null,
      "grid_gap": null,
      "grid_row": null,
      "grid_template_areas": null,
      "grid_template_columns": null,
      "grid_template_rows": null,
      "height": null,
      "justify_content": null,
      "justify_items": null,
      "left": null,
      "margin": null,
      "max_height": null,
      "max_width": null,
      "min_height": null,
      "min_width": null,
      "object_fit": null,
      "object_position": null,
      "order": null,
      "overflow": null,
      "overflow_x": null,
      "overflow_y": null,
      "padding": null,
      "right": null,
      "top": null,
      "visibility": null,
      "width": null
     }
    },
    "b4ce0e52ae5b48eeaf832c7dbd5c3def": {
     "model_module": "@jupyter-widgets/controls",
     "model_module_version": "1.5.0",
     "model_name": "DescriptionStyleModel",
     "state": {
      "_model_module": "@jupyter-widgets/controls",
      "_model_module_version": "1.5.0",
      "_model_name": "DescriptionStyleModel",
      "_view_count": null,
      "_view_module": "@jupyter-widgets/base",
      "_view_module_version": "1.2.0",
      "_view_name": "StyleView",
      "description_width": ""
     }
    },
    "bbbc3cad21954d8ebd481720bff18c49": {
     "model_module": "@jupyter-widgets/controls",
     "model_module_version": "1.5.0",
     "model_name": "HTMLModel",
     "state": {
      "_dom_classes": [],
      "_model_module": "@jupyter-widgets/controls",
      "_model_module_version": "1.5.0",
      "_model_name": "HTMLModel",
      "_view_count": null,
      "_view_module": "@jupyter-widgets/controls",
      "_view_module_version": "1.5.0",
      "_view_name": "HTMLView",
      "description": "",
      "description_tooltip": null,
      "layout": "IPY_MODEL_05290f5058fe4e36a68be9fee236a124",
      "placeholder": "​",
      "style": "IPY_MODEL_9ca7e8adf36f478ba8e808330cffd5a1",
      "value": "config.json: 100%"
     }
    },
    "bd0a7610e40344d0a1105fc41fc58ecb": {
     "model_module": "@jupyter-widgets/controls",
     "model_module_version": "1.5.0",
     "model_name": "HTMLModel",
     "state": {
      "_dom_classes": [],
      "_model_module": "@jupyter-widgets/controls",
      "_model_module_version": "1.5.0",
      "_model_name": "HTMLModel",
      "_view_count": null,
      "_view_module": "@jupyter-widgets/controls",
      "_view_module_version": "1.5.0",
      "_view_name": "HTMLView",
      "description": "",
      "description_tooltip": null,
      "layout": "IPY_MODEL_7a296a2d201142308e5332544ca0e998",
      "placeholder": "​",
      "style": "IPY_MODEL_b4ce0e52ae5b48eeaf832c7dbd5c3def",
      "value": " 436M/436M [00:05&lt;00:00, 84.6MB/s]"
     }
    },
    "c2dc2e5b28c04a068962e3e25bb2d34e": {
     "model_module": "@jupyter-widgets/controls",
     "model_module_version": "1.5.0",
     "model_name": "ProgressStyleModel",
     "state": {
      "_model_module": "@jupyter-widgets/controls",
      "_model_module_version": "1.5.0",
      "_model_name": "ProgressStyleModel",
      "_view_count": null,
      "_view_module": "@jupyter-widgets/base",
      "_view_module_version": "1.2.0",
      "_view_name": "StyleView",
      "bar_color": null,
      "description_width": ""
     }
    },
    "c739a6b63a4a455997e35a99f76ccc32": {
     "model_module": "@jupyter-widgets/controls",
     "model_module_version": "1.5.0",
     "model_name": "DescriptionStyleModel",
     "state": {
      "_model_module": "@jupyter-widgets/controls",
      "_model_module_version": "1.5.0",
      "_model_name": "DescriptionStyleModel",
      "_view_count": null,
      "_view_module": "@jupyter-widgets/base",
      "_view_module_version": "1.2.0",
      "_view_name": "StyleView",
      "description_width": ""
     }
    },
    "c75cd083b2814dd0958c82eea85f6e5b": {
     "model_module": "@jupyter-widgets/base",
     "model_module_version": "1.2.0",
     "model_name": "LayoutModel",
     "state": {
      "_model_module": "@jupyter-widgets/base",
      "_model_module_version": "1.2.0",
      "_model_name": "LayoutModel",
      "_view_count": null,
      "_view_module": "@jupyter-widgets/base",
      "_view_module_version": "1.2.0",
      "_view_name": "LayoutView",
      "align_content": null,
      "align_items": null,
      "align_self": null,
      "border": null,
      "bottom": null,
      "display": null,
      "flex": null,
      "flex_flow": null,
      "grid_area": null,
      "grid_auto_columns": null,
      "grid_auto_flow": null,
      "grid_auto_rows": null,
      "grid_column": null,
      "grid_gap": null,
      "grid_row": null,
      "grid_template_areas": null,
      "grid_template_columns": null,
      "grid_template_rows": null,
      "height": null,
      "justify_content": null,
      "justify_items": null,
      "left": null,
      "margin": null,
      "max_height": null,
      "max_width": null,
      "min_height": null,
      "min_width": null,
      "object_fit": null,
      "object_position": null,
      "order": null,
      "overflow": null,
      "overflow_x": null,
      "overflow_y": null,
      "padding": null,
      "right": null,
      "top": null,
      "visibility": null,
      "width": null
     }
    },
    "ca6ff1b1ca8147f2985363a73e91cc63": {
     "model_module": "@jupyter-widgets/controls",
     "model_module_version": "1.5.0",
     "model_name": "DescriptionStyleModel",
     "state": {
      "_model_module": "@jupyter-widgets/controls",
      "_model_module_version": "1.5.0",
      "_model_name": "DescriptionStyleModel",
      "_view_count": null,
      "_view_module": "@jupyter-widgets/base",
      "_view_module_version": "1.2.0",
      "_view_name": "StyleView",
      "description_width": ""
     }
    },
    "cbaec6db199b41f3a2a2cb3192b3532a": {
     "model_module": "@jupyter-widgets/controls",
     "model_module_version": "1.5.0",
     "model_name": "DescriptionStyleModel",
     "state": {
      "_model_module": "@jupyter-widgets/controls",
      "_model_module_version": "1.5.0",
      "_model_name": "DescriptionStyleModel",
      "_view_count": null,
      "_view_module": "@jupyter-widgets/base",
      "_view_module_version": "1.2.0",
      "_view_name": "StyleView",
      "description_width": ""
     }
    },
    "cbd0b088c60a4eae81f9301de15e57cd": {
     "model_module": "@jupyter-widgets/controls",
     "model_module_version": "1.5.0",
     "model_name": "ProgressStyleModel",
     "state": {
      "_model_module": "@jupyter-widgets/controls",
      "_model_module_version": "1.5.0",
      "_model_name": "ProgressStyleModel",
      "_view_count": null,
      "_view_module": "@jupyter-widgets/base",
      "_view_module_version": "1.2.0",
      "_view_name": "StyleView",
      "bar_color": null,
      "description_width": ""
     }
    },
    "cc82f3e0763b41cc8a41ef9ef17010b6": {
     "model_module": "@jupyter-widgets/controls",
     "model_module_version": "1.5.0",
     "model_name": "ProgressStyleModel",
     "state": {
      "_model_module": "@jupyter-widgets/controls",
      "_model_module_version": "1.5.0",
      "_model_name": "ProgressStyleModel",
      "_view_count": null,
      "_view_module": "@jupyter-widgets/base",
      "_view_module_version": "1.2.0",
      "_view_name": "StyleView",
      "bar_color": null,
      "description_width": ""
     }
    },
    "d6da86d9f75c43feba7fc4b55121ba3c": {
     "model_module": "@jupyter-widgets/controls",
     "model_module_version": "1.5.0",
     "model_name": "DescriptionStyleModel",
     "state": {
      "_model_module": "@jupyter-widgets/controls",
      "_model_module_version": "1.5.0",
      "_model_name": "DescriptionStyleModel",
      "_view_count": null,
      "_view_module": "@jupyter-widgets/base",
      "_view_module_version": "1.2.0",
      "_view_name": "StyleView",
      "description_width": ""
     }
    },
    "df20ca4c2b4d4680846b20f30b857836": {
     "model_module": "@jupyter-widgets/controls",
     "model_module_version": "1.5.0",
     "model_name": "HBoxModel",
     "state": {
      "_dom_classes": [],
      "_model_module": "@jupyter-widgets/controls",
      "_model_module_version": "1.5.0",
      "_model_name": "HBoxModel",
      "_view_count": null,
      "_view_module": "@jupyter-widgets/controls",
      "_view_module_version": "1.5.0",
      "_view_name": "HBoxView",
      "box_style": "",
      "children": [
       "IPY_MODEL_6ce167eac2684ee3b1fc7a0da438716d",
       "IPY_MODEL_ecec1280b814420c820d98ac30bdcdd4",
       "IPY_MODEL_bd0a7610e40344d0a1105fc41fc58ecb"
      ],
      "layout": "IPY_MODEL_857105e1719744f7bc8087f768711911"
     }
    },
    "e617978c7b8545948663fd1a739344b1": {
     "model_module": "@jupyter-widgets/base",
     "model_module_version": "1.2.0",
     "model_name": "LayoutModel",
     "state": {
      "_model_module": "@jupyter-widgets/base",
      "_model_module_version": "1.2.0",
      "_model_name": "LayoutModel",
      "_view_count": null,
      "_view_module": "@jupyter-widgets/base",
      "_view_module_version": "1.2.0",
      "_view_name": "LayoutView",
      "align_content": null,
      "align_items": null,
      "align_self": null,
      "border": null,
      "bottom": null,
      "display": null,
      "flex": null,
      "flex_flow": null,
      "grid_area": null,
      "grid_auto_columns": null,
      "grid_auto_flow": null,
      "grid_auto_rows": null,
      "grid_column": null,
      "grid_gap": null,
      "grid_row": null,
      "grid_template_areas": null,
      "grid_template_columns": null,
      "grid_template_rows": null,
      "height": null,
      "justify_content": null,
      "justify_items": null,
      "left": null,
      "margin": null,
      "max_height": null,
      "max_width": null,
      "min_height": null,
      "min_width": null,
      "object_fit": null,
      "object_position": null,
      "order": null,
      "overflow": null,
      "overflow_x": null,
      "overflow_y": null,
      "padding": null,
      "right": null,
      "top": null,
      "visibility": null,
      "width": null
     }
    },
    "ecec1280b814420c820d98ac30bdcdd4": {
     "model_module": "@jupyter-widgets/controls",
     "model_module_version": "1.5.0",
     "model_name": "FloatProgressModel",
     "state": {
      "_dom_classes": [],
      "_model_module": "@jupyter-widgets/controls",
      "_model_module_version": "1.5.0",
      "_model_name": "FloatProgressModel",
      "_view_count": null,
      "_view_module": "@jupyter-widgets/controls",
      "_view_module_version": "1.5.0",
      "_view_name": "ProgressView",
      "bar_style": "success",
      "description": "",
      "description_tooltip": null,
      "layout": "IPY_MODEL_142c0b773d524836a684508d5ce62971",
      "max": 435755784,
      "min": 0,
      "orientation": "horizontal",
      "style": "IPY_MODEL_cbd0b088c60a4eae81f9301de15e57cd",
      "value": 435755784
     }
    },
    "f347e130e0d64e16980739f67c6985f7": {
     "model_module": "@jupyter-widgets/controls",
     "model_module_version": "1.5.0",
     "model_name": "HTMLModel",
     "state": {
      "_dom_classes": [],
      "_model_module": "@jupyter-widgets/controls",
      "_model_module_version": "1.5.0",
      "_model_name": "HTMLModel",
      "_view_count": null,
      "_view_module": "@jupyter-widgets/controls",
      "_view_module_version": "1.5.0",
      "_view_name": "HTMLView",
      "description": "",
      "description_tooltip": null,
      "layout": "IPY_MODEL_1dc1b3d724604a03bfdba266d1bd1bc9",
      "placeholder": "​",
      "style": "IPY_MODEL_f98aa9f49f174a19a1e40373191a3e3f",
      "value": "tokenizer_config.json: 100%"
     }
    },
    "f8698e53d8b84a0685a6898f4595ffec": {
     "model_module": "@jupyter-widgets/base",
     "model_module_version": "1.2.0",
     "model_name": "LayoutModel",
     "state": {
      "_model_module": "@jupyter-widgets/base",
      "_model_module_version": "1.2.0",
      "_model_name": "LayoutModel",
      "_view_count": null,
      "_view_module": "@jupyter-widgets/base",
      "_view_module_version": "1.2.0",
      "_view_name": "LayoutView",
      "align_content": null,
      "align_items": null,
      "align_self": null,
      "border": null,
      "bottom": null,
      "display": null,
      "flex": null,
      "flex_flow": null,
      "grid_area": null,
      "grid_auto_columns": null,
      "grid_auto_flow": null,
      "grid_auto_rows": null,
      "grid_column": null,
      "grid_gap": null,
      "grid_row": null,
      "grid_template_areas": null,
      "grid_template_columns": null,
      "grid_template_rows": null,
      "height": null,
      "justify_content": null,
      "justify_items": null,
      "left": null,
      "margin": null,
      "max_height": null,
      "max_width": null,
      "min_height": null,
      "min_width": null,
      "object_fit": null,
      "object_position": null,
      "order": null,
      "overflow": null,
      "overflow_x": null,
      "overflow_y": null,
      "padding": null,
      "right": null,
      "top": null,
      "visibility": null,
      "width": null
     }
    },
    "f98aa9f49f174a19a1e40373191a3e3f": {
     "model_module": "@jupyter-widgets/controls",
     "model_module_version": "1.5.0",
     "model_name": "DescriptionStyleModel",
     "state": {
      "_model_module": "@jupyter-widgets/controls",
      "_model_module_version": "1.5.0",
      "_model_name": "DescriptionStyleModel",
      "_view_count": null,
      "_view_module": "@jupyter-widgets/base",
      "_view_module_version": "1.2.0",
      "_view_name": "StyleView",
      "description_width": ""
     }
    },
    "f9dfb964b67247b7bc74c4c6e4711e80": {
     "model_module": "@jupyter-widgets/controls",
     "model_module_version": "1.5.0",
     "model_name": "ProgressStyleModel",
     "state": {
      "_model_module": "@jupyter-widgets/controls",
      "_model_module_version": "1.5.0",
      "_model_name": "ProgressStyleModel",
      "_view_count": null,
      "_view_module": "@jupyter-widgets/base",
      "_view_module_version": "1.2.0",
      "_view_name": "StyleView",
      "bar_color": null,
      "description_width": ""
     }
    },
    "fac305beb57647aa9ab0590bef0bd0de": {
     "model_module": "@jupyter-widgets/controls",
     "model_module_version": "1.5.0",
     "model_name": "HTMLModel",
     "state": {
      "_dom_classes": [],
      "_model_module": "@jupyter-widgets/controls",
      "_model_module_version": "1.5.0",
      "_model_name": "HTMLModel",
      "_view_count": null,
      "_view_module": "@jupyter-widgets/controls",
      "_view_module_version": "1.5.0",
      "_view_name": "HTMLView",
      "description": "",
      "description_tooltip": null,
      "layout": "IPY_MODEL_50cb3b5620e74518b2265a666639874b",
      "placeholder": "​",
      "style": "IPY_MODEL_ca6ff1b1ca8147f2985363a73e91cc63",
      "value": " 436k/436k [00:00&lt;00:00, 634kB/s]"
     }
    }
   }
  }
 },
 "nbformat": 4,
 "nbformat_minor": 0
}
