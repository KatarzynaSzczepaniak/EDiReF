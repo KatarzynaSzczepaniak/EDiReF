{
 "cells": [
  {
   "cell_type": "code",
   "execution_count": null,
   "metadata": {
    "colab": {
     "base_uri": "https://localhost:8080/"
    },
    "executionInfo": {
     "elapsed": 28797,
     "status": "ok",
     "timestamp": 1733750506405,
     "user": {
      "displayName": "Katarzyna Szczepaniak",
      "userId": "17983833234865046820"
     },
     "user_tz": -60
    },
    "id": "4YS-HHlMxdzr",
    "outputId": "6d6a13df-3e90-42f2-8b7b-169890270a47"
   },
   "outputs": [],
   "source": [
    "from google.colab import drive\n",
    "drive.mount('/content/drive')"
   ]
  },
  {
   "cell_type": "code",
   "execution_count": null,
   "metadata": {
    "colab": {
     "base_uri": "https://localhost:8080/"
    },
    "executionInfo": {
     "elapsed": 11,
     "status": "ok",
     "timestamp": 1733750506405,
     "user": {
      "displayName": "Katarzyna Szczepaniak",
      "userId": "17983833234865046820"
     },
     "user_tz": -60
    },
    "id": "hMHoUEE8xvX0",
    "outputId": "f6e0229e-c7bf-44b4-ea19-bd76f4f608aa"
   },
   "outputs": [],
   "source": [
    "%cd drive/MyDrive/Colab \\Notebooks"
   ]
  },
  {
   "cell_type": "code",
   "execution_count": null,
   "metadata": {
    "executionInfo": {
     "elapsed": 16397,
     "status": "ok",
     "timestamp": 1733750522795,
     "user": {
      "displayName": "Katarzyna Szczepaniak",
      "userId": "17983833234865046820"
     },
     "user_tz": -60
    },
    "id": "M6Woq9BFW18k"
   },
   "outputs": [],
   "source": [
    "import torch\n",
    "import torch.nn as nn\n",
    "from torch.utils.data import Dataset, DataLoader\n",
    "from transformers import BertTokenizer, BertModel\n",
    "import pandas as pd\n",
    "import numpy as np"
   ]
  },
  {
   "cell_type": "code",
   "execution_count": null,
   "metadata": {
    "colab": {
     "base_uri": "https://localhost:8080/"
    },
    "executionInfo": {
     "elapsed": 11,
     "status": "ok",
     "timestamp": 1733750522796,
     "user": {
      "displayName": "Katarzyna Szczepaniak",
      "userId": "17983833234865046820"
     },
     "user_tz": -60
    },
    "id": "4QJ_vvYdW2YT",
    "outputId": "9424d0a3-4b7b-4e3c-a564-0fb500abe4fd"
   },
   "outputs": [],
   "source": [
    "from torch import cuda\n",
    "device = 'cuda' if cuda.is_available() else 'cpu'\n",
    "\n",
    "print(device)"
   ]
  },
  {
   "cell_type": "markdown",
   "metadata": {
    "id": "DWH--rE_zW7H"
   },
   "source": [
    "# Data preparation"
   ]
  },
  {
   "cell_type": "code",
   "execution_count": null,
   "metadata": {
    "executionInfo": {
     "elapsed": 8,
     "status": "ok",
     "timestamp": 1733750522796,
     "user": {
      "displayName": "Katarzyna Szczepaniak",
      "userId": "17983833234865046820"
     },
     "user_tz": -60
    },
    "id": "L86nTmkQXOp-"
   },
   "outputs": [],
   "source": [
    "DATASET = 'MaSaC'    # @param ['MELD', 'MaSaC']\n",
    "MAX_LENGTH = 128    # @param [96, 128, 256] {type: 'raw'}\n",
    "BATCH_SIZE = 32    # @param [8, 16, 32] {type: 'raw'}"
   ]
  },
  {
   "cell_type": "code",
   "execution_count": null,
   "metadata": {
    "executionInfo": {
     "elapsed": 7,
     "status": "ok",
     "timestamp": 1733750522796,
     "user": {
      "displayName": "Katarzyna Szczepaniak",
      "userId": "17983833234865046820"
     },
     "user_tz": -60
    },
    "id": "wGHW3dIODZaA"
   },
   "outputs": [],
   "source": [
    "if DATASET == 'MELD':\n",
    "    DESIGNATED_MODEL = 'bert-base-cased'\n",
    "elif DATASET == 'MaSaC':\n",
    "    DESIGNATED_MODEL = 'bert-base-multilingual-cased'"
   ]
  },
  {
   "cell_type": "code",
   "execution_count": null,
   "metadata": {
    "executionInfo": {
     "elapsed": 6,
     "status": "ok",
     "timestamp": 1733750522796,
     "user": {
      "displayName": "Katarzyna Szczepaniak",
      "userId": "17983833234865046820"
     },
     "user_tz": -60
    },
    "id": "Jeo5-OB-0ui1"
   },
   "outputs": [],
   "source": [
    "def get_data(dataset_name, stage):\n",
    "    def to_float(x):\n",
    "        try:\n",
    "            return float(x)\n",
    "        except ValueError:\n",
    "            return 1\n",
    "\n",
    "    df = pd.read_json(f'data/EDiReF_{stage}_data/{dataset_name}_{stage}_efr.json')\n",
    "    df[\"triggers\"] = df[\"triggers\"].apply(lambda lst: [np.nan if x is None else x for x in lst])\n",
    "    df = df[df[\"triggers\"].apply(lambda lst: not any(pd.isna(x) for x in lst))]\n",
    "    df[\"triggers\"] = df[\"triggers\"].apply(lambda lst: [to_float(x) for x in lst])\n",
    "\n",
    "    conversations = list(df['utterances'])\n",
    "    emotions = list(df['emotions'])\n",
    "    triggers = list(df['triggers'])\n",
    "\n",
    "    return conversations, emotions, triggers"
   ]
  },
  {
   "cell_type": "code",
   "execution_count": null,
   "metadata": {
    "executionInfo": {
     "elapsed": 3866,
     "status": "ok",
     "timestamp": 1733750526656,
     "user": {
      "displayName": "Katarzyna Szczepaniak",
      "userId": "17983833234865046820"
     },
     "user_tz": -60
    },
    "id": "ydKZCcuX0ui1"
   },
   "outputs": [],
   "source": [
    "train_conversations, train_emotions, train_triggers = get_data(DATASET, 'train')\n",
    "val_conversations, val_emotions, val_triggers = get_data(DATASET, 'val')"
   ]
  },
  {
   "cell_type": "code",
   "execution_count": null,
   "metadata": {
    "executionInfo": {
     "elapsed": 6,
     "status": "ok",
     "timestamp": 1733750526657,
     "user": {
      "displayName": "Katarzyna Szczepaniak",
      "userId": "17983833234865046820"
     },
     "user_tz": -60
    },
    "id": "wN64aPnJ0ui1"
   },
   "outputs": [],
   "source": [
    "conversations = train_conversations + val_conversations\n",
    "emotions = train_emotions + val_emotions\n",
    "triggers = train_triggers + val_triggers"
   ]
  },
  {
   "cell_type": "code",
   "execution_count": null,
   "metadata": {
    "executionInfo": {
     "elapsed": 7,
     "status": "ok",
     "timestamp": 1733750526658,
     "user": {
      "displayName": "Katarzyna Szczepaniak",
      "userId": "17983833234865046820"
     },
     "user_tz": -60
    },
    "id": "9ivzCvXX0ui1"
   },
   "outputs": [],
   "source": [
    "flattened_emotions = [sent for conv in emotions for sent in conv]\n",
    "unique_emotions = set(flattened_emotions)\n",
    "\n",
    "labels_to_ids = {k: v for v, k in enumerate(unique_emotions)}\n",
    "ids_to_labels = {v: k for v, k in enumerate(unique_emotions)}\n",
    "emotions = [[labels_to_ids[emotion] for emotion in conv] for conv in emotions]"
   ]
  },
  {
   "cell_type": "code",
   "execution_count": null,
   "metadata": {
    "executionInfo": {
     "elapsed": 1636,
     "status": "ok",
     "timestamp": 1733750528289,
     "user": {
      "displayName": "Katarzyna Szczepaniak",
      "userId": "17983833234865046820"
     },
     "user_tz": -60
    },
    "id": "mi-y0zznb-hG"
   },
   "outputs": [],
   "source": [
    "from sklearn.model_selection import train_test_split\n",
    "\n",
    "def train_val_test_split(X, y1, y2, val_size = 0.2, test_size = 0.2, random_state = None):\n",
    "    X_train_val, X_test, y1_train_val, y1_test, y2_train_val, y2_test = train_test_split(\n",
    "        X, y1, y2, test_size=test_size, random_state=random_state\n",
    "    )\n",
    "\n",
    "    val_relative_size = val_size / (1 - test_size)\n",
    "\n",
    "    X_train, X_val, y1_train, y1_val, y2_train, y2_val = train_test_split(\n",
    "        X_train_val, y1_train_val, y2_train_val, test_size=val_relative_size, random_state=random_state\n",
    "    )\n",
    "\n",
    "    return (X_train, X_val, X_test, y1_train, y1_val, y1_test, y2_train, y2_val, y2_test)"
   ]
  },
  {
   "cell_type": "code",
   "execution_count": null,
   "metadata": {
    "executionInfo": {
     "elapsed": 7,
     "status": "ok",
     "timestamp": 1733750528290,
     "user": {
      "displayName": "Katarzyna Szczepaniak",
      "userId": "17983833234865046820"
     },
     "user_tz": -60
    },
    "id": "arnKxaiEeoLD"
   },
   "outputs": [],
   "source": [
    "X_train, X_val, X_test, y1_train, y1_val, y1_test, y2_train, y2_val, y2_test = train_val_test_split(\n",
    "    conversations, emotions, triggers, test_size=0.15, val_size=0.15, random_state=2024\n",
    "    )"
   ]
  },
  {
   "cell_type": "code",
   "execution_count": null,
   "metadata": {
    "colab": {
     "base_uri": "https://localhost:8080/",
     "height": 272,
     "referenced_widgets": [
      "7afff535ec47429d9281e1e8bc0f07f1",
      "1812eea260dc423ba19745abb0092ae9",
      "755fafeae3a8435189ac95a6e9cb3a54",
      "65d642bc46014e7caf244997261b27d0",
      "e87ecc66b3d44943ba6e1b4241745134",
      "46458413ca9447798fa60de76540dab1",
      "0af01b0cffe54a61a3c08daf48251ede",
      "e6e168d323a94baf839704a529b45b2c",
      "564cd35f88624a969ca09769e2af4991",
      "a0384130dbbd473e8427efeaad9a6895",
      "b21a0a496b744a6aad96a5dfd66480a1",
      "5f6142a9fa384f5eb07aecc11047d86c",
      "a76be68656874119a20e6a783fef8ded",
      "0900d7257b214e178195da14cd393620",
      "a3e913a520e14533b2bd902f47d48897",
      "9880f78951a945b39ba9336ff2aeb639",
      "d82808d060264ba8b2e08a3bef4f31b0",
      "6c56bd0974144104bdabdefe7ac6cea0",
      "8b54adf6df9442838cb29a669a810115",
      "24e53a41288e4ca6846525783c8a557a",
      "536ca412d1a8443aa63fedb861db4727",
      "3ff27fb4e8174be192a92aac989f24d8",
      "1586a322140f453fa5b1eb8d8f86b181",
      "2f83f528fd644d5f87daf636de0701f9",
      "f7d291c94fa840a1ad1c13febc40b018",
      "efa93022a75143bca5c905f7e5002639",
      "2f85f7f4f60b46d18efdd9c4cb187427",
      "9f0a5418fd4e48788682a2065bcd06a6",
      "14e35024da3545c29c2a1ec9d042fc0f",
      "877b2b0c1d1e443eb62c517e7291b68a",
      "463aa534562d4baa949578d5f14980b5",
      "b1c76bf777534a599e156259be181d3b",
      "5e4c625a4a3449de90d2dfe933c661ab",
      "bf7906e5a44443049d65d763b46b05ac",
      "d3d7bc521d524d22bd66d13e7c800ebb",
      "55cb88ffceff4444bfad7a65307831cd",
      "a5e5bf0f2cb04a24ba95063beab52052",
      "56b01af26df045c2a6383e40a773d2ec",
      "91248f82f37f4a598022deb1e4c2ae00",
      "1d31cc7cbe784d8bab6c55ad2944560f",
      "3b17e9dfc6bc45c4b8ae370be3506b34",
      "fa81f9e369064dffaab3c9ec52c5832f",
      "d9387724fd7043d59ef429538f7f6f85",
      "f89c792850984612955a789e98e5577c"
     ]
    },
    "executionInfo": {
     "elapsed": 5925,
     "status": "ok",
     "timestamp": 1733750534209,
     "user": {
      "displayName": "Katarzyna Szczepaniak",
      "userId": "17983833234865046820"
     },
     "user_tz": -60
    },
    "id": "8Tru4JRaGT8X",
    "outputId": "abff264e-88c4-4a60-fd9a-e92f9c287910"
   },
   "outputs": [],
   "source": [
    "tokenizer = BertTokenizer.from_pretrained(DESIGNATED_MODEL)"
   ]
  },
  {
   "cell_type": "code",
   "execution_count": null,
   "metadata": {
    "executionInfo": {
     "elapsed": 8,
     "status": "ok",
     "timestamp": 1733750534210,
     "user": {
      "displayName": "Katarzyna Szczepaniak",
      "userId": "17983833234865046820"
     },
     "user_tz": -60
    },
    "id": "ng_4Q4k1XJvc"
   },
   "outputs": [],
   "source": [
    "def tokenize_conversation(conversations, max_length = 128):\n",
    "    input_ids = []\n",
    "    attention_masks = []\n",
    "\n",
    "    for conversation in conversations:\n",
    "        dialogue = \" [SEP] \".join(conversation)\n",
    "        encoded = tokenizer(\n",
    "            dialogue,\n",
    "            truncation = True,\n",
    "            padding = 'max_length',\n",
    "            max_length = max_length,\n",
    "            return_tensors = \"pt\"\n",
    "        )\n",
    "        input_ids.append(encoded[\"input_ids\"].squeeze(0))\n",
    "        attention_masks.append(encoded[\"attention_mask\"].squeeze(0))\n",
    "\n",
    "    return input_ids, attention_masks"
   ]
  },
  {
   "cell_type": "code",
   "execution_count": null,
   "metadata": {
    "executionInfo": {
     "elapsed": 7,
     "status": "ok",
     "timestamp": 1733750534210,
     "user": {
      "displayName": "Katarzyna Szczepaniak",
      "userId": "17983833234865046820"
     },
     "user_tz": -60
    },
    "id": "kUdbsdw_XMrD"
   },
   "outputs": [],
   "source": [
    "def pad_labels(labels, max_length = 128):\n",
    "    padded_labels = []\n",
    "    for label_set in labels:\n",
    "        label_tensor = torch.tensor(label_set, dtype = torch.float)\n",
    "        # Pad with -1 to ignore padding tokens in the loss function\n",
    "        padded_tensor = torch.cat(\n",
    "            [label_tensor, torch.full((max_length - len(label_set),), -1)]\n",
    "        )\n",
    "        padded_labels.append(padded_tensor)\n",
    "    return padded_labels"
   ]
  },
  {
   "cell_type": "code",
   "execution_count": null,
   "metadata": {
    "executionInfo": {
     "elapsed": 7,
     "status": "ok",
     "timestamp": 1733750534210,
     "user": {
      "displayName": "Katarzyna Szczepaniak",
      "userId": "17983833234865046820"
     },
     "user_tz": -60
    },
    "id": "8pcFsfoZXNBD"
   },
   "outputs": [],
   "source": [
    "class ConversationDataset(Dataset):\n",
    "    def __init__(self, input_ids, attention_masks, emotion_labels, trigger_labels):\n",
    "        self.input_ids = input_ids\n",
    "        self.attention_masks = attention_masks\n",
    "        self.emotion_labels = emotion_labels\n",
    "        self.trigger_labels = trigger_labels\n",
    "\n",
    "    def __len__(self):\n",
    "        return len(self.input_ids)\n",
    "\n",
    "    def __getitem__(self, idx):\n",
    "        return {\n",
    "            \"input_ids\": self.input_ids[idx],\n",
    "            \"attention_mask\": self.attention_masks[idx],\n",
    "            \"emotion_labels\": self.emotion_labels[idx],\n",
    "            \"trigger_labels\": self.trigger_labels[idx],\n",
    "        }"
   ]
  },
  {
   "cell_type": "code",
   "execution_count": null,
   "metadata": {
    "executionInfo": {
     "elapsed": 6,
     "status": "ok",
     "timestamp": 1733750534210,
     "user": {
      "displayName": "Katarzyna Szczepaniak",
      "userId": "17983833234865046820"
     },
     "user_tz": -60
    },
    "id": "2XCr0QOc0ui4"
   },
   "outputs": [],
   "source": [
    "def create_dataloader(conversations, emotions, triggers, max_length = 128):\n",
    "    input_ids, attention_masks = tokenize_conversation(conversations, max_length = max_length)\n",
    "    emotion_labels = pad_labels(emotions, max_length = max_length)\n",
    "    trigger_labels = pad_labels(triggers, max_length = max_length)\n",
    "\n",
    "    dataset = ConversationDataset(input_ids, attention_masks, emotion_labels, trigger_labels)\n",
    "    loader = DataLoader(dataset, batch_size = BATCH_SIZE, shuffle = False)\n",
    "\n",
    "    return loader"
   ]
  },
  {
   "cell_type": "code",
   "execution_count": null,
   "metadata": {
    "executionInfo": {
     "elapsed": 38337,
     "status": "ok",
     "timestamp": 1733750572542,
     "user": {
      "displayName": "Katarzyna Szczepaniak",
      "userId": "17983833234865046820"
     },
     "user_tz": -60
    },
    "id": "8a3-AwoX0ui4"
   },
   "outputs": [],
   "source": [
    "train_loader = create_dataloader(X_train, y1_train, y2_train, max_length = MAX_LENGTH)\n",
    "val_loader = create_dataloader(X_val, y1_val, y2_val, max_length = MAX_LENGTH)\n",
    "test_loader = create_dataloader(X_test, y1_test, y2_test, max_length = MAX_LENGTH)"
   ]
  },
  {
   "cell_type": "markdown",
   "metadata": {
    "id": "X5MO3g0VztW_"
   },
   "source": [
    "# Model configuration"
   ]
  },
  {
   "cell_type": "code",
   "execution_count": null,
   "metadata": {
    "executionInfo": {
     "elapsed": 19,
     "status": "ok",
     "timestamp": 1733750572545,
     "user": {
      "displayName": "Katarzyna Szczepaniak",
      "userId": "17983833234865046820"
     },
     "user_tz": -60
    },
    "id": "kueFTpHSXViM"
   },
   "outputs": [],
   "source": [
    "GATE_TYPE = 'linear'  # @param ['linear', 'mlp']\n",
    "EXPERT_TYPE = 'linear' # @param ['linear', 'mlp', 'rnn']\n",
    "NUM_EXPERTS = 2 # @param {type: 'slider', min: 1, max: 8, step: 1}\n",
    "TOP_K = 2 # @param {type: 'slider', min: 1, max: 8, step: 1}"
   ]
  },
  {
   "cell_type": "code",
   "execution_count": null,
   "metadata": {
    "executionInfo": {
     "elapsed": 16,
     "status": "ok",
     "timestamp": 1733750572545,
     "user": {
      "displayName": "Katarzyna Szczepaniak",
      "userId": "17983833234865046820"
     },
     "user_tz": -60
    },
    "id": "12upnrxiXXbM"
   },
   "outputs": [],
   "source": [
    "assert TOP_K <= NUM_EXPERTS, \"Select different values for TOP_K and NUM_EXPERTS!\""
   ]
  },
  {
   "cell_type": "code",
   "execution_count": null,
   "metadata": {
    "executionInfo": {
     "elapsed": 14,
     "status": "ok",
     "timestamp": 1733750572545,
     "user": {
      "displayName": "Katarzyna Szczepaniak",
      "userId": "17983833234865046820"
     },
     "user_tz": -60
    },
    "id": "umr0EC9_XuzD"
   },
   "outputs": [],
   "source": [
    "class MoEForEmotionAndTriggerClassification(nn.Module):\n",
    "    def __init__(self, num_experts, k, num_classes, gate_type = 'linear', expert_type = 'linear', model_name = 'bert-base-uncased'):\n",
    "        super(MoEForEmotionAndTriggerClassification, self).__init__()\n",
    "\n",
    "        self.model = BertModel.from_pretrained(model_name)\n",
    "        for param in self.model.parameters():\n",
    "            param.requires_grad = True  # Set to True if you want to fine-tune model\n",
    "        hidden_size = self.model.config.hidden_size\n",
    "\n",
    "        gate_setup = {\n",
    "            'linear': nn.Linear(hidden_size, num_experts),\n",
    "            'mlp': nn.Sequential(nn.Linear(hidden_size, 512), nn.ReLU(), nn.Linear(512, num_experts)),\n",
    "        }\n",
    "\n",
    "        expert_setup = {\n",
    "            'linear': nn.Linear(hidden_size, hidden_size),\n",
    "            'mlp': nn.Sequential(nn.Linear(hidden_size, 512), nn.ReLU(), nn.Linear(512, hidden_size)),\n",
    "            'rnn': nn.LSTM(hidden_size, hidden_size),\n",
    "        }\n",
    "\n",
    "        self.gating_network = gate_setup[gate_type]\n",
    "        self.experts = nn.ModuleList([expert_setup[expert_type] for _ in range(num_experts)])\n",
    "\n",
    "        self.emotion_classifier = nn.Linear(hidden_size, num_classes)\n",
    "        self.trigger_classifier = nn.Linear(hidden_size, 1)\n",
    "\n",
    "        self.k = k\n",
    "        self.dropout = nn.Dropout(p = 0.1)\n",
    "\n",
    "    def forward(self, input_ids, attention_mask):\n",
    "        model_outputs = self.model(input_ids = input_ids, attention_mask = attention_mask)\n",
    "        embeddings = model_outputs.last_hidden_state  # (batch_size, seq_len, hidden_size)\n",
    "        pooled_embeddings = embeddings.mean(dim = 1)    # (batch_size, hidden_size)\n",
    "        pooled_embeddings = self.dropout(pooled_embeddings)\n",
    "\n",
    "        # expert weights\n",
    "        expert_weights = self.gating_network(pooled_embeddings) # (batch_size, num_experts)\n",
    "        expert_weights = torch.softmax(expert_weights, dim = -1)\n",
    "\n",
    "        # aggregate expert outputs\n",
    "        combined_output = self._compute_expert_output(embeddings, expert_weights)\n",
    "        combined_output = self.dropout(combined_output)\n",
    "\n",
    "        emotion_logits = self.emotion_classifier(combined_output)   # (batch_size, seq_len, num_classes)\n",
    "        trigger_logits = self.trigger_classifier(combined_output).squeeze(-1)   # (batch_size, seq_len)\n",
    "\n",
    "        return emotion_logits, trigger_logits\n",
    "\n",
    "    def _compute_expert_output(self, embeddings, expert_weights):\n",
    "        combined_output = torch.zeros_like(embeddings)\n",
    "\n",
    "        # top-k experts only are activated\n",
    "        topk_weights, topk_indices = torch.topk(expert_weights, self.k, dim = -1)\n",
    "\n",
    "        for i in range(self.k):\n",
    "            expert_idx = topk_indices[:, i]\n",
    "            weight = topk_weights[:, i].unsqueeze(-1).unsqueeze(-1)\n",
    "\n",
    "            expert_outputs = []\n",
    "            for j in range(expert_idx.size(0)):\n",
    "                expert = self.experts[expert_idx[j]]\n",
    "\n",
    "                if isinstance(expert, nn.LSTM):\n",
    "                    embedding_input = embeddings[j].unsqueeze(0)\n",
    "                    output, _ = expert(embedding_input)\n",
    "                    expert_outputs.append(output.squeeze(0))\n",
    "\n",
    "                elif isinstance(expert, nn.Linear) or isinstance(expert, nn.Sequential):\n",
    "                    output = expert(embeddings[j])\n",
    "                    expert_outputs.append(output)\n",
    "\n",
    "            expert_outputs = torch.stack(expert_outputs)\n",
    "            combined_output += weight * expert_outputs\n",
    "\n",
    "        return combined_output"
   ]
  },
  {
   "cell_type": "markdown",
   "metadata": {
    "id": "Fpyq3mUpz6D2"
   },
   "source": [
    "# Training parameters"
   ]
  },
  {
   "cell_type": "code",
   "execution_count": null,
   "metadata": {
    "executionInfo": {
     "elapsed": 13,
     "status": "ok",
     "timestamp": 1733750572546,
     "user": {
      "displayName": "Katarzyna Szczepaniak",
      "userId": "17983833234865046820"
     },
     "user_tz": -60
    },
    "id": "eO2uRZl2zxvO"
   },
   "outputs": [],
   "source": [
    "LEARNING_RATE = 0.00002  # @param {type: 'slider', min: 1E-5, max: 5E-5, step: 1E-5}\n",
    "NUM_EPOCHS = 5  # @param {type: 'slider', min: 3, max: 15, step: 1}"
   ]
  },
  {
   "cell_type": "code",
   "execution_count": null,
   "metadata": {
    "colab": {
     "base_uri": "https://localhost:8080/",
     "height": 49,
     "referenced_widgets": [
      "7e9784e78d2b4914a707d122e881eb00",
      "39d08262444b43d0973f90ec205c9e28",
      "fa63e8fdce8a4801a3ce652e619f5c7f",
      "e2622ba4f44f45ecb1a46a84910614f8",
      "9e7b2dc9289847d18da5e7e632ce225e",
      "07f2da573c014fc69ba3667932979f52",
      "67f5a275fd7d4780b6c97f626cc8aa2e",
      "9dca851a70bc4aa7ac58b574f927b160",
      "998e667e09434ab4814d9c3f2dca0f3a",
      "26c076137e5b416d8c701b12e41b8e18",
      "4570fd2a4fa840f3a3238e33e336e28a"
     ]
    },
    "executionInfo": {
     "elapsed": 9234,
     "status": "ok",
     "timestamp": 1733750581768,
     "user": {
      "displayName": "Katarzyna Szczepaniak",
      "userId": "17983833234865046820"
     },
     "user_tz": -60
    },
    "id": "oJPBM0OaYWBf",
    "outputId": "b5b5b2d5-a248-484c-f92a-3057f977c280"
   },
   "outputs": [],
   "source": [
    "from torch.optim import AdamW\n",
    "from torch.nn import CrossEntropyLoss, BCEWithLogitsLoss\n",
    "\n",
    "moe = MoEForEmotionAndTriggerClassification(num_experts = NUM_EXPERTS, k = TOP_K, num_classes = len(labels_to_ids), gate_type = GATE_TYPE, expert_type = EXPERT_TYPE, model_name = DESIGNATED_MODEL)\n",
    "optimizer = AdamW(moe.parameters(), lr = LEARNING_RATE)\n",
    "\n",
    "emotion_loss_fn = CrossEntropyLoss()\n",
    "trigger_loss_fn = BCEWithLogitsLoss()"
   ]
  },
  {
   "cell_type": "code",
   "execution_count": null,
   "metadata": {
    "colab": {
     "base_uri": "https://localhost:8080/"
    },
    "executionInfo": {
     "elapsed": 590,
     "status": "ok",
     "timestamp": 1733750582353,
     "user": {
      "displayName": "Katarzyna Szczepaniak",
      "userId": "17983833234865046820"
     },
     "user_tz": -60
    },
    "id": "EiLsS9Y9YWjk",
    "outputId": "2018ce21-8a7f-43c7-ed8e-31268479bbd8"
   },
   "outputs": [],
   "source": [
    "moe.to(device)"
   ]
  },
  {
   "cell_type": "code",
   "execution_count": null,
   "metadata": {
    "executionInfo": {
     "elapsed": 9,
     "status": "ok",
     "timestamp": 1733750582353,
     "user": {
      "displayName": "Katarzyna Szczepaniak",
      "userId": "17983833234865046820"
     },
     "user_tz": -60
    },
    "id": "44x3zphNQWrq"
   },
   "outputs": [],
   "source": [
    "def remove_padding(logits, labels, task):\n",
    "    mask = labels != -1\n",
    "\n",
    "    logits_flat = logits.view(-1, logits.size(-1)) if task == 'emotion' else logits.view(-1)\n",
    "    labels_flat = labels.view(-1)\n",
    "\n",
    "    logits = logits_flat[mask.view(-1)]\n",
    "    labels = labels_flat[mask.view(-1)]\n",
    "\n",
    "    return logits, labels"
   ]
  },
  {
   "cell_type": "code",
   "execution_count": null,
   "metadata": {
    "executionInfo": {
     "elapsed": 9,
     "status": "ok",
     "timestamp": 1733750582354,
     "user": {
      "displayName": "Katarzyna Szczepaniak",
      "userId": "17983833234865046820"
     },
     "user_tz": -60
    },
    "id": "7QS5wNkiYZt7"
   },
   "outputs": [],
   "source": [
    "def evaluate(model, val_loader):\n",
    "    model.eval()\n",
    "    val_loss, nb_steps = 0.0, 0\n",
    "    total_emotion_preds, correct_emotion_preds = 0, 0\n",
    "    total_trigger_preds, correct_trigger_preds = 0, 0\n",
    "    val_logs = []\n",
    "\n",
    "    with torch.no_grad():\n",
    "        for idx, batch in enumerate(val_loader):\n",
    "            input_ids = batch['input_ids'].to(device)\n",
    "            attention_mask = batch['attention_mask'].to(device)\n",
    "            emotion_labels = batch['emotion_labels'].to(device)\n",
    "            trigger_labels = batch['trigger_labels'].to(device)\n",
    "\n",
    "            emotion_logits, trigger_logits = model(input_ids, attention_mask)\n",
    "\n",
    "            # removing padding\n",
    "            emotion_logits, emotion_labels = remove_padding(emotion_logits, emotion_labels, 'emotion')\n",
    "            trigger_logits, trigger_labels = remove_padding(trigger_logits, trigger_labels, 'trigger')\n",
    "\n",
    "            # calculating loss\n",
    "            emotion_loss = emotion_loss_fn(emotion_logits, emotion_labels.long())\n",
    "            trigger_loss = trigger_loss_fn(trigger_logits, trigger_labels)\n",
    "\n",
    "            loss = emotion_loss + trigger_loss\n",
    "            val_loss += loss.item()\n",
    "\n",
    "            # calculating accuracy\n",
    "            emotion_preds = torch.argmax(emotion_logits, dim=-1)\n",
    "            trigger_preds = (torch.sigmoid(trigger_logits).squeeze(-1) > 0.5).long()\n",
    "\n",
    "            correct_emotion_preds += torch.sum(emotion_preds == emotion_labels).item()\n",
    "            correct_trigger_preds += torch.sum(trigger_preds == trigger_labels).item()\n",
    "\n",
    "            total_emotion_preds += emotion_labels.numel()\n",
    "            total_trigger_preds += trigger_labels.numel()\n",
    "\n",
    "            nb_steps += 1\n",
    "\n",
    "            if idx % 100 == 0:\n",
    "                loss_step = val_loss / nb_steps\n",
    "                print(f'      Validation loss per 100 training steps: {loss_step}')\n",
    "                val_logs.append(f'      Validation loss per 100 training steps: {loss_step}\\n')\n",
    "\n",
    "        avg_val_loss = val_loss / len(val_loader)\n",
    "        emotion_accuracy = correct_emotion_preds / total_emotion_preds\n",
    "        trigger_accuracy = correct_trigger_preds / total_trigger_preds\n",
    "        avg_val_accuracy = (emotion_accuracy + trigger_accuracy)/2\n",
    "\n",
    "    return avg_val_loss, avg_val_accuracy, val_logs"
   ]
  },
  {
   "cell_type": "code",
   "execution_count": null,
   "metadata": {
    "executionInfo": {
     "elapsed": 9,
     "status": "ok",
     "timestamp": 1733750582354,
     "user": {
      "displayName": "Katarzyna Szczepaniak",
      "userId": "17983833234865046820"
     },
     "user_tz": -60
    },
    "id": "6Cq8fwysYaY_"
   },
   "outputs": [],
   "source": [
    "def train_and_validate(model, train_loader, val_loader, num_epochs = 3):\n",
    "    train_logs = []\n",
    "\n",
    "    for epoch in range(num_epochs):\n",
    "        print(f\"Epoch [{epoch + 1}/{num_epochs}]\")\n",
    "        train_logs.append(f\"Epoch [{epoch + 1}/{num_epochs}]\\n\")\n",
    "        model.train()\n",
    "        train_loss, nb_steps = 0.0, 0\n",
    "        total_emotion_preds, correct_emotion_preds = 0, 0\n",
    "        total_trigger_preds, correct_trigger_preds = 0, 0\n",
    "\n",
    "        for idx, batch in enumerate(train_loader):\n",
    "            optimizer.zero_grad()\n",
    "\n",
    "            input_ids = batch['input_ids'].to(device)\n",
    "            attention_mask = batch['attention_mask'].to(device)\n",
    "            emotion_labels = batch['emotion_labels'].to(device)\n",
    "            trigger_labels = batch['trigger_labels'].to(device)\n",
    "\n",
    "            emotion_logits, trigger_logits = model(input_ids, attention_mask)\n",
    "\n",
    "            # removing padding\n",
    "            emotion_logits, emotion_labels = remove_padding(emotion_logits, emotion_labels, 'emotion')\n",
    "            trigger_logits, trigger_labels = remove_padding(trigger_logits, trigger_labels, 'trigger')\n",
    "\n",
    "            # calculating loss\n",
    "            emotion_loss = emotion_loss_fn(emotion_logits, emotion_labels.long())\n",
    "            trigger_loss = trigger_loss_fn(trigger_logits, trigger_labels)\n",
    "\n",
    "            loss = emotion_loss + trigger_loss\n",
    "            train_loss += loss.item()\n",
    "\n",
    "            loss.backward()\n",
    "            optimizer.step()\n",
    "\n",
    "            # calculating accuracy\n",
    "            emotion_preds = torch.argmax(emotion_logits, dim=-1)\n",
    "            trigger_preds = (torch.sigmoid(trigger_logits).squeeze(-1) > 0.5).long()\n",
    "\n",
    "            correct_emotion_preds += torch.sum(emotion_preds == emotion_labels).item()\n",
    "            correct_trigger_preds += torch.sum(trigger_preds == trigger_labels).item()\n",
    "\n",
    "            total_emotion_preds += emotion_labels.numel()\n",
    "            total_trigger_preds += trigger_labels.numel()\n",
    "            nb_steps += 1\n",
    "\n",
    "            if idx % 100 == 0:\n",
    "                loss_step = train_loss / nb_steps\n",
    "                print(f'      Training loss per 100 training steps: {loss_step}')\n",
    "                train_logs.append(f'      Training loss per 100 training steps: {loss_step}\\n')\n",
    "\n",
    "        avg_train_loss = train_loss / len(train_loader)\n",
    "        emotion_accuracy = correct_emotion_preds / total_emotion_preds\n",
    "        trigger_accuracy = correct_trigger_preds / total_trigger_preds\n",
    "        avg_train_accuracy = (emotion_accuracy + trigger_accuracy)/2\n",
    "\n",
    "        val_loss, val_accuracy, val_logs = evaluate(model, val_loader)\n",
    "        train_logs.extend(val_logs)\n",
    "\n",
    "        print(f\"   Training Loss: {avg_train_loss:.3f}, Training Accuracy: {avg_train_accuracy:.3f}\")\n",
    "        train_logs.append(f\"   Training Loss: {avg_train_loss:.3f}, Training Accuracy: {avg_train_accuracy:.3f}\\n\")\n",
    "\n",
    "        print(f\"   Validation Loss: {val_loss:.3f}, Validation Accuracy: {val_accuracy:.3f}\\n\")\n",
    "        train_logs.append(f\"   Validation Loss: {val_loss:.3f}, Validation Accuracy: {val_accuracy:.3f}\\n\\n\")\n",
    "\n",
    "    return train_logs"
   ]
  },
  {
   "cell_type": "code",
   "execution_count": null,
   "metadata": {
    "colab": {
     "base_uri": "https://localhost:8080/"
    },
    "executionInfo": {
     "elapsed": 419055,
     "status": "ok",
     "timestamp": 1733751001401,
     "user": {
      "displayName": "Katarzyna Szczepaniak",
      "userId": "17983833234865046820"
     },
     "user_tz": -60
    },
    "id": "N_U28Fs-YcFL",
    "outputId": "ffd216b8-3d66-4e8f-8f92-83884522c878"
   },
   "outputs": [],
   "source": [
    "logs = train_and_validate(moe, train_loader, val_loader, num_epochs = NUM_EPOCHS)"
   ]
  },
  {
   "cell_type": "code",
   "execution_count": null,
   "metadata": {
    "executionInfo": {
     "elapsed": 12,
     "status": "ok",
     "timestamp": 1733751001402,
     "user": {
      "displayName": "Katarzyna Szczepaniak",
      "userId": "17983833234865046820"
     },
     "user_tz": -60
    },
    "id": "2To3TjUdUEsR"
   },
   "outputs": [],
   "source": [
    "from sklearn.metrics import precision_score, recall_score, f1_score, accuracy_score, confusion_matrix\n",
    "from collections import defaultdict\n",
    "\n",
    "def get_metrics(model, data_loader, dev):\n",
    "    model.eval()\n",
    "\n",
    "    emotion_accuracy = 0.0\n",
    "    emotion_precision = 0.0\n",
    "    emotion_recall = 0.0\n",
    "    emotion_f1 = 0.0\n",
    "    emotion_cm = None\n",
    "\n",
    "    unique_emotions_f1 = dict.fromkeys(labels_to_ids.keys(), 0.0)\n",
    "\n",
    "    trigger_accuracy = 0.0\n",
    "    trigger_precision = 0.0\n",
    "    trigger_recall = 0.0\n",
    "    trigger_f1 = 0.0\n",
    "    trigger_cm = None\n",
    "\n",
    "    nb_steps = 0\n",
    "\n",
    "    for batch in data_loader:\n",
    "        input_ids = batch['input_ids'].to(dev)\n",
    "        attention_mask = batch['attention_mask'].to(dev)\n",
    "        emotion_labels = batch['emotion_labels'].to(dev)\n",
    "        trigger_labels = batch['trigger_labels'].to(dev)\n",
    "\n",
    "        with torch.no_grad():\n",
    "            # Forward pass\n",
    "            emotion_logits, trigger_logits = model(input_ids, attention_mask)\n",
    "\n",
    "            # Compute predictions for emotions\n",
    "            emotion_logits, emotion_labels = remove_padding(emotion_logits, emotion_labels, 'emotion')\n",
    "\n",
    "            emotion_preds = torch.argmax(emotion_logits, dim = -1)\n",
    "\n",
    "            emotion_preds_flat = emotion_preds.cpu().numpy()\n",
    "            emotion_labels_flat = emotion_labels.cpu().numpy()\n",
    "\n",
    "            # Compute predictions for triggers\n",
    "            trigger_logits, trigger_labels = remove_padding(trigger_logits, trigger_labels, 'trigger')\n",
    "\n",
    "            trigger_preds = (torch.sigmoid(trigger_logits).squeeze(-1) > 0.5).long()\n",
    "\n",
    "            trigger_preds_flat = trigger_preds.cpu().numpy()\n",
    "            trigger_labels_flat = trigger_labels.cpu().numpy()\n",
    "\n",
    "            # Calculate metrics for emotion classification\n",
    "            emotion_accuracy += accuracy_score(emotion_labels_flat, emotion_preds_flat)\n",
    "            emotion_precision += precision_score(emotion_labels_flat, emotion_preds_flat, average='weighted', zero_division = 0)\n",
    "            emotion_recall += recall_score(emotion_labels_flat, emotion_preds_flat, average='weighted', zero_division = 0)\n",
    "            emotion_f1 += f1_score(emotion_labels_flat, emotion_preds_flat, average='weighted', zero_division = 0)\n",
    "\n",
    "            for idx, score in enumerate(f1_score(emotion_labels_flat, emotion_preds_flat, average = None, zero_division = 0)):\n",
    "                unique_emotions_f1[ids_to_labels[idx]] += score\n",
    "\n",
    "            if emotion_cm is None:\n",
    "                emotion_cm = confusion_matrix(emotion_labels_flat, emotion_preds_flat, labels = range(len(labels_to_ids)))\n",
    "            else:\n",
    "                emotion_cm += confusion_matrix(emotion_labels_flat, emotion_preds_flat, labels = range(len(labels_to_ids)))\n",
    "\n",
    "            # Calculate metrics for trigger classification\n",
    "            trigger_accuracy += accuracy_score(trigger_labels_flat, trigger_preds_flat)\n",
    "            trigger_precision += precision_score(trigger_labels_flat, trigger_preds_flat, average='weighted', zero_division = 0)\n",
    "            trigger_recall += recall_score(trigger_labels_flat, trigger_preds_flat, average='weighted', zero_division = 0)\n",
    "            trigger_f1 += f1_score(trigger_labels_flat, trigger_preds_flat, average='weighted', zero_division = 0)\n",
    "\n",
    "            if trigger_cm is None:\n",
    "                trigger_cm = confusion_matrix(trigger_labels_flat, trigger_preds_flat, labels = [0, 1])\n",
    "            else:\n",
    "                trigger_cm += confusion_matrix(trigger_labels_flat, trigger_preds_flat, labels = [0, 1])\n",
    "\n",
    "            nb_steps += 1\n",
    "\n",
    "    metrics = defaultdict(lambda: {})\n",
    "\n",
    "    # Calculate average metrics\n",
    "    avg_emotion_accuracy = emotion_accuracy / nb_steps\n",
    "    avg_emotion_precision = emotion_precision / nb_steps\n",
    "    avg_emotion_recall = emotion_recall / nb_steps\n",
    "    avg_emotion_f1 = emotion_f1 / nb_steps\n",
    "\n",
    "    for key, value in unique_emotions_f1.items():\n",
    "        unique_emotions_f1[key] = value / nb_steps\n",
    "\n",
    "    metrics['emotion_classification'] = {'accuracy': avg_emotion_accuracy,\n",
    "                                         'precision': avg_emotion_precision,\n",
    "                                         'recall': avg_emotion_recall,\n",
    "                                         'f1': {'avg': avg_emotion_f1}}\n",
    "    metrics['emotion_classification']['f1'].update(unique_emotions_f1)\n",
    "\n",
    "    avg_trigger_accuracy = trigger_accuracy / nb_steps\n",
    "    avg_trigger_precision = trigger_precision / nb_steps\n",
    "    avg_trigger_recall = trigger_recall / nb_steps\n",
    "    avg_trigger_f1 = trigger_f1 / nb_steps\n",
    "\n",
    "    metrics['trigger_classification'] = {'accuracy': avg_trigger_accuracy,\n",
    "                                         'precision': avg_trigger_precision,\n",
    "                                         'recall': avg_trigger_recall,\n",
    "                                         'f1': avg_trigger_f1}\n",
    "\n",
    "    return metrics, emotion_cm, trigger_cm"
   ]
  },
  {
   "cell_type": "code",
   "execution_count": null,
   "metadata": {
    "executionInfo": {
     "elapsed": 11,
     "status": "ok",
     "timestamp": 1733751001402,
     "user": {
      "displayName": "Katarzyna Szczepaniak",
      "userId": "17983833234865046820"
     },
     "user_tz": -60
    },
    "id": "m2819G500ui7"
   },
   "outputs": [],
   "source": [
    "import seaborn as sns\n",
    "import matplotlib.pyplot as plt\n",
    "\n",
    "def plot_confusion_matrix(cm, labels, title = \"Confusion Matrix\"):\n",
    "    plt.figure(figsize = (10, 8))\n",
    "    sns.heatmap(cm, annot = True, fmt = 'd', cmap = \"Blues\", xticklabels = labels, yticklabels = labels)\n",
    "    plt.xlabel('Predicted Labels', fontsize = 14)\n",
    "    plt.ylabel('True Labels', fontsize = 14)\n",
    "    plt.title(title, fontsize = 16)\n",
    "    plt.xticks(rotation = 90)\n",
    "    plt.yticks(rotation = 0)\n",
    "    plt.tight_layout()\n",
    "    plt.show()"
   ]
  },
  {
   "cell_type": "code",
   "execution_count": null,
   "metadata": {
    "colab": {
     "base_uri": "https://localhost:8080/"
    },
    "executionInfo": {
     "elapsed": 5330,
     "status": "ok",
     "timestamp": 1733751006723,
     "user": {
      "displayName": "Katarzyna Szczepaniak",
      "userId": "17983833234865046820"
     },
     "user_tz": -60
    },
    "id": "8UNspSJxUgLJ",
    "outputId": "48e4c14e-4de4-45d2-9bb3-9c0ce0a74730"
   },
   "outputs": [],
   "source": [
    "metrics, emotion_cm, trigger_cm = get_metrics(moe, test_loader, device)\n",
    "\n",
    "# Output results\n",
    "for task, results in metrics.items():\n",
    "    print(f'Task: {task}')\n",
    "    for metric, score in results.items():\n",
    "        if metric != 'f1' or (metric == 'f1' and isinstance(score, np.float64)):\n",
    "            print(f'      {metric}: {score:.3f}')\n",
    "        else:\n",
    "            print(f'      f1: ')\n",
    "            for x, y in score.items():\n",
    "                print(f'          {x}: {y:.3f}')"
   ]
  },
  {
   "cell_type": "code",
   "execution_count": null,
   "metadata": {
    "colab": {
     "base_uri": "https://localhost:8080/",
     "height": 807
    },
    "executionInfo": {
     "elapsed": 1085,
     "status": "ok",
     "timestamp": 1733751007803,
     "user": {
      "displayName": "Katarzyna Szczepaniak",
      "userId": "17983833234865046820"
     },
     "user_tz": -60
    },
    "id": "vu-QJEmJ0ui7",
    "outputId": "08edc269-2c33-4f5f-c1c2-5361e386a0c9"
   },
   "outputs": [],
   "source": [
    "plot_confusion_matrix(emotion_cm, [i for i in labels_to_ids.keys()], \"Emotion Classification\")"
   ]
  },
  {
   "cell_type": "code",
   "execution_count": null,
   "metadata": {
    "colab": {
     "base_uri": "https://localhost:8080/",
     "height": 801
    },
    "executionInfo": {
     "elapsed": 890,
     "status": "ok",
     "timestamp": 1733751008686,
     "user": {
      "displayName": "Katarzyna Szczepaniak",
      "userId": "17983833234865046820"
     },
     "user_tz": -60
    },
    "id": "85ShzciV0ui7",
    "outputId": "5ab93af4-ac22-4d55-9593-87b61a9c9370"
   },
   "outputs": [],
   "source": [
    "plot_confusion_matrix(trigger_cm, ['No trigger', 'Trigger'], \"Trigger Classification\")"
   ]
  },
  {
   "cell_type": "markdown",
   "metadata": {
    "id": "qiwgK0H60ui8"
   },
   "source": [
    "# Save experiment"
   ]
  },
  {
   "cell_type": "code",
   "execution_count": null,
   "metadata": {
    "executionInfo": {
     "elapsed": 15,
     "status": "ok",
     "timestamp": 1733751008687,
     "user": {
      "displayName": "Katarzyna Szczepaniak",
      "userId": "17983833234865046820"
     },
     "user_tz": -60
    },
    "id": "s7hH0xNVYdqL"
   },
   "outputs": [],
   "source": [
    "# torch.save(moe.state_dict(), f'trained_models/{DATASET}/moe_model_{GATE_TYPE}_single_gate_{NUM_EXPERTS}_{EXPERT_TYPE}_experts_{TOP_K}_active_{LEARNING_RATE}_lr_{NUM_EPOCHS}_epochs.pth')"
   ]
  },
  {
   "cell_type": "code",
   "execution_count": null,
   "metadata": {
    "executionInfo": {
     "elapsed": 16,
     "status": "ok",
     "timestamp": 1733751008687,
     "user": {
      "displayName": "Katarzyna Szczepaniak",
      "userId": "17983833234865046820"
     },
     "user_tz": -60
    },
    "id": "wwX2HcS0vQQr"
   },
   "outputs": [],
   "source": [
    "def write_confusion_matrix(title, cm, labels):\n",
    "    cm2txt = []\n",
    "    col_width = max(len(max(labels, key=len)), 10)\n",
    "    cm2txt.append('\\n' + title + '\\n')\n",
    "\n",
    "    header = f\"{'':<{col_width}}\"\n",
    "    header += \"\".join([f\"{label:<{col_width}}\" for label in labels])\n",
    "\n",
    "    cm2txt.append(header + '\\n')\n",
    "\n",
    "    rows = []\n",
    "    for i, label in enumerate(labels):\n",
    "        row = f\"{label:<{col_width}}\"\n",
    "        row += \"\".join([f\"{value:<{col_width}}\" for value in cm[i]])\n",
    "        rows.append(row)\n",
    "\n",
    "    cm2txt.append(\"\\n\".join(rows))\n",
    "\n",
    "    return cm2txt"
   ]
  },
  {
   "cell_type": "code",
   "execution_count": null,
   "metadata": {
    "executionInfo": {
     "elapsed": 15,
     "status": "ok",
     "timestamp": 1733751008688,
     "user": {
      "displayName": "Katarzyna Szczepaniak",
      "userId": "17983833234865046820"
     },
     "user_tz": -60
    },
    "id": "cR5h2JI40ui8"
   },
   "outputs": [],
   "source": [
    "file_path = f'results/{DATASET}/moe_model_{GATE_TYPE}_single_gate_{NUM_EXPERTS}_{EXPERT_TYPE}_experts_{TOP_K}_active_{LEARNING_RATE}_lr_{NUM_EPOCHS}_epochs.txt'\n",
    "\n",
    "with open(file_path, 'w') as f:\n",
    "    experiment_setup = [f'MAX_LENGTH = {MAX_LENGTH}\\n',\n",
    "                        f'BATCH_SIZE = {BATCH_SIZE}\\n', '\\n',\n",
    "                        f'GATE_TYPE = {GATE_TYPE}\\n',\n",
    "                        f'EXPERT_TYPE = {EXPERT_TYPE}\\n',\n",
    "                        f'NUM_EXPERTS = {NUM_EXPERTS}\\n',\n",
    "                        f'TOP_K = {TOP_K}\\n',\n",
    "                        f'LEARNING_RATE = {LEARNING_RATE}\\n',\n",
    "                        f'NUM_EPOCHS = {NUM_EPOCHS}\\n', '\\n', '\\n']\n",
    "\n",
    "    experiment_results = []\n",
    "    for task, results in metrics.items():\n",
    "        experiment_results.append(f'\\nTask: {task}\\n')\n",
    "        for metric, score in results.items():\n",
    "            if metric != 'f1' or (metric == 'f1' and isinstance(score, np.float64)):\n",
    "                experiment_results.append(f'      {metric}: {score:.3f}\\n')\n",
    "            else:\n",
    "                experiment_results.append(f'      f1:\\n')\n",
    "                for x, y in score.items():\n",
    "                    experiment_results.append(f'          {x}: {y:.3f}\\n')\n",
    "\n",
    "    f.writelines(experiment_setup)\n",
    "    f.writelines(logs)\n",
    "    f.writelines(experiment_results)\n",
    "    f.write(\"\\n\")\n",
    "    writeable_emotion_cm = write_confusion_matrix('Emotion confusion matrix', emotion_cm, [i for i in labels_to_ids.keys()])\n",
    "    f.writelines(writeable_emotion_cm)\n",
    "    f.write(\"\\n\")\n",
    "    writeable_trigger_cm = write_confusion_matrix('Trigger confusion matrix', trigger_cm, ['No trigger', 'Trigger'])\n",
    "    f.writelines(writeable_trigger_cm)"
   ]
  },
  {
   "cell_type": "markdown",
   "metadata": {
    "id": "goQBmT0AUx-x"
   },
   "source": [
    "# Load and test trained model"
   ]
  },
  {
   "cell_type": "code",
   "execution_count": null,
   "metadata": {
    "executionInfo": {
     "elapsed": 15,
     "status": "ok",
     "timestamp": 1733751008688,
     "user": {
      "displayName": "Katarzyna Szczepaniak",
      "userId": "17983833234865046820"
     },
     "user_tz": -60
    },
    "id": "Y8SZCnMSYfQU"
   },
   "outputs": [],
   "source": [
    "# moe_loaded = MoEForEmotionAndTriggerClassification(num_experts = NUM_EXPERTS, k = TOP_K, num_classes = len(labels_to_ids), gate_type = GATE_TYPE, expert_type = EXPERT_TYPE)\n",
    "# moe_loaded.load_state_dict(torch.load(f'trained_models/{DATASET}/moe_model_{GATE_TYPE}_single_gate_{NUM_EXPERTS}_{EXPERT_TYPE}_experts_{TOP_K}_active_{LEARNING_RATE}_lr_{NUM_EPOCHS}_epochs.pth', map_location=torch.device('cpu')))"
   ]
  },
  {
   "cell_type": "code",
   "execution_count": null,
   "metadata": {
    "executionInfo": {
     "elapsed": 15,
     "status": "ok",
     "timestamp": 1733751008688,
     "user": {
      "displayName": "Katarzyna Szczepaniak",
      "userId": "17983833234865046820"
     },
     "user_tz": -60
    },
    "id": "lrsLrQjgUxeB"
   },
   "outputs": [],
   "source": [
    "# metrics, emotion_cm, trigger_cm = get_metrics(moe_loaded, test_loader, 'cpu')\n",
    "\n",
    "# # Output results\n",
    "# for task, results in metrics.items():\n",
    "#     print(f'Task: {task}')\n",
    "#     for metric, score in results.items():\n",
    "#         if metric != 'f1' or (metric == 'f1' and isinstance(score, np.float64)):\n",
    "#             print(f'      {metric}: {score:.3f}')\n",
    "#         else:\n",
    "#             print(f'      f1: ')\n",
    "#             for x, y in score.items():\n",
    "#                 print(f'          {x}: {y:.3f}')"
   ]
  },
  {
   "cell_type": "code",
   "execution_count": null,
   "metadata": {
    "executionInfo": {
     "elapsed": 16,
     "status": "ok",
     "timestamp": 1733751008689,
     "user": {
      "displayName": "Katarzyna Szczepaniak",
      "userId": "17983833234865046820"
     },
     "user_tz": -60
    },
    "id": "O3_2OzBi0ui9"
   },
   "outputs": [],
   "source": [
    "# plot_confusion_matrix(emotion_cm, [i for i in labels_to_ids.keys()], \"Emotion Classification\")"
   ]
  },
  {
   "cell_type": "code",
   "execution_count": null,
   "metadata": {
    "executionInfo": {
     "elapsed": 15,
     "status": "ok",
     "timestamp": 1733751008689,
     "user": {
      "displayName": "Katarzyna Szczepaniak",
      "userId": "17983833234865046820"
     },
     "user_tz": -60
    },
    "id": "mQU_IDQ90ui9"
   },
   "outputs": [],
   "source": [
    "# plot_confusion_matrix(trigger_cm, ['No trigger', 'Trigger'], \"Trigger Classification\")"
   ]
  }
 ],
 "metadata": {
  "accelerator": "GPU",
  "colab": {
   "gpuType": "T4",
   "provenance": []
  },
  "kernelspec": {
   "display_name": "base",
   "language": "python",
   "name": "python3"
  },
  "language_info": {
   "codemirror_mode": {
    "name": "ipython",
    "version": 3
   },
   "file_extension": ".py",
   "mimetype": "text/x-python",
   "name": "python",
   "nbconvert_exporter": "python",
   "pygments_lexer": "ipython3",
   "version": "3.11.5"
  },
  "widgets": {
   "application/vnd.jupyter.widget-state+json": {
    "07f2da573c014fc69ba3667932979f52": {
     "model_module": "@jupyter-widgets/base",
     "model_module_version": "1.2.0",
     "model_name": "LayoutModel",
     "state": {
      "_model_module": "@jupyter-widgets/base",
      "_model_module_version": "1.2.0",
      "_model_name": "LayoutModel",
      "_view_count": null,
      "_view_module": "@jupyter-widgets/base",
      "_view_module_version": "1.2.0",
      "_view_name": "LayoutView",
      "align_content": null,
      "align_items": null,
      "align_self": null,
      "border": null,
      "bottom": null,
      "display": null,
      "flex": null,
      "flex_flow": null,
      "grid_area": null,
      "grid_auto_columns": null,
      "grid_auto_flow": null,
      "grid_auto_rows": null,
      "grid_column": null,
      "grid_gap": null,
      "grid_row": null,
      "grid_template_areas": null,
      "grid_template_columns": null,
      "grid_template_rows": null,
      "height": null,
      "justify_content": null,
      "justify_items": null,
      "left": null,
      "margin": null,
      "max_height": null,
      "max_width": null,
      "min_height": null,
      "min_width": null,
      "object_fit": null,
      "object_position": null,
      "order": null,
      "overflow": null,
      "overflow_x": null,
      "overflow_y": null,
      "padding": null,
      "right": null,
      "top": null,
      "visibility": null,
      "width": null
     }
    },
    "0900d7257b214e178195da14cd393620": {
     "model_module": "@jupyter-widgets/controls",
     "model_module_version": "1.5.0",
     "model_name": "FloatProgressModel",
     "state": {
      "_dom_classes": [],
      "_model_module": "@jupyter-widgets/controls",
      "_model_module_version": "1.5.0",
      "_model_name": "FloatProgressModel",
      "_view_count": null,
      "_view_module": "@jupyter-widgets/controls",
      "_view_module_version": "1.5.0",
      "_view_name": "ProgressView",
      "bar_style": "success",
      "description": "",
      "description_tooltip": null,
      "layout": "IPY_MODEL_8b54adf6df9442838cb29a669a810115",
      "max": 995526,
      "min": 0,
      "orientation": "horizontal",
      "style": "IPY_MODEL_24e53a41288e4ca6846525783c8a557a",
      "value": 995526
     }
    },
    "0af01b0cffe54a61a3c08daf48251ede": {
     "model_module": "@jupyter-widgets/controls",
     "model_module_version": "1.5.0",
     "model_name": "DescriptionStyleModel",
     "state": {
      "_model_module": "@jupyter-widgets/controls",
      "_model_module_version": "1.5.0",
      "_model_name": "DescriptionStyleModel",
      "_view_count": null,
      "_view_module": "@jupyter-widgets/base",
      "_view_module_version": "1.2.0",
      "_view_name": "StyleView",
      "description_width": ""
     }
    },
    "14e35024da3545c29c2a1ec9d042fc0f": {
     "model_module": "@jupyter-widgets/controls",
     "model_module_version": "1.5.0",
     "model_name": "DescriptionStyleModel",
     "state": {
      "_model_module": "@jupyter-widgets/controls",
      "_model_module_version": "1.5.0",
      "_model_name": "DescriptionStyleModel",
      "_view_count": null,
      "_view_module": "@jupyter-widgets/base",
      "_view_module_version": "1.2.0",
      "_view_name": "StyleView",
      "description_width": ""
     }
    },
    "1586a322140f453fa5b1eb8d8f86b181": {
     "model_module": "@jupyter-widgets/controls",
     "model_module_version": "1.5.0",
     "model_name": "HBoxModel",
     "state": {
      "_dom_classes": [],
      "_model_module": "@jupyter-widgets/controls",
      "_model_module_version": "1.5.0",
      "_model_name": "HBoxModel",
      "_view_count": null,
      "_view_module": "@jupyter-widgets/controls",
      "_view_module_version": "1.5.0",
      "_view_name": "HBoxView",
      "box_style": "",
      "children": [
       "IPY_MODEL_2f83f528fd644d5f87daf636de0701f9",
       "IPY_MODEL_f7d291c94fa840a1ad1c13febc40b018",
       "IPY_MODEL_efa93022a75143bca5c905f7e5002639"
      ],
      "layout": "IPY_MODEL_2f85f7f4f60b46d18efdd9c4cb187427"
     }
    },
    "1812eea260dc423ba19745abb0092ae9": {
     "model_module": "@jupyter-widgets/controls",
     "model_module_version": "1.5.0",
     "model_name": "HTMLModel",
     "state": {
      "_dom_classes": [],
      "_model_module": "@jupyter-widgets/controls",
      "_model_module_version": "1.5.0",
      "_model_name": "HTMLModel",
      "_view_count": null,
      "_view_module": "@jupyter-widgets/controls",
      "_view_module_version": "1.5.0",
      "_view_name": "HTMLView",
      "description": "",
      "description_tooltip": null,
      "layout": "IPY_MODEL_46458413ca9447798fa60de76540dab1",
      "placeholder": "​",
      "style": "IPY_MODEL_0af01b0cffe54a61a3c08daf48251ede",
      "value": "tokenizer_config.json: 100%"
     }
    },
    "1d31cc7cbe784d8bab6c55ad2944560f": {
     "model_module": "@jupyter-widgets/controls",
     "model_module_version": "1.5.0",
     "model_name": "DescriptionStyleModel",
     "state": {
      "_model_module": "@jupyter-widgets/controls",
      "_model_module_version": "1.5.0",
      "_model_name": "DescriptionStyleModel",
      "_view_count": null,
      "_view_module": "@jupyter-widgets/base",
      "_view_module_version": "1.2.0",
      "_view_name": "StyleView",
      "description_width": ""
     }
    },
    "24e53a41288e4ca6846525783c8a557a": {
     "model_module": "@jupyter-widgets/controls",
     "model_module_version": "1.5.0",
     "model_name": "ProgressStyleModel",
     "state": {
      "_model_module": "@jupyter-widgets/controls",
      "_model_module_version": "1.5.0",
      "_model_name": "ProgressStyleModel",
      "_view_count": null,
      "_view_module": "@jupyter-widgets/base",
      "_view_module_version": "1.2.0",
      "_view_name": "StyleView",
      "bar_color": null,
      "description_width": ""
     }
    },
    "26c076137e5b416d8c701b12e41b8e18": {
     "model_module": "@jupyter-widgets/base",
     "model_module_version": "1.2.0",
     "model_name": "LayoutModel",
     "state": {
      "_model_module": "@jupyter-widgets/base",
      "_model_module_version": "1.2.0",
      "_model_name": "LayoutModel",
      "_view_count": null,
      "_view_module": "@jupyter-widgets/base",
      "_view_module_version": "1.2.0",
      "_view_name": "LayoutView",
      "align_content": null,
      "align_items": null,
      "align_self": null,
      "border": null,
      "bottom": null,
      "display": null,
      "flex": null,
      "flex_flow": null,
      "grid_area": null,
      "grid_auto_columns": null,
      "grid_auto_flow": null,
      "grid_auto_rows": null,
      "grid_column": null,
      "grid_gap": null,
      "grid_row": null,
      "grid_template_areas": null,
      "grid_template_columns": null,
      "grid_template_rows": null,
      "height": null,
      "justify_content": null,
      "justify_items": null,
      "left": null,
      "margin": null,
      "max_height": null,
      "max_width": null,
      "min_height": null,
      "min_width": null,
      "object_fit": null,
      "object_position": null,
      "order": null,
      "overflow": null,
      "overflow_x": null,
      "overflow_y": null,
      "padding": null,
      "right": null,
      "top": null,
      "visibility": null,
      "width": null
     }
    },
    "2f83f528fd644d5f87daf636de0701f9": {
     "model_module": "@jupyter-widgets/controls",
     "model_module_version": "1.5.0",
     "model_name": "HTMLModel",
     "state": {
      "_dom_classes": [],
      "_model_module": "@jupyter-widgets/controls",
      "_model_module_version": "1.5.0",
      "_model_name": "HTMLModel",
      "_view_count": null,
      "_view_module": "@jupyter-widgets/controls",
      "_view_module_version": "1.5.0",
      "_view_name": "HTMLView",
      "description": "",
      "description_tooltip": null,
      "layout": "IPY_MODEL_9f0a5418fd4e48788682a2065bcd06a6",
      "placeholder": "​",
      "style": "IPY_MODEL_14e35024da3545c29c2a1ec9d042fc0f",
      "value": "tokenizer.json: 100%"
     }
    },
    "2f85f7f4f60b46d18efdd9c4cb187427": {
     "model_module": "@jupyter-widgets/base",
     "model_module_version": "1.2.0",
     "model_name": "LayoutModel",
     "state": {
      "_model_module": "@jupyter-widgets/base",
      "_model_module_version": "1.2.0",
      "_model_name": "LayoutModel",
      "_view_count": null,
      "_view_module": "@jupyter-widgets/base",
      "_view_module_version": "1.2.0",
      "_view_name": "LayoutView",
      "align_content": null,
      "align_items": null,
      "align_self": null,
      "border": null,
      "bottom": null,
      "display": null,
      "flex": null,
      "flex_flow": null,
      "grid_area": null,
      "grid_auto_columns": null,
      "grid_auto_flow": null,
      "grid_auto_rows": null,
      "grid_column": null,
      "grid_gap": null,
      "grid_row": null,
      "grid_template_areas": null,
      "grid_template_columns": null,
      "grid_template_rows": null,
      "height": null,
      "justify_content": null,
      "justify_items": null,
      "left": null,
      "margin": null,
      "max_height": null,
      "max_width": null,
      "min_height": null,
      "min_width": null,
      "object_fit": null,
      "object_position": null,
      "order": null,
      "overflow": null,
      "overflow_x": null,
      "overflow_y": null,
      "padding": null,
      "right": null,
      "top": null,
      "visibility": null,
      "width": null
     }
    },
    "39d08262444b43d0973f90ec205c9e28": {
     "model_module": "@jupyter-widgets/controls",
     "model_module_version": "1.5.0",
     "model_name": "HTMLModel",
     "state": {
      "_dom_classes": [],
      "_model_module": "@jupyter-widgets/controls",
      "_model_module_version": "1.5.0",
      "_model_name": "HTMLModel",
      "_view_count": null,
      "_view_module": "@jupyter-widgets/controls",
      "_view_module_version": "1.5.0",
      "_view_name": "HTMLView",
      "description": "",
      "description_tooltip": null,
      "layout": "IPY_MODEL_07f2da573c014fc69ba3667932979f52",
      "placeholder": "​",
      "style": "IPY_MODEL_67f5a275fd7d4780b6c97f626cc8aa2e",
      "value": "model.safetensors: 100%"
     }
    },
    "3b17e9dfc6bc45c4b8ae370be3506b34": {
     "model_module": "@jupyter-widgets/base",
     "model_module_version": "1.2.0",
     "model_name": "LayoutModel",
     "state": {
      "_model_module": "@jupyter-widgets/base",
      "_model_module_version": "1.2.0",
      "_model_name": "LayoutModel",
      "_view_count": null,
      "_view_module": "@jupyter-widgets/base",
      "_view_module_version": "1.2.0",
      "_view_name": "LayoutView",
      "align_content": null,
      "align_items": null,
      "align_self": null,
      "border": null,
      "bottom": null,
      "display": null,
      "flex": null,
      "flex_flow": null,
      "grid_area": null,
      "grid_auto_columns": null,
      "grid_auto_flow": null,
      "grid_auto_rows": null,
      "grid_column": null,
      "grid_gap": null,
      "grid_row": null,
      "grid_template_areas": null,
      "grid_template_columns": null,
      "grid_template_rows": null,
      "height": null,
      "justify_content": null,
      "justify_items": null,
      "left": null,
      "margin": null,
      "max_height": null,
      "max_width": null,
      "min_height": null,
      "min_width": null,
      "object_fit": null,
      "object_position": null,
      "order": null,
      "overflow": null,
      "overflow_x": null,
      "overflow_y": null,
      "padding": null,
      "right": null,
      "top": null,
      "visibility": null,
      "width": null
     }
    },
    "3ff27fb4e8174be192a92aac989f24d8": {
     "model_module": "@jupyter-widgets/controls",
     "model_module_version": "1.5.0",
     "model_name": "DescriptionStyleModel",
     "state": {
      "_model_module": "@jupyter-widgets/controls",
      "_model_module_version": "1.5.0",
      "_model_name": "DescriptionStyleModel",
      "_view_count": null,
      "_view_module": "@jupyter-widgets/base",
      "_view_module_version": "1.2.0",
      "_view_name": "StyleView",
      "description_width": ""
     }
    },
    "4570fd2a4fa840f3a3238e33e336e28a": {
     "model_module": "@jupyter-widgets/controls",
     "model_module_version": "1.5.0",
     "model_name": "DescriptionStyleModel",
     "state": {
      "_model_module": "@jupyter-widgets/controls",
      "_model_module_version": "1.5.0",
      "_model_name": "DescriptionStyleModel",
      "_view_count": null,
      "_view_module": "@jupyter-widgets/base",
      "_view_module_version": "1.2.0",
      "_view_name": "StyleView",
      "description_width": ""
     }
    },
    "463aa534562d4baa949578d5f14980b5": {
     "model_module": "@jupyter-widgets/controls",
     "model_module_version": "1.5.0",
     "model_name": "ProgressStyleModel",
     "state": {
      "_model_module": "@jupyter-widgets/controls",
      "_model_module_version": "1.5.0",
      "_model_name": "ProgressStyleModel",
      "_view_count": null,
      "_view_module": "@jupyter-widgets/base",
      "_view_module_version": "1.2.0",
      "_view_name": "StyleView",
      "bar_color": null,
      "description_width": ""
     }
    },
    "46458413ca9447798fa60de76540dab1": {
     "model_module": "@jupyter-widgets/base",
     "model_module_version": "1.2.0",
     "model_name": "LayoutModel",
     "state": {
      "_model_module": "@jupyter-widgets/base",
      "_model_module_version": "1.2.0",
      "_model_name": "LayoutModel",
      "_view_count": null,
      "_view_module": "@jupyter-widgets/base",
      "_view_module_version": "1.2.0",
      "_view_name": "LayoutView",
      "align_content": null,
      "align_items": null,
      "align_self": null,
      "border": null,
      "bottom": null,
      "display": null,
      "flex": null,
      "flex_flow": null,
      "grid_area": null,
      "grid_auto_columns": null,
      "grid_auto_flow": null,
      "grid_auto_rows": null,
      "grid_column": null,
      "grid_gap": null,
      "grid_row": null,
      "grid_template_areas": null,
      "grid_template_columns": null,
      "grid_template_rows": null,
      "height": null,
      "justify_content": null,
      "justify_items": null,
      "left": null,
      "margin": null,
      "max_height": null,
      "max_width": null,
      "min_height": null,
      "min_width": null,
      "object_fit": null,
      "object_position": null,
      "order": null,
      "overflow": null,
      "overflow_x": null,
      "overflow_y": null,
      "padding": null,
      "right": null,
      "top": null,
      "visibility": null,
      "width": null
     }
    },
    "536ca412d1a8443aa63fedb861db4727": {
     "model_module": "@jupyter-widgets/base",
     "model_module_version": "1.2.0",
     "model_name": "LayoutModel",
     "state": {
      "_model_module": "@jupyter-widgets/base",
      "_model_module_version": "1.2.0",
      "_model_name": "LayoutModel",
      "_view_count": null,
      "_view_module": "@jupyter-widgets/base",
      "_view_module_version": "1.2.0",
      "_view_name": "LayoutView",
      "align_content": null,
      "align_items": null,
      "align_self": null,
      "border": null,
      "bottom": null,
      "display": null,
      "flex": null,
      "flex_flow": null,
      "grid_area": null,
      "grid_auto_columns": null,
      "grid_auto_flow": null,
      "grid_auto_rows": null,
      "grid_column": null,
      "grid_gap": null,
      "grid_row": null,
      "grid_template_areas": null,
      "grid_template_columns": null,
      "grid_template_rows": null,
      "height": null,
      "justify_content": null,
      "justify_items": null,
      "left": null,
      "margin": null,
      "max_height": null,
      "max_width": null,
      "min_height": null,
      "min_width": null,
      "object_fit": null,
      "object_position": null,
      "order": null,
      "overflow": null,
      "overflow_x": null,
      "overflow_y": null,
      "padding": null,
      "right": null,
      "top": null,
      "visibility": null,
      "width": null
     }
    },
    "55cb88ffceff4444bfad7a65307831cd": {
     "model_module": "@jupyter-widgets/controls",
     "model_module_version": "1.5.0",
     "model_name": "FloatProgressModel",
     "state": {
      "_dom_classes": [],
      "_model_module": "@jupyter-widgets/controls",
      "_model_module_version": "1.5.0",
      "_model_name": "FloatProgressModel",
      "_view_count": null,
      "_view_module": "@jupyter-widgets/controls",
      "_view_module_version": "1.5.0",
      "_view_name": "ProgressView",
      "bar_style": "success",
      "description": "",
      "description_tooltip": null,
      "layout": "IPY_MODEL_3b17e9dfc6bc45c4b8ae370be3506b34",
      "max": 625,
      "min": 0,
      "orientation": "horizontal",
      "style": "IPY_MODEL_fa81f9e369064dffaab3c9ec52c5832f",
      "value": 625
     }
    },
    "564cd35f88624a969ca09769e2af4991": {
     "model_module": "@jupyter-widgets/controls",
     "model_module_version": "1.5.0",
     "model_name": "ProgressStyleModel",
     "state": {
      "_model_module": "@jupyter-widgets/controls",
      "_model_module_version": "1.5.0",
      "_model_name": "ProgressStyleModel",
      "_view_count": null,
      "_view_module": "@jupyter-widgets/base",
      "_view_module_version": "1.2.0",
      "_view_name": "StyleView",
      "bar_color": null,
      "description_width": ""
     }
    },
    "56b01af26df045c2a6383e40a773d2ec": {
     "model_module": "@jupyter-widgets/base",
     "model_module_version": "1.2.0",
     "model_name": "LayoutModel",
     "state": {
      "_model_module": "@jupyter-widgets/base",
      "_model_module_version": "1.2.0",
      "_model_name": "LayoutModel",
      "_view_count": null,
      "_view_module": "@jupyter-widgets/base",
      "_view_module_version": "1.2.0",
      "_view_name": "LayoutView",
      "align_content": null,
      "align_items": null,
      "align_self": null,
      "border": null,
      "bottom": null,
      "display": null,
      "flex": null,
      "flex_flow": null,
      "grid_area": null,
      "grid_auto_columns": null,
      "grid_auto_flow": null,
      "grid_auto_rows": null,
      "grid_column": null,
      "grid_gap": null,
      "grid_row": null,
      "grid_template_areas": null,
      "grid_template_columns": null,
      "grid_template_rows": null,
      "height": null,
      "justify_content": null,
      "justify_items": null,
      "left": null,
      "margin": null,
      "max_height": null,
      "max_width": null,
      "min_height": null,
      "min_width": null,
      "object_fit": null,
      "object_position": null,
      "order": null,
      "overflow": null,
      "overflow_x": null,
      "overflow_y": null,
      "padding": null,
      "right": null,
      "top": null,
      "visibility": null,
      "width": null
     }
    },
    "5e4c625a4a3449de90d2dfe933c661ab": {
     "model_module": "@jupyter-widgets/controls",
     "model_module_version": "1.5.0",
     "model_name": "DescriptionStyleModel",
     "state": {
      "_model_module": "@jupyter-widgets/controls",
      "_model_module_version": "1.5.0",
      "_model_name": "DescriptionStyleModel",
      "_view_count": null,
      "_view_module": "@jupyter-widgets/base",
      "_view_module_version": "1.2.0",
      "_view_name": "StyleView",
      "description_width": ""
     }
    },
    "5f6142a9fa384f5eb07aecc11047d86c": {
     "model_module": "@jupyter-widgets/controls",
     "model_module_version": "1.5.0",
     "model_name": "HBoxModel",
     "state": {
      "_dom_classes": [],
      "_model_module": "@jupyter-widgets/controls",
      "_model_module_version": "1.5.0",
      "_model_name": "HBoxModel",
      "_view_count": null,
      "_view_module": "@jupyter-widgets/controls",
      "_view_module_version": "1.5.0",
      "_view_name": "HBoxView",
      "box_style": "",
      "children": [
       "IPY_MODEL_a76be68656874119a20e6a783fef8ded",
       "IPY_MODEL_0900d7257b214e178195da14cd393620",
       "IPY_MODEL_a3e913a520e14533b2bd902f47d48897"
      ],
      "layout": "IPY_MODEL_9880f78951a945b39ba9336ff2aeb639"
     }
    },
    "65d642bc46014e7caf244997261b27d0": {
     "model_module": "@jupyter-widgets/controls",
     "model_module_version": "1.5.0",
     "model_name": "HTMLModel",
     "state": {
      "_dom_classes": [],
      "_model_module": "@jupyter-widgets/controls",
      "_model_module_version": "1.5.0",
      "_model_name": "HTMLModel",
      "_view_count": null,
      "_view_module": "@jupyter-widgets/controls",
      "_view_module_version": "1.5.0",
      "_view_name": "HTMLView",
      "description": "",
      "description_tooltip": null,
      "layout": "IPY_MODEL_a0384130dbbd473e8427efeaad9a6895",
      "placeholder": "​",
      "style": "IPY_MODEL_b21a0a496b744a6aad96a5dfd66480a1",
      "value": " 49.0/49.0 [00:00&lt;00:00, 2.80kB/s]"
     }
    },
    "67f5a275fd7d4780b6c97f626cc8aa2e": {
     "model_module": "@jupyter-widgets/controls",
     "model_module_version": "1.5.0",
     "model_name": "DescriptionStyleModel",
     "state": {
      "_model_module": "@jupyter-widgets/controls",
      "_model_module_version": "1.5.0",
      "_model_name": "DescriptionStyleModel",
      "_view_count": null,
      "_view_module": "@jupyter-widgets/base",
      "_view_module_version": "1.2.0",
      "_view_name": "StyleView",
      "description_width": ""
     }
    },
    "6c56bd0974144104bdabdefe7ac6cea0": {
     "model_module": "@jupyter-widgets/controls",
     "model_module_version": "1.5.0",
     "model_name": "DescriptionStyleModel",
     "state": {
      "_model_module": "@jupyter-widgets/controls",
      "_model_module_version": "1.5.0",
      "_model_name": "DescriptionStyleModel",
      "_view_count": null,
      "_view_module": "@jupyter-widgets/base",
      "_view_module_version": "1.2.0",
      "_view_name": "StyleView",
      "description_width": ""
     }
    },
    "755fafeae3a8435189ac95a6e9cb3a54": {
     "model_module": "@jupyter-widgets/controls",
     "model_module_version": "1.5.0",
     "model_name": "FloatProgressModel",
     "state": {
      "_dom_classes": [],
      "_model_module": "@jupyter-widgets/controls",
      "_model_module_version": "1.5.0",
      "_model_name": "FloatProgressModel",
      "_view_count": null,
      "_view_module": "@jupyter-widgets/controls",
      "_view_module_version": "1.5.0",
      "_view_name": "ProgressView",
      "bar_style": "success",
      "description": "",
      "description_tooltip": null,
      "layout": "IPY_MODEL_e6e168d323a94baf839704a529b45b2c",
      "max": 49,
      "min": 0,
      "orientation": "horizontal",
      "style": "IPY_MODEL_564cd35f88624a969ca09769e2af4991",
      "value": 49
     }
    },
    "7afff535ec47429d9281e1e8bc0f07f1": {
     "model_module": "@jupyter-widgets/controls",
     "model_module_version": "1.5.0",
     "model_name": "HBoxModel",
     "state": {
      "_dom_classes": [],
      "_model_module": "@jupyter-widgets/controls",
      "_model_module_version": "1.5.0",
      "_model_name": "HBoxModel",
      "_view_count": null,
      "_view_module": "@jupyter-widgets/controls",
      "_view_module_version": "1.5.0",
      "_view_name": "HBoxView",
      "box_style": "",
      "children": [
       "IPY_MODEL_1812eea260dc423ba19745abb0092ae9",
       "IPY_MODEL_755fafeae3a8435189ac95a6e9cb3a54",
       "IPY_MODEL_65d642bc46014e7caf244997261b27d0"
      ],
      "layout": "IPY_MODEL_e87ecc66b3d44943ba6e1b4241745134"
     }
    },
    "7e9784e78d2b4914a707d122e881eb00": {
     "model_module": "@jupyter-widgets/controls",
     "model_module_version": "1.5.0",
     "model_name": "HBoxModel",
     "state": {
      "_dom_classes": [],
      "_model_module": "@jupyter-widgets/controls",
      "_model_module_version": "1.5.0",
      "_model_name": "HBoxModel",
      "_view_count": null,
      "_view_module": "@jupyter-widgets/controls",
      "_view_module_version": "1.5.0",
      "_view_name": "HBoxView",
      "box_style": "",
      "children": [
       "IPY_MODEL_39d08262444b43d0973f90ec205c9e28",
       "IPY_MODEL_fa63e8fdce8a4801a3ce652e619f5c7f",
       "IPY_MODEL_e2622ba4f44f45ecb1a46a84910614f8"
      ],
      "layout": "IPY_MODEL_9e7b2dc9289847d18da5e7e632ce225e"
     }
    },
    "877b2b0c1d1e443eb62c517e7291b68a": {
     "model_module": "@jupyter-widgets/base",
     "model_module_version": "1.2.0",
     "model_name": "LayoutModel",
     "state": {
      "_model_module": "@jupyter-widgets/base",
      "_model_module_version": "1.2.0",
      "_model_name": "LayoutModel",
      "_view_count": null,
      "_view_module": "@jupyter-widgets/base",
      "_view_module_version": "1.2.0",
      "_view_name": "LayoutView",
      "align_content": null,
      "align_items": null,
      "align_self": null,
      "border": null,
      "bottom": null,
      "display": null,
      "flex": null,
      "flex_flow": null,
      "grid_area": null,
      "grid_auto_columns": null,
      "grid_auto_flow": null,
      "grid_auto_rows": null,
      "grid_column": null,
      "grid_gap": null,
      "grid_row": null,
      "grid_template_areas": null,
      "grid_template_columns": null,
      "grid_template_rows": null,
      "height": null,
      "justify_content": null,
      "justify_items": null,
      "left": null,
      "margin": null,
      "max_height": null,
      "max_width": null,
      "min_height": null,
      "min_width": null,
      "object_fit": null,
      "object_position": null,
      "order": null,
      "overflow": null,
      "overflow_x": null,
      "overflow_y": null,
      "padding": null,
      "right": null,
      "top": null,
      "visibility": null,
      "width": null
     }
    },
    "8b54adf6df9442838cb29a669a810115": {
     "model_module": "@jupyter-widgets/base",
     "model_module_version": "1.2.0",
     "model_name": "LayoutModel",
     "state": {
      "_model_module": "@jupyter-widgets/base",
      "_model_module_version": "1.2.0",
      "_model_name": "LayoutModel",
      "_view_count": null,
      "_view_module": "@jupyter-widgets/base",
      "_view_module_version": "1.2.0",
      "_view_name": "LayoutView",
      "align_content": null,
      "align_items": null,
      "align_self": null,
      "border": null,
      "bottom": null,
      "display": null,
      "flex": null,
      "flex_flow": null,
      "grid_area": null,
      "grid_auto_columns": null,
      "grid_auto_flow": null,
      "grid_auto_rows": null,
      "grid_column": null,
      "grid_gap": null,
      "grid_row": null,
      "grid_template_areas": null,
      "grid_template_columns": null,
      "grid_template_rows": null,
      "height": null,
      "justify_content": null,
      "justify_items": null,
      "left": null,
      "margin": null,
      "max_height": null,
      "max_width": null,
      "min_height": null,
      "min_width": null,
      "object_fit": null,
      "object_position": null,
      "order": null,
      "overflow": null,
      "overflow_x": null,
      "overflow_y": null,
      "padding": null,
      "right": null,
      "top": null,
      "visibility": null,
      "width": null
     }
    },
    "91248f82f37f4a598022deb1e4c2ae00": {
     "model_module": "@jupyter-widgets/base",
     "model_module_version": "1.2.0",
     "model_name": "LayoutModel",
     "state": {
      "_model_module": "@jupyter-widgets/base",
      "_model_module_version": "1.2.0",
      "_model_name": "LayoutModel",
      "_view_count": null,
      "_view_module": "@jupyter-widgets/base",
      "_view_module_version": "1.2.0",
      "_view_name": "LayoutView",
      "align_content": null,
      "align_items": null,
      "align_self": null,
      "border": null,
      "bottom": null,
      "display": null,
      "flex": null,
      "flex_flow": null,
      "grid_area": null,
      "grid_auto_columns": null,
      "grid_auto_flow": null,
      "grid_auto_rows": null,
      "grid_column": null,
      "grid_gap": null,
      "grid_row": null,
      "grid_template_areas": null,
      "grid_template_columns": null,
      "grid_template_rows": null,
      "height": null,
      "justify_content": null,
      "justify_items": null,
      "left": null,
      "margin": null,
      "max_height": null,
      "max_width": null,
      "min_height": null,
      "min_width": null,
      "object_fit": null,
      "object_position": null,
      "order": null,
      "overflow": null,
      "overflow_x": null,
      "overflow_y": null,
      "padding": null,
      "right": null,
      "top": null,
      "visibility": null,
      "width": null
     }
    },
    "9880f78951a945b39ba9336ff2aeb639": {
     "model_module": "@jupyter-widgets/base",
     "model_module_version": "1.2.0",
     "model_name": "LayoutModel",
     "state": {
      "_model_module": "@jupyter-widgets/base",
      "_model_module_version": "1.2.0",
      "_model_name": "LayoutModel",
      "_view_count": null,
      "_view_module": "@jupyter-widgets/base",
      "_view_module_version": "1.2.0",
      "_view_name": "LayoutView",
      "align_content": null,
      "align_items": null,
      "align_self": null,
      "border": null,
      "bottom": null,
      "display": null,
      "flex": null,
      "flex_flow": null,
      "grid_area": null,
      "grid_auto_columns": null,
      "grid_auto_flow": null,
      "grid_auto_rows": null,
      "grid_column": null,
      "grid_gap": null,
      "grid_row": null,
      "grid_template_areas": null,
      "grid_template_columns": null,
      "grid_template_rows": null,
      "height": null,
      "justify_content": null,
      "justify_items": null,
      "left": null,
      "margin": null,
      "max_height": null,
      "max_width": null,
      "min_height": null,
      "min_width": null,
      "object_fit": null,
      "object_position": null,
      "order": null,
      "overflow": null,
      "overflow_x": null,
      "overflow_y": null,
      "padding": null,
      "right": null,
      "top": null,
      "visibility": null,
      "width": null
     }
    },
    "998e667e09434ab4814d9c3f2dca0f3a": {
     "model_module": "@jupyter-widgets/controls",
     "model_module_version": "1.5.0",
     "model_name": "ProgressStyleModel",
     "state": {
      "_model_module": "@jupyter-widgets/controls",
      "_model_module_version": "1.5.0",
      "_model_name": "ProgressStyleModel",
      "_view_count": null,
      "_view_module": "@jupyter-widgets/base",
      "_view_module_version": "1.2.0",
      "_view_name": "StyleView",
      "bar_color": null,
      "description_width": ""
     }
    },
    "9dca851a70bc4aa7ac58b574f927b160": {
     "model_module": "@jupyter-widgets/base",
     "model_module_version": "1.2.0",
     "model_name": "LayoutModel",
     "state": {
      "_model_module": "@jupyter-widgets/base",
      "_model_module_version": "1.2.0",
      "_model_name": "LayoutModel",
      "_view_count": null,
      "_view_module": "@jupyter-widgets/base",
      "_view_module_version": "1.2.0",
      "_view_name": "LayoutView",
      "align_content": null,
      "align_items": null,
      "align_self": null,
      "border": null,
      "bottom": null,
      "display": null,
      "flex": null,
      "flex_flow": null,
      "grid_area": null,
      "grid_auto_columns": null,
      "grid_auto_flow": null,
      "grid_auto_rows": null,
      "grid_column": null,
      "grid_gap": null,
      "grid_row": null,
      "grid_template_areas": null,
      "grid_template_columns": null,
      "grid_template_rows": null,
      "height": null,
      "justify_content": null,
      "justify_items": null,
      "left": null,
      "margin": null,
      "max_height": null,
      "max_width": null,
      "min_height": null,
      "min_width": null,
      "object_fit": null,
      "object_position": null,
      "order": null,
      "overflow": null,
      "overflow_x": null,
      "overflow_y": null,
      "padding": null,
      "right": null,
      "top": null,
      "visibility": null,
      "width": null
     }
    },
    "9e7b2dc9289847d18da5e7e632ce225e": {
     "model_module": "@jupyter-widgets/base",
     "model_module_version": "1.2.0",
     "model_name": "LayoutModel",
     "state": {
      "_model_module": "@jupyter-widgets/base",
      "_model_module_version": "1.2.0",
      "_model_name": "LayoutModel",
      "_view_count": null,
      "_view_module": "@jupyter-widgets/base",
      "_view_module_version": "1.2.0",
      "_view_name": "LayoutView",
      "align_content": null,
      "align_items": null,
      "align_self": null,
      "border": null,
      "bottom": null,
      "display": null,
      "flex": null,
      "flex_flow": null,
      "grid_area": null,
      "grid_auto_columns": null,
      "grid_auto_flow": null,
      "grid_auto_rows": null,
      "grid_column": null,
      "grid_gap": null,
      "grid_row": null,
      "grid_template_areas": null,
      "grid_template_columns": null,
      "grid_template_rows": null,
      "height": null,
      "justify_content": null,
      "justify_items": null,
      "left": null,
      "margin": null,
      "max_height": null,
      "max_width": null,
      "min_height": null,
      "min_width": null,
      "object_fit": null,
      "object_position": null,
      "order": null,
      "overflow": null,
      "overflow_x": null,
      "overflow_y": null,
      "padding": null,
      "right": null,
      "top": null,
      "visibility": null,
      "width": null
     }
    },
    "9f0a5418fd4e48788682a2065bcd06a6": {
     "model_module": "@jupyter-widgets/base",
     "model_module_version": "1.2.0",
     "model_name": "LayoutModel",
     "state": {
      "_model_module": "@jupyter-widgets/base",
      "_model_module_version": "1.2.0",
      "_model_name": "LayoutModel",
      "_view_count": null,
      "_view_module": "@jupyter-widgets/base",
      "_view_module_version": "1.2.0",
      "_view_name": "LayoutView",
      "align_content": null,
      "align_items": null,
      "align_self": null,
      "border": null,
      "bottom": null,
      "display": null,
      "flex": null,
      "flex_flow": null,
      "grid_area": null,
      "grid_auto_columns": null,
      "grid_auto_flow": null,
      "grid_auto_rows": null,
      "grid_column": null,
      "grid_gap": null,
      "grid_row": null,
      "grid_template_areas": null,
      "grid_template_columns": null,
      "grid_template_rows": null,
      "height": null,
      "justify_content": null,
      "justify_items": null,
      "left": null,
      "margin": null,
      "max_height": null,
      "max_width": null,
      "min_height": null,
      "min_width": null,
      "object_fit": null,
      "object_position": null,
      "order": null,
      "overflow": null,
      "overflow_x": null,
      "overflow_y": null,
      "padding": null,
      "right": null,
      "top": null,
      "visibility": null,
      "width": null
     }
    },
    "a0384130dbbd473e8427efeaad9a6895": {
     "model_module": "@jupyter-widgets/base",
     "model_module_version": "1.2.0",
     "model_name": "LayoutModel",
     "state": {
      "_model_module": "@jupyter-widgets/base",
      "_model_module_version": "1.2.0",
      "_model_name": "LayoutModel",
      "_view_count": null,
      "_view_module": "@jupyter-widgets/base",
      "_view_module_version": "1.2.0",
      "_view_name": "LayoutView",
      "align_content": null,
      "align_items": null,
      "align_self": null,
      "border": null,
      "bottom": null,
      "display": null,
      "flex": null,
      "flex_flow": null,
      "grid_area": null,
      "grid_auto_columns": null,
      "grid_auto_flow": null,
      "grid_auto_rows": null,
      "grid_column": null,
      "grid_gap": null,
      "grid_row": null,
      "grid_template_areas": null,
      "grid_template_columns": null,
      "grid_template_rows": null,
      "height": null,
      "justify_content": null,
      "justify_items": null,
      "left": null,
      "margin": null,
      "max_height": null,
      "max_width": null,
      "min_height": null,
      "min_width": null,
      "object_fit": null,
      "object_position": null,
      "order": null,
      "overflow": null,
      "overflow_x": null,
      "overflow_y": null,
      "padding": null,
      "right": null,
      "top": null,
      "visibility": null,
      "width": null
     }
    },
    "a3e913a520e14533b2bd902f47d48897": {
     "model_module": "@jupyter-widgets/controls",
     "model_module_version": "1.5.0",
     "model_name": "HTMLModel",
     "state": {
      "_dom_classes": [],
      "_model_module": "@jupyter-widgets/controls",
      "_model_module_version": "1.5.0",
      "_model_name": "HTMLModel",
      "_view_count": null,
      "_view_module": "@jupyter-widgets/controls",
      "_view_module_version": "1.5.0",
      "_view_name": "HTMLView",
      "description": "",
      "description_tooltip": null,
      "layout": "IPY_MODEL_536ca412d1a8443aa63fedb861db4727",
      "placeholder": "​",
      "style": "IPY_MODEL_3ff27fb4e8174be192a92aac989f24d8",
      "value": " 996k/996k [00:00&lt;00:00, 2.15MB/s]"
     }
    },
    "a5e5bf0f2cb04a24ba95063beab52052": {
     "model_module": "@jupyter-widgets/controls",
     "model_module_version": "1.5.0",
     "model_name": "HTMLModel",
     "state": {
      "_dom_classes": [],
      "_model_module": "@jupyter-widgets/controls",
      "_model_module_version": "1.5.0",
      "_model_name": "HTMLModel",
      "_view_count": null,
      "_view_module": "@jupyter-widgets/controls",
      "_view_module_version": "1.5.0",
      "_view_name": "HTMLView",
      "description": "",
      "description_tooltip": null,
      "layout": "IPY_MODEL_d9387724fd7043d59ef429538f7f6f85",
      "placeholder": "​",
      "style": "IPY_MODEL_f89c792850984612955a789e98e5577c",
      "value": " 625/625 [00:00&lt;00:00, 39.5kB/s]"
     }
    },
    "a76be68656874119a20e6a783fef8ded": {
     "model_module": "@jupyter-widgets/controls",
     "model_module_version": "1.5.0",
     "model_name": "HTMLModel",
     "state": {
      "_dom_classes": [],
      "_model_module": "@jupyter-widgets/controls",
      "_model_module_version": "1.5.0",
      "_model_name": "HTMLModel",
      "_view_count": null,
      "_view_module": "@jupyter-widgets/controls",
      "_view_module_version": "1.5.0",
      "_view_name": "HTMLView",
      "description": "",
      "description_tooltip": null,
      "layout": "IPY_MODEL_d82808d060264ba8b2e08a3bef4f31b0",
      "placeholder": "​",
      "style": "IPY_MODEL_6c56bd0974144104bdabdefe7ac6cea0",
      "value": "vocab.txt: 100%"
     }
    },
    "b1c76bf777534a599e156259be181d3b": {
     "model_module": "@jupyter-widgets/base",
     "model_module_version": "1.2.0",
     "model_name": "LayoutModel",
     "state": {
      "_model_module": "@jupyter-widgets/base",
      "_model_module_version": "1.2.0",
      "_model_name": "LayoutModel",
      "_view_count": null,
      "_view_module": "@jupyter-widgets/base",
      "_view_module_version": "1.2.0",
      "_view_name": "LayoutView",
      "align_content": null,
      "align_items": null,
      "align_self": null,
      "border": null,
      "bottom": null,
      "display": null,
      "flex": null,
      "flex_flow": null,
      "grid_area": null,
      "grid_auto_columns": null,
      "grid_auto_flow": null,
      "grid_auto_rows": null,
      "grid_column": null,
      "grid_gap": null,
      "grid_row": null,
      "grid_template_areas": null,
      "grid_template_columns": null,
      "grid_template_rows": null,
      "height": null,
      "justify_content": null,
      "justify_items": null,
      "left": null,
      "margin": null,
      "max_height": null,
      "max_width": null,
      "min_height": null,
      "min_width": null,
      "object_fit": null,
      "object_position": null,
      "order": null,
      "overflow": null,
      "overflow_x": null,
      "overflow_y": null,
      "padding": null,
      "right": null,
      "top": null,
      "visibility": null,
      "width": null
     }
    },
    "b21a0a496b744a6aad96a5dfd66480a1": {
     "model_module": "@jupyter-widgets/controls",
     "model_module_version": "1.5.0",
     "model_name": "DescriptionStyleModel",
     "state": {
      "_model_module": "@jupyter-widgets/controls",
      "_model_module_version": "1.5.0",
      "_model_name": "DescriptionStyleModel",
      "_view_count": null,
      "_view_module": "@jupyter-widgets/base",
      "_view_module_version": "1.2.0",
      "_view_name": "StyleView",
      "description_width": ""
     }
    },
    "bf7906e5a44443049d65d763b46b05ac": {
     "model_module": "@jupyter-widgets/controls",
     "model_module_version": "1.5.0",
     "model_name": "HBoxModel",
     "state": {
      "_dom_classes": [],
      "_model_module": "@jupyter-widgets/controls",
      "_model_module_version": "1.5.0",
      "_model_name": "HBoxModel",
      "_view_count": null,
      "_view_module": "@jupyter-widgets/controls",
      "_view_module_version": "1.5.0",
      "_view_name": "HBoxView",
      "box_style": "",
      "children": [
       "IPY_MODEL_d3d7bc521d524d22bd66d13e7c800ebb",
       "IPY_MODEL_55cb88ffceff4444bfad7a65307831cd",
       "IPY_MODEL_a5e5bf0f2cb04a24ba95063beab52052"
      ],
      "layout": "IPY_MODEL_56b01af26df045c2a6383e40a773d2ec"
     }
    },
    "d3d7bc521d524d22bd66d13e7c800ebb": {
     "model_module": "@jupyter-widgets/controls",
     "model_module_version": "1.5.0",
     "model_name": "HTMLModel",
     "state": {
      "_dom_classes": [],
      "_model_module": "@jupyter-widgets/controls",
      "_model_module_version": "1.5.0",
      "_model_name": "HTMLModel",
      "_view_count": null,
      "_view_module": "@jupyter-widgets/controls",
      "_view_module_version": "1.5.0",
      "_view_name": "HTMLView",
      "description": "",
      "description_tooltip": null,
      "layout": "IPY_MODEL_91248f82f37f4a598022deb1e4c2ae00",
      "placeholder": "​",
      "style": "IPY_MODEL_1d31cc7cbe784d8bab6c55ad2944560f",
      "value": "config.json: 100%"
     }
    },
    "d82808d060264ba8b2e08a3bef4f31b0": {
     "model_module": "@jupyter-widgets/base",
     "model_module_version": "1.2.0",
     "model_name": "LayoutModel",
     "state": {
      "_model_module": "@jupyter-widgets/base",
      "_model_module_version": "1.2.0",
      "_model_name": "LayoutModel",
      "_view_count": null,
      "_view_module": "@jupyter-widgets/base",
      "_view_module_version": "1.2.0",
      "_view_name": "LayoutView",
      "align_content": null,
      "align_items": null,
      "align_self": null,
      "border": null,
      "bottom": null,
      "display": null,
      "flex": null,
      "flex_flow": null,
      "grid_area": null,
      "grid_auto_columns": null,
      "grid_auto_flow": null,
      "grid_auto_rows": null,
      "grid_column": null,
      "grid_gap": null,
      "grid_row": null,
      "grid_template_areas": null,
      "grid_template_columns": null,
      "grid_template_rows": null,
      "height": null,
      "justify_content": null,
      "justify_items": null,
      "left": null,
      "margin": null,
      "max_height": null,
      "max_width": null,
      "min_height": null,
      "min_width": null,
      "object_fit": null,
      "object_position": null,
      "order": null,
      "overflow": null,
      "overflow_x": null,
      "overflow_y": null,
      "padding": null,
      "right": null,
      "top": null,
      "visibility": null,
      "width": null
     }
    },
    "d9387724fd7043d59ef429538f7f6f85": {
     "model_module": "@jupyter-widgets/base",
     "model_module_version": "1.2.0",
     "model_name": "LayoutModel",
     "state": {
      "_model_module": "@jupyter-widgets/base",
      "_model_module_version": "1.2.0",
      "_model_name": "LayoutModel",
      "_view_count": null,
      "_view_module": "@jupyter-widgets/base",
      "_view_module_version": "1.2.0",
      "_view_name": "LayoutView",
      "align_content": null,
      "align_items": null,
      "align_self": null,
      "border": null,
      "bottom": null,
      "display": null,
      "flex": null,
      "flex_flow": null,
      "grid_area": null,
      "grid_auto_columns": null,
      "grid_auto_flow": null,
      "grid_auto_rows": null,
      "grid_column": null,
      "grid_gap": null,
      "grid_row": null,
      "grid_template_areas": null,
      "grid_template_columns": null,
      "grid_template_rows": null,
      "height": null,
      "justify_content": null,
      "justify_items": null,
      "left": null,
      "margin": null,
      "max_height": null,
      "max_width": null,
      "min_height": null,
      "min_width": null,
      "object_fit": null,
      "object_position": null,
      "order": null,
      "overflow": null,
      "overflow_x": null,
      "overflow_y": null,
      "padding": null,
      "right": null,
      "top": null,
      "visibility": null,
      "width": null
     }
    },
    "e2622ba4f44f45ecb1a46a84910614f8": {
     "model_module": "@jupyter-widgets/controls",
     "model_module_version": "1.5.0",
     "model_name": "HTMLModel",
     "state": {
      "_dom_classes": [],
      "_model_module": "@jupyter-widgets/controls",
      "_model_module_version": "1.5.0",
      "_model_name": "HTMLModel",
      "_view_count": null,
      "_view_module": "@jupyter-widgets/controls",
      "_view_module_version": "1.5.0",
      "_view_name": "HTMLView",
      "description": "",
      "description_tooltip": null,
      "layout": "IPY_MODEL_26c076137e5b416d8c701b12e41b8e18",
      "placeholder": "​",
      "style": "IPY_MODEL_4570fd2a4fa840f3a3238e33e336e28a",
      "value": " 714M/714M [00:07&lt;00:00, 99.5MB/s]"
     }
    },
    "e6e168d323a94baf839704a529b45b2c": {
     "model_module": "@jupyter-widgets/base",
     "model_module_version": "1.2.0",
     "model_name": "LayoutModel",
     "state": {
      "_model_module": "@jupyter-widgets/base",
      "_model_module_version": "1.2.0",
      "_model_name": "LayoutModel",
      "_view_count": null,
      "_view_module": "@jupyter-widgets/base",
      "_view_module_version": "1.2.0",
      "_view_name": "LayoutView",
      "align_content": null,
      "align_items": null,
      "align_self": null,
      "border": null,
      "bottom": null,
      "display": null,
      "flex": null,
      "flex_flow": null,
      "grid_area": null,
      "grid_auto_columns": null,
      "grid_auto_flow": null,
      "grid_auto_rows": null,
      "grid_column": null,
      "grid_gap": null,
      "grid_row": null,
      "grid_template_areas": null,
      "grid_template_columns": null,
      "grid_template_rows": null,
      "height": null,
      "justify_content": null,
      "justify_items": null,
      "left": null,
      "margin": null,
      "max_height": null,
      "max_width": null,
      "min_height": null,
      "min_width": null,
      "object_fit": null,
      "object_position": null,
      "order": null,
      "overflow": null,
      "overflow_x": null,
      "overflow_y": null,
      "padding": null,
      "right": null,
      "top": null,
      "visibility": null,
      "width": null
     }
    },
    "e87ecc66b3d44943ba6e1b4241745134": {
     "model_module": "@jupyter-widgets/base",
     "model_module_version": "1.2.0",
     "model_name": "LayoutModel",
     "state": {
      "_model_module": "@jupyter-widgets/base",
      "_model_module_version": "1.2.0",
      "_model_name": "LayoutModel",
      "_view_count": null,
      "_view_module": "@jupyter-widgets/base",
      "_view_module_version": "1.2.0",
      "_view_name": "LayoutView",
      "align_content": null,
      "align_items": null,
      "align_self": null,
      "border": null,
      "bottom": null,
      "display": null,
      "flex": null,
      "flex_flow": null,
      "grid_area": null,
      "grid_auto_columns": null,
      "grid_auto_flow": null,
      "grid_auto_rows": null,
      "grid_column": null,
      "grid_gap": null,
      "grid_row": null,
      "grid_template_areas": null,
      "grid_template_columns": null,
      "grid_template_rows": null,
      "height": null,
      "justify_content": null,
      "justify_items": null,
      "left": null,
      "margin": null,
      "max_height": null,
      "max_width": null,
      "min_height": null,
      "min_width": null,
      "object_fit": null,
      "object_position": null,
      "order": null,
      "overflow": null,
      "overflow_x": null,
      "overflow_y": null,
      "padding": null,
      "right": null,
      "top": null,
      "visibility": null,
      "width": null
     }
    },
    "efa93022a75143bca5c905f7e5002639": {
     "model_module": "@jupyter-widgets/controls",
     "model_module_version": "1.5.0",
     "model_name": "HTMLModel",
     "state": {
      "_dom_classes": [],
      "_model_module": "@jupyter-widgets/controls",
      "_model_module_version": "1.5.0",
      "_model_name": "HTMLModel",
      "_view_count": null,
      "_view_module": "@jupyter-widgets/controls",
      "_view_module_version": "1.5.0",
      "_view_name": "HTMLView",
      "description": "",
      "description_tooltip": null,
      "layout": "IPY_MODEL_b1c76bf777534a599e156259be181d3b",
      "placeholder": "​",
      "style": "IPY_MODEL_5e4c625a4a3449de90d2dfe933c661ab",
      "value": " 1.96M/1.96M [00:00&lt;00:00, 2.14MB/s]"
     }
    },
    "f7d291c94fa840a1ad1c13febc40b018": {
     "model_module": "@jupyter-widgets/controls",
     "model_module_version": "1.5.0",
     "model_name": "FloatProgressModel",
     "state": {
      "_dom_classes": [],
      "_model_module": "@jupyter-widgets/controls",
      "_model_module_version": "1.5.0",
      "_model_name": "FloatProgressModel",
      "_view_count": null,
      "_view_module": "@jupyter-widgets/controls",
      "_view_module_version": "1.5.0",
      "_view_name": "ProgressView",
      "bar_style": "success",
      "description": "",
      "description_tooltip": null,
      "layout": "IPY_MODEL_877b2b0c1d1e443eb62c517e7291b68a",
      "max": 1961828,
      "min": 0,
      "orientation": "horizontal",
      "style": "IPY_MODEL_463aa534562d4baa949578d5f14980b5",
      "value": 1961828
     }
    },
    "f89c792850984612955a789e98e5577c": {
     "model_module": "@jupyter-widgets/controls",
     "model_module_version": "1.5.0",
     "model_name": "DescriptionStyleModel",
     "state": {
      "_model_module": "@jupyter-widgets/controls",
      "_model_module_version": "1.5.0",
      "_model_name": "DescriptionStyleModel",
      "_view_count": null,
      "_view_module": "@jupyter-widgets/base",
      "_view_module_version": "1.2.0",
      "_view_name": "StyleView",
      "description_width": ""
     }
    },
    "fa63e8fdce8a4801a3ce652e619f5c7f": {
     "model_module": "@jupyter-widgets/controls",
     "model_module_version": "1.5.0",
     "model_name": "FloatProgressModel",
     "state": {
      "_dom_classes": [],
      "_model_module": "@jupyter-widgets/controls",
      "_model_module_version": "1.5.0",
      "_model_name": "FloatProgressModel",
      "_view_count": null,
      "_view_module": "@jupyter-widgets/controls",
      "_view_module_version": "1.5.0",
      "_view_name": "ProgressView",
      "bar_style": "success",
      "description": "",
      "description_tooltip": null,
      "layout": "IPY_MODEL_9dca851a70bc4aa7ac58b574f927b160",
      "max": 714290682,
      "min": 0,
      "orientation": "horizontal",
      "style": "IPY_MODEL_998e667e09434ab4814d9c3f2dca0f3a",
      "value": 714290682
     }
    },
    "fa81f9e369064dffaab3c9ec52c5832f": {
     "model_module": "@jupyter-widgets/controls",
     "model_module_version": "1.5.0",
     "model_name": "ProgressStyleModel",
     "state": {
      "_model_module": "@jupyter-widgets/controls",
      "_model_module_version": "1.5.0",
      "_model_name": "ProgressStyleModel",
      "_view_count": null,
      "_view_module": "@jupyter-widgets/base",
      "_view_module_version": "1.2.0",
      "_view_name": "StyleView",
      "bar_color": null,
      "description_width": ""
     }
    }
   }
  }
 },
 "nbformat": 4,
 "nbformat_minor": 0
}
