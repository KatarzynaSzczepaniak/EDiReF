{
 "cells": [
  {
   "cell_type": "code",
   "execution_count": 4,
   "metadata": {
    "colab": {
     "base_uri": "https://localhost:8080/"
    },
    "id": "4YS-HHlMxdzr",
    "outputId": "f03d93c1-8413-4e76-eeae-d392b8717b2c"
   },
   "outputs": [
    {
     "name": "stdout",
     "output_type": "stream",
     "text": [
      "Drive already mounted at /content/drive; to attempt to forcibly remount, call drive.mount(\"/content/drive\", force_remount=True).\n"
     ]
    }
   ],
   "source": [
    "from google.colab import drive\n",
    "drive.mount('/content/drive')"
   ]
  },
  {
   "cell_type": "code",
   "execution_count": 5,
   "metadata": {
    "colab": {
     "base_uri": "https://localhost:8080/"
    },
    "id": "hMHoUEE8xvX0",
    "outputId": "43cdbc6f-b538-4612-a633-327dc99560c4"
   },
   "outputs": [
    {
     "name": "stdout",
     "output_type": "stream",
     "text": [
      "[Errno 2] No such file or directory: 'drive/MyDrive/Colab Notebooks'\n",
      "/content/drive/MyDrive/Colab Notebooks\n"
     ]
    }
   ],
   "source": [
    "%cd drive/MyDrive/Colab \\Notebooks"
   ]
  },
  {
   "cell_type": "code",
   "execution_count": 6,
   "metadata": {
    "id": "M6Woq9BFW18k"
   },
   "outputs": [],
   "source": [
    "import torch\n",
    "import torch.nn as nn\n",
    "from torch.utils.data import Dataset, DataLoader\n",
    "from transformers import RobertaTokenizer, RobertaModel, BertTokenizer, BertModel\n",
    "import pandas as pd\n",
    "import numpy as np"
   ]
  },
  {
   "cell_type": "code",
   "execution_count": 7,
   "metadata": {
    "colab": {
     "base_uri": "https://localhost:8080/"
    },
    "id": "4QJ_vvYdW2YT",
    "outputId": "f848e6e9-aa49-4391-806f-c884049d657e"
   },
   "outputs": [
    {
     "name": "stdout",
     "output_type": "stream",
     "text": [
      "cuda\n"
     ]
    }
   ],
   "source": [
    "from torch import cuda\n",
    "device = 'cuda' if cuda.is_available() else 'cpu'\n",
    "\n",
    "print(device)"
   ]
  },
  {
   "cell_type": "markdown",
   "metadata": {
    "id": "DWH--rE_zW7H"
   },
   "source": [
    "# Data preparation"
   ]
  },
  {
   "cell_type": "code",
   "execution_count": 8,
   "metadata": {
    "id": "L86nTmkQXOp-"
   },
   "outputs": [],
   "source": [
    "DATASET = 'MELD'    # @param ['MELD', 'MaSaC']\n",
    "MAX_LENGTH = 128    # @param [96, 128, 256] {type: 'raw'}\n",
    "BATCH_SIZE = 16    # @param [8, 16, 32] {type: 'raw'}"
   ]
  },
  {
   "cell_type": "code",
   "execution_count": 9,
   "metadata": {
    "id": "Jeo5-OB-0ui1"
   },
   "outputs": [],
   "source": [
    "def get_data(dataset_name, stage):\n",
    "    def to_float(x):\n",
    "        try:\n",
    "            return float(x)\n",
    "        except ValueError:\n",
    "            return 1\n",
    "\n",
    "    df = pd.read_json(f'data/EDiReF_{stage}_data/{dataset_name}_{stage}_efr.json')\n",
    "    df[\"triggers\"] = df[\"triggers\"].apply(lambda lst: [np.nan if x is None else x for x in lst])\n",
    "    df = df[df[\"triggers\"].apply(lambda lst: not any(pd.isna(x) for x in lst))]\n",
    "    df[\"triggers\"] = df[\"triggers\"].apply(lambda lst: [to_float(x) for x in lst])\n",
    "\n",
    "    conversations = list(df['utterances'])\n",
    "    emotions = list(df['emotions'])\n",
    "    triggers = list(df['triggers'])\n",
    "\n",
    "    return conversations, emotions, triggers"
   ]
  },
  {
   "cell_type": "code",
   "execution_count": 10,
   "metadata": {
    "id": "ydKZCcuX0ui1"
   },
   "outputs": [],
   "source": [
    "train_conversations, train_emotions, train_triggers = get_data(DATASET, 'train')\n",
    "val_conversations, val_emotions, val_triggers = get_data(DATASET, 'val')"
   ]
  },
  {
   "cell_type": "code",
   "execution_count": 11,
   "metadata": {
    "id": "wN64aPnJ0ui1"
   },
   "outputs": [],
   "source": [
    "conversations = train_conversations + val_conversations\n",
    "emotions = train_emotions + val_emotions\n",
    "triggers = train_triggers + val_triggers"
   ]
  },
  {
   "cell_type": "code",
   "execution_count": 12,
   "metadata": {
    "id": "9ivzCvXX0ui1"
   },
   "outputs": [],
   "source": [
    "flattened_emotions = [sent for conv in emotions for sent in conv]\n",
    "unique_emotions = set(flattened_emotions)\n",
    "\n",
    "labels_to_ids = {k: v for v, k in enumerate(unique_emotions)}\n",
    "ids_to_labels = {v: k for v, k in enumerate(unique_emotions)}\n",
    "emotions = [[labels_to_ids[emotion] for emotion in conv] for conv in emotions]"
   ]
  },
  {
   "cell_type": "code",
   "execution_count": 13,
   "metadata": {
    "id": "mi-y0zznb-hG"
   },
   "outputs": [],
   "source": [
    "from sklearn.model_selection import train_test_split\n",
    "\n",
    "def train_val_test_split(X, y1, y2, val_size = 0.2, test_size = 0.2, random_state = None):\n",
    "    X_train_val, X_test, y1_train_val, y1_test, y2_train_val, y2_test = train_test_split(\n",
    "        X, y1, y2, test_size=test_size, random_state=random_state\n",
    "    )\n",
    "\n",
    "    val_relative_size = val_size / (1 - test_size)\n",
    "\n",
    "    X_train, X_val, y1_train, y1_val, y2_train, y2_val = train_test_split(\n",
    "        X_train_val, y1_train_val, y2_train_val, test_size=val_relative_size, random_state=random_state\n",
    "    )\n",
    "\n",
    "    return (X_train, X_val, X_test, y1_train, y1_val, y1_test, y2_train, y2_val, y2_test)"
   ]
  },
  {
   "cell_type": "code",
   "execution_count": 14,
   "metadata": {
    "id": "arnKxaiEeoLD"
   },
   "outputs": [],
   "source": [
    "X_train, X_val, X_test, y1_train, y1_val, y1_test, y2_train, y2_val, y2_test = train_val_test_split(\n",
    "    conversations, emotions, triggers, test_size=0.15, val_size=0.15, random_state=2024\n",
    "    )"
   ]
  },
  {
   "cell_type": "code",
   "execution_count": 15,
   "metadata": {
    "colab": {
     "base_uri": "https://localhost:8080/",
     "height": 177,
     "referenced_widgets": [
      "d8631bfcd3074f969be1228f23ac8ac0",
      "beed4fef2905494e88929248ba31c86c",
      "3230080715d642e2bb0d6dee4291adec",
      "e070750207c244f3b426984e52f85584",
      "c78e25d471aa481b8f55cf3b359ab9d9",
      "7504abc4eb9847a2b3745c504cffbfc7",
      "eabbef75357a4b819ea45a92b5858f25",
      "49d4622678404cdd99f74f44399026ba",
      "8b0134e641804b7ea55aa07971817e26",
      "9189bfa5cd42418f9f5003040a088604",
      "a46c4fbdab2240bc8a775f37fd6a359b",
      "5b9f90edbcfc4636a79fc6d4b700e87c",
      "fa973510fb2e43078ea7037a266bfd8f",
      "f6cea9e440714893b07f0a2fef196804",
      "61f2307892b2489f9f103d25860d0e04",
      "15fb735f057442eb9d14479a6f429352",
      "08df4adb92c2480c95c6896f18ccd25f",
      "b30449ad9c2d4e3196edd761d7b437b2",
      "1b76e453f2514cdd91c91bf0e222edce",
      "bfb3e6db70844d91973f78b2e7116af4",
      "6526c16093904c558bf75f813ba8b372",
      "014cd90bbdc94f5a810bb3266d2884aa",
      "e7afa44b5f364ba5833151d82a43e5fb",
      "604326fb921746b485cc5925950dbe56",
      "ae174efe1cca4d4696bff9cf37cdd955",
      "07e8fc79fa854fbea343fc392432b0fa",
      "2ca898987ec74354a87164c5a8208de7",
      "bd942b9fd9f8420390f2061f4eb35bf6",
      "3a4904966c0843d096ecf044a5c04d0b",
      "33829a621a6643d2b8057f108928430b",
      "1a23749fde36470392ebdc9b0be018f5",
      "2565e88381814c8cbbfc51fca6276f88",
      "db42b855e9b9407a988fd4484e3e92f8",
      "54103caef78f4ff3b158849c4aa78441",
      "bbf360e43b7c42aa9f6a572081831729",
      "5a33ee9c91ba46129d2e9cd65d535423",
      "ab4d4a46ca1d449fa88c39da000b29a6",
      "686b5c27716849dfaa3e7ab6e71b8049",
      "adc4e991824b4eaaa686ddc698c44803",
      "e75e1f181a2c40c18d77ac5e066fc8f2",
      "03fcc3475d5b4660805b7ef8a368e150",
      "a50680e7d9cc4c648c3f07a6d6754fa9",
      "4f510383a2614a2a9dd5c5994e2bfb70",
      "e1d9c7260fcf4aa1a1670aba30ec793b",
      "8b15cbde612742e89993a001efe01168",
      "8475b8972fc8486990a94f171627f21b",
      "13b60139a80840519a0aa8b72a63eb31",
      "739d3330e5c5488bac2dbc6d15fc493a",
      "84bde641f1cd4984870fb5bb9a231881",
      "dc04d38c7cfe45678344767d591e1fa8",
      "ea5c71cbb05a4a9db16153fb5e68d7d9",
      "711dfebf7d02483cadfc09e7388e96c5",
      "e2797409c8e6447e85338e78889fd874",
      "ef2d8588a74d4d1b802ef20190de9598",
      "8a6cf9f8d93647cd881db75001f9a0c5"
     ]
    },
    "id": "C5430Zq1W-dj",
    "outputId": "615194e4-6d7a-4c9b-a513-81341ab45b35"
   },
   "outputs": [
    {
     "data": {
      "application/vnd.jupyter.widget-view+json": {
       "model_id": "d8631bfcd3074f969be1228f23ac8ac0",
       "version_major": 2,
       "version_minor": 0
      },
      "text/plain": [
       "tokenizer_config.json:   0%|          | 0.00/25.0 [00:00<?, ?B/s]"
      ]
     },
     "metadata": {},
     "output_type": "display_data"
    },
    {
     "data": {
      "application/vnd.jupyter.widget-view+json": {
       "model_id": "5b9f90edbcfc4636a79fc6d4b700e87c",
       "version_major": 2,
       "version_minor": 0
      },
      "text/plain": [
       "vocab.json:   0%|          | 0.00/899k [00:00<?, ?B/s]"
      ]
     },
     "metadata": {},
     "output_type": "display_data"
    },
    {
     "data": {
      "application/vnd.jupyter.widget-view+json": {
       "model_id": "e7afa44b5f364ba5833151d82a43e5fb",
       "version_major": 2,
       "version_minor": 0
      },
      "text/plain": [
       "merges.txt:   0%|          | 0.00/456k [00:00<?, ?B/s]"
      ]
     },
     "metadata": {},
     "output_type": "display_data"
    },
    {
     "data": {
      "application/vnd.jupyter.widget-view+json": {
       "model_id": "54103caef78f4ff3b158849c4aa78441",
       "version_major": 2,
       "version_minor": 0
      },
      "text/plain": [
       "tokenizer.json:   0%|          | 0.00/1.36M [00:00<?, ?B/s]"
      ]
     },
     "metadata": {},
     "output_type": "display_data"
    },
    {
     "data": {
      "application/vnd.jupyter.widget-view+json": {
       "model_id": "8b15cbde612742e89993a001efe01168",
       "version_major": 2,
       "version_minor": 0
      },
      "text/plain": [
       "config.json:   0%|          | 0.00/481 [00:00<?, ?B/s]"
      ]
     },
     "metadata": {},
     "output_type": "display_data"
    }
   ],
   "source": [
    "tokenizer = RobertaTokenizer.from_pretrained('roberta-base') if DATASET == 'MELD' else BertTokenizer.from_pretrained('bert-base-multilingual-cased')"
   ]
  },
  {
   "cell_type": "code",
   "execution_count": 16,
   "metadata": {
    "id": "ng_4Q4k1XJvc"
   },
   "outputs": [],
   "source": [
    "def tokenize_conversation(conversations, max_length = 128):\n",
    "    input_ids = []\n",
    "    attention_masks = []\n",
    "\n",
    "    for conversation in conversations:\n",
    "        dialogue = \" [SEP] \".join(conversation)\n",
    "        encoded = tokenizer(\n",
    "            dialogue,\n",
    "            truncation = True,\n",
    "            padding = 'max_length',\n",
    "            max_length = max_length,\n",
    "            return_tensors = \"pt\"\n",
    "        )\n",
    "        input_ids.append(encoded[\"input_ids\"].squeeze(0))\n",
    "        attention_masks.append(encoded[\"attention_mask\"].squeeze(0))\n",
    "\n",
    "    return input_ids, attention_masks"
   ]
  },
  {
   "cell_type": "code",
   "execution_count": 17,
   "metadata": {
    "id": "kUdbsdw_XMrD"
   },
   "outputs": [],
   "source": [
    "def pad_labels(labels, max_length = 128):\n",
    "    padded_labels = []\n",
    "    for label_set in labels:\n",
    "        label_tensor = torch.tensor(label_set, dtype = torch.float)\n",
    "        # Pad with -1 to ignore padding tokens in the loss function\n",
    "        padded_tensor = torch.cat(\n",
    "            [label_tensor, torch.full((max_length - len(label_set),), -1)]\n",
    "        )\n",
    "        padded_labels.append(padded_tensor)\n",
    "    return padded_labels"
   ]
  },
  {
   "cell_type": "code",
   "execution_count": 18,
   "metadata": {
    "id": "8pcFsfoZXNBD"
   },
   "outputs": [],
   "source": [
    "class ConversationDataset(Dataset):\n",
    "    def __init__(self, input_ids, attention_masks, emotion_labels, trigger_labels):\n",
    "        self.input_ids = input_ids\n",
    "        self.attention_masks = attention_masks\n",
    "        self.emotion_labels = emotion_labels\n",
    "        self.trigger_labels = trigger_labels\n",
    "\n",
    "    def __len__(self):\n",
    "        return len(self.input_ids)\n",
    "\n",
    "    def __getitem__(self, idx):\n",
    "        return {\n",
    "            \"input_ids\": self.input_ids[idx],\n",
    "            \"attention_mask\": self.attention_masks[idx],\n",
    "            \"emotion_labels\": self.emotion_labels[idx],\n",
    "            \"trigger_labels\": self.trigger_labels[idx],\n",
    "        }"
   ]
  },
  {
   "cell_type": "code",
   "execution_count": 19,
   "metadata": {
    "id": "2XCr0QOc0ui4"
   },
   "outputs": [],
   "source": [
    "def create_dataloader(conversations, emotions, triggers, max_length = 128):\n",
    "    input_ids, attention_masks = tokenize_conversation(conversations, max_length = max_length)\n",
    "    emotion_labels = pad_labels(emotions, max_length = max_length)\n",
    "    trigger_labels = pad_labels(triggers, max_length = max_length)\n",
    "\n",
    "    dataset = ConversationDataset(input_ids, attention_masks, emotion_labels, trigger_labels)\n",
    "    loader = DataLoader(dataset, batch_size = BATCH_SIZE, shuffle = False)\n",
    "\n",
    "    return loader"
   ]
  },
  {
   "cell_type": "code",
   "execution_count": 20,
   "metadata": {
    "id": "8a3-AwoX0ui4"
   },
   "outputs": [],
   "source": [
    "train_loader = create_dataloader(X_train, y1_train, y2_train, max_length = MAX_LENGTH)\n",
    "val_loader = create_dataloader(X_val, y1_val, y2_val, max_length = MAX_LENGTH)\n",
    "test_loader = create_dataloader(X_test, y1_test, y2_test, max_length = MAX_LENGTH)"
   ]
  },
  {
   "cell_type": "markdown",
   "metadata": {
    "id": "X5MO3g0VztW_"
   },
   "source": [
    "# Model configuration"
   ]
  },
  {
   "cell_type": "code",
   "execution_count": 21,
   "metadata": {
    "id": "kueFTpHSXViM"
   },
   "outputs": [],
   "source": [
    "GATE_TYPE = 'linear'  # @param ['linear', 'mlp']\n",
    "EXPERT_TYPE = 'linear' # @param ['linear', 'mlp', 'rnn']\n",
    "NUM_EXPERTS = 2 # @param {type: 'slider', min: 1, max: 8, step: 1}\n",
    "TOP_K = 2 # @param {type: 'slider', min: 1, max: 8, step: 1}"
   ]
  },
  {
   "cell_type": "code",
   "execution_count": 22,
   "metadata": {
    "id": "12upnrxiXXbM"
   },
   "outputs": [],
   "source": [
    "assert TOP_K <= NUM_EXPERTS, \"Select different values for TOP_K and NUM_EXPERTS!\""
   ]
  },
  {
   "cell_type": "code",
   "execution_count": 23,
   "metadata": {
    "id": "umr0EC9_XuzD"
   },
   "outputs": [],
   "source": [
    "class MoEForEmotionAndTriggerClassification(nn.Module):\n",
    "    def __init__(self, num_experts, k, num_classes, gate_type = 'linear', expert_type = 'linear'):\n",
    "        super(MoEForEmotionAndTriggerClassification, self).__init__()\n",
    "\n",
    "        self.roberta = RobertaModel.from_pretrained('roberta-base') if DATASET == 'MELD' else BertModel.from_pretrained(\"bert-base-multilingual-cased\")\n",
    "        for param in self.roberta.parameters():\n",
    "            param.requires_grad = True  # Set to True if you want to fine-tune RoBERTa\n",
    "        hidden_size = self.roberta.config.hidden_size\n",
    "\n",
    "        gate_setup = {\n",
    "            'linear': nn.Linear(hidden_size, num_experts),\n",
    "            'mlp': nn.Sequential(nn.Linear(hidden_size, 512), nn.ReLU(), nn.Linear(512, num_experts)),\n",
    "        }\n",
    "\n",
    "        expert_setup = {\n",
    "            'linear': nn.Linear(hidden_size, hidden_size),\n",
    "            'mlp': nn.Sequential(nn.Linear(hidden_size, 512), nn.ReLU(), nn.Linear(512, hidden_size)),\n",
    "            'rnn': nn.LSTM(hidden_size, hidden_size),\n",
    "        }\n",
    "\n",
    "        self.gating_network = gate_setup[gate_type]\n",
    "        self.experts = nn.ModuleList([expert_setup[expert_type] for _ in range(num_experts)])\n",
    "\n",
    "        self.emotion_classifier = nn.Linear(hidden_size, num_classes)\n",
    "        self.trigger_classifier = nn.Linear(hidden_size, 1)\n",
    "\n",
    "        self.k = k\n",
    "        self.dropout = nn.Dropout(p = 0.1)\n",
    "\n",
    "    def forward(self, input_ids, attention_mask):\n",
    "        model_outputs = self.roberta(input_ids = input_ids, attention_mask = attention_mask)\n",
    "        embeddings = model_outputs.last_hidden_state  # (batch_size, seq_len, hidden_size)\n",
    "        pooled_embeddings = embeddings.mean(dim = 1)    # (batch_size, hidden_size)\n",
    "        pooled_embeddings = self.dropout(pooled_embeddings)\n",
    "\n",
    "        # expert weights\n",
    "        expert_weights = self.gating_network(pooled_embeddings) # (batch_size, num_experts)\n",
    "        expert_weights = torch.softmax(expert_weights, dim = -1)\n",
    "\n",
    "        # aggregate expert outputs\n",
    "        combined_output = self._compute_expert_output(embeddings, expert_weights)\n",
    "        combined_output = self.dropout(combined_output)\n",
    "\n",
    "        emotion_logits = self.emotion_classifier(combined_output)   # (batch_size, seq_len, num_classes)\n",
    "        trigger_logits = self.trigger_classifier(combined_output).squeeze(-1)   # (batch_size, seq_len)\n",
    "\n",
    "        return emotion_logits, trigger_logits\n",
    "\n",
    "    def _compute_expert_output(self, embeddings, expert_weights):\n",
    "        combined_output = torch.zeros_like(embeddings)\n",
    "\n",
    "        # top-k experts only are activated\n",
    "        topk_weights, topk_indices = torch.topk(expert_weights, self.k, dim = -1)\n",
    "\n",
    "        for i in range(self.k):\n",
    "            expert_idx = topk_indices[:, i]\n",
    "            weight = topk_weights[:, i].unsqueeze(-1).unsqueeze(-1)\n",
    "\n",
    "            expert_outputs = []\n",
    "            for j in range(expert_idx.size(0)):\n",
    "                expert = self.experts[expert_idx[j]]\n",
    "\n",
    "                if isinstance(expert, nn.LSTM):\n",
    "                    embedding_input = embeddings[j].unsqueeze(0)\n",
    "                    output, _ = expert(embedding_input)\n",
    "                    expert_outputs.append(output.squeeze(0))\n",
    "\n",
    "                elif isinstance(expert, nn.Linear) or isinstance(expert, nn.Sequential):\n",
    "                    output = expert(embeddings[j])\n",
    "                    expert_outputs.append(output)\n",
    "\n",
    "            expert_outputs = torch.stack(expert_outputs)\n",
    "            combined_output += weight * expert_outputs\n",
    "\n",
    "        return combined_output"
   ]
  },
  {
   "cell_type": "markdown",
   "metadata": {
    "id": "Fpyq3mUpz6D2"
   },
   "source": [
    "# Training parameters"
   ]
  },
  {
   "cell_type": "code",
   "execution_count": 24,
   "metadata": {
    "id": "eO2uRZl2zxvO"
   },
   "outputs": [],
   "source": [
    "LEARNING_RATE = 0.00002  # @param {type: 'slider', min: 1E-5, max: 5E-5, step: 1E-5}\n",
    "NUM_EPOCHS = 5  # @param {type: 'slider', min: 5, max: 25, step: 5}"
   ]
  },
  {
   "cell_type": "code",
   "execution_count": 25,
   "metadata": {
    "colab": {
     "base_uri": "https://localhost:8080/",
     "height": 105,
     "referenced_widgets": [
      "160ba64f6e534ab2898b00a5008da389",
      "9036f029691f4c0fa8c69b792914ca96",
      "c3f75ea6261a4f51837f83fe824df174",
      "65acb70e31094b95abd4d743ca09e7d1",
      "c13530bdbd3b42e6993152a4c9f3fdb3",
      "a094750f251c46728e1577a1bfaa9993",
      "43962972a3164b6796afc3f56d4628ed",
      "a0f3ece79c7543cc843987971291f1a4",
      "c84c737254b444a389a5fc628abe0c3b",
      "681733027e0c45b79f4d8de964bffcd1",
      "8d4ea995e33a47e196b37d8c5562180a"
     ]
    },
    "id": "oJPBM0OaYWBf",
    "outputId": "9ad97bc9-afbb-4ba5-a68d-978e12fc1aff"
   },
   "outputs": [
    {
     "data": {
      "application/vnd.jupyter.widget-view+json": {
       "model_id": "160ba64f6e534ab2898b00a5008da389",
       "version_major": 2,
       "version_minor": 0
      },
      "text/plain": [
       "model.safetensors:   0%|          | 0.00/499M [00:00<?, ?B/s]"
      ]
     },
     "metadata": {},
     "output_type": "display_data"
    },
    {
     "name": "stderr",
     "output_type": "stream",
     "text": [
      "Some weights of RobertaModel were not initialized from the model checkpoint at roberta-base and are newly initialized: ['roberta.pooler.dense.bias', 'roberta.pooler.dense.weight']\n",
      "You should probably TRAIN this model on a down-stream task to be able to use it for predictions and inference.\n"
     ]
    }
   ],
   "source": [
    "from torch.optim import AdamW\n",
    "from torch.nn import CrossEntropyLoss, BCEWithLogitsLoss\n",
    "\n",
    "moe = MoEForEmotionAndTriggerClassification(num_experts = NUM_EXPERTS, k = TOP_K, num_classes = len(labels_to_ids), gate_type = GATE_TYPE, expert_type = EXPERT_TYPE)\n",
    "optimizer = AdamW(moe.parameters(), lr = LEARNING_RATE)\n",
    "\n",
    "emotion_loss_fn = CrossEntropyLoss()\n",
    "trigger_loss_fn = BCEWithLogitsLoss()"
   ]
  },
  {
   "cell_type": "code",
   "execution_count": 26,
   "metadata": {
    "colab": {
     "base_uri": "https://localhost:8080/"
    },
    "id": "EiLsS9Y9YWjk",
    "outputId": "b7a283b5-9631-4091-de75-d4e8fb1386c3"
   },
   "outputs": [
    {
     "data": {
      "text/plain": [
       "MoEForEmotionAndTriggerClassification(\n",
       "  (roberta): RobertaModel(\n",
       "    (embeddings): RobertaEmbeddings(\n",
       "      (word_embeddings): Embedding(50265, 768, padding_idx=1)\n",
       "      (position_embeddings): Embedding(514, 768, padding_idx=1)\n",
       "      (token_type_embeddings): Embedding(1, 768)\n",
       "      (LayerNorm): LayerNorm((768,), eps=1e-05, elementwise_affine=True)\n",
       "      (dropout): Dropout(p=0.1, inplace=False)\n",
       "    )\n",
       "    (encoder): RobertaEncoder(\n",
       "      (layer): ModuleList(\n",
       "        (0-11): 12 x RobertaLayer(\n",
       "          (attention): RobertaAttention(\n",
       "            (self): RobertaSdpaSelfAttention(\n",
       "              (query): Linear(in_features=768, out_features=768, bias=True)\n",
       "              (key): Linear(in_features=768, out_features=768, bias=True)\n",
       "              (value): Linear(in_features=768, out_features=768, bias=True)\n",
       "              (dropout): Dropout(p=0.1, inplace=False)\n",
       "            )\n",
       "            (output): RobertaSelfOutput(\n",
       "              (dense): Linear(in_features=768, out_features=768, bias=True)\n",
       "              (LayerNorm): LayerNorm((768,), eps=1e-05, elementwise_affine=True)\n",
       "              (dropout): Dropout(p=0.1, inplace=False)\n",
       "            )\n",
       "          )\n",
       "          (intermediate): RobertaIntermediate(\n",
       "            (dense): Linear(in_features=768, out_features=3072, bias=True)\n",
       "            (intermediate_act_fn): GELUActivation()\n",
       "          )\n",
       "          (output): RobertaOutput(\n",
       "            (dense): Linear(in_features=3072, out_features=768, bias=True)\n",
       "            (LayerNorm): LayerNorm((768,), eps=1e-05, elementwise_affine=True)\n",
       "            (dropout): Dropout(p=0.1, inplace=False)\n",
       "          )\n",
       "        )\n",
       "      )\n",
       "    )\n",
       "    (pooler): RobertaPooler(\n",
       "      (dense): Linear(in_features=768, out_features=768, bias=True)\n",
       "      (activation): Tanh()\n",
       "    )\n",
       "  )\n",
       "  (gating_network): Linear(in_features=768, out_features=2, bias=True)\n",
       "  (experts): ModuleList(\n",
       "    (0-1): 2 x Linear(in_features=768, out_features=768, bias=True)\n",
       "  )\n",
       "  (emotion_classifier): Linear(in_features=768, out_features=7, bias=True)\n",
       "  (trigger_classifier): Linear(in_features=768, out_features=1, bias=True)\n",
       "  (dropout): Dropout(p=0.1, inplace=False)\n",
       ")"
      ]
     },
     "execution_count": 26,
     "metadata": {},
     "output_type": "execute_result"
    }
   ],
   "source": [
    "moe.to(device)"
   ]
  },
  {
   "cell_type": "code",
   "execution_count": 27,
   "metadata": {
    "id": "44x3zphNQWrq"
   },
   "outputs": [],
   "source": [
    "def remove_padding(logits, labels, task):\n",
    "    mask = labels != -1\n",
    "\n",
    "    logits_flat = logits.view(-1, logits.size(-1)) if task == 'emotion' else logits.view(-1)\n",
    "    labels_flat = labels.view(-1)\n",
    "\n",
    "    logits = logits_flat[mask.view(-1)]\n",
    "    labels = labels_flat[mask.view(-1)]\n",
    "\n",
    "    return logits, labels"
   ]
  },
  {
   "cell_type": "code",
   "execution_count": 28,
   "metadata": {
    "id": "7QS5wNkiYZt7"
   },
   "outputs": [],
   "source": [
    "def evaluate(model, val_loader):\n",
    "    model.eval()\n",
    "    val_loss, nb_steps = 0.0, 0\n",
    "    total_emotion_preds, correct_emotion_preds = 0, 0\n",
    "    total_trigger_preds, correct_trigger_preds = 0, 0\n",
    "    val_logs = []\n",
    "\n",
    "    with torch.no_grad():\n",
    "        for idx, batch in enumerate(val_loader):\n",
    "            input_ids = batch['input_ids'].to(device)\n",
    "            attention_mask = batch['attention_mask'].to(device)\n",
    "            emotion_labels = batch['emotion_labels'].to(device)\n",
    "            trigger_labels = batch['trigger_labels'].to(device)\n",
    "\n",
    "            emotion_logits, trigger_logits = model(input_ids, attention_mask)\n",
    "\n",
    "            # removing padding\n",
    "            emotion_logits, emotion_labels = remove_padding(emotion_logits, emotion_labels, 'emotion')\n",
    "            trigger_logits, trigger_labels = remove_padding(trigger_logits, trigger_labels, 'trigger')\n",
    "\n",
    "            # calculating loss\n",
    "            emotion_loss = emotion_loss_fn(emotion_logits, emotion_labels.long())\n",
    "            trigger_loss = trigger_loss_fn(trigger_logits, trigger_labels)\n",
    "\n",
    "            loss = emotion_loss + trigger_loss\n",
    "            val_loss += loss.item()\n",
    "\n",
    "            # calculating accuracy\n",
    "            emotion_preds = torch.argmax(emotion_logits, dim=-1)\n",
    "            trigger_preds = (torch.sigmoid(trigger_logits).squeeze(-1) > 0.5).long()\n",
    "\n",
    "            correct_emotion_preds += torch.sum(emotion_preds == emotion_labels).item()\n",
    "            correct_trigger_preds += torch.sum(trigger_preds == trigger_labels).item()\n",
    "\n",
    "            total_emotion_preds += emotion_labels.numel()\n",
    "            total_trigger_preds += trigger_labels.numel()\n",
    "\n",
    "            nb_steps += 1\n",
    "\n",
    "            if idx % 100 == 0:\n",
    "                loss_step = val_loss / nb_steps\n",
    "                print(f'      Validation loss per 100 training steps: {loss_step}')\n",
    "                val_logs.append(f'      Validation loss per 100 training steps: {loss_step}\\n')\n",
    "\n",
    "        avg_val_loss = val_loss / len(val_loader)\n",
    "        emotion_accuracy = correct_emotion_preds / total_emotion_preds\n",
    "        trigger_accuracy = correct_trigger_preds / total_trigger_preds\n",
    "        avg_val_accuracy = (emotion_accuracy + trigger_accuracy)/2\n",
    "\n",
    "    return avg_val_loss, avg_val_accuracy, val_logs"
   ]
  },
  {
   "cell_type": "code",
   "execution_count": 29,
   "metadata": {
    "id": "6Cq8fwysYaY_"
   },
   "outputs": [],
   "source": [
    "def train_and_validate(model, train_loader, val_loader, num_epochs = 3):\n",
    "    train_logs = []\n",
    "\n",
    "    for epoch in range(num_epochs):\n",
    "        print(f\"Epoch [{epoch + 1}/{num_epochs}]\")\n",
    "        train_logs.append(f\"Epoch [{epoch + 1}/{num_epochs}]\\n\")\n",
    "        model.train()\n",
    "        train_loss, nb_steps = 0.0, 0\n",
    "        total_emotion_preds, correct_emotion_preds = 0, 0\n",
    "        total_trigger_preds, correct_trigger_preds = 0, 0\n",
    "\n",
    "        for idx, batch in enumerate(train_loader):\n",
    "            optimizer.zero_grad()\n",
    "\n",
    "            input_ids = batch['input_ids'].to(device)\n",
    "            attention_mask = batch['attention_mask'].to(device)\n",
    "            emotion_labels = batch['emotion_labels'].to(device)\n",
    "            trigger_labels = batch['trigger_labels'].to(device)\n",
    "\n",
    "            emotion_logits, trigger_logits = model(input_ids, attention_mask)\n",
    "\n",
    "            # removing padding\n",
    "            emotion_logits, emotion_labels = remove_padding(emotion_logits, emotion_labels, 'emotion')\n",
    "            trigger_logits, trigger_labels = remove_padding(trigger_logits, trigger_labels, 'trigger')\n",
    "\n",
    "            # calculating loss\n",
    "            emotion_loss = emotion_loss_fn(emotion_logits, emotion_labels.long())\n",
    "            trigger_loss = trigger_loss_fn(trigger_logits, trigger_labels)\n",
    "\n",
    "            loss = emotion_loss + trigger_loss\n",
    "            train_loss += loss.item()\n",
    "\n",
    "            loss.backward()\n",
    "            optimizer.step()\n",
    "\n",
    "            # calculating accuracy\n",
    "            emotion_preds = torch.argmax(emotion_logits, dim=-1)\n",
    "            trigger_preds = (torch.sigmoid(trigger_logits).squeeze(-1) > 0.5).long()\n",
    "\n",
    "            correct_emotion_preds += torch.sum(emotion_preds == emotion_labels).item()\n",
    "            correct_trigger_preds += torch.sum(trigger_preds == trigger_labels).item()\n",
    "\n",
    "            total_emotion_preds += emotion_labels.numel()\n",
    "            total_trigger_preds += trigger_labels.numel()\n",
    "            nb_steps += 1\n",
    "\n",
    "            if idx % 100 == 0:\n",
    "                loss_step = train_loss / nb_steps\n",
    "                print(f'      Training loss per 100 training steps: {loss_step}')\n",
    "                train_logs.append(f'      Training loss per 100 training steps: {loss_step}\\n')\n",
    "\n",
    "        avg_train_loss = train_loss / len(train_loader)\n",
    "        emotion_accuracy = correct_emotion_preds / total_emotion_preds\n",
    "        trigger_accuracy = correct_trigger_preds / total_trigger_preds\n",
    "        avg_train_accuracy = (emotion_accuracy + trigger_accuracy)/2\n",
    "\n",
    "        val_loss, val_accuracy, val_logs = evaluate(model, val_loader)\n",
    "        train_logs.extend(val_logs)\n",
    "\n",
    "        print(f\"   Training Loss: {avg_train_loss:.3f}, Training Accuracy: {avg_train_accuracy:.3f}\")\n",
    "        train_logs.append(f\"   Training Loss: {avg_train_loss:.3f}, Training Accuracy: {avg_train_accuracy:.3f}\\n\")\n",
    "\n",
    "        print(f\"   Validation Loss: {val_loss:.3f}, Validation Accuracy: {val_accuracy:.3f}\\n\")\n",
    "        train_logs.append(f\"   Validation Loss: {val_loss:.3f}, Validation Accuracy: {val_accuracy:.3f}\\n\\n\")\n",
    "\n",
    "    return train_logs"
   ]
  },
  {
   "cell_type": "code",
   "execution_count": 30,
   "metadata": {
    "colab": {
     "base_uri": "https://localhost:8080/"
    },
    "id": "N_U28Fs-YcFL",
    "outputId": "6b240e29-b940-4a01-c0f9-105a4e37bee7"
   },
   "outputs": [
    {
     "name": "stdout",
     "output_type": "stream",
     "text": [
      "Epoch [1/5]\n",
      "      Training loss per 100 training steps: 2.5443344116210938\n",
      "      Training loss per 100 training steps: 2.0632806355410285\n",
      "      Validation loss per 100 training steps: 1.8891468048095703\n",
      "   Training Loss: 1.992, Training Accuracy: 0.638\n",
      "   Validation Loss: 1.834, Validation Accuracy: 0.653\n",
      "\n",
      "Epoch [2/5]\n",
      "      Training loss per 100 training steps: 1.702599048614502\n",
      "      Training loss per 100 training steps: 1.822170904367277\n",
      "      Validation loss per 100 training steps: 1.6215298175811768\n",
      "   Training Loss: 1.744, Training Accuracy: 0.666\n",
      "   Validation Loss: 1.594, Validation Accuracy: 0.696\n",
      "\n",
      "Epoch [3/5]\n",
      "      Training loss per 100 training steps: 1.5316582918167114\n",
      "      Training loss per 100 training steps: 1.5645253705506277\n",
      "      Validation loss per 100 training steps: 1.376347303390503\n",
      "   Training Loss: 1.474, Training Accuracy: 0.717\n",
      "   Validation Loss: 1.347, Validation Accuracy: 0.749\n",
      "\n",
      "Epoch [4/5]\n",
      "      Training loss per 100 training steps: 1.2311683893203735\n",
      "      Training loss per 100 training steps: 1.2681849528067182\n",
      "      Validation loss per 100 training steps: 1.1627795696258545\n",
      "   Training Loss: 1.180, Training Accuracy: 0.777\n",
      "   Validation Loss: 1.120, Validation Accuracy: 0.788\n",
      "\n",
      "Epoch [5/5]\n",
      "      Training loss per 100 training steps: 1.0488835573196411\n",
      "      Training loss per 100 training steps: 1.002367928476617\n",
      "      Validation loss per 100 training steps: 1.0399138927459717\n",
      "   Training Loss: 0.943, Training Accuracy: 0.821\n",
      "   Validation Loss: 0.948, Validation Accuracy: 0.817\n",
      "\n"
     ]
    }
   ],
   "source": [
    "logs = train_and_validate(moe, train_loader, val_loader, num_epochs = NUM_EPOCHS)"
   ]
  },
  {
   "cell_type": "code",
   "execution_count": 34,
   "metadata": {
    "id": "2To3TjUdUEsR"
   },
   "outputs": [],
   "source": [
    "from sklearn.metrics import precision_score, recall_score, f1_score, accuracy_score, confusion_matrix\n",
    "from collections import defaultdict\n",
    "\n",
    "def get_metrics(model, data_loader, dev):\n",
    "    model.eval()\n",
    "\n",
    "    emotion_accuracy = 0.0\n",
    "    emotion_precision = 0.0\n",
    "    emotion_recall = 0.0\n",
    "    emotion_f1 = 0.0\n",
    "    emotion_cm = None\n",
    "\n",
    "    unique_emotions_f1 = dict.fromkeys(labels_to_ids.keys(), 0.0)\n",
    "\n",
    "    trigger_accuracy = 0.0\n",
    "    trigger_precision = 0.0\n",
    "    trigger_recall = 0.0\n",
    "    trigger_f1 = 0.0\n",
    "    trigger_cm = None\n",
    "\n",
    "    nb_steps = 0\n",
    "\n",
    "    for batch in data_loader:\n",
    "        input_ids = batch['input_ids'].to(dev)\n",
    "        attention_mask = batch['attention_mask'].to(dev)\n",
    "        emotion_labels = batch['emotion_labels'].to(dev)\n",
    "        trigger_labels = batch['trigger_labels'].to(dev)\n",
    "\n",
    "        with torch.no_grad():\n",
    "            # Forward pass\n",
    "            emotion_logits, trigger_logits = model(input_ids, attention_mask)\n",
    "\n",
    "            # Compute predictions for emotions\n",
    "            emotion_logits, emotion_labels = remove_padding(emotion_logits, emotion_labels, 'emotion')\n",
    "\n",
    "            emotion_preds = torch.argmax(emotion_logits, dim = -1)\n",
    "\n",
    "            emotion_preds_flat = emotion_preds.cpu().numpy()\n",
    "            emotion_labels_flat = emotion_labels.cpu().numpy()\n",
    "\n",
    "            # Compute predictions for triggers\n",
    "            trigger_logits, trigger_labels = remove_padding(trigger_logits, trigger_labels, 'trigger')\n",
    "\n",
    "            trigger_preds = (torch.sigmoid(trigger_logits).squeeze(-1) > 0.5).long()\n",
    "\n",
    "            trigger_preds_flat = trigger_preds.cpu().numpy()\n",
    "            trigger_labels_flat = trigger_labels.cpu().numpy()\n",
    "\n",
    "            # Calculate metrics for emotion classification\n",
    "            emotion_accuracy += accuracy_score(emotion_labels_flat, emotion_preds_flat)\n",
    "            emotion_precision += precision_score(emotion_labels_flat, emotion_preds_flat, average='weighted', zero_division = 0)\n",
    "            emotion_recall += recall_score(emotion_labels_flat, emotion_preds_flat, average='weighted', zero_division = 0)\n",
    "            emotion_f1 += f1_score(emotion_labels_flat, emotion_preds_flat, average='weighted', zero_division = 0)\n",
    "\n",
    "            for idx, score in enumerate(f1_score(emotion_labels_flat, emotion_preds_flat, average = None, zero_division = 0)):\n",
    "                unique_emotions_f1[ids_to_labels[idx]] += score\n",
    "\n",
    "            if emotion_cm is None:\n",
    "                emotion_cm = confusion_matrix(emotion_labels_flat, emotion_preds_flat, labels = range(len(labels_to_ids)))\n",
    "            else:\n",
    "                emotion_cm += confusion_matrix(emotion_labels_flat, emotion_preds_flat, labels = range(len(labels_to_ids)))\n",
    "\n",
    "            # Calculate metrics for trigger classification\n",
    "            trigger_accuracy += accuracy_score(trigger_labels_flat, trigger_preds_flat)\n",
    "            trigger_precision += precision_score(trigger_labels_flat, trigger_preds_flat, average='weighted', zero_division = 0)\n",
    "            trigger_recall += recall_score(trigger_labels_flat, trigger_preds_flat, average='weighted', zero_division = 0)\n",
    "            trigger_f1 += f1_score(trigger_labels_flat, trigger_preds_flat, average='weighted', zero_division = 0)\n",
    "\n",
    "            if trigger_cm is None:\n",
    "                trigger_cm = confusion_matrix(trigger_labels_flat, trigger_preds_flat, labels = [0, 1])\n",
    "            else:\n",
    "                trigger_cm += confusion_matrix(trigger_labels_flat, trigger_preds_flat, labels = [0, 1])\n",
    "\n",
    "            nb_steps += 1\n",
    "\n",
    "    metrics = defaultdict(lambda: {})\n",
    "\n",
    "    # Calculate average metrics\n",
    "    avg_emotion_accuracy = emotion_accuracy / nb_steps\n",
    "    avg_emotion_precision = emotion_precision / nb_steps\n",
    "    avg_emotion_recall = emotion_recall / nb_steps\n",
    "    avg_emotion_f1 = emotion_f1 / nb_steps\n",
    "\n",
    "    for key, value in unique_emotions_f1.items():\n",
    "        unique_emotions_f1[key] = value / nb_steps\n",
    "\n",
    "    metrics['emotion_classification'] = {'accuracy': avg_emotion_accuracy,\n",
    "                                         'precision': avg_emotion_precision,\n",
    "                                         'recall': avg_emotion_recall,\n",
    "                                         'f1': {'avg': avg_emotion_f1}}\n",
    "    metrics['emotion_classification']['f1'].update(unique_emotions_f1)\n",
    "\n",
    "    avg_trigger_accuracy = trigger_accuracy / nb_steps\n",
    "    avg_trigger_precision = trigger_precision / nb_steps\n",
    "    avg_trigger_recall = trigger_recall / nb_steps\n",
    "    avg_trigger_f1 = trigger_f1 / nb_steps\n",
    "\n",
    "    metrics['trigger_classification'] = {'accuracy': avg_trigger_accuracy,\n",
    "                                         'precision': avg_trigger_precision,\n",
    "                                         'recall': avg_trigger_recall,\n",
    "                                         'f1': avg_trigger_f1}\n",
    "\n",
    "    return metrics, emotion_cm, trigger_cm"
   ]
  },
  {
   "cell_type": "code",
   "execution_count": 35,
   "metadata": {
    "id": "m2819G500ui7"
   },
   "outputs": [],
   "source": [
    "import seaborn as sns\n",
    "import matplotlib.pyplot as plt\n",
    "\n",
    "def plot_confusion_matrix(cm, labels, title = \"Confusion Matrix\"):\n",
    "    plt.figure(figsize = (10, 8))\n",
    "    sns.heatmap(cm, annot = True, fmt = 'd', cmap = \"Blues\", xticklabels = labels, yticklabels = labels)\n",
    "    plt.xlabel('Predicted Labels', fontsize = 14)\n",
    "    plt.ylabel('True Labels', fontsize = 14)\n",
    "    plt.title(title, fontsize = 16)\n",
    "    plt.xticks(rotation = 90)\n",
    "    plt.yticks(rotation = 0)\n",
    "    plt.tight_layout()\n",
    "    plt.show()"
   ]
  },
  {
   "cell_type": "code",
   "execution_count": 36,
   "metadata": {
    "colab": {
     "base_uri": "https://localhost:8080/"
    },
    "id": "8UNspSJxUgLJ",
    "outputId": "b2caee47-e741-443a-d39c-33699958e992"
   },
   "outputs": [
    {
     "name": "stdout",
     "output_type": "stream",
     "text": [
      "Task: emotion_classification\n",
      "      accuracy: 0.824\n",
      "      precision: 0.834\n",
      "      recall: 0.824\n",
      "      f1: \n",
      "          avg: 0.819\n",
      "          disgust: 0.556\n",
      "          anger: 0.769\n",
      "          surprise: 0.805\n",
      "          joy: 0.810\n",
      "          sadness: 0.757\n",
      "          neutral: 0.849\n",
      "          fear: 0.507\n",
      "Task: trigger_classification\n",
      "      accuracy: 0.818\n",
      "      precision: 0.797\n",
      "      recall: 0.818\n",
      "      f1: 0.802\n"
     ]
    }
   ],
   "source": [
    "metrics, emotion_cm, trigger_cm = get_metrics(moe, test_loader, device)\n",
    "\n",
    "# Output results\n",
    "for task, results in metrics.items():\n",
    "    print(f'Task: {task}')\n",
    "    for metric, score in results.items():\n",
    "        if metric != 'f1' or (metric == 'f1' and isinstance(score, np.float64)):\n",
    "            print(f'      {metric}: {score:.3f}')\n",
    "        else:\n",
    "            print(f'      f1: ')\n",
    "            for x, y in score.items():\n",
    "                print(f'          {x}: {y:.3f}')"
   ]
  },
  {
   "cell_type": "code",
   "execution_count": 37,
   "metadata": {
    "colab": {
     "base_uri": "https://localhost:8080/",
     "height": 807
    },
    "id": "vu-QJEmJ0ui7",
    "outputId": "72ce4f40-736f-4b74-9794-e2e608ccbcf2"
   },
   "outputs": [
    {
     "data": {
      "image/png": "[encoded data removed]",
      "text/plain": [
       "<Figure size 1000x800 with 2 Axes>"
      ]
     },
     "metadata": {},
     "output_type": "display_data"
    }
   ],
   "source": [
    "plot_confusion_matrix(emotion_cm, [i for i in labels_to_ids.keys()], \"Emotion Classification\")"
   ]
  },
  {
   "cell_type": "code",
   "execution_count": 38,
   "metadata": {
    "colab": {
     "base_uri": "https://localhost:8080/",
     "height": 807
    },
    "id": "85ShzciV0ui7",
    "outputId": "5ea4efe3-3ea8-4ad0-a207-92c41aab5570"
   },
   "outputs": [
    {
     "data": {
      "image/png": "[encoded data removed]",
      "text/plain": [
       "<Figure size 1000x800 with 2 Axes>"
      ]
     },
     "metadata": {},
     "output_type": "display_data"
    }
   ],
   "source": [
    "plot_confusion_matrix(trigger_cm, ['No trigger', 'Trigger'], \"Trigger Classification\")"
   ]
  },
  {
   "cell_type": "markdown",
   "metadata": {
    "id": "qiwgK0H60ui8"
   },
   "source": [
    "# Save experiment"
   ]
  },
  {
   "cell_type": "code",
   "execution_count": 39,
   "metadata": {
    "id": "s7hH0xNVYdqL"
   },
   "outputs": [],
   "source": [
    "torch.save(moe.state_dict(), f'trained_models/{DATASET}/moe_model_{GATE_TYPE}_single_gate_{NUM_EXPERTS}_{EXPERT_TYPE}_experts_{TOP_K}_active_{LEARNING_RATE}_lr_{NUM_EPOCHS}_epochs.pth')"
   ]
  },
  {
   "cell_type": "code",
   "execution_count": null,
   "metadata": {
    "id": "cR5h2JI40ui8"
   },
   "outputs": [],
   "source": [
    "file_path = f'results/{DATASET}/moe_model_{GATE_TYPE}_single_gate_{NUM_EXPERTS}_{EXPERT_TYPE}_experts_{TOP_K}_active_{LEARNING_RATE}_lr_{NUM_EPOCHS}_epochs.txt'\n",
    "\n",
    "with open(file_path, 'w') as f:\n",
    "    experiment_setup = [f'MAX_LENGTH = {MAX_LENGTH}\\n',\n",
    "                        f'BATCH_SIZE = {BATCH_SIZE}\\n', '\\n',\n",
    "                        f'GATE_TYPE = {GATE_TYPE}\\n',\n",
    "                        f'EXPERT_TYPE = {EXPERT_TYPE}\\n',\n",
    "                        f'NUM_EXPERTS = {NUM_EXPERTS}\\n',\n",
    "                        f'TOP_K = {TOP_K}\\n',\n",
    "                        f'LEARNING_RATE = {LEARNING_RATE}\\n',\n",
    "                        f'NUM_EPOCHS = {NUM_EPOCHS}\\n', '\\n', '\\n']\n",
    "\n",
    "    experiment_results = []\n",
    "    for task, results in metrics.items():\n",
    "        experiment_results.append(f'\\nTask: {task}\\n')\n",
    "        for metric, score in results.items():\n",
    "            if metric != 'f1' or (metric == 'f1' and isinstance(score, np.float64)):\n",
    "                experiment_results.append(f'      {metric}: {score:.3f}\\n')\n",
    "            else:\n",
    "                experiment_results.append(f'      f1:\\n')\n",
    "                for x, y in score.items():\n",
    "                    experiment_results.append(f'          {x}: {y:.3f}\\n')\n",
    "\n",
    "    f.writelines(experiment_setup)\n",
    "    f.writelines(logs)\n",
    "    f.writelines(experiment_results)\n",
    "    f.writelines('\\nEmotion confusion matrix\\n')\n",
    "    f.write(\"\\t\".join([i for i in labels_to_ids.keys()]))  # write labels\n",
    "    f.write('\\n')\n",
    "    f.writelines([f\"\\t\".join(map(str, emotion_cm[i])) + \"\\n\" for i in range(len(labels_to_ids))]) # write matrix\n",
    "    f.write(\"\\n\")\n",
    "\n",
    "    f.writelines('Trigger confusion matrix\\n')\n",
    "    f.write(\"\\t\".join([i for i in ['No trigger', 'Trigger']]))  # write labels\n",
    "    f.write('\\n')\n",
    "    f.writelines([f\"\\t\".join(map(str, trigger_cm[i])) + \"\\n\" for i in range(len(['No trigger', 'Trigger']))]) # write matrix\n"
   ]
  },
  {
   "cell_type": "markdown",
   "metadata": {
    "id": "goQBmT0AUx-x"
   },
   "source": [
    "# Load and test trained model"
   ]
  },
  {
   "cell_type": "code",
   "execution_count": 43,
   "metadata": {
    "colab": {
     "base_uri": "https://localhost:8080/"
    },
    "id": "Y8SZCnMSYfQU",
    "outputId": "de206add-44c2-4c37-e1d6-23b0981aae2b"
   },
   "outputs": [
    {
     "name": "stderr",
     "output_type": "stream",
     "text": [
      "Some weights of RobertaModel were not initialized from the model checkpoint at roberta-base and are newly initialized: ['roberta.pooler.dense.bias', 'roberta.pooler.dense.weight']\n",
      "You should probably TRAIN this model on a down-stream task to be able to use it for predictions and inference.\n",
      "<ipython-input-43-f88c257fa874>:2: FutureWarning: You are using `torch.load` with `weights_only=False` (the current default value), which uses the default pickle module implicitly. It is possible to construct malicious pickle data which will execute arbitrary code during unpickling (See https://github.com/pytorch/pytorch/blob/main/SECURITY.md#untrusted-models for more details). In a future release, the default value for `weights_only` will be flipped to `True`. This limits the functions that could be executed during unpickling. Arbitrary objects will no longer be allowed to be loaded via this mode unless they are explicitly allowlisted by the user via `torch.serialization.add_safe_globals`. We recommend you start setting `weights_only=True` for any use case where you don't have full control of the loaded file. Please open an issue on GitHub for any issues related to this experimental feature.\n",
      "  moe_loaded.load_state_dict(torch.load(f'trained_models/{DATASET}/moe_model_{GATE_TYPE}_single_gate_{NUM_EXPERTS}_{EXPERT_TYPE}_experts_{TOP_K}_active_{LEARNING_RATE}_lr_{NUM_EPOCHS}_epochs.pth', map_location=torch.device('cpu')))\n"
     ]
    },
    {
     "data": {
      "text/plain": [
       "<All keys matched successfully>"
      ]
     },
     "execution_count": 43,
     "metadata": {},
     "output_type": "execute_result"
    }
   ],
   "source": [
    "moe_loaded = MoEForEmotionAndTriggerClassification(num_experts = NUM_EXPERTS, k = TOP_K, num_classes = len(labels_to_ids), gate_type = GATE_TYPE, expert_type = EXPERT_TYPE)\n",
    "moe_loaded.load_state_dict(torch.load(f'trained_models/{DATASET}/moe_model_{GATE_TYPE}_single_gate_{NUM_EXPERTS}_{EXPERT_TYPE}_experts_{TOP_K}_active_{LEARNING_RATE}_lr_{NUM_EPOCHS}_epochs.pth', map_location=torch.device('cpu')))"
   ]
  },
  {
   "cell_type": "code",
   "execution_count": 44,
   "metadata": {
    "colab": {
     "base_uri": "https://localhost:8080/"
    },
    "id": "lrsLrQjgUxeB",
    "outputId": "730a095e-f311-42d6-be19-e609563e061c"
   },
   "outputs": [
    {
     "name": "stdout",
     "output_type": "stream",
     "text": [
      "Task: emotion_classification\n",
      "      accuracy: 0.824\n",
      "      precision: 0.834\n",
      "      recall: 0.824\n",
      "      f1: \n",
      "          avg: 0.819\n",
      "          disgust: 0.556\n",
      "          anger: 0.769\n",
      "          surprise: 0.805\n",
      "          joy: 0.810\n",
      "          sadness: 0.757\n",
      "          neutral: 0.849\n",
      "          fear: 0.507\n",
      "Task: trigger_classification\n",
      "      accuracy: 0.818\n",
      "      precision: 0.797\n",
      "      recall: 0.818\n",
      "      f1: 0.802\n"
     ]
    }
   ],
   "source": [
    "metrics, emotion_cm, trigger_cm = get_metrics(moe_loaded, test_loader, 'cpu')\n",
    "\n",
    "# Output results\n",
    "for task, results in metrics.items():\n",
    "    print(f'Task: {task}')\n",
    "    for metric, score in results.items():\n",
    "        if metric != 'f1' or (metric == 'f1' and isinstance(score, np.float64)):\n",
    "            print(f'      {metric}: {score:.3f}')\n",
    "        else:\n",
    "            print(f'      f1: ')\n",
    "            for x, y in score.items():\n",
    "                print(f'          {x}: {y:.3f}')"
   ]
  },
  {
   "cell_type": "code",
   "execution_count": 45,
   "metadata": {
    "colab": {
     "base_uri": "https://localhost:8080/",
     "height": 807
    },
    "id": "O3_2OzBi0ui9",
    "outputId": "951cb80e-aaee-4540-9321-d8da878ca5b5"
   },
   "outputs": [
    {
     "data": {
      "image/png": "[encoded data removed]",
      "text/plain": [
       "<Figure size 1000x800 with 2 Axes>"
      ]
     },
     "metadata": {},
     "output_type": "display_data"
    }
   ],
   "source": [
    "plot_confusion_matrix(emotion_cm, [i for i in labels_to_ids.keys()], \"Emotion Classification\")"
   ]
  },
  {
   "cell_type": "code",
   "execution_count": 46,
   "metadata": {
    "colab": {
     "base_uri": "https://localhost:8080/",
     "height": 807
    },
    "id": "mQU_IDQ90ui9",
    "outputId": "cbf7af60-78f2-4b78-a046-c5977c934c8d"
   },
   "outputs": [
    {
     "data": {
      "image/png": "[encoded data removed]",
      "text/plain": [
       "<Figure size 1000x800 with 2 Axes>"
      ]
     },
     "metadata": {},
     "output_type": "display_data"
    }
   ],
   "source": [
    "plot_confusion_matrix(trigger_cm, ['No trigger', 'Trigger'], \"Trigger Classification\")"
   ]
  }
 ],
 "metadata": {
  "accelerator": "GPU",
  "colab": {
   "gpuType": "T4",
   "provenance": []
  },
  "kernelspec": {
   "display_name": "Python 3",
   "name": "python3"
  },
  "language_info": {
   "codemirror_mode": {
    "name": "ipython",
    "version": 3
   },
   "file_extension": ".py",
   "mimetype": "text/x-python",
   "name": "python",
   "nbconvert_exporter": "python",
   "pygments_lexer": "ipython3",
   "version": "3.11.5"
  },
  "widgets": {
   "application/vnd.jupyter.widget-state+json": {
    "014cd90bbdc94f5a810bb3266d2884aa": {
     "model_module": "@jupyter-widgets/controls",
     "model_module_version": "1.5.0",
     "model_name": "DescriptionStyleModel",
     "state": {
      "_model_module": "@jupyter-widgets/controls",
      "_model_module_version": "1.5.0",
      "_model_name": "DescriptionStyleModel",
      "_view_count": null,
      "_view_module": "@jupyter-widgets/base",
      "_view_module_version": "1.2.0",
      "_view_name": "StyleView",
      "description_width": ""
     }
    },
    "03fcc3475d5b4660805b7ef8a368e150": {
     "model_module": "@jupyter-widgets/base",
     "model_module_version": "1.2.0",
     "model_name": "LayoutModel",
     "state": {
      "_model_module": "@jupyter-widgets/base",
      "_model_module_version": "1.2.0",
      "_model_name": "LayoutModel",
      "_view_count": null,
      "_view_module": "@jupyter-widgets/base",
      "_view_module_version": "1.2.0",
      "_view_name": "LayoutView",
      "align_content": null,
      "align_items": null,
      "align_self": null,
      "border": null,
      "bottom": null,
      "display": null,
      "flex": null,
      "flex_flow": null,
      "grid_area": null,
      "grid_auto_columns": null,
      "grid_auto_flow": null,
      "grid_auto_rows": null,
      "grid_column": null,
      "grid_gap": null,
      "grid_row": null,
      "grid_template_areas": null,
      "grid_template_columns": null,
      "grid_template_rows": null,
      "height": null,
      "justify_content": null,
      "justify_items": null,
      "left": null,
      "margin": null,
      "max_height": null,
      "max_width": null,
      "min_height": null,
      "min_width": null,
      "object_fit": null,
      "object_position": null,
      "order": null,
      "overflow": null,
      "overflow_x": null,
      "overflow_y": null,
      "padding": null,
      "right": null,
      "top": null,
      "visibility": null,
      "width": null
     }
    },
    "07e8fc79fa854fbea343fc392432b0fa": {
     "model_module": "@jupyter-widgets/controls",
     "model_module_version": "1.5.0",
     "model_name": "HTMLModel",
     "state": {
      "_dom_classes": [],
      "_model_module": "@jupyter-widgets/controls",
      "_model_module_version": "1.5.0",
      "_model_name": "HTMLModel",
      "_view_count": null,
      "_view_module": "@jupyter-widgets/controls",
      "_view_module_version": "1.5.0",
      "_view_name": "HTMLView",
      "description": "",
      "description_tooltip": null,
      "layout": "IPY_MODEL_2565e88381814c8cbbfc51fca6276f88",
      "placeholder": "​",
      "style": "IPY_MODEL_db42b855e9b9407a988fd4484e3e92f8",
      "value": " 456k/456k [00:00&lt;00:00, 2.29MB/s]"
     }
    },
    "08df4adb92c2480c95c6896f18ccd25f": {
     "model_module": "@jupyter-widgets/base",
     "model_module_version": "1.2.0",
     "model_name": "LayoutModel",
     "state": {
      "_model_module": "@jupyter-widgets/base",
      "_model_module_version": "1.2.0",
      "_model_name": "LayoutModel",
      "_view_count": null,
      "_view_module": "@jupyter-widgets/base",
      "_view_module_version": "1.2.0",
      "_view_name": "LayoutView",
      "align_content": null,
      "align_items": null,
      "align_self": null,
      "border": null,
      "bottom": null,
      "display": null,
      "flex": null,
      "flex_flow": null,
      "grid_area": null,
      "grid_auto_columns": null,
      "grid_auto_flow": null,
      "grid_auto_rows": null,
      "grid_column": null,
      "grid_gap": null,
      "grid_row": null,
      "grid_template_areas": null,
      "grid_template_columns": null,
      "grid_template_rows": null,
      "height": null,
      "justify_content": null,
      "justify_items": null,
      "left": null,
      "margin": null,
      "max_height": null,
      "max_width": null,
      "min_height": null,
      "min_width": null,
      "object_fit": null,
      "object_position": null,
      "order": null,
      "overflow": null,
      "overflow_x": null,
      "overflow_y": null,
      "padding": null,
      "right": null,
      "top": null,
      "visibility": null,
      "width": null
     }
    },
    "13b60139a80840519a0aa8b72a63eb31": {
     "model_module": "@jupyter-widgets/controls",
     "model_module_version": "1.5.0",
     "model_name": "FloatProgressModel",
     "state": {
      "_dom_classes": [],
      "_model_module": "@jupyter-widgets/controls",
      "_model_module_version": "1.5.0",
      "_model_name": "FloatProgressModel",
      "_view_count": null,
      "_view_module": "@jupyter-widgets/controls",
      "_view_module_version": "1.5.0",
      "_view_name": "ProgressView",
      "bar_style": "success",
      "description": "",
      "description_tooltip": null,
      "layout": "IPY_MODEL_711dfebf7d02483cadfc09e7388e96c5",
      "max": 481,
      "min": 0,
      "orientation": "horizontal",
      "style": "IPY_MODEL_e2797409c8e6447e85338e78889fd874",
      "value": 481
     }
    },
    "15fb735f057442eb9d14479a6f429352": {
     "model_module": "@jupyter-widgets/base",
     "model_module_version": "1.2.0",
     "model_name": "LayoutModel",
     "state": {
      "_model_module": "@jupyter-widgets/base",
      "_model_module_version": "1.2.0",
      "_model_name": "LayoutModel",
      "_view_count": null,
      "_view_module": "@jupyter-widgets/base",
      "_view_module_version": "1.2.0",
      "_view_name": "LayoutView",
      "align_content": null,
      "align_items": null,
      "align_self": null,
      "border": null,
      "bottom": null,
      "display": null,
      "flex": null,
      "flex_flow": null,
      "grid_area": null,
      "grid_auto_columns": null,
      "grid_auto_flow": null,
      "grid_auto_rows": null,
      "grid_column": null,
      "grid_gap": null,
      "grid_row": null,
      "grid_template_areas": null,
      "grid_template_columns": null,
      "grid_template_rows": null,
      "height": null,
      "justify_content": null,
      "justify_items": null,
      "left": null,
      "margin": null,
      "max_height": null,
      "max_width": null,
      "min_height": null,
      "min_width": null,
      "object_fit": null,
      "object_position": null,
      "order": null,
      "overflow": null,
      "overflow_x": null,
      "overflow_y": null,
      "padding": null,
      "right": null,
      "top": null,
      "visibility": null,
      "width": null
     }
    },
    "160ba64f6e534ab2898b00a5008da389": {
     "model_module": "@jupyter-widgets/controls",
     "model_module_version": "1.5.0",
     "model_name": "HBoxModel",
     "state": {
      "_dom_classes": [],
      "_model_module": "@jupyter-widgets/controls",
      "_model_module_version": "1.5.0",
      "_model_name": "HBoxModel",
      "_view_count": null,
      "_view_module": "@jupyter-widgets/controls",
      "_view_module_version": "1.5.0",
      "_view_name": "HBoxView",
      "box_style": "",
      "children": [
       "IPY_MODEL_9036f029691f4c0fa8c69b792914ca96",
       "IPY_MODEL_c3f75ea6261a4f51837f83fe824df174",
       "IPY_MODEL_65acb70e31094b95abd4d743ca09e7d1"
      ],
      "layout": "IPY_MODEL_c13530bdbd3b42e6993152a4c9f3fdb3"
     }
    },
    "1a23749fde36470392ebdc9b0be018f5": {
     "model_module": "@jupyter-widgets/controls",
     "model_module_version": "1.5.0",
     "model_name": "ProgressStyleModel",
     "state": {
      "_model_module": "@jupyter-widgets/controls",
      "_model_module_version": "1.5.0",
      "_model_name": "ProgressStyleModel",
      "_view_count": null,
      "_view_module": "@jupyter-widgets/base",
      "_view_module_version": "1.2.0",
      "_view_name": "StyleView",
      "bar_color": null,
      "description_width": ""
     }
    },
    "1b76e453f2514cdd91c91bf0e222edce": {
     "model_module": "@jupyter-widgets/base",
     "model_module_version": "1.2.0",
     "model_name": "LayoutModel",
     "state": {
      "_model_module": "@jupyter-widgets/base",
      "_model_module_version": "1.2.0",
      "_model_name": "LayoutModel",
      "_view_count": null,
      "_view_module": "@jupyter-widgets/base",
      "_view_module_version": "1.2.0",
      "_view_name": "LayoutView",
      "align_content": null,
      "align_items": null,
      "align_self": null,
      "border": null,
      "bottom": null,
      "display": null,
      "flex": null,
      "flex_flow": null,
      "grid_area": null,
      "grid_auto_columns": null,
      "grid_auto_flow": null,
      "grid_auto_rows": null,
      "grid_column": null,
      "grid_gap": null,
      "grid_row": null,
      "grid_template_areas": null,
      "grid_template_columns": null,
      "grid_template_rows": null,
      "height": null,
      "justify_content": null,
      "justify_items": null,
      "left": null,
      "margin": null,
      "max_height": null,
      "max_width": null,
      "min_height": null,
      "min_width": null,
      "object_fit": null,
      "object_position": null,
      "order": null,
      "overflow": null,
      "overflow_x": null,
      "overflow_y": null,
      "padding": null,
      "right": null,
      "top": null,
      "visibility": null,
      "width": null
     }
    },
    "2565e88381814c8cbbfc51fca6276f88": {
     "model_module": "@jupyter-widgets/base",
     "model_module_version": "1.2.0",
     "model_name": "LayoutModel",
     "state": {
      "_model_module": "@jupyter-widgets/base",
      "_model_module_version": "1.2.0",
      "_model_name": "LayoutModel",
      "_view_count": null,
      "_view_module": "@jupyter-widgets/base",
      "_view_module_version": "1.2.0",
      "_view_name": "LayoutView",
      "align_content": null,
      "align_items": null,
      "align_self": null,
      "border": null,
      "bottom": null,
      "display": null,
      "flex": null,
      "flex_flow": null,
      "grid_area": null,
      "grid_auto_columns": null,
      "grid_auto_flow": null,
      "grid_auto_rows": null,
      "grid_column": null,
      "grid_gap": null,
      "grid_row": null,
      "grid_template_areas": null,
      "grid_template_columns": null,
      "grid_template_rows": null,
      "height": null,
      "justify_content": null,
      "justify_items": null,
      "left": null,
      "margin": null,
      "max_height": null,
      "max_width": null,
      "min_height": null,
      "min_width": null,
      "object_fit": null,
      "object_position": null,
      "order": null,
      "overflow": null,
      "overflow_x": null,
      "overflow_y": null,
      "padding": null,
      "right": null,
      "top": null,
      "visibility": null,
      "width": null
     }
    },
    "2ca898987ec74354a87164c5a8208de7": {
     "model_module": "@jupyter-widgets/base",
     "model_module_version": "1.2.0",
     "model_name": "LayoutModel",
     "state": {
      "_model_module": "@jupyter-widgets/base",
      "_model_module_version": "1.2.0",
      "_model_name": "LayoutModel",
      "_view_count": null,
      "_view_module": "@jupyter-widgets/base",
      "_view_module_version": "1.2.0",
      "_view_name": "LayoutView",
      "align_content": null,
      "align_items": null,
      "align_self": null,
      "border": null,
      "bottom": null,
      "display": null,
      "flex": null,
      "flex_flow": null,
      "grid_area": null,
      "grid_auto_columns": null,
      "grid_auto_flow": null,
      "grid_auto_rows": null,
      "grid_column": null,
      "grid_gap": null,
      "grid_row": null,
      "grid_template_areas": null,
      "grid_template_columns": null,
      "grid_template_rows": null,
      "height": null,
      "justify_content": null,
      "justify_items": null,
      "left": null,
      "margin": null,
      "max_height": null,
      "max_width": null,
      "min_height": null,
      "min_width": null,
      "object_fit": null,
      "object_position": null,
      "order": null,
      "overflow": null,
      "overflow_x": null,
      "overflow_y": null,
      "padding": null,
      "right": null,
      "top": null,
      "visibility": null,
      "width": null
     }
    },
    "3230080715d642e2bb0d6dee4291adec": {
     "model_module": "@jupyter-widgets/controls",
     "model_module_version": "1.5.0",
     "model_name": "FloatProgressModel",
     "state": {
      "_dom_classes": [],
      "_model_module": "@jupyter-widgets/controls",
      "_model_module_version": "1.5.0",
      "_model_name": "FloatProgressModel",
      "_view_count": null,
      "_view_module": "@jupyter-widgets/controls",
      "_view_module_version": "1.5.0",
      "_view_name": "ProgressView",
      "bar_style": "success",
      "description": "",
      "description_tooltip": null,
      "layout": "IPY_MODEL_49d4622678404cdd99f74f44399026ba",
      "max": 25,
      "min": 0,
      "orientation": "horizontal",
      "style": "IPY_MODEL_8b0134e641804b7ea55aa07971817e26",
      "value": 25
     }
    },
    "33829a621a6643d2b8057f108928430b": {
     "model_module": "@jupyter-widgets/base",
     "model_module_version": "1.2.0",
     "model_name": "LayoutModel",
     "state": {
      "_model_module": "@jupyter-widgets/base",
      "_model_module_version": "1.2.0",
      "_model_name": "LayoutModel",
      "_view_count": null,
      "_view_module": "@jupyter-widgets/base",
      "_view_module_version": "1.2.0",
      "_view_name": "LayoutView",
      "align_content": null,
      "align_items": null,
      "align_self": null,
      "border": null,
      "bottom": null,
      "display": null,
      "flex": null,
      "flex_flow": null,
      "grid_area": null,
      "grid_auto_columns": null,
      "grid_auto_flow": null,
      "grid_auto_rows": null,
      "grid_column": null,
      "grid_gap": null,
      "grid_row": null,
      "grid_template_areas": null,
      "grid_template_columns": null,
      "grid_template_rows": null,
      "height": null,
      "justify_content": null,
      "justify_items": null,
      "left": null,
      "margin": null,
      "max_height": null,
      "max_width": null,
      "min_height": null,
      "min_width": null,
      "object_fit": null,
      "object_position": null,
      "order": null,
      "overflow": null,
      "overflow_x": null,
      "overflow_y": null,
      "padding": null,
      "right": null,
      "top": null,
      "visibility": null,
      "width": null
     }
    },
    "3a4904966c0843d096ecf044a5c04d0b": {
     "model_module": "@jupyter-widgets/controls",
     "model_module_version": "1.5.0",
     "model_name": "DescriptionStyleModel",
     "state": {
      "_model_module": "@jupyter-widgets/controls",
      "_model_module_version": "1.5.0",
      "_model_name": "DescriptionStyleModel",
      "_view_count": null,
      "_view_module": "@jupyter-widgets/base",
      "_view_module_version": "1.2.0",
      "_view_name": "StyleView",
      "description_width": ""
     }
    },
    "43962972a3164b6796afc3f56d4628ed": {
     "model_module": "@jupyter-widgets/controls",
     "model_module_version": "1.5.0",
     "model_name": "DescriptionStyleModel",
     "state": {
      "_model_module": "@jupyter-widgets/controls",
      "_model_module_version": "1.5.0",
      "_model_name": "DescriptionStyleModel",
      "_view_count": null,
      "_view_module": "@jupyter-widgets/base",
      "_view_module_version": "1.2.0",
      "_view_name": "StyleView",
      "description_width": ""
     }
    },
    "49d4622678404cdd99f74f44399026ba": {
     "model_module": "@jupyter-widgets/base",
     "model_module_version": "1.2.0",
     "model_name": "LayoutModel",
     "state": {
      "_model_module": "@jupyter-widgets/base",
      "_model_module_version": "1.2.0",
      "_model_name": "LayoutModel",
      "_view_count": null,
      "_view_module": "@jupyter-widgets/base",
      "_view_module_version": "1.2.0",
      "_view_name": "LayoutView",
      "align_content": null,
      "align_items": null,
      "align_self": null,
      "border": null,
      "bottom": null,
      "display": null,
      "flex": null,
      "flex_flow": null,
      "grid_area": null,
      "grid_auto_columns": null,
      "grid_auto_flow": null,
      "grid_auto_rows": null,
      "grid_column": null,
      "grid_gap": null,
      "grid_row": null,
      "grid_template_areas": null,
      "grid_template_columns": null,
      "grid_template_rows": null,
      "height": null,
      "justify_content": null,
      "justify_items": null,
      "left": null,
      "margin": null,
      "max_height": null,
      "max_width": null,
      "min_height": null,
      "min_width": null,
      "object_fit": null,
      "object_position": null,
      "order": null,
      "overflow": null,
      "overflow_x": null,
      "overflow_y": null,
      "padding": null,
      "right": null,
      "top": null,
      "visibility": null,
      "width": null
     }
    },
    "4f510383a2614a2a9dd5c5994e2bfb70": {
     "model_module": "@jupyter-widgets/base",
     "model_module_version": "1.2.0",
     "model_name": "LayoutModel",
     "state": {
      "_model_module": "@jupyter-widgets/base",
      "_model_module_version": "1.2.0",
      "_model_name": "LayoutModel",
      "_view_count": null,
      "_view_module": "@jupyter-widgets/base",
      "_view_module_version": "1.2.0",
      "_view_name": "LayoutView",
      "align_content": null,
      "align_items": null,
      "align_self": null,
      "border": null,
      "bottom": null,
      "display": null,
      "flex": null,
      "flex_flow": null,
      "grid_area": null,
      "grid_auto_columns": null,
      "grid_auto_flow": null,
      "grid_auto_rows": null,
      "grid_column": null,
      "grid_gap": null,
      "grid_row": null,
      "grid_template_areas": null,
      "grid_template_columns": null,
      "grid_template_rows": null,
      "height": null,
      "justify_content": null,
      "justify_items": null,
      "left": null,
      "margin": null,
      "max_height": null,
      "max_width": null,
      "min_height": null,
      "min_width": null,
      "object_fit": null,
      "object_position": null,
      "order": null,
      "overflow": null,
      "overflow_x": null,
      "overflow_y": null,
      "padding": null,
      "right": null,
      "top": null,
      "visibility": null,
      "width": null
     }
    },
    "54103caef78f4ff3b158849c4aa78441": {
     "model_module": "@jupyter-widgets/controls",
     "model_module_version": "1.5.0",
     "model_name": "HBoxModel",
     "state": {
      "_dom_classes": [],
      "_model_module": "@jupyter-widgets/controls",
      "_model_module_version": "1.5.0",
      "_model_name": "HBoxModel",
      "_view_count": null,
      "_view_module": "@jupyter-widgets/controls",
      "_view_module_version": "1.5.0",
      "_view_name": "HBoxView",
      "box_style": "",
      "children": [
       "IPY_MODEL_bbf360e43b7c42aa9f6a572081831729",
       "IPY_MODEL_5a33ee9c91ba46129d2e9cd65d535423",
       "IPY_MODEL_ab4d4a46ca1d449fa88c39da000b29a6"
      ],
      "layout": "IPY_MODEL_686b5c27716849dfaa3e7ab6e71b8049"
     }
    },
    "5a33ee9c91ba46129d2e9cd65d535423": {
     "model_module": "@jupyter-widgets/controls",
     "model_module_version": "1.5.0",
     "model_name": "FloatProgressModel",
     "state": {
      "_dom_classes": [],
      "_model_module": "@jupyter-widgets/controls",
      "_model_module_version": "1.5.0",
      "_model_name": "FloatProgressModel",
      "_view_count": null,
      "_view_module": "@jupyter-widgets/controls",
      "_view_module_version": "1.5.0",
      "_view_name": "ProgressView",
      "bar_style": "success",
      "description": "",
      "description_tooltip": null,
      "layout": "IPY_MODEL_03fcc3475d5b4660805b7ef8a368e150",
      "max": 1355863,
      "min": 0,
      "orientation": "horizontal",
      "style": "IPY_MODEL_a50680e7d9cc4c648c3f07a6d6754fa9",
      "value": 1355863
     }
    },
    "5b9f90edbcfc4636a79fc6d4b700e87c": {
     "model_module": "@jupyter-widgets/controls",
     "model_module_version": "1.5.0",
     "model_name": "HBoxModel",
     "state": {
      "_dom_classes": [],
      "_model_module": "@jupyter-widgets/controls",
      "_model_module_version": "1.5.0",
      "_model_name": "HBoxModel",
      "_view_count": null,
      "_view_module": "@jupyter-widgets/controls",
      "_view_module_version": "1.5.0",
      "_view_name": "HBoxView",
      "box_style": "",
      "children": [
       "IPY_MODEL_fa973510fb2e43078ea7037a266bfd8f",
       "IPY_MODEL_f6cea9e440714893b07f0a2fef196804",
       "IPY_MODEL_61f2307892b2489f9f103d25860d0e04"
      ],
      "layout": "IPY_MODEL_15fb735f057442eb9d14479a6f429352"
     }
    },
    "604326fb921746b485cc5925950dbe56": {
     "model_module": "@jupyter-widgets/controls",
     "model_module_version": "1.5.0",
     "model_name": "HTMLModel",
     "state": {
      "_dom_classes": [],
      "_model_module": "@jupyter-widgets/controls",
      "_model_module_version": "1.5.0",
      "_model_name": "HTMLModel",
      "_view_count": null,
      "_view_module": "@jupyter-widgets/controls",
      "_view_module_version": "1.5.0",
      "_view_name": "HTMLView",
      "description": "",
      "description_tooltip": null,
      "layout": "IPY_MODEL_bd942b9fd9f8420390f2061f4eb35bf6",
      "placeholder": "​",
      "style": "IPY_MODEL_3a4904966c0843d096ecf044a5c04d0b",
      "value": "merges.txt: 100%"
     }
    },
    "61f2307892b2489f9f103d25860d0e04": {
     "model_module": "@jupyter-widgets/controls",
     "model_module_version": "1.5.0",
     "model_name": "HTMLModel",
     "state": {
      "_dom_classes": [],
      "_model_module": "@jupyter-widgets/controls",
      "_model_module_version": "1.5.0",
      "_model_name": "HTMLModel",
      "_view_count": null,
      "_view_module": "@jupyter-widgets/controls",
      "_view_module_version": "1.5.0",
      "_view_name": "HTMLView",
      "description": "",
      "description_tooltip": null,
      "layout": "IPY_MODEL_6526c16093904c558bf75f813ba8b372",
      "placeholder": "​",
      "style": "IPY_MODEL_014cd90bbdc94f5a810bb3266d2884aa",
      "value": " 899k/899k [00:00&lt;00:00, 9.12MB/s]"
     }
    },
    "6526c16093904c558bf75f813ba8b372": {
     "model_module": "@jupyter-widgets/base",
     "model_module_version": "1.2.0",
     "model_name": "LayoutModel",
     "state": {
      "_model_module": "@jupyter-widgets/base",
      "_model_module_version": "1.2.0",
      "_model_name": "LayoutModel",
      "_view_count": null,
      "_view_module": "@jupyter-widgets/base",
      "_view_module_version": "1.2.0",
      "_view_name": "LayoutView",
      "align_content": null,
      "align_items": null,
      "align_self": null,
      "border": null,
      "bottom": null,
      "display": null,
      "flex": null,
      "flex_flow": null,
      "grid_area": null,
      "grid_auto_columns": null,
      "grid_auto_flow": null,
      "grid_auto_rows": null,
      "grid_column": null,
      "grid_gap": null,
      "grid_row": null,
      "grid_template_areas": null,
      "grid_template_columns": null,
      "grid_template_rows": null,
      "height": null,
      "justify_content": null,
      "justify_items": null,
      "left": null,
      "margin": null,
      "max_height": null,
      "max_width": null,
      "min_height": null,
      "min_width": null,
      "object_fit": null,
      "object_position": null,
      "order": null,
      "overflow": null,
      "overflow_x": null,
      "overflow_y": null,
      "padding": null,
      "right": null,
      "top": null,
      "visibility": null,
      "width": null
     }
    },
    "65acb70e31094b95abd4d743ca09e7d1": {
     "model_module": "@jupyter-widgets/controls",
     "model_module_version": "1.5.0",
     "model_name": "HTMLModel",
     "state": {
      "_dom_classes": [],
      "_model_module": "@jupyter-widgets/controls",
      "_model_module_version": "1.5.0",
      "_model_name": "HTMLModel",
      "_view_count": null,
      "_view_module": "@jupyter-widgets/controls",
      "_view_module_version": "1.5.0",
      "_view_name": "HTMLView",
      "description": "",
      "description_tooltip": null,
      "layout": "IPY_MODEL_681733027e0c45b79f4d8de964bffcd1",
      "placeholder": "​",
      "style": "IPY_MODEL_8d4ea995e33a47e196b37d8c5562180a",
      "value": " 499M/499M [00:03&lt;00:00, 169MB/s]"
     }
    },
    "681733027e0c45b79f4d8de964bffcd1": {
     "model_module": "@jupyter-widgets/base",
     "model_module_version": "1.2.0",
     "model_name": "LayoutModel",
     "state": {
      "_model_module": "@jupyter-widgets/base",
      "_model_module_version": "1.2.0",
      "_model_name": "LayoutModel",
      "_view_count": null,
      "_view_module": "@jupyter-widgets/base",
      "_view_module_version": "1.2.0",
      "_view_name": "LayoutView",
      "align_content": null,
      "align_items": null,
      "align_self": null,
      "border": null,
      "bottom": null,
      "display": null,
      "flex": null,
      "flex_flow": null,
      "grid_area": null,
      "grid_auto_columns": null,
      "grid_auto_flow": null,
      "grid_auto_rows": null,
      "grid_column": null,
      "grid_gap": null,
      "grid_row": null,
      "grid_template_areas": null,
      "grid_template_columns": null,
      "grid_template_rows": null,
      "height": null,
      "justify_content": null,
      "justify_items": null,
      "left": null,
      "margin": null,
      "max_height": null,
      "max_width": null,
      "min_height": null,
      "min_width": null,
      "object_fit": null,
      "object_position": null,
      "order": null,
      "overflow": null,
      "overflow_x": null,
      "overflow_y": null,
      "padding": null,
      "right": null,
      "top": null,
      "visibility": null,
      "width": null
     }
    },
    "686b5c27716849dfaa3e7ab6e71b8049": {
     "model_module": "@jupyter-widgets/base",
     "model_module_version": "1.2.0",
     "model_name": "LayoutModel",
     "state": {
      "_model_module": "@jupyter-widgets/base",
      "_model_module_version": "1.2.0",
      "_model_name": "LayoutModel",
      "_view_count": null,
      "_view_module": "@jupyter-widgets/base",
      "_view_module_version": "1.2.0",
      "_view_name": "LayoutView",
      "align_content": null,
      "align_items": null,
      "align_self": null,
      "border": null,
      "bottom": null,
      "display": null,
      "flex": null,
      "flex_flow": null,
      "grid_area": null,
      "grid_auto_columns": null,
      "grid_auto_flow": null,
      "grid_auto_rows": null,
      "grid_column": null,
      "grid_gap": null,
      "grid_row": null,
      "grid_template_areas": null,
      "grid_template_columns": null,
      "grid_template_rows": null,
      "height": null,
      "justify_content": null,
      "justify_items": null,
      "left": null,
      "margin": null,
      "max_height": null,
      "max_width": null,
      "min_height": null,
      "min_width": null,
      "object_fit": null,
      "object_position": null,
      "order": null,
      "overflow": null,
      "overflow_x": null,
      "overflow_y": null,
      "padding": null,
      "right": null,
      "top": null,
      "visibility": null,
      "width": null
     }
    },
    "711dfebf7d02483cadfc09e7388e96c5": {
     "model_module": "@jupyter-widgets/base",
     "model_module_version": "1.2.0",
     "model_name": "LayoutModel",
     "state": {
      "_model_module": "@jupyter-widgets/base",
      "_model_module_version": "1.2.0",
      "_model_name": "LayoutModel",
      "_view_count": null,
      "_view_module": "@jupyter-widgets/base",
      "_view_module_version": "1.2.0",
      "_view_name": "LayoutView",
      "align_content": null,
      "align_items": null,
      "align_self": null,
      "border": null,
      "bottom": null,
      "display": null,
      "flex": null,
      "flex_flow": null,
      "grid_area": null,
      "grid_auto_columns": null,
      "grid_auto_flow": null,
      "grid_auto_rows": null,
      "grid_column": null,
      "grid_gap": null,
      "grid_row": null,
      "grid_template_areas": null,
      "grid_template_columns": null,
      "grid_template_rows": null,
      "height": null,
      "justify_content": null,
      "justify_items": null,
      "left": null,
      "margin": null,
      "max_height": null,
      "max_width": null,
      "min_height": null,
      "min_width": null,
      "object_fit": null,
      "object_position": null,
      "order": null,
      "overflow": null,
      "overflow_x": null,
      "overflow_y": null,
      "padding": null,
      "right": null,
      "top": null,
      "visibility": null,
      "width": null
     }
    },
    "739d3330e5c5488bac2dbc6d15fc493a": {
     "model_module": "@jupyter-widgets/controls",
     "model_module_version": "1.5.0",
     "model_name": "HTMLModel",
     "state": {
      "_dom_classes": [],
      "_model_module": "@jupyter-widgets/controls",
      "_model_module_version": "1.5.0",
      "_model_name": "HTMLModel",
      "_view_count": null,
      "_view_module": "@jupyter-widgets/controls",
      "_view_module_version": "1.5.0",
      "_view_name": "HTMLView",
      "description": "",
      "description_tooltip": null,
      "layout": "IPY_MODEL_ef2d8588a74d4d1b802ef20190de9598",
      "placeholder": "​",
      "style": "IPY_MODEL_8a6cf9f8d93647cd881db75001f9a0c5",
      "value": " 481/481 [00:00&lt;00:00, 37.1kB/s]"
     }
    },
    "7504abc4eb9847a2b3745c504cffbfc7": {
     "model_module": "@jupyter-widgets/base",
     "model_module_version": "1.2.0",
     "model_name": "LayoutModel",
     "state": {
      "_model_module": "@jupyter-widgets/base",
      "_model_module_version": "1.2.0",
      "_model_name": "LayoutModel",
      "_view_count": null,
      "_view_module": "@jupyter-widgets/base",
      "_view_module_version": "1.2.0",
      "_view_name": "LayoutView",
      "align_content": null,
      "align_items": null,
      "align_self": null,
      "border": null,
      "bottom": null,
      "display": null,
      "flex": null,
      "flex_flow": null,
      "grid_area": null,
      "grid_auto_columns": null,
      "grid_auto_flow": null,
      "grid_auto_rows": null,
      "grid_column": null,
      "grid_gap": null,
      "grid_row": null,
      "grid_template_areas": null,
      "grid_template_columns": null,
      "grid_template_rows": null,
      "height": null,
      "justify_content": null,
      "justify_items": null,
      "left": null,
      "margin": null,
      "max_height": null,
      "max_width": null,
      "min_height": null,
      "min_width": null,
      "object_fit": null,
      "object_position": null,
      "order": null,
      "overflow": null,
      "overflow_x": null,
      "overflow_y": null,
      "padding": null,
      "right": null,
      "top": null,
      "visibility": null,
      "width": null
     }
    },
    "8475b8972fc8486990a94f171627f21b": {
     "model_module": "@jupyter-widgets/controls",
     "model_module_version": "1.5.0",
     "model_name": "HTMLModel",
     "state": {
      "_dom_classes": [],
      "_model_module": "@jupyter-widgets/controls",
      "_model_module_version": "1.5.0",
      "_model_name": "HTMLModel",
      "_view_count": null,
      "_view_module": "@jupyter-widgets/controls",
      "_view_module_version": "1.5.0",
      "_view_name": "HTMLView",
      "description": "",
      "description_tooltip": null,
      "layout": "IPY_MODEL_dc04d38c7cfe45678344767d591e1fa8",
      "placeholder": "​",
      "style": "IPY_MODEL_ea5c71cbb05a4a9db16153fb5e68d7d9",
      "value": "config.json: 100%"
     }
    },
    "84bde641f1cd4984870fb5bb9a231881": {
     "model_module": "@jupyter-widgets/base",
     "model_module_version": "1.2.0",
     "model_name": "LayoutModel",
     "state": {
      "_model_module": "@jupyter-widgets/base",
      "_model_module_version": "1.2.0",
      "_model_name": "LayoutModel",
      "_view_count": null,
      "_view_module": "@jupyter-widgets/base",
      "_view_module_version": "1.2.0",
      "_view_name": "LayoutView",
      "align_content": null,
      "align_items": null,
      "align_self": null,
      "border": null,
      "bottom": null,
      "display": null,
      "flex": null,
      "flex_flow": null,
      "grid_area": null,
      "grid_auto_columns": null,
      "grid_auto_flow": null,
      "grid_auto_rows": null,
      "grid_column": null,
      "grid_gap": null,
      "grid_row": null,
      "grid_template_areas": null,
      "grid_template_columns": null,
      "grid_template_rows": null,
      "height": null,
      "justify_content": null,
      "justify_items": null,
      "left": null,
      "margin": null,
      "max_height": null,
      "max_width": null,
      "min_height": null,
      "min_width": null,
      "object_fit": null,
      "object_position": null,
      "order": null,
      "overflow": null,
      "overflow_x": null,
      "overflow_y": null,
      "padding": null,
      "right": null,
      "top": null,
      "visibility": null,
      "width": null
     }
    },
    "8a6cf9f8d93647cd881db75001f9a0c5": {
     "model_module": "@jupyter-widgets/controls",
     "model_module_version": "1.5.0",
     "model_name": "DescriptionStyleModel",
     "state": {
      "_model_module": "@jupyter-widgets/controls",
      "_model_module_version": "1.5.0",
      "_model_name": "DescriptionStyleModel",
      "_view_count": null,
      "_view_module": "@jupyter-widgets/base",
      "_view_module_version": "1.2.0",
      "_view_name": "StyleView",
      "description_width": ""
     }
    },
    "8b0134e641804b7ea55aa07971817e26": {
     "model_module": "@jupyter-widgets/controls",
     "model_module_version": "1.5.0",
     "model_name": "ProgressStyleModel",
     "state": {
      "_model_module": "@jupyter-widgets/controls",
      "_model_module_version": "1.5.0",
      "_model_name": "ProgressStyleModel",
      "_view_count": null,
      "_view_module": "@jupyter-widgets/base",
      "_view_module_version": "1.2.0",
      "_view_name": "StyleView",
      "bar_color": null,
      "description_width": ""
     }
    },
    "8b15cbde612742e89993a001efe01168": {
     "model_module": "@jupyter-widgets/controls",
     "model_module_version": "1.5.0",
     "model_name": "HBoxModel",
     "state": {
      "_dom_classes": [],
      "_model_module": "@jupyter-widgets/controls",
      "_model_module_version": "1.5.0",
      "_model_name": "HBoxModel",
      "_view_count": null,
      "_view_module": "@jupyter-widgets/controls",
      "_view_module_version": "1.5.0",
      "_view_name": "HBoxView",
      "box_style": "",
      "children": [
       "IPY_MODEL_8475b8972fc8486990a94f171627f21b",
       "IPY_MODEL_13b60139a80840519a0aa8b72a63eb31",
       "IPY_MODEL_739d3330e5c5488bac2dbc6d15fc493a"
      ],
      "layout": "IPY_MODEL_84bde641f1cd4984870fb5bb9a231881"
     }
    },
    "8d4ea995e33a47e196b37d8c5562180a": {
     "model_module": "@jupyter-widgets/controls",
     "model_module_version": "1.5.0",
     "model_name": "DescriptionStyleModel",
     "state": {
      "_model_module": "@jupyter-widgets/controls",
      "_model_module_version": "1.5.0",
      "_model_name": "DescriptionStyleModel",
      "_view_count": null,
      "_view_module": "@jupyter-widgets/base",
      "_view_module_version": "1.2.0",
      "_view_name": "StyleView",
      "description_width": ""
     }
    },
    "9036f029691f4c0fa8c69b792914ca96": {
     "model_module": "@jupyter-widgets/controls",
     "model_module_version": "1.5.0",
     "model_name": "HTMLModel",
     "state": {
      "_dom_classes": [],
      "_model_module": "@jupyter-widgets/controls",
      "_model_module_version": "1.5.0",
      "_model_name": "HTMLModel",
      "_view_count": null,
      "_view_module": "@jupyter-widgets/controls",
      "_view_module_version": "1.5.0",
      "_view_name": "HTMLView",
      "description": "",
      "description_tooltip": null,
      "layout": "IPY_MODEL_a094750f251c46728e1577a1bfaa9993",
      "placeholder": "​",
      "style": "IPY_MODEL_43962972a3164b6796afc3f56d4628ed",
      "value": "model.safetensors: 100%"
     }
    },
    "9189bfa5cd42418f9f5003040a088604": {
     "model_module": "@jupyter-widgets/base",
     "model_module_version": "1.2.0",
     "model_name": "LayoutModel",
     "state": {
      "_model_module": "@jupyter-widgets/base",
      "_model_module_version": "1.2.0",
      "_model_name": "LayoutModel",
      "_view_count": null,
      "_view_module": "@jupyter-widgets/base",
      "_view_module_version": "1.2.0",
      "_view_name": "LayoutView",
      "align_content": null,
      "align_items": null,
      "align_self": null,
      "border": null,
      "bottom": null,
      "display": null,
      "flex": null,
      "flex_flow": null,
      "grid_area": null,
      "grid_auto_columns": null,
      "grid_auto_flow": null,
      "grid_auto_rows": null,
      "grid_column": null,
      "grid_gap": null,
      "grid_row": null,
      "grid_template_areas": null,
      "grid_template_columns": null,
      "grid_template_rows": null,
      "height": null,
      "justify_content": null,
      "justify_items": null,
      "left": null,
      "margin": null,
      "max_height": null,
      "max_width": null,
      "min_height": null,
      "min_width": null,
      "object_fit": null,
      "object_position": null,
      "order": null,
      "overflow": null,
      "overflow_x": null,
      "overflow_y": null,
      "padding": null,
      "right": null,
      "top": null,
      "visibility": null,
      "width": null
     }
    },
    "a094750f251c46728e1577a1bfaa9993": {
     "model_module": "@jupyter-widgets/base",
     "model_module_version": "1.2.0",
     "model_name": "LayoutModel",
     "state": {
      "_model_module": "@jupyter-widgets/base",
      "_model_module_version": "1.2.0",
      "_model_name": "LayoutModel",
      "_view_count": null,
      "_view_module": "@jupyter-widgets/base",
      "_view_module_version": "1.2.0",
      "_view_name": "LayoutView",
      "align_content": null,
      "align_items": null,
      "align_self": null,
      "border": null,
      "bottom": null,
      "display": null,
      "flex": null,
      "flex_flow": null,
      "grid_area": null,
      "grid_auto_columns": null,
      "grid_auto_flow": null,
      "grid_auto_rows": null,
      "grid_column": null,
      "grid_gap": null,
      "grid_row": null,
      "grid_template_areas": null,
      "grid_template_columns": null,
      "grid_template_rows": null,
      "height": null,
      "justify_content": null,
      "justify_items": null,
      "left": null,
      "margin": null,
      "max_height": null,
      "max_width": null,
      "min_height": null,
      "min_width": null,
      "object_fit": null,
      "object_position": null,
      "order": null,
      "overflow": null,
      "overflow_x": null,
      "overflow_y": null,
      "padding": null,
      "right": null,
      "top": null,
      "visibility": null,
      "width": null
     }
    },
    "a0f3ece79c7543cc843987971291f1a4": {
     "model_module": "@jupyter-widgets/base",
     "model_module_version": "1.2.0",
     "model_name": "LayoutModel",
     "state": {
      "_model_module": "@jupyter-widgets/base",
      "_model_module_version": "1.2.0",
      "_model_name": "LayoutModel",
      "_view_count": null,
      "_view_module": "@jupyter-widgets/base",
      "_view_module_version": "1.2.0",
      "_view_name": "LayoutView",
      "align_content": null,
      "align_items": null,
      "align_self": null,
      "border": null,
      "bottom": null,
      "display": null,
      "flex": null,
      "flex_flow": null,
      "grid_area": null,
      "grid_auto_columns": null,
      "grid_auto_flow": null,
      "grid_auto_rows": null,
      "grid_column": null,
      "grid_gap": null,
      "grid_row": null,
      "grid_template_areas": null,
      "grid_template_columns": null,
      "grid_template_rows": null,
      "height": null,
      "justify_content": null,
      "justify_items": null,
      "left": null,
      "margin": null,
      "max_height": null,
      "max_width": null,
      "min_height": null,
      "min_width": null,
      "object_fit": null,
      "object_position": null,
      "order": null,
      "overflow": null,
      "overflow_x": null,
      "overflow_y": null,
      "padding": null,
      "right": null,
      "top": null,
      "visibility": null,
      "width": null
     }
    },
    "a46c4fbdab2240bc8a775f37fd6a359b": {
     "model_module": "@jupyter-widgets/controls",
     "model_module_version": "1.5.0",
     "model_name": "DescriptionStyleModel",
     "state": {
      "_model_module": "@jupyter-widgets/controls",
      "_model_module_version": "1.5.0",
      "_model_name": "DescriptionStyleModel",
      "_view_count": null,
      "_view_module": "@jupyter-widgets/base",
      "_view_module_version": "1.2.0",
      "_view_name": "StyleView",
      "description_width": ""
     }
    },
    "a50680e7d9cc4c648c3f07a6d6754fa9": {
     "model_module": "@jupyter-widgets/controls",
     "model_module_version": "1.5.0",
     "model_name": "ProgressStyleModel",
     "state": {
      "_model_module": "@jupyter-widgets/controls",
      "_model_module_version": "1.5.0",
      "_model_name": "ProgressStyleModel",
      "_view_count": null,
      "_view_module": "@jupyter-widgets/base",
      "_view_module_version": "1.2.0",
      "_view_name": "StyleView",
      "bar_color": null,
      "description_width": ""
     }
    },
    "ab4d4a46ca1d449fa88c39da000b29a6": {
     "model_module": "@jupyter-widgets/controls",
     "model_module_version": "1.5.0",
     "model_name": "HTMLModel",
     "state": {
      "_dom_classes": [],
      "_model_module": "@jupyter-widgets/controls",
      "_model_module_version": "1.5.0",
      "_model_name": "HTMLModel",
      "_view_count": null,
      "_view_module": "@jupyter-widgets/controls",
      "_view_module_version": "1.5.0",
      "_view_name": "HTMLView",
      "description": "",
      "description_tooltip": null,
      "layout": "IPY_MODEL_4f510383a2614a2a9dd5c5994e2bfb70",
      "placeholder": "​",
      "style": "IPY_MODEL_e1d9c7260fcf4aa1a1670aba30ec793b",
      "value": " 1.36M/1.36M [00:00&lt;00:00, 14.4MB/s]"
     }
    },
    "adc4e991824b4eaaa686ddc698c44803": {
     "model_module": "@jupyter-widgets/base",
     "model_module_version": "1.2.0",
     "model_name": "LayoutModel",
     "state": {
      "_model_module": "@jupyter-widgets/base",
      "_model_module_version": "1.2.0",
      "_model_name": "LayoutModel",
      "_view_count": null,
      "_view_module": "@jupyter-widgets/base",
      "_view_module_version": "1.2.0",
      "_view_name": "LayoutView",
      "align_content": null,
      "align_items": null,
      "align_self": null,
      "border": null,
      "bottom": null,
      "display": null,
      "flex": null,
      "flex_flow": null,
      "grid_area": null,
      "grid_auto_columns": null,
      "grid_auto_flow": null,
      "grid_auto_rows": null,
      "grid_column": null,
      "grid_gap": null,
      "grid_row": null,
      "grid_template_areas": null,
      "grid_template_columns": null,
      "grid_template_rows": null,
      "height": null,
      "justify_content": null,
      "justify_items": null,
      "left": null,
      "margin": null,
      "max_height": null,
      "max_width": null,
      "min_height": null,
      "min_width": null,
      "object_fit": null,
      "object_position": null,
      "order": null,
      "overflow": null,
      "overflow_x": null,
      "overflow_y": null,
      "padding": null,
      "right": null,
      "top": null,
      "visibility": null,
      "width": null
     }
    },
    "ae174efe1cca4d4696bff9cf37cdd955": {
     "model_module": "@jupyter-widgets/controls",
     "model_module_version": "1.5.0",
     "model_name": "FloatProgressModel",
     "state": {
      "_dom_classes": [],
      "_model_module": "@jupyter-widgets/controls",
      "_model_module_version": "1.5.0",
      "_model_name": "FloatProgressModel",
      "_view_count": null,
      "_view_module": "@jupyter-widgets/controls",
      "_view_module_version": "1.5.0",
      "_view_name": "ProgressView",
      "bar_style": "success",
      "description": "",
      "description_tooltip": null,
      "layout": "IPY_MODEL_33829a621a6643d2b8057f108928430b",
      "max": 456318,
      "min": 0,
      "orientation": "horizontal",
      "style": "IPY_MODEL_1a23749fde36470392ebdc9b0be018f5",
      "value": 456318
     }
    },
    "b30449ad9c2d4e3196edd761d7b437b2": {
     "model_module": "@jupyter-widgets/controls",
     "model_module_version": "1.5.0",
     "model_name": "DescriptionStyleModel",
     "state": {
      "_model_module": "@jupyter-widgets/controls",
      "_model_module_version": "1.5.0",
      "_model_name": "DescriptionStyleModel",
      "_view_count": null,
      "_view_module": "@jupyter-widgets/base",
      "_view_module_version": "1.2.0",
      "_view_name": "StyleView",
      "description_width": ""
     }
    },
    "bbf360e43b7c42aa9f6a572081831729": {
     "model_module": "@jupyter-widgets/controls",
     "model_module_version": "1.5.0",
     "model_name": "HTMLModel",
     "state": {
      "_dom_classes": [],
      "_model_module": "@jupyter-widgets/controls",
      "_model_module_version": "1.5.0",
      "_model_name": "HTMLModel",
      "_view_count": null,
      "_view_module": "@jupyter-widgets/controls",
      "_view_module_version": "1.5.0",
      "_view_name": "HTMLView",
      "description": "",
      "description_tooltip": null,
      "layout": "IPY_MODEL_adc4e991824b4eaaa686ddc698c44803",
      "placeholder": "​",
      "style": "IPY_MODEL_e75e1f181a2c40c18d77ac5e066fc8f2",
      "value": "tokenizer.json: 100%"
     }
    },
    "bd942b9fd9f8420390f2061f4eb35bf6": {
     "model_module": "@jupyter-widgets/base",
     "model_module_version": "1.2.0",
     "model_name": "LayoutModel",
     "state": {
      "_model_module": "@jupyter-widgets/base",
      "_model_module_version": "1.2.0",
      "_model_name": "LayoutModel",
      "_view_count": null,
      "_view_module": "@jupyter-widgets/base",
      "_view_module_version": "1.2.0",
      "_view_name": "LayoutView",
      "align_content": null,
      "align_items": null,
      "align_self": null,
      "border": null,
      "bottom": null,
      "display": null,
      "flex": null,
      "flex_flow": null,
      "grid_area": null,
      "grid_auto_columns": null,
      "grid_auto_flow": null,
      "grid_auto_rows": null,
      "grid_column": null,
      "grid_gap": null,
      "grid_row": null,
      "grid_template_areas": null,
      "grid_template_columns": null,
      "grid_template_rows": null,
      "height": null,
      "justify_content": null,
      "justify_items": null,
      "left": null,
      "margin": null,
      "max_height": null,
      "max_width": null,
      "min_height": null,
      "min_width": null,
      "object_fit": null,
      "object_position": null,
      "order": null,
      "overflow": null,
      "overflow_x": null,
      "overflow_y": null,
      "padding": null,
      "right": null,
      "top": null,
      "visibility": null,
      "width": null
     }
    },
    "beed4fef2905494e88929248ba31c86c": {
     "model_module": "@jupyter-widgets/controls",
     "model_module_version": "1.5.0",
     "model_name": "HTMLModel",
     "state": {
      "_dom_classes": [],
      "_model_module": "@jupyter-widgets/controls",
      "_model_module_version": "1.5.0",
      "_model_name": "HTMLModel",
      "_view_count": null,
      "_view_module": "@jupyter-widgets/controls",
      "_view_module_version": "1.5.0",
      "_view_name": "HTMLView",
      "description": "",
      "description_tooltip": null,
      "layout": "IPY_MODEL_7504abc4eb9847a2b3745c504cffbfc7",
      "placeholder": "​",
      "style": "IPY_MODEL_eabbef75357a4b819ea45a92b5858f25",
      "value": "tokenizer_config.json: 100%"
     }
    },
    "bfb3e6db70844d91973f78b2e7116af4": {
     "model_module": "@jupyter-widgets/controls",
     "model_module_version": "1.5.0",
     "model_name": "ProgressStyleModel",
     "state": {
      "_model_module": "@jupyter-widgets/controls",
      "_model_module_version": "1.5.0",
      "_model_name": "ProgressStyleModel",
      "_view_count": null,
      "_view_module": "@jupyter-widgets/base",
      "_view_module_version": "1.2.0",
      "_view_name": "StyleView",
      "bar_color": null,
      "description_width": ""
     }
    },
    "c13530bdbd3b42e6993152a4c9f3fdb3": {
     "model_module": "@jupyter-widgets/base",
     "model_module_version": "1.2.0",
     "model_name": "LayoutModel",
     "state": {
      "_model_module": "@jupyter-widgets/base",
      "_model_module_version": "1.2.0",
      "_model_name": "LayoutModel",
      "_view_count": null,
      "_view_module": "@jupyter-widgets/base",
      "_view_module_version": "1.2.0",
      "_view_name": "LayoutView",
      "align_content": null,
      "align_items": null,
      "align_self": null,
      "border": null,
      "bottom": null,
      "display": null,
      "flex": null,
      "flex_flow": null,
      "grid_area": null,
      "grid_auto_columns": null,
      "grid_auto_flow": null,
      "grid_auto_rows": null,
      "grid_column": null,
      "grid_gap": null,
      "grid_row": null,
      "grid_template_areas": null,
      "grid_template_columns": null,
      "grid_template_rows": null,
      "height": null,
      "justify_content": null,
      "justify_items": null,
      "left": null,
      "margin": null,
      "max_height": null,
      "max_width": null,
      "min_height": null,
      "min_width": null,
      "object_fit": null,
      "object_position": null,
      "order": null,
      "overflow": null,
      "overflow_x": null,
      "overflow_y": null,
      "padding": null,
      "right": null,
      "top": null,
      "visibility": null,
      "width": null
     }
    },
    "c3f75ea6261a4f51837f83fe824df174": {
     "model_module": "@jupyter-widgets/controls",
     "model_module_version": "1.5.0",
     "model_name": "FloatProgressModel",
     "state": {
      "_dom_classes": [],
      "_model_module": "@jupyter-widgets/controls",
      "_model_module_version": "1.5.0",
      "_model_name": "FloatProgressModel",
      "_view_count": null,
      "_view_module": "@jupyter-widgets/controls",
      "_view_module_version": "1.5.0",
      "_view_name": "ProgressView",
      "bar_style": "success",
      "description": "",
      "description_tooltip": null,
      "layout": "IPY_MODEL_a0f3ece79c7543cc843987971291f1a4",
      "max": 498818054,
      "min": 0,
      "orientation": "horizontal",
      "style": "IPY_MODEL_c84c737254b444a389a5fc628abe0c3b",
      "value": 498818054
     }
    },
    "c78e25d471aa481b8f55cf3b359ab9d9": {
     "model_module": "@jupyter-widgets/base",
     "model_module_version": "1.2.0",
     "model_name": "LayoutModel",
     "state": {
      "_model_module": "@jupyter-widgets/base",
      "_model_module_version": "1.2.0",
      "_model_name": "LayoutModel",
      "_view_count": null,
      "_view_module": "@jupyter-widgets/base",
      "_view_module_version": "1.2.0",
      "_view_name": "LayoutView",
      "align_content": null,
      "align_items": null,
      "align_self": null,
      "border": null,
      "bottom": null,
      "display": null,
      "flex": null,
      "flex_flow": null,
      "grid_area": null,
      "grid_auto_columns": null,
      "grid_auto_flow": null,
      "grid_auto_rows": null,
      "grid_column": null,
      "grid_gap": null,
      "grid_row": null,
      "grid_template_areas": null,
      "grid_template_columns": null,
      "grid_template_rows": null,
      "height": null,
      "justify_content": null,
      "justify_items": null,
      "left": null,
      "margin": null,
      "max_height": null,
      "max_width": null,
      "min_height": null,
      "min_width": null,
      "object_fit": null,
      "object_position": null,
      "order": null,
      "overflow": null,
      "overflow_x": null,
      "overflow_y": null,
      "padding": null,
      "right": null,
      "top": null,
      "visibility": null,
      "width": null
     }
    },
    "c84c737254b444a389a5fc628abe0c3b": {
     "model_module": "@jupyter-widgets/controls",
     "model_module_version": "1.5.0",
     "model_name": "ProgressStyleModel",
     "state": {
      "_model_module": "@jupyter-widgets/controls",
      "_model_module_version": "1.5.0",
      "_model_name": "ProgressStyleModel",
      "_view_count": null,
      "_view_module": "@jupyter-widgets/base",
      "_view_module_version": "1.2.0",
      "_view_name": "StyleView",
      "bar_color": null,
      "description_width": ""
     }
    },
    "d8631bfcd3074f969be1228f23ac8ac0": {
     "model_module": "@jupyter-widgets/controls",
     "model_module_version": "1.5.0",
     "model_name": "HBoxModel",
     "state": {
      "_dom_classes": [],
      "_model_module": "@jupyter-widgets/controls",
      "_model_module_version": "1.5.0",
      "_model_name": "HBoxModel",
      "_view_count": null,
      "_view_module": "@jupyter-widgets/controls",
      "_view_module_version": "1.5.0",
      "_view_name": "HBoxView",
      "box_style": "",
      "children": [
       "IPY_MODEL_beed4fef2905494e88929248ba31c86c",
       "IPY_MODEL_3230080715d642e2bb0d6dee4291adec",
       "IPY_MODEL_e070750207c244f3b426984e52f85584"
      ],
      "layout": "IPY_MODEL_c78e25d471aa481b8f55cf3b359ab9d9"
     }
    },
    "db42b855e9b9407a988fd4484e3e92f8": {
     "model_module": "@jupyter-widgets/controls",
     "model_module_version": "1.5.0",
     "model_name": "DescriptionStyleModel",
     "state": {
      "_model_module": "@jupyter-widgets/controls",
      "_model_module_version": "1.5.0",
      "_model_name": "DescriptionStyleModel",
      "_view_count": null,
      "_view_module": "@jupyter-widgets/base",
      "_view_module_version": "1.2.0",
      "_view_name": "StyleView",
      "description_width": ""
     }
    },
    "dc04d38c7cfe45678344767d591e1fa8": {
     "model_module": "@jupyter-widgets/base",
     "model_module_version": "1.2.0",
     "model_name": "LayoutModel",
     "state": {
      "_model_module": "@jupyter-widgets/base",
      "_model_module_version": "1.2.0",
      "_model_name": "LayoutModel",
      "_view_count": null,
      "_view_module": "@jupyter-widgets/base",
      "_view_module_version": "1.2.0",
      "_view_name": "LayoutView",
      "align_content": null,
      "align_items": null,
      "align_self": null,
      "border": null,
      "bottom": null,
      "display": null,
      "flex": null,
      "flex_flow": null,
      "grid_area": null,
      "grid_auto_columns": null,
      "grid_auto_flow": null,
      "grid_auto_rows": null,
      "grid_column": null,
      "grid_gap": null,
      "grid_row": null,
      "grid_template_areas": null,
      "grid_template_columns": null,
      "grid_template_rows": null,
      "height": null,
      "justify_content": null,
      "justify_items": null,
      "left": null,
      "margin": null,
      "max_height": null,
      "max_width": null,
      "min_height": null,
      "min_width": null,
      "object_fit": null,
      "object_position": null,
      "order": null,
      "overflow": null,
      "overflow_x": null,
      "overflow_y": null,
      "padding": null,
      "right": null,
      "top": null,
      "visibility": null,
      "width": null
     }
    },
    "e070750207c244f3b426984e52f85584": {
     "model_module": "@jupyter-widgets/controls",
     "model_module_version": "1.5.0",
     "model_name": "HTMLModel",
     "state": {
      "_dom_classes": [],
      "_model_module": "@jupyter-widgets/controls",
      "_model_module_version": "1.5.0",
      "_model_name": "HTMLModel",
      "_view_count": null,
      "_view_module": "@jupyter-widgets/controls",
      "_view_module_version": "1.5.0",
      "_view_name": "HTMLView",
      "description": "",
      "description_tooltip": null,
      "layout": "IPY_MODEL_9189bfa5cd42418f9f5003040a088604",
      "placeholder": "​",
      "style": "IPY_MODEL_a46c4fbdab2240bc8a775f37fd6a359b",
      "value": " 25.0/25.0 [00:00&lt;00:00, 1.51kB/s]"
     }
    },
    "e1d9c7260fcf4aa1a1670aba30ec793b": {
     "model_module": "@jupyter-widgets/controls",
     "model_module_version": "1.5.0",
     "model_name": "DescriptionStyleModel",
     "state": {
      "_model_module": "@jupyter-widgets/controls",
      "_model_module_version": "1.5.0",
      "_model_name": "DescriptionStyleModel",
      "_view_count": null,
      "_view_module": "@jupyter-widgets/base",
      "_view_module_version": "1.2.0",
      "_view_name": "StyleView",
      "description_width": ""
     }
    },
    "e2797409c8e6447e85338e78889fd874": {
     "model_module": "@jupyter-widgets/controls",
     "model_module_version": "1.5.0",
     "model_name": "ProgressStyleModel",
     "state": {
      "_model_module": "@jupyter-widgets/controls",
      "_model_module_version": "1.5.0",
      "_model_name": "ProgressStyleModel",
      "_view_count": null,
      "_view_module": "@jupyter-widgets/base",
      "_view_module_version": "1.2.0",
      "_view_name": "StyleView",
      "bar_color": null,
      "description_width": ""
     }
    },
    "e75e1f181a2c40c18d77ac5e066fc8f2": {
     "model_module": "@jupyter-widgets/controls",
     "model_module_version": "1.5.0",
     "model_name": "DescriptionStyleModel",
     "state": {
      "_model_module": "@jupyter-widgets/controls",
      "_model_module_version": "1.5.0",
      "_model_name": "DescriptionStyleModel",
      "_view_count": null,
      "_view_module": "@jupyter-widgets/base",
      "_view_module_version": "1.2.0",
      "_view_name": "StyleView",
      "description_width": ""
     }
    },
    "e7afa44b5f364ba5833151d82a43e5fb": {
     "model_module": "@jupyter-widgets/controls",
     "model_module_version": "1.5.0",
     "model_name": "HBoxModel",
     "state": {
      "_dom_classes": [],
      "_model_module": "@jupyter-widgets/controls",
      "_model_module_version": "1.5.0",
      "_model_name": "HBoxModel",
      "_view_count": null,
      "_view_module": "@jupyter-widgets/controls",
      "_view_module_version": "1.5.0",
      "_view_name": "HBoxView",
      "box_style": "",
      "children": [
       "IPY_MODEL_604326fb921746b485cc5925950dbe56",
       "IPY_MODEL_ae174efe1cca4d4696bff9cf37cdd955",
       "IPY_MODEL_07e8fc79fa854fbea343fc392432b0fa"
      ],
      "layout": "IPY_MODEL_2ca898987ec74354a87164c5a8208de7"
     }
    },
    "ea5c71cbb05a4a9db16153fb5e68d7d9": {
     "model_module": "@jupyter-widgets/controls",
     "model_module_version": "1.5.0",
     "model_name": "DescriptionStyleModel",
     "state": {
      "_model_module": "@jupyter-widgets/controls",
      "_model_module_version": "1.5.0",
      "_model_name": "DescriptionStyleModel",
      "_view_count": null,
      "_view_module": "@jupyter-widgets/base",
      "_view_module_version": "1.2.0",
      "_view_name": "StyleView",
      "description_width": ""
     }
    },
    "eabbef75357a4b819ea45a92b5858f25": {
     "model_module": "@jupyter-widgets/controls",
     "model_module_version": "1.5.0",
     "model_name": "DescriptionStyleModel",
     "state": {
      "_model_module": "@jupyter-widgets/controls",
      "_model_module_version": "1.5.0",
      "_model_name": "DescriptionStyleModel",
      "_view_count": null,
      "_view_module": "@jupyter-widgets/base",
      "_view_module_version": "1.2.0",
      "_view_name": "StyleView",
      "description_width": ""
     }
    },
    "ef2d8588a74d4d1b802ef20190de9598": {
     "model_module": "@jupyter-widgets/base",
     "model_module_version": "1.2.0",
     "model_name": "LayoutModel",
     "state": {
      "_model_module": "@jupyter-widgets/base",
      "_model_module_version": "1.2.0",
      "_model_name": "LayoutModel",
      "_view_count": null,
      "_view_module": "@jupyter-widgets/base",
      "_view_module_version": "1.2.0",
      "_view_name": "LayoutView",
      "align_content": null,
      "align_items": null,
      "align_self": null,
      "border": null,
      "bottom": null,
      "display": null,
      "flex": null,
      "flex_flow": null,
      "grid_area": null,
      "grid_auto_columns": null,
      "grid_auto_flow": null,
      "grid_auto_rows": null,
      "grid_column": null,
      "grid_gap": null,
      "grid_row": null,
      "grid_template_areas": null,
      "grid_template_columns": null,
      "grid_template_rows": null,
      "height": null,
      "justify_content": null,
      "justify_items": null,
      "left": null,
      "margin": null,
      "max_height": null,
      "max_width": null,
      "min_height": null,
      "min_width": null,
      "object_fit": null,
      "object_position": null,
      "order": null,
      "overflow": null,
      "overflow_x": null,
      "overflow_y": null,
      "padding": null,
      "right": null,
      "top": null,
      "visibility": null,
      "width": null
     }
    },
    "f6cea9e440714893b07f0a2fef196804": {
     "model_module": "@jupyter-widgets/controls",
     "model_module_version": "1.5.0",
     "model_name": "FloatProgressModel",
     "state": {
      "_dom_classes": [],
      "_model_module": "@jupyter-widgets/controls",
      "_model_module_version": "1.5.0",
      "_model_name": "FloatProgressModel",
      "_view_count": null,
      "_view_module": "@jupyter-widgets/controls",
      "_view_module_version": "1.5.0",
      "_view_name": "ProgressView",
      "bar_style": "success",
      "description": "",
      "description_tooltip": null,
      "layout": "IPY_MODEL_1b76e453f2514cdd91c91bf0e222edce",
      "max": 898823,
      "min": 0,
      "orientation": "horizontal",
      "style": "IPY_MODEL_bfb3e6db70844d91973f78b2e7116af4",
      "value": 898823
     }
    },
    "fa973510fb2e43078ea7037a266bfd8f": {
     "model_module": "@jupyter-widgets/controls",
     "model_module_version": "1.5.0",
     "model_name": "HTMLModel",
     "state": {
      "_dom_classes": [],
      "_model_module": "@jupyter-widgets/controls",
      "_model_module_version": "1.5.0",
      "_model_name": "HTMLModel",
      "_view_count": null,
      "_view_module": "@jupyter-widgets/controls",
      "_view_module_version": "1.5.0",
      "_view_name": "HTMLView",
      "description": "",
      "description_tooltip": null,
      "layout": "IPY_MODEL_08df4adb92c2480c95c6896f18ccd25f",
      "placeholder": "​",
      "style": "IPY_MODEL_b30449ad9c2d4e3196edd761d7b437b2",
      "value": "vocab.json: 100%"
     }
    }
   }
  }
 },
 "nbformat": 4,
 "nbformat_minor": 0
}
