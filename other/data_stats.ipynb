{
 "cells": [
  {
   "cell_type": "code",
   "execution_count": 76,
   "metadata": {},
   "outputs": [],
   "source": [
    "from collections import Counter\n",
    "import pandas as pd\n",
    "import numpy as np"
   ]
  },
  {
   "cell_type": "markdown",
   "metadata": {},
   "source": [
    "# MELD"
   ]
  },
  {
   "cell_type": "code",
   "execution_count": 77,
   "metadata": {},
   "outputs": [
    {
     "name": "stdout",
     "output_type": "stream",
     "text": [
      "('neutral', 15263)\n",
      "('surprise', 4645)\n",
      "('fear', 1114)\n",
      "('sadness', 2648)\n",
      "('joy', 6317)\n",
      "('disgust', 1049)\n",
      "('anger', 3964)\n"
     ]
    }
   ],
   "source": [
    "train_df = pd.read_json('data/EDiReF_train_data/MELD_train_efr.json')\n",
    "flattened_emotions = [sent for conv in train_df['emotions'] for sent in conv]\n",
    "\n",
    "emotion_count_train = Counter(flattened_emotions)\n",
    "\n",
    "for e in emotion_count_train.items():\n",
    "    print(e)"
   ]
  },
  {
   "cell_type": "code",
   "execution_count": 78,
   "metadata": {},
   "outputs": [
    {
     "name": "stdout",
     "output_type": "stream",
     "text": [
      "('neutral', 1360)\n",
      "('joy', 597)\n",
      "('sadness', 343)\n",
      "('surprise', 520)\n",
      "('anger', 482)\n",
      "('disgust', 64)\n",
      "('fear', 156)\n"
     ]
    }
   ],
   "source": [
    "val_df = pd.read_json('data/EDiReF_val_data/MELD_val_efr.json')\n",
    "flattened_emotions = [sent for conv in val_df['emotions'] for sent in conv]\n",
    "\n",
    "emotion_count_val = Counter(flattened_emotions)\n",
    "\n",
    "for e in emotion_count_val.items():\n",
    "    print(e)"
   ]
  },
  {
   "cell_type": "code",
   "execution_count": 79,
   "metadata": {},
   "outputs": [
    {
     "name": "stdout",
     "output_type": "stream",
     "text": [
      "('surprise', 1073)\n",
      "('anger', 1215)\n",
      "('neutral', 3784)\n",
      "('joy', 1376)\n",
      "('sadness', 712)\n",
      "('fear', 177)\n",
      "('disgust', 305)\n"
     ]
    }
   ],
   "source": [
    "test_df = pd.read_json('data/EDiReF_test_data/MELD_test_efr.json')\n",
    "flattened_emotions = [sent for conv in test_df['emotions'] for sent in conv]\n",
    "\n",
    "emotion_count_test = Counter(flattened_emotions)\n",
    "\n",
    "for e in emotion_count_test.items():\n",
    "    print(e)"
   ]
  },
  {
   "cell_type": "code",
   "execution_count": 80,
   "metadata": {},
   "outputs": [
    {
     "name": "stdout",
     "output_type": "stream",
     "text": [
      "('neutral', 20407)\n",
      "('surprise', 6238)\n",
      "('fear', 1447)\n",
      "('sadness', 3703)\n",
      "('joy', 8290)\n",
      "('disgust', 1418)\n",
      "('anger', 5661)\n"
     ]
    }
   ],
   "source": [
    "total_emotion_count = emotion_count_train + emotion_count_val + emotion_count_test\n",
    "\n",
    "for e in total_emotion_count.items():\n",
    "    print(e)"
   ]
  },
  {
   "cell_type": "code",
   "execution_count": 81,
   "metadata": {},
   "outputs": [],
   "source": [
    "train_df[\"triggers\"] = train_df[\"triggers\"].apply(lambda lst: [np.nan if x is None else x for x in lst])\n",
    "train_df = train_df[train_df[\"triggers\"].apply(lambda lst: not any(pd.isna(x) for x in lst))]\n",
    "flattened_triggers_train = [sent for conv in train_df['triggers'] for sent in conv]\n",
    "\n",
    "val_df[\"triggers\"] = val_df[\"triggers\"].apply(lambda lst: [np.nan if x is None else x for x in lst])\n",
    "val_df = val_df[val_df[\"triggers\"].apply(lambda lst: not any(pd.isna(x) for x in lst))]\n",
    "flattened_triggers_val = [sent for conv in val_df['triggers'] for sent in conv]"
   ]
  },
  {
   "cell_type": "code",
   "execution_count": 82,
   "metadata": {},
   "outputs": [
    {
     "name": "stdout",
     "output_type": "stream",
     "text": [
      "5558\n",
      "492\n"
     ]
    }
   ],
   "source": [
    "print(len([i for i in flattened_triggers_train if i == 1.0]))\n",
    "print(len([i for i in flattened_triggers_val if i == 1.0]))"
   ]
  },
  {
   "cell_type": "code",
   "execution_count": 83,
   "metadata": {},
   "outputs": [
    {
     "name": "stdout",
     "output_type": "stream",
     "text": [
      "34897\n"
     ]
    }
   ],
   "source": [
    "flattened_conversations_train = [sent for conv in train_df['utterances'] for sent in conv]\n",
    "print(len(flattened_conversations_train))"
   ]
  },
  {
   "cell_type": "code",
   "execution_count": 84,
   "metadata": {},
   "outputs": [
    {
     "name": "stdout",
     "output_type": "stream",
     "text": [
      "3513\n"
     ]
    }
   ],
   "source": [
    "flattened_conversations_val = [sent for conv in val_df['utterances'] for sent in conv]\n",
    "print(len(flattened_conversations_val))"
   ]
  },
  {
   "cell_type": "code",
   "execution_count": 85,
   "metadata": {},
   "outputs": [
    {
     "name": "stdout",
     "output_type": "stream",
     "text": [
      "8642\n"
     ]
    }
   ],
   "source": [
    "flattened_conversations_test = [sent for conv in test_df['utterances'] for sent in conv]\n",
    "print(len(flattened_conversations_test))"
   ]
  },
  {
   "cell_type": "markdown",
   "metadata": {},
   "source": [
    "# MaSaC"
   ]
  },
  {
   "cell_type": "code",
   "execution_count": 86,
   "metadata": {},
   "outputs": [
    {
     "name": "stdout",
     "output_type": "stream",
     "text": [
      "('neutral', 44735)\n",
      "('anger', 9715)\n",
      "('surprise', 5233)\n",
      "('fear', 6476)\n",
      "('joy', 18446)\n",
      "('contempt', 5468)\n",
      "('sadness', 7184)\n",
      "('disgust', 1520)\n"
     ]
    }
   ],
   "source": [
    "train_df = pd.read_json('data/EDiReF_train_data/MaSaC_train_efr.json')\n",
    "flattened_emotions = [sent for conv in train_df['emotions'] for sent in conv]\n",
    "\n",
    "emotion_count_train = Counter(flattened_emotions)\n",
    "\n",
    "for e in emotion_count_train.items():\n",
    "    print(e)"
   ]
  },
  {
   "cell_type": "code",
   "execution_count": 87,
   "metadata": {},
   "outputs": [
    {
     "name": "stdout",
     "output_type": "stream",
     "text": [
      "('neutral', 3159)\n",
      "('anger', 639)\n",
      "('surprise', 318)\n",
      "('fear', 478)\n",
      "('joy', 1801)\n",
      "('contempt', 493)\n",
      "('sadness', 487)\n",
      "('disgust', 87)\n"
     ]
    }
   ],
   "source": [
    "val_df = pd.read_json('data/EDiReF_val_data/MaSaC_val_efr.json')\n",
    "flattened_emotions = [sent for conv in val_df['emotions'] for sent in conv]\n",
    "\n",
    "emotion_count_val = Counter(flattened_emotions)\n",
    "\n",
    "for e in emotion_count_val.items():\n",
    "    print(e)"
   ]
  },
  {
   "cell_type": "code",
   "execution_count": 88,
   "metadata": {},
   "outputs": [
    {
     "name": "stdout",
     "output_type": "stream",
     "text": [
      "('neutral', 3265)\n",
      "('anger', 749)\n",
      "('surprise', 348)\n",
      "('fear', 445)\n",
      "('joy', 1730)\n",
      "('sadness', 536)\n",
      "('contempt', 547)\n",
      "('disgust', 70)\n"
     ]
    }
   ],
   "source": [
    "test_df = pd.read_json('data/EDiReF_test_data/MaSaC_test_efr.json')\n",
    "flattened_emotions = [sent for conv in test_df['emotions'] for sent in conv]\n",
    "\n",
    "emotion_count_test = Counter(flattened_emotions)\n",
    "\n",
    "for e in emotion_count_test.items():\n",
    "    print(e)"
   ]
  },
  {
   "cell_type": "code",
   "execution_count": 89,
   "metadata": {},
   "outputs": [
    {
     "name": "stdout",
     "output_type": "stream",
     "text": [
      "('neutral', 51159)\n",
      "('anger', 11103)\n",
      "('surprise', 5899)\n",
      "('fear', 7399)\n",
      "('joy', 21977)\n",
      "('contempt', 6508)\n",
      "('sadness', 8207)\n",
      "('disgust', 1677)\n"
     ]
    }
   ],
   "source": [
    "total_emotion_count = emotion_count_train + emotion_count_val + emotion_count_test\n",
    "\n",
    "for e in total_emotion_count.items():\n",
    "    print(e)"
   ]
  },
  {
   "cell_type": "code",
   "execution_count": 90,
   "metadata": {},
   "outputs": [],
   "source": [
    "train_df[\"triggers\"] = train_df[\"triggers\"].apply(lambda lst: [np.nan if x is None else x for x in lst])\n",
    "train_df = train_df[train_df[\"triggers\"].apply(lambda lst: not any(pd.isna(x) for x in lst))]\n",
    "flattened_triggers_train = [sent for conv in train_df['triggers'] for sent in conv]\n",
    "\n",
    "val_df[\"triggers\"] = val_df[\"triggers\"].apply(lambda lst: [np.nan if x is None else x for x in lst])\n",
    "val_df = val_df[val_df[\"triggers\"].apply(lambda lst: not any(pd.isna(x) for x in lst))]\n",
    "flattened_triggers_val = [sent for conv in val_df['triggers'] for sent in conv]"
   ]
  },
  {
   "cell_type": "code",
   "execution_count": 91,
   "metadata": {},
   "outputs": [
    {
     "name": "stdout",
     "output_type": "stream",
     "text": [
      "1991\n",
      "382\n"
     ]
    }
   ],
   "source": [
    "print(len([i for i in flattened_triggers_train if i == '1']))\n",
    "print(len([i for i in flattened_triggers_val if i == '1']))"
   ]
  },
  {
   "cell_type": "code",
   "execution_count": 92,
   "metadata": {},
   "outputs": [
    {
     "name": "stdout",
     "output_type": "stream",
     "text": [
      "98777\n"
     ]
    }
   ],
   "source": [
    "flattened_conversations_train = [sent for conv in train_df['utterances'] for sent in conv]\n",
    "print(len(flattened_conversations_train))"
   ]
  },
  {
   "cell_type": "code",
   "execution_count": 93,
   "metadata": {},
   "outputs": [
    {
     "name": "stdout",
     "output_type": "stream",
     "text": [
      "7462\n"
     ]
    }
   ],
   "source": [
    "flattened_conversations_val = [sent for conv in val_df['utterances'] for sent in conv]\n",
    "print(len(flattened_conversations_val))"
   ]
  },
  {
   "cell_type": "code",
   "execution_count": 94,
   "metadata": {},
   "outputs": [
    {
     "name": "stdout",
     "output_type": "stream",
     "text": [
      "7690\n"
     ]
    }
   ],
   "source": [
    "flattened_conversations_test = [sent for conv in test_df['utterances'] for sent in conv]\n",
    "print(len(flattened_conversations_test))"
   ]
  }
 ],
 "metadata": {
  "kernelspec": {
   "display_name": "base",
   "language": "python",
   "name": "python3"
  },
  "language_info": {
   "codemirror_mode": {
    "name": "ipython",
    "version": 3
   },
   "file_extension": ".py",
   "mimetype": "text/x-python",
   "name": "python",
   "nbconvert_exporter": "python",
   "pygments_lexer": "ipython3",
   "version": "3.11.5"
  }
 },
 "nbformat": 4,
 "nbformat_minor": 2
}
