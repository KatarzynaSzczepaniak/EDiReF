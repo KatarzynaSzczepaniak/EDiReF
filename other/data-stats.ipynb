{
 "cells": [
  {
   "cell_type": "code",
   "execution_count": 1,
   "metadata": {},
   "outputs": [],
   "source": [
    "import pandas as pd"
   ]
  },
  {
   "cell_type": "code",
   "execution_count": 2,
   "metadata": {},
   "outputs": [],
   "source": [
    "df_train = pd.read_json(\"data/EDiReF_train_data/MaSaC_train_efr.json\")\n",
    "df_val = pd.read_json(\"data/EDiReF_val_data/MaSaC_val_efr.json\")"
   ]
  },
  {
   "cell_type": "code",
   "execution_count": 3,
   "metadata": {},
   "outputs": [],
   "source": [
    "df = pd.concat([df_train, df_val])"
   ]
  },
  {
   "cell_type": "code",
   "execution_count": 4,
   "metadata": {},
   "outputs": [
    {
     "data": {
      "text/html": [
       "<div>\n",
       "<style scoped>\n",
       "    .dataframe tbody tr th:only-of-type {\n",
       "        vertical-align: middle;\n",
       "    }\n",
       "\n",
       "    .dataframe tbody tr th {\n",
       "        vertical-align: top;\n",
       "    }\n",
       "\n",
       "    .dataframe thead th {\n",
       "        text-align: right;\n",
       "    }\n",
       "</style>\n",
       "<table border=\"1\" class=\"dataframe\">\n",
       "  <thead>\n",
       "    <tr style=\"text-align: right;\">\n",
       "      <th></th>\n",
       "      <th>episode</th>\n",
       "      <th>speakers</th>\n",
       "      <th>utterances</th>\n",
       "      <th>triggers</th>\n",
       "      <th>emotions</th>\n",
       "    </tr>\n",
       "  </thead>\n",
       "  <tbody>\n",
       "    <tr>\n",
       "      <th>0</th>\n",
       "      <td>lease1.wmv</td>\n",
       "      <td>[monisha, sahil, monisha, sahil, monisha]</td>\n",
       "      <td>[theek se wajan karana, monisha, abhi ayi. yeh...</td>\n",
       "      <td>[0, 0, 0, 1, 0]</td>\n",
       "      <td>[neutral, neutral, anger, neutral, neutral]</td>\n",
       "    </tr>\n",
       "    <tr>\n",
       "      <th>1</th>\n",
       "      <td>lease1.wmv</td>\n",
       "      <td>[monisha, sahil, monisha, sahil, monisha, sahi...</td>\n",
       "      <td>[theek se wajan karana, monisha, abhi ayi. yeh...</td>\n",
       "      <td>[0, 0, 0, 0, 0, 0, 0, 0, 1, 0]</td>\n",
       "      <td>[neutral, neutral, anger, neutral, neutral, ne...</td>\n",
       "    </tr>\n",
       "    <tr>\n",
       "      <th>2</th>\n",
       "      <td>lease1.wmv</td>\n",
       "      <td>[monisha, sahil, monisha, sahil, monisha, sahi...</td>\n",
       "      <td>[theek se wajan karana, monisha, abhi ayi. yeh...</td>\n",
       "      <td>[0, 0, 0, 0, 0, 0, 0, 0, 0, 0, 0, 1, 0]</td>\n",
       "      <td>[neutral, neutral, anger, neutral, neutral, ne...</td>\n",
       "    </tr>\n",
       "    <tr>\n",
       "      <th>3</th>\n",
       "      <td>lease1.wmv</td>\n",
       "      <td>[monisha, sahil, monisha, sahil, monisha, sahi...</td>\n",
       "      <td>[theek se wajan karana, monisha, abhi ayi. yeh...</td>\n",
       "      <td>[0, 0, 0, 0, 0, 0, 0, 0, 0, 0, 0, 1, 0, 1, 1]</td>\n",
       "      <td>[neutral, neutral, anger, neutral, neutral, ne...</td>\n",
       "    </tr>\n",
       "    <tr>\n",
       "      <th>4</th>\n",
       "      <td>lease1.wmv</td>\n",
       "      <td>[maya, rosesh, maya]</td>\n",
       "      <td>[hello maaya sarabhai, ha kya baat hai chawkid...</td>\n",
       "      <td>[0, 0, 1]</td>\n",
       "      <td>[neutral, neutral, fear]</td>\n",
       "    </tr>\n",
       "    <tr>\n",
       "      <th>...</th>\n",
       "      <td>...</td>\n",
       "      <td>...</td>\n",
       "      <td>...</td>\n",
       "      <td>...</td>\n",
       "      <td>...</td>\n",
       "    </tr>\n",
       "    <tr>\n",
       "      <th>384</th>\n",
       "      <td>playatcharityfunction</td>\n",
       "      <td>[maya, maya]</td>\n",
       "      <td>[hi sarita, oh yes, london was wonderful. haan...</td>\n",
       "      <td>[0, 1.0]</td>\n",
       "      <td>[joy, neutral]</td>\n",
       "    </tr>\n",
       "    <tr>\n",
       "      <th>385</th>\n",
       "      <td>popatlal</td>\n",
       "      <td>[rosesh, maya, rosesh, maya, rosesh, maya, ros...</td>\n",
       "      <td>[momma!, rosesh, hausla rakho, sweetie, kaise ...</td>\n",
       "      <td>[0, 0, 0, 0, 0, 0, 0, 0, 0, 0, 0, 1.0, 0]</td>\n",
       "      <td>[sadness, neutral, sadness, neutral, sadness, ...</td>\n",
       "    </tr>\n",
       "    <tr>\n",
       "      <th>386</th>\n",
       "      <td>prankonindravadhan</td>\n",
       "      <td>[maya, vitthal, maya, vitthal]</td>\n",
       "      <td>[so vithal kesi rhi tumhari chutti, are bhot a...</td>\n",
       "      <td>[0, 0, 1.0, 0]</td>\n",
       "      <td>[neutral, joy, surprise, neutral]</td>\n",
       "    </tr>\n",
       "    <tr>\n",
       "      <th>387</th>\n",
       "      <td>prankonindravadhan</td>\n",
       "      <td>[maya, dinesh, maya, dinesh, maya, dinesh, ros...</td>\n",
       "      <td>[sarita kab aa rhi hai dinesh, wo pani bachao ...</td>\n",
       "      <td>[0, 0, 0, 0, 0, 0, 0, 0, 0, 0, 0, 1.0]</td>\n",
       "      <td>[neutral, neutral, neutral, neutral, fear, neu...</td>\n",
       "    </tr>\n",
       "    <tr>\n",
       "      <th>388</th>\n",
       "      <td>prefinale</td>\n",
       "      <td>[maya, maya, maya, monisha, maya, monisha, may...</td>\n",
       "      <td>[hello, sarabhai residence. kya, nhi nhi nhi. ...</td>\n",
       "      <td>[0, 0, 0, 0, 0, 0, 0, 0, 0, 0, 1.0, 0]</td>\n",
       "      <td>[neutral, anger, contempt, surprise, neutral, ...</td>\n",
       "    </tr>\n",
       "  </tbody>\n",
       "</table>\n",
       "<p>5282 rows × 5 columns</p>\n",
       "</div>"
      ],
      "text/plain": [
       "                   episode                                           speakers  \\\n",
       "0               lease1.wmv          [monisha, sahil, monisha, sahil, monisha]   \n",
       "1               lease1.wmv  [monisha, sahil, monisha, sahil, monisha, sahi...   \n",
       "2               lease1.wmv  [monisha, sahil, monisha, sahil, monisha, sahi...   \n",
       "3               lease1.wmv  [monisha, sahil, monisha, sahil, monisha, sahi...   \n",
       "4               lease1.wmv                               [maya, rosesh, maya]   \n",
       "..                     ...                                                ...   \n",
       "384  playatcharityfunction                                       [maya, maya]   \n",
       "385               popatlal  [rosesh, maya, rosesh, maya, rosesh, maya, ros...   \n",
       "386     prankonindravadhan                     [maya, vitthal, maya, vitthal]   \n",
       "387     prankonindravadhan  [maya, dinesh, maya, dinesh, maya, dinesh, ros...   \n",
       "388              prefinale  [maya, maya, maya, monisha, maya, monisha, may...   \n",
       "\n",
       "                                            utterances  \\\n",
       "0    [theek se wajan karana, monisha, abhi ayi. yeh...   \n",
       "1    [theek se wajan karana, monisha, abhi ayi. yeh...   \n",
       "2    [theek se wajan karana, monisha, abhi ayi. yeh...   \n",
       "3    [theek se wajan karana, monisha, abhi ayi. yeh...   \n",
       "4    [hello maaya sarabhai, ha kya baat hai chawkid...   \n",
       "..                                                 ...   \n",
       "384  [hi sarita, oh yes, london was wonderful. haan...   \n",
       "385  [momma!, rosesh, hausla rakho, sweetie, kaise ...   \n",
       "386  [so vithal kesi rhi tumhari chutti, are bhot a...   \n",
       "387  [sarita kab aa rhi hai dinesh, wo pani bachao ...   \n",
       "388  [hello, sarabhai residence. kya, nhi nhi nhi. ...   \n",
       "\n",
       "                                          triggers  \\\n",
       "0                                  [0, 0, 0, 1, 0]   \n",
       "1                   [0, 0, 0, 0, 0, 0, 0, 0, 1, 0]   \n",
       "2          [0, 0, 0, 0, 0, 0, 0, 0, 0, 0, 0, 1, 0]   \n",
       "3    [0, 0, 0, 0, 0, 0, 0, 0, 0, 0, 0, 1, 0, 1, 1]   \n",
       "4                                        [0, 0, 1]   \n",
       "..                                             ...   \n",
       "384                                       [0, 1.0]   \n",
       "385      [0, 0, 0, 0, 0, 0, 0, 0, 0, 0, 0, 1.0, 0]   \n",
       "386                                 [0, 0, 1.0, 0]   \n",
       "387         [0, 0, 0, 0, 0, 0, 0, 0, 0, 0, 0, 1.0]   \n",
       "388         [0, 0, 0, 0, 0, 0, 0, 0, 0, 0, 1.0, 0]   \n",
       "\n",
       "                                              emotions  \n",
       "0          [neutral, neutral, anger, neutral, neutral]  \n",
       "1    [neutral, neutral, anger, neutral, neutral, ne...  \n",
       "2    [neutral, neutral, anger, neutral, neutral, ne...  \n",
       "3    [neutral, neutral, anger, neutral, neutral, ne...  \n",
       "4                             [neutral, neutral, fear]  \n",
       "..                                                 ...  \n",
       "384                                     [joy, neutral]  \n",
       "385  [sadness, neutral, sadness, neutral, sadness, ...  \n",
       "386                  [neutral, joy, surprise, neutral]  \n",
       "387  [neutral, neutral, neutral, neutral, fear, neu...  \n",
       "388  [neutral, anger, contempt, surprise, neutral, ...  \n",
       "\n",
       "[5282 rows x 5 columns]"
      ]
     },
     "execution_count": 4,
     "metadata": {},
     "output_type": "execute_result"
    }
   ],
   "source": [
    "df"
   ]
  },
  {
   "cell_type": "code",
   "execution_count": 5,
   "metadata": {},
   "outputs": [],
   "source": [
    "conversations = list(df['utterances'])"
   ]
  },
  {
   "cell_type": "code",
   "execution_count": 6,
   "metadata": {},
   "outputs": [],
   "source": [
    "len_conversations = [len(i) for i in conversations]"
   ]
  },
  {
   "cell_type": "code",
   "execution_count": 7,
   "metadata": {},
   "outputs": [],
   "source": [
    "from collections import defaultdict\n",
    "\n",
    "length_dict = defaultdict(int)\n",
    "\n",
    "for length in len_conversations:\n",
    "    length_dict[length] += 1\n",
    "\n",
    "sorted_length_dict = dict(sorted(length_dict.items()))\n"
   ]
  },
  {
   "cell_type": "code",
   "execution_count": 12,
   "metadata": {},
   "outputs": [
    {
     "data": {
      "text/plain": [
       "{1: 1,\n",
       " 2: 7,\n",
       " 3: 176,\n",
       " 4: 164,\n",
       " 5: 197,\n",
       " 6: 209,\n",
       " 7: 198,\n",
       " 8: 207,\n",
       " 9: 190,\n",
       " 10: 192,\n",
       " 11: 204,\n",
       " 12: 183,\n",
       " 13: 167,\n",
       " 14: 183,\n",
       " 15: 174,\n",
       " 16: 166,\n",
       " 17: 164,\n",
       " 18: 155,\n",
       " 19: 147,\n",
       " 20: 140,\n",
       " 21: 130,\n",
       " 22: 119,\n",
       " 23: 138,\n",
       " 24: 107,\n",
       " 25: 103,\n",
       " 26: 110,\n",
       " 27: 117,\n",
       " 28: 86,\n",
       " 29: 85,\n",
       " 30: 81,\n",
       " 31: 71,\n",
       " 32: 65,\n",
       " 33: 66,\n",
       " 34: 55,\n",
       " 35: 48,\n",
       " 36: 56,\n",
       " 37: 51,\n",
       " 38: 39,\n",
       " 39: 41,\n",
       " 40: 37,\n",
       " 41: 32,\n",
       " 42: 27,\n",
       " 43: 26,\n",
       " 44: 26,\n",
       " 45: 17,\n",
       " 46: 18,\n",
       " 47: 17,\n",
       " 48: 18,\n",
       " 49: 15,\n",
       " 50: 15,\n",
       " 51: 15,\n",
       " 52: 15,\n",
       " 53: 10,\n",
       " 54: 11,\n",
       " 55: 7,\n",
       " 56: 16,\n",
       " 57: 16,\n",
       " 58: 8,\n",
       " 59: 8,\n",
       " 60: 8,\n",
       " 61: 8,\n",
       " 62: 7,\n",
       " 63: 7,\n",
       " 64: 6,\n",
       " 65: 9,\n",
       " 66: 4,\n",
       " 67: 6,\n",
       " 68: 8,\n",
       " 69: 4,\n",
       " 70: 5,\n",
       " 71: 5,\n",
       " 72: 5,\n",
       " 73: 5,\n",
       " 74: 1,\n",
       " 75: 4,\n",
       " 76: 4,\n",
       " 77: 2,\n",
       " 78: 4,\n",
       " 79: 3,\n",
       " 80: 4,\n",
       " 81: 2,\n",
       " 82: 2,\n",
       " 83: 2,\n",
       " 84: 3,\n",
       " 85: 3,\n",
       " 86: 2,\n",
       " 87: 1,\n",
       " 88: 2,\n",
       " 89: 2,\n",
       " 90: 2,\n",
       " 92: 1,\n",
       " 94: 1,\n",
       " 96: 1,\n",
       " 101: 1,\n",
       " 102: 1,\n",
       " 106: 1}"
      ]
     },
     "execution_count": 12,
     "metadata": {},
     "output_type": "execute_result"
    }
   ],
   "source": [
    "sorted_length_dict"
   ]
  },
  {
   "cell_type": "code",
   "execution_count": 8,
   "metadata": {},
   "outputs": [
    {
     "data": {
      "image/png": "[encoded data removed]",
      "text/plain": [
       "<Figure size 640x480 with 1 Axes>"
      ]
     },
     "metadata": {},
     "output_type": "display_data"
    }
   ],
   "source": [
    "import matplotlib.pyplot as plt\n",
    "\n",
    "lengths = list(sorted_length_dict.keys())\n",
    "counts = list(sorted_length_dict.values())\n",
    "\n",
    "plt.bar(lengths, counts)\n",
    "\n",
    "plt.xlabel('Długość konwersacji')\n",
    "plt.ylabel('Liczba konwersacji')\n",
    "\n",
    "plt.xticks(range(min(lengths), max(lengths) + 1))\n",
    "\n",
    "plt.show()"
   ]
  },
  {
   "cell_type": "code",
   "execution_count": 9,
   "metadata": {},
   "outputs": [],
   "source": [
    "from collections import Counter\n",
    "\n",
    "emotions = [i for y in list(df['emotions']) for i in y]\n",
    "unique_emotions_count = Counter(emotions)"
   ]
  },
  {
   "cell_type": "code",
   "execution_count": 10,
   "metadata": {},
   "outputs": [],
   "source": [
    "emotions = list(unique_emotions_count.keys())\n",
    "counts = list(unique_emotions_count.values())"
   ]
  },
  {
   "cell_type": "code",
   "execution_count": 11,
   "metadata": {},
   "outputs": [
    {
     "data": {
      "image/png": "[encoded data removed]",
      "text/plain": [
       "<Figure size 640x480 with 1 Axes>"
      ]
     },
     "metadata": {},
     "output_type": "display_data"
    }
   ],
   "source": [
    "emotions = ['Neutralność', 'Złość', 'Zaskoczenie', 'Strach', 'Radość', 'Pogarda', 'Smutek', 'Obrzydzenie']\n",
    "\n",
    "plt.bar(emotions, counts)\n",
    "\n",
    "plt.xlabel('Emocja')\n",
    "plt.ylabel('Liczba wystąpień')\n",
    "\n",
    "plt.xticks(range(len(emotions)), rotation = 90)\n",
    "\n",
    "plt.show()"
   ]
  }
 ],
 "metadata": {
  "kernelspec": {
   "display_name": "base",
   "language": "python",
   "name": "python3"
  },
  "language_info": {
   "codemirror_mode": {
    "name": "ipython",
    "version": 3
   },
   "file_extension": ".py",
   "mimetype": "text/x-python",
   "name": "python",
   "nbconvert_exporter": "python",
   "pygments_lexer": "ipython3",
   "version": "3.11.5"
  }
 },
 "nbformat": 4,
 "nbformat_minor": 2
}
