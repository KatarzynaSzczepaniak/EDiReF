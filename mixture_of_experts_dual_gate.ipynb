{
 "cells": [
  {
   "cell_type": "code",
   "execution_count": null,
   "metadata": {
    "colab": {
     "base_uri": "https://localhost:8080/"
    },
    "executionInfo": {
     "elapsed": 18522,
     "status": "ok",
     "timestamp": 1733750417440,
     "user": {
      "displayName": "Katarzyna Szczepaniak",
      "userId": "13778154280878787855"
     },
     "user_tz": -60
    },
    "id": "4YS-HHlMxdzr",
    "outputId": "599f426d-ed01-4b01-f798-3a72f5e54aaa"
   },
   "outputs": [],
   "source": [
    "from google.colab import drive\n",
    "drive.mount('/content/drive')"
   ]
  },
  {
   "cell_type": "code",
   "execution_count": null,
   "metadata": {
    "colab": {
     "base_uri": "https://localhost:8080/"
    },
    "executionInfo": {
     "elapsed": 229,
     "status": "ok",
     "timestamp": 1733750419523,
     "user": {
      "displayName": "Katarzyna Szczepaniak",
      "userId": "13778154280878787855"
     },
     "user_tz": -60
    },
    "id": "hMHoUEE8xvX0",
    "outputId": "b18fa1c6-8d00-4a79-8c32-d824984ae19f"
   },
   "outputs": [],
   "source": [
    "%cd drive/MyDrive/Colab \\Notebooks"
   ]
  },
  {
   "cell_type": "code",
   "execution_count": null,
   "metadata": {
    "executionInfo": {
     "elapsed": 14043,
     "status": "ok",
     "timestamp": 1733750434988,
     "user": {
      "displayName": "Katarzyna Szczepaniak",
      "userId": "13778154280878787855"
     },
     "user_tz": -60
    },
    "id": "M6Woq9BFW18k"
   },
   "outputs": [],
   "source": [
    "import torch\n",
    "import torch.nn as nn\n",
    "from torch.utils.data import Dataset, DataLoader\n",
    "from transformers import BertTokenizer, BertModel\n",
    "import pandas as pd\n",
    "import numpy as np"
   ]
  },
  {
   "cell_type": "code",
   "execution_count": null,
   "metadata": {
    "colab": {
     "base_uri": "https://localhost:8080/"
    },
    "executionInfo": {
     "elapsed": 375,
     "status": "ok",
     "timestamp": 1733750451464,
     "user": {
      "displayName": "Katarzyna Szczepaniak",
      "userId": "13778154280878787855"
     },
     "user_tz": -60
    },
    "id": "4QJ_vvYdW2YT",
    "outputId": "f5d00be4-7bb9-4cbd-a5ad-54208555f74c"
   },
   "outputs": [],
   "source": [
    "from torch import cuda\n",
    "device = 'cuda' if cuda.is_available() else 'cpu'\n",
    "\n",
    "print(device)"
   ]
  },
  {
   "cell_type": "markdown",
   "metadata": {
    "id": "EqHmn_5ew5Tf"
   },
   "source": [
    "# Data preparation"
   ]
  },
  {
   "cell_type": "code",
   "execution_count": null,
   "metadata": {
    "executionInfo": {
     "elapsed": 5,
     "status": "ok",
     "timestamp": 1733750451464,
     "user": {
      "displayName": "Katarzyna Szczepaniak",
      "userId": "13778154280878787855"
     },
     "user_tz": -60
    },
    "id": "L86nTmkQXOp-"
   },
   "outputs": [],
   "source": [
    "DATASET = 'MELD'    # @param ['MELD', 'MaSaC']\n",
    "MAX_LENGTH = 128    # @param [96, 128, 256] {type: 'raw'}\n",
    "BATCH_SIZE = 32    # @param [8, 16, 32] {type: 'raw'}"
   ]
  },
  {
   "cell_type": "code",
   "execution_count": null,
   "metadata": {
    "executionInfo": {
     "elapsed": 4,
     "status": "ok",
     "timestamp": 1733750451464,
     "user": {
      "displayName": "Katarzyna Szczepaniak",
      "userId": "13778154280878787855"
     },
     "user_tz": -60
    },
    "id": "9pDIsdPzKzuf"
   },
   "outputs": [],
   "source": [
    "if DATASET == 'MELD':\n",
    "    DESIGNATED_MODEL = 'bert-base-cased'\n",
    "elif DATASET == 'MaSaC':\n",
    "    DESIGNATED_MODEL = 'bert-base-multilingual-cased'"
   ]
  },
  {
   "cell_type": "code",
   "execution_count": null,
   "metadata": {
    "executionInfo": {
     "elapsed": 4,
     "status": "ok",
     "timestamp": 1733750451464,
     "user": {
      "displayName": "Katarzyna Szczepaniak",
      "userId": "13778154280878787855"
     },
     "user_tz": -60
    },
    "id": "hLx9YFD87c2R"
   },
   "outputs": [],
   "source": [
    "def get_data(dataset_name, stage):\n",
    "    def to_float(x):\n",
    "        try:\n",
    "            return float(x)\n",
    "        except ValueError:\n",
    "            return 1\n",
    "\n",
    "    df = pd.read_json(f'data/EDiReF_{stage}_data/{dataset_name}_{stage}_efr.json')\n",
    "    df[\"triggers\"] = df[\"triggers\"].apply(lambda lst: [np.nan if x is None else x for x in lst])\n",
    "    df = df[df[\"triggers\"].apply(lambda lst: not any(pd.isna(x) for x in lst))]\n",
    "    df[\"triggers\"] = df[\"triggers\"].apply(lambda lst: [to_float(x) for x in lst])\n",
    "\n",
    "    conversations = list(df['utterances'])\n",
    "    emotions = list(df['emotions'])\n",
    "    triggers = list(df['triggers'])\n",
    "\n",
    "    return conversations, emotions, triggers"
   ]
  },
  {
   "cell_type": "code",
   "execution_count": null,
   "metadata": {
    "executionInfo": {
     "elapsed": 2039,
     "status": "ok",
     "timestamp": 1733750453499,
     "user": {
      "displayName": "Katarzyna Szczepaniak",
      "userId": "13778154280878787855"
     },
     "user_tz": -60
    },
    "id": "_AhFYoKy7c2R"
   },
   "outputs": [],
   "source": [
    "train_conversations, train_emotions, train_triggers = get_data(DATASET, 'train')\n",
    "val_conversations, val_emotions, val_triggers = get_data(DATASET, 'val')"
   ]
  },
  {
   "cell_type": "code",
   "execution_count": null,
   "metadata": {
    "executionInfo": {
     "elapsed": 5,
     "status": "ok",
     "timestamp": 1733750453499,
     "user": {
      "displayName": "Katarzyna Szczepaniak",
      "userId": "13778154280878787855"
     },
     "user_tz": -60
    },
    "id": "ucK_m35D7c2S"
   },
   "outputs": [],
   "source": [
    "conversations = train_conversations + val_conversations\n",
    "emotions = train_emotions + val_emotions\n",
    "triggers = train_triggers + val_triggers"
   ]
  },
  {
   "cell_type": "code",
   "execution_count": null,
   "metadata": {
    "executionInfo": {
     "elapsed": 5,
     "status": "ok",
     "timestamp": 1733750453499,
     "user": {
      "displayName": "Katarzyna Szczepaniak",
      "userId": "13778154280878787855"
     },
     "user_tz": -60
    },
    "id": "yiRh4Spv7c2T"
   },
   "outputs": [],
   "source": [
    "flattened_emotions = [sent for conv in emotions for sent in conv]\n",
    "unique_emotions = set(flattened_emotions)\n",
    "\n",
    "labels_to_ids = {k: v for v, k in enumerate(unique_emotions)}\n",
    "ids_to_labels = {v: k for v, k in enumerate(unique_emotions)}\n",
    "emotions = [[labels_to_ids[emotion] for emotion in conv] for conv in emotions]"
   ]
  },
  {
   "cell_type": "code",
   "execution_count": null,
   "metadata": {
    "executionInfo": {
     "elapsed": 1190,
     "status": "ok",
     "timestamp": 1733750454685,
     "user": {
      "displayName": "Katarzyna Szczepaniak",
      "userId": "13778154280878787855"
     },
     "user_tz": -60
    },
    "id": "mi-y0zznb-hG"
   },
   "outputs": [],
   "source": [
    "from sklearn.model_selection import train_test_split\n",
    "\n",
    "def train_val_test_split(X, y1, y2, val_size = 0.2, test_size = 0.2, random_state = None):\n",
    "    X_train_val, X_test, y1_train_val, y1_test, y2_train_val, y2_test = train_test_split(\n",
    "        X, y1, y2, test_size=test_size, random_state=random_state\n",
    "    )\n",
    "\n",
    "    val_relative_size = val_size / (1 - test_size)\n",
    "\n",
    "    X_train, X_val, y1_train, y1_val, y2_train, y2_val = train_test_split(\n",
    "        X_train_val, y1_train_val, y2_train_val, test_size=val_relative_size, random_state=random_state\n",
    "    )\n",
    "\n",
    "    return (X_train, X_val, X_test, y1_train, y1_val, y1_test, y2_train, y2_val, y2_test)"
   ]
  },
  {
   "cell_type": "code",
   "execution_count": null,
   "metadata": {
    "executionInfo": {
     "elapsed": 8,
     "status": "ok",
     "timestamp": 1733750454687,
     "user": {
      "displayName": "Katarzyna Szczepaniak",
      "userId": "13778154280878787855"
     },
     "user_tz": -60
    },
    "id": "arnKxaiEeoLD"
   },
   "outputs": [],
   "source": [
    "X_train, X_val, X_test, y1_train, y1_val, y1_test, y2_train, y2_val, y2_test = train_val_test_split(\n",
    "    conversations, emotions, triggers, test_size=0.15, val_size=0.15, random_state=2024\n",
    "    )"
   ]
  },
  {
   "cell_type": "code",
   "execution_count": null,
   "metadata": {
    "colab": {
     "base_uri": "https://localhost:8080/",
     "height": 145,
     "referenced_widgets": [
      "d5468c26aef741c39f7aa8a3b47f4e20",
      "7acafc4c0c1044c6a3030d2f00ef411a",
      "d5c923b8e3494faeb7accf9c288699a1",
      "5928df522d2b450ea6d9f077a2c62cb6",
      "d6deaba4cf954ed8938340c3caa8c273",
      "c9bb0ec9a1144a7bbe21dd27f73553b5",
      "da82e62da3ee40ea8cdc347d50ee5bec",
      "65b3fa095c1846359fec5a100835c476",
      "55616b3abc514d3b96c20bbd18f9fdb0",
      "1850c47a23604fe59f7b7de0e3865171",
      "c72677cfcdb240829b99dcd4086cbd00",
      "617dd14c2c974915940dc5fbb023c203",
      "cf5fbbb87c8d4c798cca2ccb64211322",
      "f5c3af6dabc24168938abd6e5ffdef55",
      "8223cf9f31f9407cac48e41cfd1acb75",
      "9d36141b14444e438a0e96a08b356165",
      "e8a3fddfb8674a51956e8c83479684d7",
      "78835a59a57a4f1a85b197080a639b22",
      "e1fa937d83c14ee194cd3ed7f3cdba40",
      "e3dea9bc032643fe9202dde35e11f4aa",
      "9a58e12f73174f05bb41d90de4c724c4",
      "b0b95cb84b5946cbb1facc41d80ceb57",
      "604aff5b65c343c5a82f85d35ad67d20",
      "df1e3b0f3a9943719f4d6fb872870110",
      "8da8eaad76494f8e91c8da704aa889ab",
      "15d7c89a44cb476fa3def4419b685055",
      "aea4ed7cbc74430ea2eff35f0795c413",
      "79b1c6e03a1c47a980a84147bf6b50e4",
      "3831a84314c34153bad19bbdc50e370e",
      "080845ab2d834b008609316530398c30",
      "f4dfe8387e2444aab8f60f2512e71db1",
      "386db919cbbc4f27b2c56ed8e4ae7727",
      "2f0c92704c0343db876b1e15c3318f67",
      "95db4a1d205b45b4a39b3b76c65d790a",
      "bcae41de444f417e94280865b520552a",
      "d2f950fdd8a847dd85059bfddfe374e3",
      "5a58a1a09bd741eaa0c03370457340d9",
      "89aee9a1e0c647949ec84c1e7875baea",
      "0ad8ec1c8b6f4aa29c3f866da637c1f5",
      "dade6b571fde41c284a7f02e1c6431b5",
      "34a098ad75b04ad58fb737349f8bae78",
      "b713fdc57a00455094b08d1ba2cb22bc",
      "ac90a9a9103f4c5c8057d215741a199c",
      "bdd5bdb5b7134037b16585ff690b279c"
     ]
    },
    "executionInfo": {
     "elapsed": 2563,
     "status": "ok",
     "timestamp": 1733750457243,
     "user": {
      "displayName": "Katarzyna Szczepaniak",
      "userId": "13778154280878787855"
     },
     "user_tz": -60
    },
    "id": "C5430Zq1W-dj",
    "outputId": "d6d97c42-f8e0-4813-ac00-6356fa1a49fa"
   },
   "outputs": [],
   "source": [
    "tokenizer = BertTokenizer.from_pretrained(DESIGNATED_MODEL)"
   ]
  },
  {
   "cell_type": "code",
   "execution_count": null,
   "metadata": {
    "executionInfo": {
     "elapsed": 7,
     "status": "ok",
     "timestamp": 1733750457243,
     "user": {
      "displayName": "Katarzyna Szczepaniak",
      "userId": "13778154280878787855"
     },
     "user_tz": -60
    },
    "id": "ng_4Q4k1XJvc"
   },
   "outputs": [],
   "source": [
    "def tokenize_conversation(conversations, max_length = 128):\n",
    "    input_ids = []\n",
    "    attention_masks = []\n",
    "\n",
    "    for conversation in conversations:\n",
    "        dialogue = \" [SEP] \".join(conversation)\n",
    "        encoded = tokenizer(\n",
    "            dialogue,\n",
    "            truncation = True,\n",
    "            padding = 'max_length',\n",
    "            max_length = max_length,\n",
    "            return_tensors = \"pt\"\n",
    "        )\n",
    "        input_ids.append(encoded[\"input_ids\"].squeeze(0))\n",
    "        attention_masks.append(encoded[\"attention_mask\"].squeeze(0))\n",
    "\n",
    "    return input_ids, attention_masks"
   ]
  },
  {
   "cell_type": "code",
   "execution_count": null,
   "metadata": {
    "executionInfo": {
     "elapsed": 7,
     "status": "ok",
     "timestamp": 1733750457243,
     "user": {
      "displayName": "Katarzyna Szczepaniak",
      "userId": "13778154280878787855"
     },
     "user_tz": -60
    },
    "id": "kUdbsdw_XMrD"
   },
   "outputs": [],
   "source": [
    "def pad_labels(labels, max_length = 128):\n",
    "    padded_labels = []\n",
    "    for label_set in labels:\n",
    "        label_tensor = torch.tensor(label_set, dtype = torch.float)\n",
    "        # Pad with -1 to ignore padding tokens in the loss function\n",
    "        padded_tensor = torch.cat(\n",
    "            [label_tensor, torch.full((max_length - len(label_set),), -1)]\n",
    "        )\n",
    "        padded_labels.append(padded_tensor)\n",
    "    return padded_labels"
   ]
  },
  {
   "cell_type": "code",
   "execution_count": null,
   "metadata": {
    "executionInfo": {
     "elapsed": 7,
     "status": "ok",
     "timestamp": 1733750457244,
     "user": {
      "displayName": "Katarzyna Szczepaniak",
      "userId": "13778154280878787855"
     },
     "user_tz": -60
    },
    "id": "8pcFsfoZXNBD"
   },
   "outputs": [],
   "source": [
    "class ConversationDataset(Dataset):\n",
    "    def __init__(self, input_ids, attention_masks, emotion_labels, trigger_labels):\n",
    "        self.input_ids = input_ids\n",
    "        self.attention_masks = attention_masks\n",
    "        self.emotion_labels = emotion_labels\n",
    "        self.trigger_labels = trigger_labels\n",
    "\n",
    "    def __len__(self):\n",
    "        return len(self.input_ids)\n",
    "\n",
    "    def __getitem__(self, idx):\n",
    "        return {\n",
    "            \"input_ids\": self.input_ids[idx],\n",
    "            \"attention_mask\": self.attention_masks[idx],\n",
    "            \"emotion_labels\": self.emotion_labels[idx],\n",
    "            \"trigger_labels\": self.trigger_labels[idx],\n",
    "        }"
   ]
  },
  {
   "cell_type": "code",
   "execution_count": null,
   "metadata": {
    "executionInfo": {
     "elapsed": 7,
     "status": "ok",
     "timestamp": 1733750457244,
     "user": {
      "displayName": "Katarzyna Szczepaniak",
      "userId": "13778154280878787855"
     },
     "user_tz": -60
    },
    "id": "vZtkYJ8e7c2V"
   },
   "outputs": [],
   "source": [
    "def create_dataloader(conversations, emotions, triggers, max_length = 128):\n",
    "    input_ids, attention_masks = tokenize_conversation(conversations, max_length = max_length)\n",
    "    emotion_labels = pad_labels(emotions, max_length = max_length)\n",
    "    trigger_labels = pad_labels(triggers, max_length = max_length)\n",
    "\n",
    "    dataset = ConversationDataset(input_ids, attention_masks, emotion_labels, trigger_labels)\n",
    "    loader = DataLoader(dataset, batch_size = BATCH_SIZE, shuffle = False)\n",
    "\n",
    "    return loader"
   ]
  },
  {
   "cell_type": "code",
   "execution_count": null,
   "metadata": {
    "executionInfo": {
     "elapsed": 14100,
     "status": "ok",
     "timestamp": 1733750471337,
     "user": {
      "displayName": "Katarzyna Szczepaniak",
      "userId": "13778154280878787855"
     },
     "user_tz": -60
    },
    "id": "unp_0eNW7c2V"
   },
   "outputs": [],
   "source": [
    "train_loader = create_dataloader(X_train, y1_train, y2_train, max_length = MAX_LENGTH)\n",
    "val_loader = create_dataloader(X_val, y1_val, y2_val, max_length = MAX_LENGTH)\n",
    "test_loader = create_dataloader(X_test, y1_test, y2_test, max_length = MAX_LENGTH)"
   ]
  },
  {
   "cell_type": "markdown",
   "metadata": {
    "id": "F4mmyvf8wtVv"
   },
   "source": [
    "# Model configuration"
   ]
  },
  {
   "cell_type": "code",
   "execution_count": null,
   "metadata": {
    "executionInfo": {
     "elapsed": 17,
     "status": "ok",
     "timestamp": 1733750471339,
     "user": {
      "displayName": "Katarzyna Szczepaniak",
      "userId": "13778154280878787855"
     },
     "user_tz": -60
    },
    "id": "kueFTpHSXViM"
   },
   "outputs": [],
   "source": [
    "GATE_TYPE = 'linear'  # @param ['linear', 'mlp']\n",
    "EXPERT_TYPE = 'linear' # @param ['linear', 'mlp', 'rnn']\n",
    "NUM_EXPERTS = 8 # @param {type: 'slider', min: 1, max: 8, step: 1}\n",
    "TOP_K = 8 # @param {type: 'slider', min: 1, max: 8, step: 1}"
   ]
  },
  {
   "cell_type": "code",
   "execution_count": null,
   "metadata": {
    "executionInfo": {
     "elapsed": 15,
     "status": "ok",
     "timestamp": 1733750471339,
     "user": {
      "displayName": "Katarzyna Szczepaniak",
      "userId": "13778154280878787855"
     },
     "user_tz": -60
    },
    "id": "12upnrxiXXbM"
   },
   "outputs": [],
   "source": [
    "assert TOP_K <= NUM_EXPERTS, \"Select different values for TOP_K and NUM_EXPERTS!\""
   ]
  },
  {
   "cell_type": "code",
   "execution_count": null,
   "metadata": {
    "executionInfo": {
     "elapsed": 14,
     "status": "ok",
     "timestamp": 1733750471340,
     "user": {
      "displayName": "Katarzyna Szczepaniak",
      "userId": "13778154280878787855"
     },
     "user_tz": -60
    },
    "id": "umr0EC9_XuzD"
   },
   "outputs": [],
   "source": [
    "class MoEForEmotionAndTriggerClassification(nn.Module):\n",
    "    def __init__(self, num_experts, k, num_classes, gate_type = 'linear', expert_type = 'linear', model_name = 'bert-base-uncased'):\n",
    "        super(MoEForEmotionAndTriggerClassification, self).__init__()\n",
    "\n",
    "        self.model = BertModel.from_pretrained(model_name)\n",
    "        for param in self.model.parameters():\n",
    "            param.requires_grad = True  # Set to True if you want to fine-tune model\n",
    "        hidden_size = self.model.config.hidden_size\n",
    "\n",
    "        gate_setup = {\n",
    "            'linear': nn.Linear(hidden_size, num_experts),\n",
    "            'mlp': nn.Sequential(nn.Linear(hidden_size, 512), nn.ReLU(), nn.Linear(512, num_experts)),\n",
    "        }\n",
    "\n",
    "        expert_setup = {\n",
    "            'linear': nn.Linear(hidden_size, hidden_size),\n",
    "            'mlp': nn.Sequential(nn.Linear(hidden_size, 512), nn.ReLU(), nn.Linear(512, hidden_size)),\n",
    "            'rnn': nn.LSTM(hidden_size, hidden_size),\n",
    "        }\n",
    "\n",
    "        self.gating_network_emotion = gate_setup[gate_type]\n",
    "        self.gating_network_trigger = gate_setup[gate_type]\n",
    "        self.experts = nn.ModuleList([expert_setup[expert_type] for _ in range(num_experts)])\n",
    "\n",
    "        self.emotion_classifier = nn.Linear(hidden_size, num_classes)\n",
    "        self.trigger_classifier = nn.Linear(hidden_size, 1)\n",
    "\n",
    "        self.k = k\n",
    "        self.dropout = nn.Dropout(p = 0.1)\n",
    "\n",
    "    def forward(self, input_ids, attention_mask):\n",
    "        model_outputs = self.model(input_ids = input_ids, attention_mask = attention_mask)\n",
    "        embeddings = model_outputs.last_hidden_state  # (batch_size, seq_len, hidden_size)\n",
    "        pooled_embeddings = embeddings.mean(dim = 1)    # (batch_size, hidden_size)\n",
    "        pooled_embeddings = self.dropout(pooled_embeddings)\n",
    "\n",
    "        # expert weights for emotion classification\n",
    "        expert_weights_emotion = self.gating_network_emotion(pooled_embeddings)  # (batch_size, num_experts)\n",
    "        expert_weights_emotion = torch.softmax(expert_weights_emotion, dim = -1)\n",
    "\n",
    "        # expert weights for trigger classification\n",
    "        expert_weights_trigger = self.gating_network_trigger(pooled_embeddings)  # (batch_size, num_experts)\n",
    "        expert_weights_trigger = torch.softmax(expert_weights_trigger, dim = -1)\n",
    "\n",
    "        # aggregate expert outputs for each task\n",
    "        combined_output_emotion = self._compute_expert_output(embeddings, expert_weights_emotion)\n",
    "        combined_output_trigger = self._compute_expert_output(embeddings, expert_weights_trigger)\n",
    "\n",
    "        combined_output_emotion = self.dropout(combined_output_emotion)\n",
    "        combined_output_trigger = self.dropout(combined_output_trigger)\n",
    "\n",
    "        emotion_logits = self.emotion_classifier(combined_output_emotion)   # (batch_size, seq_len, num_classes)\n",
    "        trigger_logits = self.trigger_classifier(combined_output_trigger).squeeze(-1)   # (batch_size, seq_len)\n",
    "\n",
    "        return emotion_logits, trigger_logits\n",
    "\n",
    "    def _compute_expert_output(self, embeddings, expert_weights):\n",
    "        combined_output = torch.zeros_like(embeddings)\n",
    "\n",
    "        # top-k experts only are activated\n",
    "        topk_weights, topk_indices = torch.topk(expert_weights, self.k, dim = -1)\n",
    "\n",
    "        for i in range(self.k):\n",
    "            expert_idx = topk_indices[:, i]\n",
    "            weight = topk_weights[:, i].unsqueeze(-1).unsqueeze(-1)\n",
    "\n",
    "            expert_outputs = []\n",
    "            for j in range(expert_idx.size(0)):\n",
    "                expert = self.experts[expert_idx[j]]\n",
    "\n",
    "                if isinstance(expert, nn.LSTM):\n",
    "                    embedding_input = embeddings[j].unsqueeze(0)\n",
    "                    output, _ = expert(embedding_input)\n",
    "                    expert_outputs.append(output.squeeze(0))\n",
    "\n",
    "                elif isinstance(expert, nn.Linear) or isinstance(expert, nn.Sequential):\n",
    "                    output = expert(embeddings[j])\n",
    "                    expert_outputs.append(output)\n",
    "\n",
    "            expert_outputs = torch.stack(expert_outputs)\n",
    "            combined_output += weight * expert_outputs\n",
    "\n",
    "        return combined_output"
   ]
  },
  {
   "cell_type": "markdown",
   "metadata": {
    "id": "e5Bw1xqCz9bC"
   },
   "source": [
    "# Training parameters"
   ]
  },
  {
   "cell_type": "code",
   "execution_count": null,
   "metadata": {
    "executionInfo": {
     "elapsed": 11,
     "status": "ok",
     "timestamp": 1733750471340,
     "user": {
      "displayName": "Katarzyna Szczepaniak",
      "userId": "13778154280878787855"
     },
     "user_tz": -60
    },
    "id": "d4qZOamlwwym"
   },
   "outputs": [],
   "source": [
    "LEARNING_RATE = 0.00002  # @param {type: 'slider', min: 1E-5, max: 5E-5, step: 1E-5}\n",
    "NUM_EPOCHS = 5  # @param {type: 'slider', min: 3, max: 15, step: 1}"
   ]
  },
  {
   "cell_type": "code",
   "execution_count": null,
   "metadata": {
    "colab": {
     "base_uri": "https://localhost:8080/",
     "height": 49,
     "referenced_widgets": [
      "7ea05f8399d74130a4163c2a12b2341f",
      "5e857759f3f64e95bbc8b0d9a52cdad6",
      "c9fc6bf3e6cf46319fee9683fb486c8a",
      "66773a3ee8f14c2a8dce63ddb0dd7802",
      "269dc9ad153c4139af1248ab51de5c8c",
      "7ecfd7b8c6b34309be1a2c3c5553b36b",
      "05cfb70a69a74600922650679d11b540",
      "c81d4038df724874a2ed4b1b802148d1",
      "e06df321bf7e48b2b8c4f9a5ec3c7f6c",
      "dd227dbb9a3743acaf6650ae1d686934",
      "9e13043b2f0c4ad6bf2a3a4d82abe96e"
     ]
    },
    "executionInfo": {
     "elapsed": 4133,
     "status": "ok",
     "timestamp": 1733750475462,
     "user": {
      "displayName": "Katarzyna Szczepaniak",
      "userId": "13778154280878787855"
     },
     "user_tz": -60
    },
    "id": "oJPBM0OaYWBf",
    "outputId": "59b9bffd-c4b7-4b02-f646-f113b5574b0b"
   },
   "outputs": [],
   "source": [
    "from torch.optim import AdamW\n",
    "from torch.nn import CrossEntropyLoss, BCEWithLogitsLoss\n",
    "\n",
    "moe = MoEForEmotionAndTriggerClassification(num_experts = NUM_EXPERTS, k = TOP_K, num_classes = len(labels_to_ids), gate_type = GATE_TYPE, expert_type = EXPERT_TYPE, model_name = DESIGNATED_MODEL)\n",
    "optimizer = AdamW(moe.parameters(), lr = LEARNING_RATE)\n",
    "\n",
    "emotion_loss_fn = CrossEntropyLoss()\n",
    "trigger_loss_fn = BCEWithLogitsLoss()"
   ]
  },
  {
   "cell_type": "code",
   "execution_count": null,
   "metadata": {
    "colab": {
     "base_uri": "https://localhost:8080/"
    },
    "executionInfo": {
     "elapsed": 257,
     "status": "ok",
     "timestamp": 1733750475716,
     "user": {
      "displayName": "Katarzyna Szczepaniak",
      "userId": "13778154280878787855"
     },
     "user_tz": -60
    },
    "id": "EiLsS9Y9YWjk",
    "outputId": "02464b80-147f-4b74-f26f-f326565dfa18"
   },
   "outputs": [],
   "source": [
    "moe.to(device)"
   ]
  },
  {
   "cell_type": "code",
   "execution_count": null,
   "metadata": {
    "executionInfo": {
     "elapsed": 5,
     "status": "ok",
     "timestamp": 1733750475716,
     "user": {
      "displayName": "Katarzyna Szczepaniak",
      "userId": "13778154280878787855"
     },
     "user_tz": -60
    },
    "id": "p8nFDwIIMzcz"
   },
   "outputs": [],
   "source": [
    "def remove_padding(logits, labels, task):\n",
    "    mask = labels != -1\n",
    "\n",
    "    logits_flat = logits.view(-1, logits.size(-1)) if task == 'emotion' else logits.view(-1)\n",
    "    labels_flat = labels.view(-1)\n",
    "\n",
    "    logits = logits_flat[mask.view(-1)]\n",
    "    labels = labels_flat[mask.view(-1)]\n",
    "\n",
    "    return logits, labels"
   ]
  },
  {
   "cell_type": "code",
   "execution_count": null,
   "metadata": {
    "executionInfo": {
     "elapsed": 5,
     "status": "ok",
     "timestamp": 1733750475716,
     "user": {
      "displayName": "Katarzyna Szczepaniak",
      "userId": "13778154280878787855"
     },
     "user_tz": -60
    },
    "id": "7QS5wNkiYZt7"
   },
   "outputs": [],
   "source": [
    "def evaluate(model, val_loader):\n",
    "    model.eval()\n",
    "    val_loss, nb_steps = 0.0, 0\n",
    "    total_emotion_preds, correct_emotion_preds = 0, 0\n",
    "    total_trigger_preds, correct_trigger_preds = 0, 0\n",
    "    val_logs = []\n",
    "\n",
    "    with torch.no_grad():\n",
    "        for idx, batch in enumerate(val_loader):\n",
    "            input_ids = batch['input_ids'].to(device)\n",
    "            attention_mask = batch['attention_mask'].to(device)\n",
    "            emotion_labels = batch['emotion_labels'].to(device)\n",
    "            trigger_labels = batch['trigger_labels'].to(device)\n",
    "\n",
    "            emotion_logits, trigger_logits = model(input_ids, attention_mask)\n",
    "\n",
    "            # removing padding\n",
    "            emotion_logits, emotion_labels = remove_padding(emotion_logits, emotion_labels, 'emotion')\n",
    "            trigger_logits, trigger_labels = remove_padding(trigger_logits, trigger_labels, 'trigger')\n",
    "\n",
    "            # calculating loss\n",
    "            emotion_loss = emotion_loss_fn(emotion_logits, emotion_labels.long())\n",
    "            trigger_loss = trigger_loss_fn(trigger_logits, trigger_labels)\n",
    "\n",
    "            loss = emotion_loss + trigger_loss\n",
    "            val_loss += loss.item()\n",
    "\n",
    "            # calculating accuracy\n",
    "            emotion_preds = torch.argmax(emotion_logits, dim=-1)\n",
    "            trigger_preds = (torch.sigmoid(trigger_logits).squeeze(-1) > 0.5).long()\n",
    "\n",
    "            correct_emotion_preds += torch.sum(emotion_preds == emotion_labels).item()\n",
    "            correct_trigger_preds += torch.sum(trigger_preds == trigger_labels).item()\n",
    "\n",
    "            total_emotion_preds += emotion_labels.numel()\n",
    "            total_trigger_preds += trigger_labels.numel()\n",
    "\n",
    "            nb_steps += 1\n",
    "\n",
    "            if idx % 100 == 0:\n",
    "                loss_step = val_loss / nb_steps\n",
    "                print(f'      Validation loss per 100 training steps: {loss_step}')\n",
    "                val_logs.append(f'      Validation loss per 100 training steps: {loss_step}\\n')\n",
    "\n",
    "        avg_val_loss = val_loss / len(val_loader)\n",
    "        emotion_accuracy = correct_emotion_preds / total_emotion_preds\n",
    "        trigger_accuracy = correct_trigger_preds / total_trigger_preds\n",
    "        avg_val_accuracy = (emotion_accuracy + trigger_accuracy)/2\n",
    "\n",
    "    return avg_val_loss, avg_val_accuracy, val_logs"
   ]
  },
  {
   "cell_type": "code",
   "execution_count": null,
   "metadata": {
    "executionInfo": {
     "elapsed": 3,
     "status": "ok",
     "timestamp": 1733750475716,
     "user": {
      "displayName": "Katarzyna Szczepaniak",
      "userId": "13778154280878787855"
     },
     "user_tz": -60
    },
    "id": "6Cq8fwysYaY_"
   },
   "outputs": [],
   "source": [
    "def train_and_validate(model, train_loader, val_loader, num_epochs = 3):\n",
    "    train_logs = []\n",
    "\n",
    "    for epoch in range(num_epochs):\n",
    "        print(f\"Epoch [{epoch + 1}/{num_epochs}]\")\n",
    "        train_logs.append(f\"Epoch [{epoch + 1}/{num_epochs}]\\n\")\n",
    "        model.train()\n",
    "        train_loss, nb_steps = 0.0, 0\n",
    "        total_emotion_preds, correct_emotion_preds = 0, 0\n",
    "        total_trigger_preds, correct_trigger_preds = 0, 0\n",
    "\n",
    "        for idx, batch in enumerate(train_loader):\n",
    "            optimizer.zero_grad()\n",
    "\n",
    "            input_ids = batch['input_ids'].to(device)\n",
    "            attention_mask = batch['attention_mask'].to(device)\n",
    "            emotion_labels = batch['emotion_labels'].to(device)\n",
    "            trigger_labels = batch['trigger_labels'].to(device)\n",
    "\n",
    "            emotion_logits, trigger_logits = model(input_ids, attention_mask)\n",
    "\n",
    "            # removing padding\n",
    "            emotion_logits, emotion_labels = remove_padding(emotion_logits, emotion_labels, 'emotion')\n",
    "            trigger_logits, trigger_labels = remove_padding(trigger_logits, trigger_labels, 'trigger')\n",
    "\n",
    "            # calculating loss\n",
    "            emotion_loss = emotion_loss_fn(emotion_logits, emotion_labels.long())\n",
    "            trigger_loss = trigger_loss_fn(trigger_logits, trigger_labels)\n",
    "\n",
    "            loss = emotion_loss + trigger_loss\n",
    "            train_loss += loss.item()\n",
    "\n",
    "            loss.backward()\n",
    "            optimizer.step()\n",
    "\n",
    "            # calculating accuracy\n",
    "            emotion_preds = torch.argmax(emotion_logits, dim=-1)\n",
    "            trigger_preds = (torch.sigmoid(trigger_logits).squeeze(-1) > 0.5).long()\n",
    "\n",
    "            correct_emotion_preds += torch.sum(emotion_preds == emotion_labels).item()\n",
    "            correct_trigger_preds += torch.sum(trigger_preds == trigger_labels).item()\n",
    "\n",
    "            total_emotion_preds += emotion_labels.numel()\n",
    "            total_trigger_preds += trigger_labels.numel()\n",
    "            nb_steps += 1\n",
    "\n",
    "            if idx % 100 == 0:\n",
    "                loss_step = train_loss / nb_steps\n",
    "                print(f'      Training loss per 100 training steps: {loss_step}')\n",
    "                train_logs.append(f'      Training loss per 100 training steps: {loss_step}\\n')\n",
    "\n",
    "        avg_train_loss = train_loss / len(train_loader)\n",
    "        emotion_accuracy = correct_emotion_preds / total_emotion_preds\n",
    "        trigger_accuracy = correct_trigger_preds / total_trigger_preds\n",
    "        avg_train_accuracy = (emotion_accuracy + trigger_accuracy)/2\n",
    "\n",
    "        val_loss, val_accuracy, val_logs = evaluate(model, val_loader)\n",
    "        train_logs.extend(val_logs)\n",
    "\n",
    "        print(f\"   Training Loss: {avg_train_loss:.3f}, Training Accuracy: {avg_train_accuracy:.3f}\")\n",
    "        train_logs.append(f\"   Training Loss: {avg_train_loss:.3f}, Training Accuracy: {avg_train_accuracy:.3f}\\n\")\n",
    "\n",
    "        print(f\"   Validation Loss: {val_loss:.3f}, Validation Accuracy: {val_accuracy:.3f}\\n\")\n",
    "        train_logs.append(f\"   Validation Loss: {val_loss:.3f}, Validation Accuracy: {val_accuracy:.3f}\\n\\n\")\n",
    "\n",
    "    return train_logs"
   ]
  },
  {
   "cell_type": "code",
   "execution_count": null,
   "metadata": {
    "colab": {
     "base_uri": "https://localhost:8080/"
    },
    "executionInfo": {
     "elapsed": 467844,
     "status": "ok",
     "timestamp": 1733750943557,
     "user": {
      "displayName": "Katarzyna Szczepaniak",
      "userId": "13778154280878787855"
     },
     "user_tz": -60
    },
    "id": "N_U28Fs-YcFL",
    "outputId": "98e1a612-33d2-4022-d5df-56a69bfa835a"
   },
   "outputs": [],
   "source": [
    "logs = train_and_validate(moe, train_loader, val_loader, num_epochs = NUM_EPOCHS)"
   ]
  },
  {
   "cell_type": "code",
   "execution_count": null,
   "metadata": {
    "executionInfo": {
     "elapsed": 11,
     "status": "ok",
     "timestamp": 1733750943558,
     "user": {
      "displayName": "Katarzyna Szczepaniak",
      "userId": "13778154280878787855"
     },
     "user_tz": -60
    },
    "id": "CtoS1ploVP0i"
   },
   "outputs": [],
   "source": [
    "from sklearn.metrics import precision_score, recall_score, f1_score, accuracy_score, confusion_matrix\n",
    "from collections import defaultdict\n",
    "\n",
    "def get_metrics(model, data_loader, dev):\n",
    "    model.eval()\n",
    "\n",
    "    emotion_accuracy = 0.0\n",
    "    emotion_precision = 0.0\n",
    "    emotion_recall = 0.0\n",
    "    emotion_f1 = 0.0\n",
    "    emotion_cm = None\n",
    "\n",
    "    unique_emotions_f1 = dict.fromkeys(labels_to_ids.keys(), 0.0)\n",
    "\n",
    "    trigger_accuracy = 0.0\n",
    "    trigger_precision = 0.0\n",
    "    trigger_recall = 0.0\n",
    "    trigger_f1 = 0.0\n",
    "    trigger_cm = None\n",
    "\n",
    "    nb_steps = 0\n",
    "\n",
    "    for batch in data_loader:\n",
    "        input_ids = batch['input_ids'].to(dev)\n",
    "        attention_mask = batch['attention_mask'].to(dev)\n",
    "        emotion_labels = batch['emotion_labels'].to(dev)\n",
    "        trigger_labels = batch['trigger_labels'].to(dev)\n",
    "\n",
    "        with torch.no_grad():\n",
    "            # Forward pass\n",
    "            emotion_logits, trigger_logits = model(input_ids, attention_mask)\n",
    "\n",
    "            # Compute predictions for emotions\n",
    "            emotion_logits, emotion_labels = remove_padding(emotion_logits, emotion_labels, 'emotion')\n",
    "\n",
    "            emotion_preds = torch.argmax(emotion_logits, dim = -1)\n",
    "\n",
    "            emotion_preds_flat = emotion_preds.cpu().numpy()\n",
    "            emotion_labels_flat = emotion_labels.cpu().numpy()\n",
    "\n",
    "            # Compute predictions for triggers\n",
    "            trigger_logits, trigger_labels = remove_padding(trigger_logits, trigger_labels, 'trigger')\n",
    "\n",
    "            trigger_preds = (torch.sigmoid(trigger_logits).squeeze(-1) > 0.5).long()\n",
    "\n",
    "            trigger_preds_flat = trigger_preds.cpu().numpy()\n",
    "            trigger_labels_flat = trigger_labels.cpu().numpy()\n",
    "\n",
    "            # Calculate metrics for emotion classification\n",
    "            emotion_accuracy += accuracy_score(emotion_labels_flat, emotion_preds_flat)\n",
    "            emotion_precision += precision_score(emotion_labels_flat, emotion_preds_flat, average='weighted', zero_division = 0)\n",
    "            emotion_recall += recall_score(emotion_labels_flat, emotion_preds_flat, average='weighted', zero_division = 0)\n",
    "            emotion_f1 += f1_score(emotion_labels_flat, emotion_preds_flat, average='weighted', zero_division = 0)\n",
    "\n",
    "            for idx, score in enumerate(f1_score(emotion_labels_flat, emotion_preds_flat, average = None, zero_division = 0)):\n",
    "                unique_emotions_f1[ids_to_labels[idx]] += score\n",
    "\n",
    "            if emotion_cm is None:\n",
    "                emotion_cm = confusion_matrix(emotion_labels_flat, emotion_preds_flat, labels = range(len(labels_to_ids)))\n",
    "            else:\n",
    "                emotion_cm += confusion_matrix(emotion_labels_flat, emotion_preds_flat, labels = range(len(labels_to_ids)))\n",
    "\n",
    "            # Calculate metrics for trigger classification\n",
    "            trigger_accuracy += accuracy_score(trigger_labels_flat, trigger_preds_flat)\n",
    "            trigger_precision += precision_score(trigger_labels_flat, trigger_preds_flat, average='weighted', zero_division = 0)\n",
    "            trigger_recall += recall_score(trigger_labels_flat, trigger_preds_flat, average='weighted', zero_division = 0)\n",
    "            trigger_f1 += f1_score(trigger_labels_flat, trigger_preds_flat, average='weighted', zero_division = 0)\n",
    "\n",
    "            if trigger_cm is None:\n",
    "                trigger_cm = confusion_matrix(trigger_labels_flat, trigger_preds_flat, labels = [0, 1])\n",
    "            else:\n",
    "                trigger_cm += confusion_matrix(trigger_labels_flat, trigger_preds_flat, labels = [0, 1])\n",
    "\n",
    "            nb_steps += 1\n",
    "\n",
    "    metrics = defaultdict(lambda: {})\n",
    "\n",
    "    # Calculate average metrics\n",
    "    avg_emotion_accuracy = emotion_accuracy / nb_steps\n",
    "    avg_emotion_precision = emotion_precision / nb_steps\n",
    "    avg_emotion_recall = emotion_recall / nb_steps\n",
    "    avg_emotion_f1 = emotion_f1 / nb_steps\n",
    "\n",
    "    for key, value in unique_emotions_f1.items():\n",
    "        unique_emotions_f1[key] = value / nb_steps\n",
    "\n",
    "    metrics['emotion_classification'] = {'accuracy': avg_emotion_accuracy,\n",
    "                                         'precision': avg_emotion_precision,\n",
    "                                         'recall': avg_emotion_recall,\n",
    "                                         'f1': {'avg': avg_emotion_f1}}\n",
    "    metrics['emotion_classification']['f1'].update(unique_emotions_f1)\n",
    "\n",
    "    avg_trigger_accuracy = trigger_accuracy / nb_steps\n",
    "    avg_trigger_precision = trigger_precision / nb_steps\n",
    "    avg_trigger_recall = trigger_recall / nb_steps\n",
    "    avg_trigger_f1 = trigger_f1 / nb_steps\n",
    "\n",
    "    metrics['trigger_classification'] = {'accuracy': avg_trigger_accuracy,\n",
    "                                         'precision': avg_trigger_precision,\n",
    "                                         'recall': avg_trigger_recall,\n",
    "                                         'f1': avg_trigger_f1}\n",
    "\n",
    "    return metrics, emotion_cm, trigger_cm"
   ]
  },
  {
   "cell_type": "code",
   "execution_count": null,
   "metadata": {
    "executionInfo": {
     "elapsed": 292,
     "status": "ok",
     "timestamp": 1733750943841,
     "user": {
      "displayName": "Katarzyna Szczepaniak",
      "userId": "13778154280878787855"
     },
     "user_tz": -60
    },
    "id": "4_4-IURj7c2Z"
   },
   "outputs": [],
   "source": [
    "import seaborn as sns\n",
    "import matplotlib.pyplot as plt\n",
    "\n",
    "def plot_confusion_matrix(cm, labels, title = \"Confusion Matrix\"):\n",
    "    plt.figure(figsize = (10, 8))\n",
    "    sns.heatmap(cm, annot = True, fmt = 'd', cmap = \"Blues\", xticklabels = labels, yticklabels = labels)\n",
    "    plt.xlabel('Predicted Labels', fontsize = 14)\n",
    "    plt.ylabel('True Labels', fontsize = 14)\n",
    "    plt.title(title, fontsize = 16)\n",
    "    plt.xticks(rotation = 90)\n",
    "    plt.yticks(rotation = 0)\n",
    "    plt.tight_layout()\n",
    "    plt.show()"
   ]
  },
  {
   "cell_type": "code",
   "execution_count": null,
   "metadata": {
    "colab": {
     "base_uri": "https://localhost:8080/"
    },
    "executionInfo": {
     "elapsed": 5935,
     "status": "ok",
     "timestamp": 1733750949773,
     "user": {
      "displayName": "Katarzyna Szczepaniak",
      "userId": "13778154280878787855"
     },
     "user_tz": -60
    },
    "id": "_8mXtjNtVSir",
    "outputId": "ae159dff-12da-4337-b3e8-afa63d316a72"
   },
   "outputs": [],
   "source": [
    "metrics, emotion_cm, trigger_cm = get_metrics(moe, test_loader, device)\n",
    "\n",
    "# Output results\n",
    "for task, results in metrics.items():\n",
    "    print(f'Task: {task}')\n",
    "    for metric, score in results.items():\n",
    "        if metric != 'f1' or (metric == 'f1' and isinstance(score, np.float64)):\n",
    "            print(f'      {metric}: {score:.3f}')\n",
    "        else:\n",
    "            print(f'      f1: ')\n",
    "            for x, y in score.items():\n",
    "                print(f'          {x}: {y:.3f}')"
   ]
  },
  {
   "cell_type": "code",
   "execution_count": null,
   "metadata": {
    "colab": {
     "base_uri": "https://localhost:8080/",
     "height": 807
    },
    "executionInfo": {
     "elapsed": 421,
     "status": "ok",
     "timestamp": 1733750950191,
     "user": {
      "displayName": "Katarzyna Szczepaniak",
      "userId": "13778154280878787855"
     },
     "user_tz": -60
    },
    "id": "8DcaWdLv7c2Z",
    "outputId": "82c49b53-5986-4334-b057-be6ae88ae5fe"
   },
   "outputs": [],
   "source": [
    "plot_confusion_matrix(emotion_cm, [i for i in labels_to_ids.keys()], \"Emotion Classification\")"
   ]
  },
  {
   "cell_type": "code",
   "execution_count": null,
   "metadata": {
    "colab": {
     "base_uri": "https://localhost:8080/",
     "height": 807
    },
    "executionInfo": {
     "elapsed": 412,
     "status": "ok",
     "timestamp": 1733750950595,
     "user": {
      "displayName": "Katarzyna Szczepaniak",
      "userId": "13778154280878787855"
     },
     "user_tz": -60
    },
    "id": "sorMPuEg7c2Z",
    "outputId": "88bfa1e2-9167-454a-b381-f71ac111ea5d"
   },
   "outputs": [],
   "source": [
    "plot_confusion_matrix(trigger_cm, ['No trigger', 'Trigger'], \"Trigger Classification\")"
   ]
  },
  {
   "cell_type": "markdown",
   "metadata": {
    "id": "ns6NhC9K7c2Z"
   },
   "source": [
    "# Save experiment"
   ]
  },
  {
   "cell_type": "code",
   "execution_count": null,
   "metadata": {
    "executionInfo": {
     "elapsed": 11,
     "status": "ok",
     "timestamp": 1733750950595,
     "user": {
      "displayName": "Katarzyna Szczepaniak",
      "userId": "13778154280878787855"
     },
     "user_tz": -60
    },
    "id": "s7hH0xNVYdqL"
   },
   "outputs": [],
   "source": [
    "# torch.save(moe.state_dict(), f'trained_models/{DATASET}/moe_model_{GATE_TYPE}_dual_gate_{NUM_EXPERTS}_{EXPERT_TYPE}_experts_{TOP_K}_active_{LEARNING_RATE}_lr_{NUM_EPOCHS}_epochs.pth')"
   ]
  },
  {
   "cell_type": "code",
   "execution_count": null,
   "metadata": {
    "executionInfo": {
     "elapsed": 10,
     "status": "ok",
     "timestamp": 1733750950596,
     "user": {
      "displayName": "Katarzyna Szczepaniak",
      "userId": "13778154280878787855"
     },
     "user_tz": -60
    },
    "id": "8u3EmufJvACS"
   },
   "outputs": [],
   "source": [
    "def write_confusion_matrix(title, cm, labels):\n",
    "    cm2txt = []\n",
    "    col_width = max(len(max(labels, key=len)), 10)\n",
    "    cm2txt.append('\\n' + title + '\\n')\n",
    "\n",
    "    header = f\"{'':<{col_width}}\"\n",
    "    header += \"\".join([f\"{label:<{col_width}}\" for label in labels])\n",
    "\n",
    "    cm2txt.append(header + '\\n')\n",
    "\n",
    "    rows = []\n",
    "    for i, label in enumerate(labels):\n",
    "        row = f\"{label:<{col_width}}\"\n",
    "        row += \"\".join([f\"{value:<{col_width}}\" for value in cm[i]])\n",
    "        rows.append(row)\n",
    "\n",
    "    cm2txt.append(\"\\n\".join(rows))\n",
    "\n",
    "    return cm2txt"
   ]
  },
  {
   "cell_type": "code",
   "execution_count": null,
   "metadata": {
    "executionInfo": {
     "elapsed": 254,
     "status": "ok",
     "timestamp": 1733750950841,
     "user": {
      "displayName": "Katarzyna Szczepaniak",
      "userId": "13778154280878787855"
     },
     "user_tz": -60
    },
    "id": "KxW3yOpz7c2a"
   },
   "outputs": [],
   "source": [
    "file_path = f'results/{DATASET}/moe_model_{GATE_TYPE}_dual_gate_{NUM_EXPERTS}_{EXPERT_TYPE}_experts_{TOP_K}_active_{LEARNING_RATE}_lr_{NUM_EPOCHS}_epochs.txt'\n",
    "\n",
    "with open(file_path, 'w') as f:\n",
    "    experiment_setup = [f'MAX_LENGTH = {MAX_LENGTH}\\n',\n",
    "                        f'BATCH_SIZE = {BATCH_SIZE}\\n', '\\n',\n",
    "                        f'GATE_TYPE = {GATE_TYPE}\\n',\n",
    "                        f'EXPERT_TYPE = {EXPERT_TYPE}\\n',\n",
    "                        f'NUM_EXPERTS = {NUM_EXPERTS}\\n',\n",
    "                        f'TOP_K = {TOP_K}\\n',\n",
    "                        f'LEARNING_RATE = {LEARNING_RATE}\\n',\n",
    "                        f'NUM_EPOCHS = {NUM_EPOCHS}\\n', '\\n', '\\n']\n",
    "\n",
    "    experiment_results = []\n",
    "    for task, results in metrics.items():\n",
    "        experiment_results.append(f'\\nTask: {task}\\n')\n",
    "        for metric, score in results.items():\n",
    "            if metric != 'f1' or (metric == 'f1' and isinstance(score, np.float64)):\n",
    "                experiment_results.append(f'      {metric}: {score:.3f}\\n')\n",
    "            else:\n",
    "                experiment_results.append(f'      f1:\\n')\n",
    "                for x, y in score.items():\n",
    "                    experiment_results.append(f'          {x}: {y:.3f}\\n')\n",
    "\n",
    "    f.writelines(experiment_setup)\n",
    "    f.writelines(logs)\n",
    "    f.writelines(experiment_results)\n",
    "    f.write(\"\\n\")\n",
    "    writeable_emotion_cm = write_confusion_matrix('Emotion confusion matrix', emotion_cm, [i for i in labels_to_ids.keys()])\n",
    "    f.writelines(writeable_emotion_cm)\n",
    "    f.write(\"\\n\")\n",
    "    writeable_trigger_cm = write_confusion_matrix('Trigger confusion matrix', trigger_cm, ['No trigger', 'Trigger'])\n",
    "    f.writelines(writeable_trigger_cm)"
   ]
  },
  {
   "cell_type": "markdown",
   "metadata": {
    "id": "6pKrBtyNVUes"
   },
   "source": [
    "# Load and test trained model"
   ]
  },
  {
   "cell_type": "code",
   "execution_count": null,
   "metadata": {
    "executionInfo": {
     "elapsed": 11,
     "status": "ok",
     "timestamp": 1733750950842,
     "user": {
      "displayName": "Katarzyna Szczepaniak",
      "userId": "13778154280878787855"
     },
     "user_tz": -60
    },
    "id": "Y8SZCnMSYfQU"
   },
   "outputs": [],
   "source": [
    "# moe_loaded = MoEForEmotionAndTriggerClassification(num_experts = NUM_EXPERTS, k = TOP_K, num_classes = len(labels_to_ids), gate_type = GATE_TYPE, expert_type = EXPERT_TYPE)\n",
    "# moe_loaded.load_state_dict(torch.load(f'trained_models/{DATASET}/moe_model_{GATE_TYPE}_dual_gate_{NUM_EXPERTS}_{EXPERT_TYPE}_experts_{TOP_K}_active_{LEARNING_RATE}_lr_{NUM_EPOCHS}_epochs.pth', map_location=torch.device('cpu')))"
   ]
  },
  {
   "cell_type": "code",
   "execution_count": null,
   "metadata": {
    "executionInfo": {
     "elapsed": 10,
     "status": "ok",
     "timestamp": 1733750950843,
     "user": {
      "displayName": "Katarzyna Szczepaniak",
      "userId": "13778154280878787855"
     },
     "user_tz": -60
    },
    "id": "VAHFusyhYmhV"
   },
   "outputs": [],
   "source": [
    "# metrics, emotion_cm, trigger_cm = get_metrics(moe_loaded, test_loader, 'cpu')\n",
    "\n",
    "# # Output results\n",
    "# for task, results in metrics.items():\n",
    "#     print(f'Task: {task}')\n",
    "#     for metric, score in results.items():\n",
    "#         if metric != 'f1' or (metric == 'f1' and isinstance(score, np.float64)):\n",
    "#             print(f'      {metric}: {score:.3f}')\n",
    "#         else:\n",
    "#             print(f'      f1: ')\n",
    "#             for x, y in score.items():\n",
    "#                 print(f'          {x}: {y:.3f}')"
   ]
  },
  {
   "cell_type": "code",
   "execution_count": null,
   "metadata": {
    "executionInfo": {
     "elapsed": 10,
     "status": "ok",
     "timestamp": 1733750950843,
     "user": {
      "displayName": "Katarzyna Szczepaniak",
      "userId": "13778154280878787855"
     },
     "user_tz": -60
    },
    "id": "RHytkLqd7c2a"
   },
   "outputs": [],
   "source": [
    "# plot_confusion_matrix(emotion_cm, [i for i in labels_to_ids.keys()], \"Emotion Classification\")"
   ]
  },
  {
   "cell_type": "code",
   "execution_count": null,
   "metadata": {
    "executionInfo": {
     "elapsed": 10,
     "status": "ok",
     "timestamp": 1733750950843,
     "user": {
      "displayName": "Katarzyna Szczepaniak",
      "userId": "13778154280878787855"
     },
     "user_tz": -60
    },
    "id": "SbkGitW27c2a"
   },
   "outputs": [],
   "source": [
    "# plot_confusion_matrix(trigger_cm, ['No trigger', 'Trigger'], \"Trigger Classification\")"
   ]
  }
 ],
 "metadata": {
  "accelerator": "GPU",
  "colab": {
   "gpuType": "T4",
   "provenance": []
  },
  "kernelspec": {
   "display_name": "Python 3",
   "name": "python3"
  },
  "language_info": {
   "codemirror_mode": {
    "name": "ipython",
    "version": 3
   },
   "file_extension": ".py",
   "mimetype": "text/x-python",
   "name": "python",
   "nbconvert_exporter": "python",
   "pygments_lexer": "ipython3",
   "version": "3.11.5"
  },
  "widgets": {
   "application/vnd.jupyter.widget-state+json": {
    "05cfb70a69a74600922650679d11b540": {
     "model_module": "@jupyter-widgets/controls",
     "model_module_version": "1.5.0",
     "model_name": "DescriptionStyleModel",
     "state": {
      "_model_module": "@jupyter-widgets/controls",
      "_model_module_version": "1.5.0",
      "_model_name": "DescriptionStyleModel",
      "_view_count": null,
      "_view_module": "@jupyter-widgets/base",
      "_view_module_version": "1.2.0",
      "_view_name": "StyleView",
      "description_width": ""
     }
    },
    "080845ab2d834b008609316530398c30": {
     "model_module": "@jupyter-widgets/base",
     "model_module_version": "1.2.0",
     "model_name": "LayoutModel",
     "state": {
      "_model_module": "@jupyter-widgets/base",
      "_model_module_version": "1.2.0",
      "_model_name": "LayoutModel",
      "_view_count": null,
      "_view_module": "@jupyter-widgets/base",
      "_view_module_version": "1.2.0",
      "_view_name": "LayoutView",
      "align_content": null,
      "align_items": null,
      "align_self": null,
      "border": null,
      "bottom": null,
      "display": null,
      "flex": null,
      "flex_flow": null,
      "grid_area": null,
      "grid_auto_columns": null,
      "grid_auto_flow": null,
      "grid_auto_rows": null,
      "grid_column": null,
      "grid_gap": null,
      "grid_row": null,
      "grid_template_areas": null,
      "grid_template_columns": null,
      "grid_template_rows": null,
      "height": null,
      "justify_content": null,
      "justify_items": null,
      "left": null,
      "margin": null,
      "max_height": null,
      "max_width": null,
      "min_height": null,
      "min_width": null,
      "object_fit": null,
      "object_position": null,
      "order": null,
      "overflow": null,
      "overflow_x": null,
      "overflow_y": null,
      "padding": null,
      "right": null,
      "top": null,
      "visibility": null,
      "width": null
     }
    },
    "0ad8ec1c8b6f4aa29c3f866da637c1f5": {
     "model_module": "@jupyter-widgets/base",
     "model_module_version": "1.2.0",
     "model_name": "LayoutModel",
     "state": {
      "_model_module": "@jupyter-widgets/base",
      "_model_module_version": "1.2.0",
      "_model_name": "LayoutModel",
      "_view_count": null,
      "_view_module": "@jupyter-widgets/base",
      "_view_module_version": "1.2.0",
      "_view_name": "LayoutView",
      "align_content": null,
      "align_items": null,
      "align_self": null,
      "border": null,
      "bottom": null,
      "display": null,
      "flex": null,
      "flex_flow": null,
      "grid_area": null,
      "grid_auto_columns": null,
      "grid_auto_flow": null,
      "grid_auto_rows": null,
      "grid_column": null,
      "grid_gap": null,
      "grid_row": null,
      "grid_template_areas": null,
      "grid_template_columns": null,
      "grid_template_rows": null,
      "height": null,
      "justify_content": null,
      "justify_items": null,
      "left": null,
      "margin": null,
      "max_height": null,
      "max_width": null,
      "min_height": null,
      "min_width": null,
      "object_fit": null,
      "object_position": null,
      "order": null,
      "overflow": null,
      "overflow_x": null,
      "overflow_y": null,
      "padding": null,
      "right": null,
      "top": null,
      "visibility": null,
      "width": null
     }
    },
    "15d7c89a44cb476fa3def4419b685055": {
     "model_module": "@jupyter-widgets/controls",
     "model_module_version": "1.5.0",
     "model_name": "HTMLModel",
     "state": {
      "_dom_classes": [],
      "_model_module": "@jupyter-widgets/controls",
      "_model_module_version": "1.5.0",
      "_model_name": "HTMLModel",
      "_view_count": null,
      "_view_module": "@jupyter-widgets/controls",
      "_view_module_version": "1.5.0",
      "_view_name": "HTMLView",
      "description": "",
      "description_tooltip": null,
      "layout": "IPY_MODEL_386db919cbbc4f27b2c56ed8e4ae7727",
      "placeholder": "​",
      "style": "IPY_MODEL_2f0c92704c0343db876b1e15c3318f67",
      "value": " 436k/436k [00:00&lt;00:00, 15.6MB/s]"
     }
    },
    "1850c47a23604fe59f7b7de0e3865171": {
     "model_module": "@jupyter-widgets/base",
     "model_module_version": "1.2.0",
     "model_name": "LayoutModel",
     "state": {
      "_model_module": "@jupyter-widgets/base",
      "_model_module_version": "1.2.0",
      "_model_name": "LayoutModel",
      "_view_count": null,
      "_view_module": "@jupyter-widgets/base",
      "_view_module_version": "1.2.0",
      "_view_name": "LayoutView",
      "align_content": null,
      "align_items": null,
      "align_self": null,
      "border": null,
      "bottom": null,
      "display": null,
      "flex": null,
      "flex_flow": null,
      "grid_area": null,
      "grid_auto_columns": null,
      "grid_auto_flow": null,
      "grid_auto_rows": null,
      "grid_column": null,
      "grid_gap": null,
      "grid_row": null,
      "grid_template_areas": null,
      "grid_template_columns": null,
      "grid_template_rows": null,
      "height": null,
      "justify_content": null,
      "justify_items": null,
      "left": null,
      "margin": null,
      "max_height": null,
      "max_width": null,
      "min_height": null,
      "min_width": null,
      "object_fit": null,
      "object_position": null,
      "order": null,
      "overflow": null,
      "overflow_x": null,
      "overflow_y": null,
      "padding": null,
      "right": null,
      "top": null,
      "visibility": null,
      "width": null
     }
    },
    "269dc9ad153c4139af1248ab51de5c8c": {
     "model_module": "@jupyter-widgets/base",
     "model_module_version": "1.2.0",
     "model_name": "LayoutModel",
     "state": {
      "_model_module": "@jupyter-widgets/base",
      "_model_module_version": "1.2.0",
      "_model_name": "LayoutModel",
      "_view_count": null,
      "_view_module": "@jupyter-widgets/base",
      "_view_module_version": "1.2.0",
      "_view_name": "LayoutView",
      "align_content": null,
      "align_items": null,
      "align_self": null,
      "border": null,
      "bottom": null,
      "display": null,
      "flex": null,
      "flex_flow": null,
      "grid_area": null,
      "grid_auto_columns": null,
      "grid_auto_flow": null,
      "grid_auto_rows": null,
      "grid_column": null,
      "grid_gap": null,
      "grid_row": null,
      "grid_template_areas": null,
      "grid_template_columns": null,
      "grid_template_rows": null,
      "height": null,
      "justify_content": null,
      "justify_items": null,
      "left": null,
      "margin": null,
      "max_height": null,
      "max_width": null,
      "min_height": null,
      "min_width": null,
      "object_fit": null,
      "object_position": null,
      "order": null,
      "overflow": null,
      "overflow_x": null,
      "overflow_y": null,
      "padding": null,
      "right": null,
      "top": null,
      "visibility": null,
      "width": null
     }
    },
    "2f0c92704c0343db876b1e15c3318f67": {
     "model_module": "@jupyter-widgets/controls",
     "model_module_version": "1.5.0",
     "model_name": "DescriptionStyleModel",
     "state": {
      "_model_module": "@jupyter-widgets/controls",
      "_model_module_version": "1.5.0",
      "_model_name": "DescriptionStyleModel",
      "_view_count": null,
      "_view_module": "@jupyter-widgets/base",
      "_view_module_version": "1.2.0",
      "_view_name": "StyleView",
      "description_width": ""
     }
    },
    "34a098ad75b04ad58fb737349f8bae78": {
     "model_module": "@jupyter-widgets/base",
     "model_module_version": "1.2.0",
     "model_name": "LayoutModel",
     "state": {
      "_model_module": "@jupyter-widgets/base",
      "_model_module_version": "1.2.0",
      "_model_name": "LayoutModel",
      "_view_count": null,
      "_view_module": "@jupyter-widgets/base",
      "_view_module_version": "1.2.0",
      "_view_name": "LayoutView",
      "align_content": null,
      "align_items": null,
      "align_self": null,
      "border": null,
      "bottom": null,
      "display": null,
      "flex": null,
      "flex_flow": null,
      "grid_area": null,
      "grid_auto_columns": null,
      "grid_auto_flow": null,
      "grid_auto_rows": null,
      "grid_column": null,
      "grid_gap": null,
      "grid_row": null,
      "grid_template_areas": null,
      "grid_template_columns": null,
      "grid_template_rows": null,
      "height": null,
      "justify_content": null,
      "justify_items": null,
      "left": null,
      "margin": null,
      "max_height": null,
      "max_width": null,
      "min_height": null,
      "min_width": null,
      "object_fit": null,
      "object_position": null,
      "order": null,
      "overflow": null,
      "overflow_x": null,
      "overflow_y": null,
      "padding": null,
      "right": null,
      "top": null,
      "visibility": null,
      "width": null
     }
    },
    "3831a84314c34153bad19bbdc50e370e": {
     "model_module": "@jupyter-widgets/controls",
     "model_module_version": "1.5.0",
     "model_name": "DescriptionStyleModel",
     "state": {
      "_model_module": "@jupyter-widgets/controls",
      "_model_module_version": "1.5.0",
      "_model_name": "DescriptionStyleModel",
      "_view_count": null,
      "_view_module": "@jupyter-widgets/base",
      "_view_module_version": "1.2.0",
      "_view_name": "StyleView",
      "description_width": ""
     }
    },
    "386db919cbbc4f27b2c56ed8e4ae7727": {
     "model_module": "@jupyter-widgets/base",
     "model_module_version": "1.2.0",
     "model_name": "LayoutModel",
     "state": {
      "_model_module": "@jupyter-widgets/base",
      "_model_module_version": "1.2.0",
      "_model_name": "LayoutModel",
      "_view_count": null,
      "_view_module": "@jupyter-widgets/base",
      "_view_module_version": "1.2.0",
      "_view_name": "LayoutView",
      "align_content": null,
      "align_items": null,
      "align_self": null,
      "border": null,
      "bottom": null,
      "display": null,
      "flex": null,
      "flex_flow": null,
      "grid_area": null,
      "grid_auto_columns": null,
      "grid_auto_flow": null,
      "grid_auto_rows": null,
      "grid_column": null,
      "grid_gap": null,
      "grid_row": null,
      "grid_template_areas": null,
      "grid_template_columns": null,
      "grid_template_rows": null,
      "height": null,
      "justify_content": null,
      "justify_items": null,
      "left": null,
      "margin": null,
      "max_height": null,
      "max_width": null,
      "min_height": null,
      "min_width": null,
      "object_fit": null,
      "object_position": null,
      "order": null,
      "overflow": null,
      "overflow_x": null,
      "overflow_y": null,
      "padding": null,
      "right": null,
      "top": null,
      "visibility": null,
      "width": null
     }
    },
    "55616b3abc514d3b96c20bbd18f9fdb0": {
     "model_module": "@jupyter-widgets/controls",
     "model_module_version": "1.5.0",
     "model_name": "ProgressStyleModel",
     "state": {
      "_model_module": "@jupyter-widgets/controls",
      "_model_module_version": "1.5.0",
      "_model_name": "ProgressStyleModel",
      "_view_count": null,
      "_view_module": "@jupyter-widgets/base",
      "_view_module_version": "1.2.0",
      "_view_name": "StyleView",
      "bar_color": null,
      "description_width": ""
     }
    },
    "5928df522d2b450ea6d9f077a2c62cb6": {
     "model_module": "@jupyter-widgets/controls",
     "model_module_version": "1.5.0",
     "model_name": "HTMLModel",
     "state": {
      "_dom_classes": [],
      "_model_module": "@jupyter-widgets/controls",
      "_model_module_version": "1.5.0",
      "_model_name": "HTMLModel",
      "_view_count": null,
      "_view_module": "@jupyter-widgets/controls",
      "_view_module_version": "1.5.0",
      "_view_name": "HTMLView",
      "description": "",
      "description_tooltip": null,
      "layout": "IPY_MODEL_1850c47a23604fe59f7b7de0e3865171",
      "placeholder": "​",
      "style": "IPY_MODEL_c72677cfcdb240829b99dcd4086cbd00",
      "value": " 49.0/49.0 [00:00&lt;00:00, 2.61kB/s]"
     }
    },
    "5a58a1a09bd741eaa0c03370457340d9": {
     "model_module": "@jupyter-widgets/controls",
     "model_module_version": "1.5.0",
     "model_name": "HTMLModel",
     "state": {
      "_dom_classes": [],
      "_model_module": "@jupyter-widgets/controls",
      "_model_module_version": "1.5.0",
      "_model_name": "HTMLModel",
      "_view_count": null,
      "_view_module": "@jupyter-widgets/controls",
      "_view_module_version": "1.5.0",
      "_view_name": "HTMLView",
      "description": "",
      "description_tooltip": null,
      "layout": "IPY_MODEL_ac90a9a9103f4c5c8057d215741a199c",
      "placeholder": "​",
      "style": "IPY_MODEL_bdd5bdb5b7134037b16585ff690b279c",
      "value": " 570/570 [00:00&lt;00:00, 39.4kB/s]"
     }
    },
    "5e857759f3f64e95bbc8b0d9a52cdad6": {
     "model_module": "@jupyter-widgets/controls",
     "model_module_version": "1.5.0",
     "model_name": "HTMLModel",
     "state": {
      "_dom_classes": [],
      "_model_module": "@jupyter-widgets/controls",
      "_model_module_version": "1.5.0",
      "_model_name": "HTMLModel",
      "_view_count": null,
      "_view_module": "@jupyter-widgets/controls",
      "_view_module_version": "1.5.0",
      "_view_name": "HTMLView",
      "description": "",
      "description_tooltip": null,
      "layout": "IPY_MODEL_7ecfd7b8c6b34309be1a2c3c5553b36b",
      "placeholder": "​",
      "style": "IPY_MODEL_05cfb70a69a74600922650679d11b540",
      "value": "model.safetensors: 100%"
     }
    },
    "604aff5b65c343c5a82f85d35ad67d20": {
     "model_module": "@jupyter-widgets/controls",
     "model_module_version": "1.5.0",
     "model_name": "HBoxModel",
     "state": {
      "_dom_classes": [],
      "_model_module": "@jupyter-widgets/controls",
      "_model_module_version": "1.5.0",
      "_model_name": "HBoxModel",
      "_view_count": null,
      "_view_module": "@jupyter-widgets/controls",
      "_view_module_version": "1.5.0",
      "_view_name": "HBoxView",
      "box_style": "",
      "children": [
       "IPY_MODEL_df1e3b0f3a9943719f4d6fb872870110",
       "IPY_MODEL_8da8eaad76494f8e91c8da704aa889ab",
       "IPY_MODEL_15d7c89a44cb476fa3def4419b685055"
      ],
      "layout": "IPY_MODEL_aea4ed7cbc74430ea2eff35f0795c413"
     }
    },
    "617dd14c2c974915940dc5fbb023c203": {
     "model_module": "@jupyter-widgets/controls",
     "model_module_version": "1.5.0",
     "model_name": "HBoxModel",
     "state": {
      "_dom_classes": [],
      "_model_module": "@jupyter-widgets/controls",
      "_model_module_version": "1.5.0",
      "_model_name": "HBoxModel",
      "_view_count": null,
      "_view_module": "@jupyter-widgets/controls",
      "_view_module_version": "1.5.0",
      "_view_name": "HBoxView",
      "box_style": "",
      "children": [
       "IPY_MODEL_cf5fbbb87c8d4c798cca2ccb64211322",
       "IPY_MODEL_f5c3af6dabc24168938abd6e5ffdef55",
       "IPY_MODEL_8223cf9f31f9407cac48e41cfd1acb75"
      ],
      "layout": "IPY_MODEL_9d36141b14444e438a0e96a08b356165"
     }
    },
    "65b3fa095c1846359fec5a100835c476": {
     "model_module": "@jupyter-widgets/base",
     "model_module_version": "1.2.0",
     "model_name": "LayoutModel",
     "state": {
      "_model_module": "@jupyter-widgets/base",
      "_model_module_version": "1.2.0",
      "_model_name": "LayoutModel",
      "_view_count": null,
      "_view_module": "@jupyter-widgets/base",
      "_view_module_version": "1.2.0",
      "_view_name": "LayoutView",
      "align_content": null,
      "align_items": null,
      "align_self": null,
      "border": null,
      "bottom": null,
      "display": null,
      "flex": null,
      "flex_flow": null,
      "grid_area": null,
      "grid_auto_columns": null,
      "grid_auto_flow": null,
      "grid_auto_rows": null,
      "grid_column": null,
      "grid_gap": null,
      "grid_row": null,
      "grid_template_areas": null,
      "grid_template_columns": null,
      "grid_template_rows": null,
      "height": null,
      "justify_content": null,
      "justify_items": null,
      "left": null,
      "margin": null,
      "max_height": null,
      "max_width": null,
      "min_height": null,
      "min_width": null,
      "object_fit": null,
      "object_position": null,
      "order": null,
      "overflow": null,
      "overflow_x": null,
      "overflow_y": null,
      "padding": null,
      "right": null,
      "top": null,
      "visibility": null,
      "width": null
     }
    },
    "66773a3ee8f14c2a8dce63ddb0dd7802": {
     "model_module": "@jupyter-widgets/controls",
     "model_module_version": "1.5.0",
     "model_name": "HTMLModel",
     "state": {
      "_dom_classes": [],
      "_model_module": "@jupyter-widgets/controls",
      "_model_module_version": "1.5.0",
      "_model_name": "HTMLModel",
      "_view_count": null,
      "_view_module": "@jupyter-widgets/controls",
      "_view_module_version": "1.5.0",
      "_view_name": "HTMLView",
      "description": "",
      "description_tooltip": null,
      "layout": "IPY_MODEL_dd227dbb9a3743acaf6650ae1d686934",
      "placeholder": "​",
      "style": "IPY_MODEL_9e13043b2f0c4ad6bf2a3a4d82abe96e",
      "value": " 436M/436M [00:03&lt;00:00, 162MB/s]"
     }
    },
    "78835a59a57a4f1a85b197080a639b22": {
     "model_module": "@jupyter-widgets/controls",
     "model_module_version": "1.5.0",
     "model_name": "DescriptionStyleModel",
     "state": {
      "_model_module": "@jupyter-widgets/controls",
      "_model_module_version": "1.5.0",
      "_model_name": "DescriptionStyleModel",
      "_view_count": null,
      "_view_module": "@jupyter-widgets/base",
      "_view_module_version": "1.2.0",
      "_view_name": "StyleView",
      "description_width": ""
     }
    },
    "79b1c6e03a1c47a980a84147bf6b50e4": {
     "model_module": "@jupyter-widgets/base",
     "model_module_version": "1.2.0",
     "model_name": "LayoutModel",
     "state": {
      "_model_module": "@jupyter-widgets/base",
      "_model_module_version": "1.2.0",
      "_model_name": "LayoutModel",
      "_view_count": null,
      "_view_module": "@jupyter-widgets/base",
      "_view_module_version": "1.2.0",
      "_view_name": "LayoutView",
      "align_content": null,
      "align_items": null,
      "align_self": null,
      "border": null,
      "bottom": null,
      "display": null,
      "flex": null,
      "flex_flow": null,
      "grid_area": null,
      "grid_auto_columns": null,
      "grid_auto_flow": null,
      "grid_auto_rows": null,
      "grid_column": null,
      "grid_gap": null,
      "grid_row": null,
      "grid_template_areas": null,
      "grid_template_columns": null,
      "grid_template_rows": null,
      "height": null,
      "justify_content": null,
      "justify_items": null,
      "left": null,
      "margin": null,
      "max_height": null,
      "max_width": null,
      "min_height": null,
      "min_width": null,
      "object_fit": null,
      "object_position": null,
      "order": null,
      "overflow": null,
      "overflow_x": null,
      "overflow_y": null,
      "padding": null,
      "right": null,
      "top": null,
      "visibility": null,
      "width": null
     }
    },
    "7acafc4c0c1044c6a3030d2f00ef411a": {
     "model_module": "@jupyter-widgets/controls",
     "model_module_version": "1.5.0",
     "model_name": "HTMLModel",
     "state": {
      "_dom_classes": [],
      "_model_module": "@jupyter-widgets/controls",
      "_model_module_version": "1.5.0",
      "_model_name": "HTMLModel",
      "_view_count": null,
      "_view_module": "@jupyter-widgets/controls",
      "_view_module_version": "1.5.0",
      "_view_name": "HTMLView",
      "description": "",
      "description_tooltip": null,
      "layout": "IPY_MODEL_c9bb0ec9a1144a7bbe21dd27f73553b5",
      "placeholder": "​",
      "style": "IPY_MODEL_da82e62da3ee40ea8cdc347d50ee5bec",
      "value": "tokenizer_config.json: 100%"
     }
    },
    "7ea05f8399d74130a4163c2a12b2341f": {
     "model_module": "@jupyter-widgets/controls",
     "model_module_version": "1.5.0",
     "model_name": "HBoxModel",
     "state": {
      "_dom_classes": [],
      "_model_module": "@jupyter-widgets/controls",
      "_model_module_version": "1.5.0",
      "_model_name": "HBoxModel",
      "_view_count": null,
      "_view_module": "@jupyter-widgets/controls",
      "_view_module_version": "1.5.0",
      "_view_name": "HBoxView",
      "box_style": "",
      "children": [
       "IPY_MODEL_5e857759f3f64e95bbc8b0d9a52cdad6",
       "IPY_MODEL_c9fc6bf3e6cf46319fee9683fb486c8a",
       "IPY_MODEL_66773a3ee8f14c2a8dce63ddb0dd7802"
      ],
      "layout": "IPY_MODEL_269dc9ad153c4139af1248ab51de5c8c"
     }
    },
    "7ecfd7b8c6b34309be1a2c3c5553b36b": {
     "model_module": "@jupyter-widgets/base",
     "model_module_version": "1.2.0",
     "model_name": "LayoutModel",
     "state": {
      "_model_module": "@jupyter-widgets/base",
      "_model_module_version": "1.2.0",
      "_model_name": "LayoutModel",
      "_view_count": null,
      "_view_module": "@jupyter-widgets/base",
      "_view_module_version": "1.2.0",
      "_view_name": "LayoutView",
      "align_content": null,
      "align_items": null,
      "align_self": null,
      "border": null,
      "bottom": null,
      "display": null,
      "flex": null,
      "flex_flow": null,
      "grid_area": null,
      "grid_auto_columns": null,
      "grid_auto_flow": null,
      "grid_auto_rows": null,
      "grid_column": null,
      "grid_gap": null,
      "grid_row": null,
      "grid_template_areas": null,
      "grid_template_columns": null,
      "grid_template_rows": null,
      "height": null,
      "justify_content": null,
      "justify_items": null,
      "left": null,
      "margin": null,
      "max_height": null,
      "max_width": null,
      "min_height": null,
      "min_width": null,
      "object_fit": null,
      "object_position": null,
      "order": null,
      "overflow": null,
      "overflow_x": null,
      "overflow_y": null,
      "padding": null,
      "right": null,
      "top": null,
      "visibility": null,
      "width": null
     }
    },
    "8223cf9f31f9407cac48e41cfd1acb75": {
     "model_module": "@jupyter-widgets/controls",
     "model_module_version": "1.5.0",
     "model_name": "HTMLModel",
     "state": {
      "_dom_classes": [],
      "_model_module": "@jupyter-widgets/controls",
      "_model_module_version": "1.5.0",
      "_model_name": "HTMLModel",
      "_view_count": null,
      "_view_module": "@jupyter-widgets/controls",
      "_view_module_version": "1.5.0",
      "_view_name": "HTMLView",
      "description": "",
      "description_tooltip": null,
      "layout": "IPY_MODEL_9a58e12f73174f05bb41d90de4c724c4",
      "placeholder": "​",
      "style": "IPY_MODEL_b0b95cb84b5946cbb1facc41d80ceb57",
      "value": " 213k/213k [00:00&lt;00:00, 3.30MB/s]"
     }
    },
    "89aee9a1e0c647949ec84c1e7875baea": {
     "model_module": "@jupyter-widgets/base",
     "model_module_version": "1.2.0",
     "model_name": "LayoutModel",
     "state": {
      "_model_module": "@jupyter-widgets/base",
      "_model_module_version": "1.2.0",
      "_model_name": "LayoutModel",
      "_view_count": null,
      "_view_module": "@jupyter-widgets/base",
      "_view_module_version": "1.2.0",
      "_view_name": "LayoutView",
      "align_content": null,
      "align_items": null,
      "align_self": null,
      "border": null,
      "bottom": null,
      "display": null,
      "flex": null,
      "flex_flow": null,
      "grid_area": null,
      "grid_auto_columns": null,
      "grid_auto_flow": null,
      "grid_auto_rows": null,
      "grid_column": null,
      "grid_gap": null,
      "grid_row": null,
      "grid_template_areas": null,
      "grid_template_columns": null,
      "grid_template_rows": null,
      "height": null,
      "justify_content": null,
      "justify_items": null,
      "left": null,
      "margin": null,
      "max_height": null,
      "max_width": null,
      "min_height": null,
      "min_width": null,
      "object_fit": null,
      "object_position": null,
      "order": null,
      "overflow": null,
      "overflow_x": null,
      "overflow_y": null,
      "padding": null,
      "right": null,
      "top": null,
      "visibility": null,
      "width": null
     }
    },
    "8da8eaad76494f8e91c8da704aa889ab": {
     "model_module": "@jupyter-widgets/controls",
     "model_module_version": "1.5.0",
     "model_name": "FloatProgressModel",
     "state": {
      "_dom_classes": [],
      "_model_module": "@jupyter-widgets/controls",
      "_model_module_version": "1.5.0",
      "_model_name": "FloatProgressModel",
      "_view_count": null,
      "_view_module": "@jupyter-widgets/controls",
      "_view_module_version": "1.5.0",
      "_view_name": "ProgressView",
      "bar_style": "success",
      "description": "",
      "description_tooltip": null,
      "layout": "IPY_MODEL_080845ab2d834b008609316530398c30",
      "max": 435797,
      "min": 0,
      "orientation": "horizontal",
      "style": "IPY_MODEL_f4dfe8387e2444aab8f60f2512e71db1",
      "value": 435797
     }
    },
    "95db4a1d205b45b4a39b3b76c65d790a": {
     "model_module": "@jupyter-widgets/controls",
     "model_module_version": "1.5.0",
     "model_name": "HBoxModel",
     "state": {
      "_dom_classes": [],
      "_model_module": "@jupyter-widgets/controls",
      "_model_module_version": "1.5.0",
      "_model_name": "HBoxModel",
      "_view_count": null,
      "_view_module": "@jupyter-widgets/controls",
      "_view_module_version": "1.5.0",
      "_view_name": "HBoxView",
      "box_style": "",
      "children": [
       "IPY_MODEL_bcae41de444f417e94280865b520552a",
       "IPY_MODEL_d2f950fdd8a847dd85059bfddfe374e3",
       "IPY_MODEL_5a58a1a09bd741eaa0c03370457340d9"
      ],
      "layout": "IPY_MODEL_89aee9a1e0c647949ec84c1e7875baea"
     }
    },
    "9a58e12f73174f05bb41d90de4c724c4": {
     "model_module": "@jupyter-widgets/base",
     "model_module_version": "1.2.0",
     "model_name": "LayoutModel",
     "state": {
      "_model_module": "@jupyter-widgets/base",
      "_model_module_version": "1.2.0",
      "_model_name": "LayoutModel",
      "_view_count": null,
      "_view_module": "@jupyter-widgets/base",
      "_view_module_version": "1.2.0",
      "_view_name": "LayoutView",
      "align_content": null,
      "align_items": null,
      "align_self": null,
      "border": null,
      "bottom": null,
      "display": null,
      "flex": null,
      "flex_flow": null,
      "grid_area": null,
      "grid_auto_columns": null,
      "grid_auto_flow": null,
      "grid_auto_rows": null,
      "grid_column": null,
      "grid_gap": null,
      "grid_row": null,
      "grid_template_areas": null,
      "grid_template_columns": null,
      "grid_template_rows": null,
      "height": null,
      "justify_content": null,
      "justify_items": null,
      "left": null,
      "margin": null,
      "max_height": null,
      "max_width": null,
      "min_height": null,
      "min_width": null,
      "object_fit": null,
      "object_position": null,
      "order": null,
      "overflow": null,
      "overflow_x": null,
      "overflow_y": null,
      "padding": null,
      "right": null,
      "top": null,
      "visibility": null,
      "width": null
     }
    },
    "9d36141b14444e438a0e96a08b356165": {
     "model_module": "@jupyter-widgets/base",
     "model_module_version": "1.2.0",
     "model_name": "LayoutModel",
     "state": {
      "_model_module": "@jupyter-widgets/base",
      "_model_module_version": "1.2.0",
      "_model_name": "LayoutModel",
      "_view_count": null,
      "_view_module": "@jupyter-widgets/base",
      "_view_module_version": "1.2.0",
      "_view_name": "LayoutView",
      "align_content": null,
      "align_items": null,
      "align_self": null,
      "border": null,
      "bottom": null,
      "display": null,
      "flex": null,
      "flex_flow": null,
      "grid_area": null,
      "grid_auto_columns": null,
      "grid_auto_flow": null,
      "grid_auto_rows": null,
      "grid_column": null,
      "grid_gap": null,
      "grid_row": null,
      "grid_template_areas": null,
      "grid_template_columns": null,
      "grid_template_rows": null,
      "height": null,
      "justify_content": null,
      "justify_items": null,
      "left": null,
      "margin": null,
      "max_height": null,
      "max_width": null,
      "min_height": null,
      "min_width": null,
      "object_fit": null,
      "object_position": null,
      "order": null,
      "overflow": null,
      "overflow_x": null,
      "overflow_y": null,
      "padding": null,
      "right": null,
      "top": null,
      "visibility": null,
      "width": null
     }
    },
    "9e13043b2f0c4ad6bf2a3a4d82abe96e": {
     "model_module": "@jupyter-widgets/controls",
     "model_module_version": "1.5.0",
     "model_name": "DescriptionStyleModel",
     "state": {
      "_model_module": "@jupyter-widgets/controls",
      "_model_module_version": "1.5.0",
      "_model_name": "DescriptionStyleModel",
      "_view_count": null,
      "_view_module": "@jupyter-widgets/base",
      "_view_module_version": "1.2.0",
      "_view_name": "StyleView",
      "description_width": ""
     }
    },
    "ac90a9a9103f4c5c8057d215741a199c": {
     "model_module": "@jupyter-widgets/base",
     "model_module_version": "1.2.0",
     "model_name": "LayoutModel",
     "state": {
      "_model_module": "@jupyter-widgets/base",
      "_model_module_version": "1.2.0",
      "_model_name": "LayoutModel",
      "_view_count": null,
      "_view_module": "@jupyter-widgets/base",
      "_view_module_version": "1.2.0",
      "_view_name": "LayoutView",
      "align_content": null,
      "align_items": null,
      "align_self": null,
      "border": null,
      "bottom": null,
      "display": null,
      "flex": null,
      "flex_flow": null,
      "grid_area": null,
      "grid_auto_columns": null,
      "grid_auto_flow": null,
      "grid_auto_rows": null,
      "grid_column": null,
      "grid_gap": null,
      "grid_row": null,
      "grid_template_areas": null,
      "grid_template_columns": null,
      "grid_template_rows": null,
      "height": null,
      "justify_content": null,
      "justify_items": null,
      "left": null,
      "margin": null,
      "max_height": null,
      "max_width": null,
      "min_height": null,
      "min_width": null,
      "object_fit": null,
      "object_position": null,
      "order": null,
      "overflow": null,
      "overflow_x": null,
      "overflow_y": null,
      "padding": null,
      "right": null,
      "top": null,
      "visibility": null,
      "width": null
     }
    },
    "aea4ed7cbc74430ea2eff35f0795c413": {
     "model_module": "@jupyter-widgets/base",
     "model_module_version": "1.2.0",
     "model_name": "LayoutModel",
     "state": {
      "_model_module": "@jupyter-widgets/base",
      "_model_module_version": "1.2.0",
      "_model_name": "LayoutModel",
      "_view_count": null,
      "_view_module": "@jupyter-widgets/base",
      "_view_module_version": "1.2.0",
      "_view_name": "LayoutView",
      "align_content": null,
      "align_items": null,
      "align_self": null,
      "border": null,
      "bottom": null,
      "display": null,
      "flex": null,
      "flex_flow": null,
      "grid_area": null,
      "grid_auto_columns": null,
      "grid_auto_flow": null,
      "grid_auto_rows": null,
      "grid_column": null,
      "grid_gap": null,
      "grid_row": null,
      "grid_template_areas": null,
      "grid_template_columns": null,
      "grid_template_rows": null,
      "height": null,
      "justify_content": null,
      "justify_items": null,
      "left": null,
      "margin": null,
      "max_height": null,
      "max_width": null,
      "min_height": null,
      "min_width": null,
      "object_fit": null,
      "object_position": null,
      "order": null,
      "overflow": null,
      "overflow_x": null,
      "overflow_y": null,
      "padding": null,
      "right": null,
      "top": null,
      "visibility": null,
      "width": null
     }
    },
    "b0b95cb84b5946cbb1facc41d80ceb57": {
     "model_module": "@jupyter-widgets/controls",
     "model_module_version": "1.5.0",
     "model_name": "DescriptionStyleModel",
     "state": {
      "_model_module": "@jupyter-widgets/controls",
      "_model_module_version": "1.5.0",
      "_model_name": "DescriptionStyleModel",
      "_view_count": null,
      "_view_module": "@jupyter-widgets/base",
      "_view_module_version": "1.2.0",
      "_view_name": "StyleView",
      "description_width": ""
     }
    },
    "b713fdc57a00455094b08d1ba2cb22bc": {
     "model_module": "@jupyter-widgets/controls",
     "model_module_version": "1.5.0",
     "model_name": "ProgressStyleModel",
     "state": {
      "_model_module": "@jupyter-widgets/controls",
      "_model_module_version": "1.5.0",
      "_model_name": "ProgressStyleModel",
      "_view_count": null,
      "_view_module": "@jupyter-widgets/base",
      "_view_module_version": "1.2.0",
      "_view_name": "StyleView",
      "bar_color": null,
      "description_width": ""
     }
    },
    "bcae41de444f417e94280865b520552a": {
     "model_module": "@jupyter-widgets/controls",
     "model_module_version": "1.5.0",
     "model_name": "HTMLModel",
     "state": {
      "_dom_classes": [],
      "_model_module": "@jupyter-widgets/controls",
      "_model_module_version": "1.5.0",
      "_model_name": "HTMLModel",
      "_view_count": null,
      "_view_module": "@jupyter-widgets/controls",
      "_view_module_version": "1.5.0",
      "_view_name": "HTMLView",
      "description": "",
      "description_tooltip": null,
      "layout": "IPY_MODEL_0ad8ec1c8b6f4aa29c3f866da637c1f5",
      "placeholder": "​",
      "style": "IPY_MODEL_dade6b571fde41c284a7f02e1c6431b5",
      "value": "config.json: 100%"
     }
    },
    "bdd5bdb5b7134037b16585ff690b279c": {
     "model_module": "@jupyter-widgets/controls",
     "model_module_version": "1.5.0",
     "model_name": "DescriptionStyleModel",
     "state": {
      "_model_module": "@jupyter-widgets/controls",
      "_model_module_version": "1.5.0",
      "_model_name": "DescriptionStyleModel",
      "_view_count": null,
      "_view_module": "@jupyter-widgets/base",
      "_view_module_version": "1.2.0",
      "_view_name": "StyleView",
      "description_width": ""
     }
    },
    "c72677cfcdb240829b99dcd4086cbd00": {
     "model_module": "@jupyter-widgets/controls",
     "model_module_version": "1.5.0",
     "model_name": "DescriptionStyleModel",
     "state": {
      "_model_module": "@jupyter-widgets/controls",
      "_model_module_version": "1.5.0",
      "_model_name": "DescriptionStyleModel",
      "_view_count": null,
      "_view_module": "@jupyter-widgets/base",
      "_view_module_version": "1.2.0",
      "_view_name": "StyleView",
      "description_width": ""
     }
    },
    "c81d4038df724874a2ed4b1b802148d1": {
     "model_module": "@jupyter-widgets/base",
     "model_module_version": "1.2.0",
     "model_name": "LayoutModel",
     "state": {
      "_model_module": "@jupyter-widgets/base",
      "_model_module_version": "1.2.0",
      "_model_name": "LayoutModel",
      "_view_count": null,
      "_view_module": "@jupyter-widgets/base",
      "_view_module_version": "1.2.0",
      "_view_name": "LayoutView",
      "align_content": null,
      "align_items": null,
      "align_self": null,
      "border": null,
      "bottom": null,
      "display": null,
      "flex": null,
      "flex_flow": null,
      "grid_area": null,
      "grid_auto_columns": null,
      "grid_auto_flow": null,
      "grid_auto_rows": null,
      "grid_column": null,
      "grid_gap": null,
      "grid_row": null,
      "grid_template_areas": null,
      "grid_template_columns": null,
      "grid_template_rows": null,
      "height": null,
      "justify_content": null,
      "justify_items": null,
      "left": null,
      "margin": null,
      "max_height": null,
      "max_width": null,
      "min_height": null,
      "min_width": null,
      "object_fit": null,
      "object_position": null,
      "order": null,
      "overflow": null,
      "overflow_x": null,
      "overflow_y": null,
      "padding": null,
      "right": null,
      "top": null,
      "visibility": null,
      "width": null
     }
    },
    "c9bb0ec9a1144a7bbe21dd27f73553b5": {
     "model_module": "@jupyter-widgets/base",
     "model_module_version": "1.2.0",
     "model_name": "LayoutModel",
     "state": {
      "_model_module": "@jupyter-widgets/base",
      "_model_module_version": "1.2.0",
      "_model_name": "LayoutModel",
      "_view_count": null,
      "_view_module": "@jupyter-widgets/base",
      "_view_module_version": "1.2.0",
      "_view_name": "LayoutView",
      "align_content": null,
      "align_items": null,
      "align_self": null,
      "border": null,
      "bottom": null,
      "display": null,
      "flex": null,
      "flex_flow": null,
      "grid_area": null,
      "grid_auto_columns": null,
      "grid_auto_flow": null,
      "grid_auto_rows": null,
      "grid_column": null,
      "grid_gap": null,
      "grid_row": null,
      "grid_template_areas": null,
      "grid_template_columns": null,
      "grid_template_rows": null,
      "height": null,
      "justify_content": null,
      "justify_items": null,
      "left": null,
      "margin": null,
      "max_height": null,
      "max_width": null,
      "min_height": null,
      "min_width": null,
      "object_fit": null,
      "object_position": null,
      "order": null,
      "overflow": null,
      "overflow_x": null,
      "overflow_y": null,
      "padding": null,
      "right": null,
      "top": null,
      "visibility": null,
      "width": null
     }
    },
    "c9fc6bf3e6cf46319fee9683fb486c8a": {
     "model_module": "@jupyter-widgets/controls",
     "model_module_version": "1.5.0",
     "model_name": "FloatProgressModel",
     "state": {
      "_dom_classes": [],
      "_model_module": "@jupyter-widgets/controls",
      "_model_module_version": "1.5.0",
      "_model_name": "FloatProgressModel",
      "_view_count": null,
      "_view_module": "@jupyter-widgets/controls",
      "_view_module_version": "1.5.0",
      "_view_name": "ProgressView",
      "bar_style": "success",
      "description": "",
      "description_tooltip": null,
      "layout": "IPY_MODEL_c81d4038df724874a2ed4b1b802148d1",
      "max": 435755784,
      "min": 0,
      "orientation": "horizontal",
      "style": "IPY_MODEL_e06df321bf7e48b2b8c4f9a5ec3c7f6c",
      "value": 435755784
     }
    },
    "cf5fbbb87c8d4c798cca2ccb64211322": {
     "model_module": "@jupyter-widgets/controls",
     "model_module_version": "1.5.0",
     "model_name": "HTMLModel",
     "state": {
      "_dom_classes": [],
      "_model_module": "@jupyter-widgets/controls",
      "_model_module_version": "1.5.0",
      "_model_name": "HTMLModel",
      "_view_count": null,
      "_view_module": "@jupyter-widgets/controls",
      "_view_module_version": "1.5.0",
      "_view_name": "HTMLView",
      "description": "",
      "description_tooltip": null,
      "layout": "IPY_MODEL_e8a3fddfb8674a51956e8c83479684d7",
      "placeholder": "​",
      "style": "IPY_MODEL_78835a59a57a4f1a85b197080a639b22",
      "value": "vocab.txt: 100%"
     }
    },
    "d2f950fdd8a847dd85059bfddfe374e3": {
     "model_module": "@jupyter-widgets/controls",
     "model_module_version": "1.5.0",
     "model_name": "FloatProgressModel",
     "state": {
      "_dom_classes": [],
      "_model_module": "@jupyter-widgets/controls",
      "_model_module_version": "1.5.0",
      "_model_name": "FloatProgressModel",
      "_view_count": null,
      "_view_module": "@jupyter-widgets/controls",
      "_view_module_version": "1.5.0",
      "_view_name": "ProgressView",
      "bar_style": "success",
      "description": "",
      "description_tooltip": null,
      "layout": "IPY_MODEL_34a098ad75b04ad58fb737349f8bae78",
      "max": 570,
      "min": 0,
      "orientation": "horizontal",
      "style": "IPY_MODEL_b713fdc57a00455094b08d1ba2cb22bc",
      "value": 570
     }
    },
    "d5468c26aef741c39f7aa8a3b47f4e20": {
     "model_module": "@jupyter-widgets/controls",
     "model_module_version": "1.5.0",
     "model_name": "HBoxModel",
     "state": {
      "_dom_classes": [],
      "_model_module": "@jupyter-widgets/controls",
      "_model_module_version": "1.5.0",
      "_model_name": "HBoxModel",
      "_view_count": null,
      "_view_module": "@jupyter-widgets/controls",
      "_view_module_version": "1.5.0",
      "_view_name": "HBoxView",
      "box_style": "",
      "children": [
       "IPY_MODEL_7acafc4c0c1044c6a3030d2f00ef411a",
       "IPY_MODEL_d5c923b8e3494faeb7accf9c288699a1",
       "IPY_MODEL_5928df522d2b450ea6d9f077a2c62cb6"
      ],
      "layout": "IPY_MODEL_d6deaba4cf954ed8938340c3caa8c273"
     }
    },
    "d5c923b8e3494faeb7accf9c288699a1": {
     "model_module": "@jupyter-widgets/controls",
     "model_module_version": "1.5.0",
     "model_name": "FloatProgressModel",
     "state": {
      "_dom_classes": [],
      "_model_module": "@jupyter-widgets/controls",
      "_model_module_version": "1.5.0",
      "_model_name": "FloatProgressModel",
      "_view_count": null,
      "_view_module": "@jupyter-widgets/controls",
      "_view_module_version": "1.5.0",
      "_view_name": "ProgressView",
      "bar_style": "success",
      "description": "",
      "description_tooltip": null,
      "layout": "IPY_MODEL_65b3fa095c1846359fec5a100835c476",
      "max": 49,
      "min": 0,
      "orientation": "horizontal",
      "style": "IPY_MODEL_55616b3abc514d3b96c20bbd18f9fdb0",
      "value": 49
     }
    },
    "d6deaba4cf954ed8938340c3caa8c273": {
     "model_module": "@jupyter-widgets/base",
     "model_module_version": "1.2.0",
     "model_name": "LayoutModel",
     "state": {
      "_model_module": "@jupyter-widgets/base",
      "_model_module_version": "1.2.0",
      "_model_name": "LayoutModel",
      "_view_count": null,
      "_view_module": "@jupyter-widgets/base",
      "_view_module_version": "1.2.0",
      "_view_name": "LayoutView",
      "align_content": null,
      "align_items": null,
      "align_self": null,
      "border": null,
      "bottom": null,
      "display": null,
      "flex": null,
      "flex_flow": null,
      "grid_area": null,
      "grid_auto_columns": null,
      "grid_auto_flow": null,
      "grid_auto_rows": null,
      "grid_column": null,
      "grid_gap": null,
      "grid_row": null,
      "grid_template_areas": null,
      "grid_template_columns": null,
      "grid_template_rows": null,
      "height": null,
      "justify_content": null,
      "justify_items": null,
      "left": null,
      "margin": null,
      "max_height": null,
      "max_width": null,
      "min_height": null,
      "min_width": null,
      "object_fit": null,
      "object_position": null,
      "order": null,
      "overflow": null,
      "overflow_x": null,
      "overflow_y": null,
      "padding": null,
      "right": null,
      "top": null,
      "visibility": null,
      "width": null
     }
    },
    "da82e62da3ee40ea8cdc347d50ee5bec": {
     "model_module": "@jupyter-widgets/controls",
     "model_module_version": "1.5.0",
     "model_name": "DescriptionStyleModel",
     "state": {
      "_model_module": "@jupyter-widgets/controls",
      "_model_module_version": "1.5.0",
      "_model_name": "DescriptionStyleModel",
      "_view_count": null,
      "_view_module": "@jupyter-widgets/base",
      "_view_module_version": "1.2.0",
      "_view_name": "StyleView",
      "description_width": ""
     }
    },
    "dade6b571fde41c284a7f02e1c6431b5": {
     "model_module": "@jupyter-widgets/controls",
     "model_module_version": "1.5.0",
     "model_name": "DescriptionStyleModel",
     "state": {
      "_model_module": "@jupyter-widgets/controls",
      "_model_module_version": "1.5.0",
      "_model_name": "DescriptionStyleModel",
      "_view_count": null,
      "_view_module": "@jupyter-widgets/base",
      "_view_module_version": "1.2.0",
      "_view_name": "StyleView",
      "description_width": ""
     }
    },
    "dd227dbb9a3743acaf6650ae1d686934": {
     "model_module": "@jupyter-widgets/base",
     "model_module_version": "1.2.0",
     "model_name": "LayoutModel",
     "state": {
      "_model_module": "@jupyter-widgets/base",
      "_model_module_version": "1.2.0",
      "_model_name": "LayoutModel",
      "_view_count": null,
      "_view_module": "@jupyter-widgets/base",
      "_view_module_version": "1.2.0",
      "_view_name": "LayoutView",
      "align_content": null,
      "align_items": null,
      "align_self": null,
      "border": null,
      "bottom": null,
      "display": null,
      "flex": null,
      "flex_flow": null,
      "grid_area": null,
      "grid_auto_columns": null,
      "grid_auto_flow": null,
      "grid_auto_rows": null,
      "grid_column": null,
      "grid_gap": null,
      "grid_row": null,
      "grid_template_areas": null,
      "grid_template_columns": null,
      "grid_template_rows": null,
      "height": null,
      "justify_content": null,
      "justify_items": null,
      "left": null,
      "margin": null,
      "max_height": null,
      "max_width": null,
      "min_height": null,
      "min_width": null,
      "object_fit": null,
      "object_position": null,
      "order": null,
      "overflow": null,
      "overflow_x": null,
      "overflow_y": null,
      "padding": null,
      "right": null,
      "top": null,
      "visibility": null,
      "width": null
     }
    },
    "df1e3b0f3a9943719f4d6fb872870110": {
     "model_module": "@jupyter-widgets/controls",
     "model_module_version": "1.5.0",
     "model_name": "HTMLModel",
     "state": {
      "_dom_classes": [],
      "_model_module": "@jupyter-widgets/controls",
      "_model_module_version": "1.5.0",
      "_model_name": "HTMLModel",
      "_view_count": null,
      "_view_module": "@jupyter-widgets/controls",
      "_view_module_version": "1.5.0",
      "_view_name": "HTMLView",
      "description": "",
      "description_tooltip": null,
      "layout": "IPY_MODEL_79b1c6e03a1c47a980a84147bf6b50e4",
      "placeholder": "​",
      "style": "IPY_MODEL_3831a84314c34153bad19bbdc50e370e",
      "value": "tokenizer.json: 100%"
     }
    },
    "e06df321bf7e48b2b8c4f9a5ec3c7f6c": {
     "model_module": "@jupyter-widgets/controls",
     "model_module_version": "1.5.0",
     "model_name": "ProgressStyleModel",
     "state": {
      "_model_module": "@jupyter-widgets/controls",
      "_model_module_version": "1.5.0",
      "_model_name": "ProgressStyleModel",
      "_view_count": null,
      "_view_module": "@jupyter-widgets/base",
      "_view_module_version": "1.2.0",
      "_view_name": "StyleView",
      "bar_color": null,
      "description_width": ""
     }
    },
    "e1fa937d83c14ee194cd3ed7f3cdba40": {
     "model_module": "@jupyter-widgets/base",
     "model_module_version": "1.2.0",
     "model_name": "LayoutModel",
     "state": {
      "_model_module": "@jupyter-widgets/base",
      "_model_module_version": "1.2.0",
      "_model_name": "LayoutModel",
      "_view_count": null,
      "_view_module": "@jupyter-widgets/base",
      "_view_module_version": "1.2.0",
      "_view_name": "LayoutView",
      "align_content": null,
      "align_items": null,
      "align_self": null,
      "border": null,
      "bottom": null,
      "display": null,
      "flex": null,
      "flex_flow": null,
      "grid_area": null,
      "grid_auto_columns": null,
      "grid_auto_flow": null,
      "grid_auto_rows": null,
      "grid_column": null,
      "grid_gap": null,
      "grid_row": null,
      "grid_template_areas": null,
      "grid_template_columns": null,
      "grid_template_rows": null,
      "height": null,
      "justify_content": null,
      "justify_items": null,
      "left": null,
      "margin": null,
      "max_height": null,
      "max_width": null,
      "min_height": null,
      "min_width": null,
      "object_fit": null,
      "object_position": null,
      "order": null,
      "overflow": null,
      "overflow_x": null,
      "overflow_y": null,
      "padding": null,
      "right": null,
      "top": null,
      "visibility": null,
      "width": null
     }
    },
    "e3dea9bc032643fe9202dde35e11f4aa": {
     "model_module": "@jupyter-widgets/controls",
     "model_module_version": "1.5.0",
     "model_name": "ProgressStyleModel",
     "state": {
      "_model_module": "@jupyter-widgets/controls",
      "_model_module_version": "1.5.0",
      "_model_name": "ProgressStyleModel",
      "_view_count": null,
      "_view_module": "@jupyter-widgets/base",
      "_view_module_version": "1.2.0",
      "_view_name": "StyleView",
      "bar_color": null,
      "description_width": ""
     }
    },
    "e8a3fddfb8674a51956e8c83479684d7": {
     "model_module": "@jupyter-widgets/base",
     "model_module_version": "1.2.0",
     "model_name": "LayoutModel",
     "state": {
      "_model_module": "@jupyter-widgets/base",
      "_model_module_version": "1.2.0",
      "_model_name": "LayoutModel",
      "_view_count": null,
      "_view_module": "@jupyter-widgets/base",
      "_view_module_version": "1.2.0",
      "_view_name": "LayoutView",
      "align_content": null,
      "align_items": null,
      "align_self": null,
      "border": null,
      "bottom": null,
      "display": null,
      "flex": null,
      "flex_flow": null,
      "grid_area": null,
      "grid_auto_columns": null,
      "grid_auto_flow": null,
      "grid_auto_rows": null,
      "grid_column": null,
      "grid_gap": null,
      "grid_row": null,
      "grid_template_areas": null,
      "grid_template_columns": null,
      "grid_template_rows": null,
      "height": null,
      "justify_content": null,
      "justify_items": null,
      "left": null,
      "margin": null,
      "max_height": null,
      "max_width": null,
      "min_height": null,
      "min_width": null,
      "object_fit": null,
      "object_position": null,
      "order": null,
      "overflow": null,
      "overflow_x": null,
      "overflow_y": null,
      "padding": null,
      "right": null,
      "top": null,
      "visibility": null,
      "width": null
     }
    },
    "f4dfe8387e2444aab8f60f2512e71db1": {
     "model_module": "@jupyter-widgets/controls",
     "model_module_version": "1.5.0",
     "model_name": "ProgressStyleModel",
     "state": {
      "_model_module": "@jupyter-widgets/controls",
      "_model_module_version": "1.5.0",
      "_model_name": "ProgressStyleModel",
      "_view_count": null,
      "_view_module": "@jupyter-widgets/base",
      "_view_module_version": "1.2.0",
      "_view_name": "StyleView",
      "bar_color": null,
      "description_width": ""
     }
    },
    "f5c3af6dabc24168938abd6e5ffdef55": {
     "model_module": "@jupyter-widgets/controls",
     "model_module_version": "1.5.0",
     "model_name": "FloatProgressModel",
     "state": {
      "_dom_classes": [],
      "_model_module": "@jupyter-widgets/controls",
      "_model_module_version": "1.5.0",
      "_model_name": "FloatProgressModel",
      "_view_count": null,
      "_view_module": "@jupyter-widgets/controls",
      "_view_module_version": "1.5.0",
      "_view_name": "ProgressView",
      "bar_style": "success",
      "description": "",
      "description_tooltip": null,
      "layout": "IPY_MODEL_e1fa937d83c14ee194cd3ed7f3cdba40",
      "max": 213450,
      "min": 0,
      "orientation": "horizontal",
      "style": "IPY_MODEL_e3dea9bc032643fe9202dde35e11f4aa",
      "value": 213450
     }
    }
   }
  }
 },
 "nbformat": 4,
 "nbformat_minor": 0
}
